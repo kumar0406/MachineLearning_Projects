{
 "cells": [
  {
   "cell_type": "code",
   "execution_count": 2,
   "metadata": {},
   "outputs": [],
   "source": [
    "## Data manapulation\n",
    "import pandas as pd\n",
    "import numpy as np\n",
    "\n",
    "# Data visualize\n",
    "import matplotlib.pyplot as plt\n",
    "import seaborn as sns"
   ]
  },
  {
   "cell_type": "code",
   "execution_count": 3,
   "metadata": {},
   "outputs": [],
   "source": [
    "train = pd.read_csv(r'../Data/train.csv')"
   ]
  },
  {
   "cell_type": "code",
   "execution_count": 4,
   "metadata": {},
   "outputs": [],
   "source": [
    "pd.options.display.max_columns=150"
   ]
  },
  {
   "cell_type": "code",
   "execution_count": 5,
   "metadata": {},
   "outputs": [
    {
     "data": {
      "text/plain": [
       "1    2973\n",
       "0      15\n",
       "Name: parentesco1, dtype: int64"
      ]
     },
     "execution_count": 5,
     "metadata": {},
     "output_type": "execute_result"
    }
   ],
   "source": [
    "## Families without head of household\n",
    "households_leader = train.groupby('idhogar')['parentesco1'].sum()\n",
    "\n",
    "## Findhousehold without a head\n",
    "households_no_head = households_leader.value_counts()\n",
    "\n",
    "households_no_head"
   ]
  },
  {
   "cell_type": "markdown",
   "metadata": {},
   "source": [
    " There are 15 houses without head"
   ]
  },
  {
   "cell_type": "code",
   "execution_count": 6,
   "metadata": {},
   "outputs": [
    {
     "data": {
      "text/plain": [
       "True     2903\n",
       "False      85\n",
       "Name: Target, dtype: int64"
      ]
     },
     "execution_count": 6,
     "metadata": {},
     "output_type": "execute_result"
    }
   ],
   "source": [
    "## Findhousehold without a head where label are different\n",
    "household_without_head = train.groupby('idhogar')['Target'].apply(lambda x:x.nunique()==1).value_counts()\n",
    "\n",
    "household_without_head"
   ]
  },
  {
   "cell_type": "markdown",
   "metadata": {},
   "source": [
    "## Error  & correction\n",
    "Investigate the data where household have a head and different poverty level"
   ]
  },
  {
   "cell_type": "code",
   "execution_count": 7,
   "metadata": {},
   "outputs": [
    {
     "data": {
      "text/plain": [
       "(85,)"
      ]
     },
     "execution_count": 7,
     "metadata": {},
     "output_type": "execute_result"
    }
   ],
   "source": [
    "# Iterate through each household\n",
    "## Find all identifier where Target is not same\n",
    "all_equal = train.groupby('idhogar')['Target'].apply(lambda x: x.nunique() == 1)\n",
    "\n",
    "not_equal = all_equal[all_equal !=True]\n",
    "\n",
    "not_equal.shape"
   ]
  },
  {
   "cell_type": "code",
   "execution_count": 8,
   "metadata": {},
   "outputs": [
    {
     "data": {
      "text/html": [
       "<div>\n",
       "<style scoped>\n",
       "    .dataframe tbody tr th:only-of-type {\n",
       "        vertical-align: middle;\n",
       "    }\n",
       "\n",
       "    .dataframe tbody tr th {\n",
       "        vertical-align: top;\n",
       "    }\n",
       "\n",
       "    .dataframe thead th {\n",
       "        text-align: right;\n",
       "    }\n",
       "</style>\n",
       "<table border=\"1\" class=\"dataframe\">\n",
       "  <thead>\n",
       "    <tr style=\"text-align: right;\">\n",
       "      <th></th>\n",
       "      <th>idhogar</th>\n",
       "      <th>parentesco1</th>\n",
       "      <th>Target</th>\n",
       "    </tr>\n",
       "  </thead>\n",
       "  <tbody>\n",
       "    <tr>\n",
       "      <th>7651</th>\n",
       "      <td>0172ab1d9</td>\n",
       "      <td>0</td>\n",
       "      <td>3</td>\n",
       "    </tr>\n",
       "    <tr>\n",
       "      <th>7652</th>\n",
       "      <td>0172ab1d9</td>\n",
       "      <td>0</td>\n",
       "      <td>2</td>\n",
       "    </tr>\n",
       "    <tr>\n",
       "      <th>7653</th>\n",
       "      <td>0172ab1d9</td>\n",
       "      <td>0</td>\n",
       "      <td>3</td>\n",
       "    </tr>\n",
       "    <tr>\n",
       "      <th>7654</th>\n",
       "      <td>0172ab1d9</td>\n",
       "      <td>1</td>\n",
       "      <td>3</td>\n",
       "    </tr>\n",
       "    <tr>\n",
       "      <th>7655</th>\n",
       "      <td>0172ab1d9</td>\n",
       "      <td>0</td>\n",
       "      <td>2</td>\n",
       "    </tr>\n",
       "  </tbody>\n",
       "</table>\n",
       "</div>"
      ],
      "text/plain": [
       "        idhogar  parentesco1  Target\n",
       "7651  0172ab1d9            0       3\n",
       "7652  0172ab1d9            0       2\n",
       "7653  0172ab1d9            0       3\n",
       "7654  0172ab1d9            1       3\n",
       "7655  0172ab1d9            0       2"
      ]
     },
     "execution_count": 8,
     "metadata": {},
     "output_type": "execute_result"
    }
   ],
   "source": [
    "train[train['idhogar'] == not_equal.index[0]][['idhogar', 'parentesco1', 'Target']]"
   ]
  },
  {
   "cell_type": "code",
   "execution_count": 9,
   "metadata": {},
   "outputs": [],
   "source": [
    "for household in not_equal.index:\n",
    "    true_target = int(train[(train['idhogar'] == household) & (train['parentesco1'] ==1.0)]['Target'])\n",
    "    \n",
    "    ## Set the correct label for all emmber of household\n",
    "    train.loc[train['idhogar'] == household, 'Target'] = true_target"
   ]
  },
  {
   "cell_type": "markdown",
   "metadata": {},
   "source": [
    "## Missing Values"
   ]
  },
  {
   "cell_type": "code",
   "execution_count": 10,
   "metadata": {},
   "outputs": [],
   "source": [
    "## Number of missing values in each column\n",
    "missing = pd.DataFrame(train.isnull().sum()).rename(columns = {0: 'Total'})"
   ]
  },
  {
   "cell_type": "code",
   "execution_count": 11,
   "metadata": {},
   "outputs": [
    {
     "data": {
      "text/html": [
       "<div>\n",
       "<style scoped>\n",
       "    .dataframe tbody tr th:only-of-type {\n",
       "        vertical-align: middle;\n",
       "    }\n",
       "\n",
       "    .dataframe tbody tr th {\n",
       "        vertical-align: top;\n",
       "    }\n",
       "\n",
       "    .dataframe thead th {\n",
       "        text-align: right;\n",
       "    }\n",
       "</style>\n",
       "<table border=\"1\" class=\"dataframe\">\n",
       "  <thead>\n",
       "    <tr style=\"text-align: right;\">\n",
       "      <th></th>\n",
       "      <th>Total</th>\n",
       "    </tr>\n",
       "  </thead>\n",
       "  <tbody>\n",
       "    <tr>\n",
       "      <th>Id</th>\n",
       "      <td>0</td>\n",
       "    </tr>\n",
       "    <tr>\n",
       "      <th>v2a1</th>\n",
       "      <td>6860</td>\n",
       "    </tr>\n",
       "    <tr>\n",
       "      <th>hacdor</th>\n",
       "      <td>0</td>\n",
       "    </tr>\n",
       "    <tr>\n",
       "      <th>rooms</th>\n",
       "      <td>0</td>\n",
       "    </tr>\n",
       "    <tr>\n",
       "      <th>hacapo</th>\n",
       "      <td>0</td>\n",
       "    </tr>\n",
       "  </tbody>\n",
       "</table>\n",
       "</div>"
      ],
      "text/plain": [
       "        Total\n",
       "Id          0\n",
       "v2a1     6860\n",
       "hacdor      0\n",
       "rooms       0\n",
       "hacapo      0"
      ]
     },
     "execution_count": 11,
     "metadata": {},
     "output_type": "execute_result"
    }
   ],
   "source": [
    "missing.head()"
   ]
  },
  {
   "cell_type": "code",
   "execution_count": 12,
   "metadata": {},
   "outputs": [
    {
     "data": {
      "text/html": [
       "<div>\n",
       "<style scoped>\n",
       "    .dataframe tbody tr th:only-of-type {\n",
       "        vertical-align: middle;\n",
       "    }\n",
       "\n",
       "    .dataframe tbody tr th {\n",
       "        vertical-align: top;\n",
       "    }\n",
       "\n",
       "    .dataframe thead th {\n",
       "        text-align: right;\n",
       "    }\n",
       "</style>\n",
       "<table border=\"1\" class=\"dataframe\">\n",
       "  <thead>\n",
       "    <tr style=\"text-align: right;\">\n",
       "      <th></th>\n",
       "      <th>Total</th>\n",
       "      <th>Percentage</th>\n",
       "    </tr>\n",
       "  </thead>\n",
       "  <tbody>\n",
       "    <tr>\n",
       "      <th>rez_esc</th>\n",
       "      <td>7928</td>\n",
       "      <td>0.829549</td>\n",
       "    </tr>\n",
       "    <tr>\n",
       "      <th>v18q1</th>\n",
       "      <td>7342</td>\n",
       "      <td>0.768233</td>\n",
       "    </tr>\n",
       "    <tr>\n",
       "      <th>v2a1</th>\n",
       "      <td>6860</td>\n",
       "      <td>0.717798</td>\n",
       "    </tr>\n",
       "    <tr>\n",
       "      <th>SQBmeaned</th>\n",
       "      <td>5</td>\n",
       "      <td>0.000523</td>\n",
       "    </tr>\n",
       "    <tr>\n",
       "      <th>meaneduc</th>\n",
       "      <td>5</td>\n",
       "      <td>0.000523</td>\n",
       "    </tr>\n",
       "    <tr>\n",
       "      <th>Id</th>\n",
       "      <td>0</td>\n",
       "      <td>0.000000</td>\n",
       "    </tr>\n",
       "    <tr>\n",
       "      <th>hogar_adul</th>\n",
       "      <td>0</td>\n",
       "      <td>0.000000</td>\n",
       "    </tr>\n",
       "    <tr>\n",
       "      <th>parentesco10</th>\n",
       "      <td>0</td>\n",
       "      <td>0.000000</td>\n",
       "    </tr>\n",
       "    <tr>\n",
       "      <th>parentesco11</th>\n",
       "      <td>0</td>\n",
       "      <td>0.000000</td>\n",
       "    </tr>\n",
       "    <tr>\n",
       "      <th>parentesco12</th>\n",
       "      <td>0</td>\n",
       "      <td>0.000000</td>\n",
       "    </tr>\n",
       "  </tbody>\n",
       "</table>\n",
       "</div>"
      ],
      "text/plain": [
       "              Total  Percentage\n",
       "rez_esc        7928    0.829549\n",
       "v18q1          7342    0.768233\n",
       "v2a1           6860    0.717798\n",
       "SQBmeaned         5    0.000523\n",
       "meaneduc          5    0.000523\n",
       "Id                0    0.000000\n",
       "hogar_adul        0    0.000000\n",
       "parentesco10      0    0.000000\n",
       "parentesco11      0    0.000000\n",
       "parentesco12      0    0.000000"
      ]
     },
     "execution_count": 12,
     "metadata": {},
     "output_type": "execute_result"
    }
   ],
   "source": [
    "missing['Percentage'] = missing['Total']/ len(train)\n",
    "\n",
    "missing.sort_values('Percentage', ascending= False).head(10)"
   ]
  },
  {
   "cell_type": "markdown",
   "metadata": {},
   "source": [
    "### There are 3 columns with high missing values and 2 columns with low missing values\n",
    "lets start with v18q1"
   ]
  },
  {
   "cell_type": "code",
   "execution_count": 13,
   "metadata": {},
   "outputs": [],
   "source": [
    "## Function of plot value_counts\n",
    "\n",
    "def plot_value_counts(df , col, head_only=False):\n",
    "    '''Plot the counts of a column , option: only the heads of a household'''\n",
    "    if head_only:\n",
    "        df = df.loc[df['parentesco1']==1].copy()\n",
    "    \n",
    "    plt.figure(figsize=(6,8))\n",
    "    df[col].value_counts(dropna = False).sort_index().plot(kind='bar', color = 'b', edgecolor='k', linewidth = 2)\n",
    "    plt.xlabel(f'{col}')\n",
    "    plt.title(f'{col} value_counts')\n",
    "    plt.ylabel('Count')\n"
   ]
  },
  {
   "cell_type": "code",
   "execution_count": 14,
   "metadata": {},
   "outputs": [
    {
     "data": {
      "image/png": "[encoded data removed]",
      "text/plain": [
       "<Figure size 432x576 with 1 Axes>"
      ]
     },
     "metadata": {
      "needs_background": "light"
     },
     "output_type": "display_data"
    }
   ],
   "source": [
    "plot_value_counts(train, 'v18q1', head_only=False)"
   ]
  },
  {
   "cell_type": "markdown",
   "metadata": {},
   "source": [
    "    v18q=  owns a tablet\n",
    "    v18q1= number of tablets household owns"
   ]
  },
  {
   "cell_type": "code",
   "execution_count": 15,
   "metadata": {},
   "outputs": [
    {
     "data": {
      "image/png": "[encoded data removed]",
      "text/plain": [
       "<Figure size 432x576 with 1 Axes>"
      ]
     },
     "metadata": {
      "needs_background": "light"
     },
     "output_type": "display_data"
    }
   ],
   "source": [
    "plot_value_counts(train, 'v18q', head_only=False)"
   ]
  },
  {
   "cell_type": "code",
   "execution_count": 16,
   "metadata": {},
   "outputs": [
    {
     "data": {
      "text/plain": [
       "NaN     7342\n",
       " 1.0    1586\n",
       " 2.0     444\n",
       " 3.0     129\n",
       " 4.0      37\n",
       " 5.0      13\n",
       " 6.0       6\n",
       "Name: v18q1, dtype: int64"
      ]
     },
     "execution_count": 16,
     "metadata": {},
     "output_type": "execute_result"
    }
   ],
   "source": [
    "train['v18q1'].value_counts(dropna=False)"
   ]
  },
  {
   "cell_type": "code",
   "execution_count": 17,
   "metadata": {},
   "outputs": [
    {
     "data": {
      "text/plain": [
       "0    7342\n",
       "1    2215\n",
       "Name: v18q, dtype: int64"
      ]
     },
     "execution_count": 17,
     "metadata": {},
     "output_type": "execute_result"
    }
   ],
   "source": [
    "train['v18q'].value_counts(dropna=False)"
   ]
  },
  {
   "cell_type": "markdown",
   "metadata": {},
   "source": [
    "Here we see that families who doesnot owns a tablet i.e v18q =0, is 7342, and the missing value in v18q1 is also 7342"
   ]
  },
  {
   "cell_type": "code",
   "execution_count": 18,
   "metadata": {},
   "outputs": [
    {
     "data": {
      "text/plain": [
       "NaN     7342\n",
       " 1.0    1586\n",
       " 2.0     444\n",
       " 3.0     129\n",
       " 4.0      37\n",
       " 5.0      13\n",
       " 6.0       6\n",
       "Name: v18q1, dtype: int64"
      ]
     },
     "execution_count": 18,
     "metadata": {},
     "output_type": "execute_result"
    }
   ],
   "source": [
    "train['v18q1'].value_counts(dropna=False)"
   ]
  },
  {
   "cell_type": "markdown",
   "metadata": {},
   "source": [
    "We can fill the missing with 0"
   ]
  },
  {
   "cell_type": "code",
   "execution_count": 19,
   "metadata": {},
   "outputs": [],
   "source": [
    "train['v18q1']= train['v18q1'].fillna(0)"
   ]
  },
  {
   "cell_type": "markdown",
   "metadata": {},
   "source": [
    "#### Now lets take the second column which contains NA  \"v2a1\""
   ]
  },
  {
   "cell_type": "code",
   "execution_count": 20,
   "metadata": {},
   "outputs": [
    {
     "data": {
      "text/plain": [
       "NaN          6860\n",
       " 150000.0     233\n",
       " 100000.0     181\n",
       " 200000.0     159\n",
       " 120000.0     149\n",
       " 50000.0      118\n",
       " 80000.0      104\n",
       " 90000.0       81\n",
       " 70000.0       79\n",
       " 180000.0      77\n",
       "Name: v2a1, dtype: int64"
      ]
     },
     "execution_count": 20,
     "metadata": {},
     "output_type": "execute_result"
    }
   ],
   "source": [
    "train['v2a1'].value_counts(dropna=False).head(10)"
   ]
  },
  {
   "cell_type": "markdown",
   "metadata": {},
   "source": [
    "     v2a1 = Monthly rent payment\n",
    "     tipovivi3, =1 rented\n",
    "    Does the missing value in v2a1 is related to tipovivi columns"
   ]
  },
  {
   "cell_type": "code",
   "execution_count": 21,
   "metadata": {},
   "outputs": [],
   "source": [
    "## Select all the tipov columns, as they indicate \n",
    "own_variables = [x for x in train if x.startswith('tipo')]"
   ]
  },
  {
   "cell_type": "code",
   "execution_count": 22,
   "metadata": {},
   "outputs": [
    {
     "data": {
      "text/plain": [
       "Text(0.5, 1.0, 'Home ownership vs Missing rent')"
      ]
     },
     "execution_count": 22,
     "metadata": {},
     "output_type": "execute_result"
    },
    {
     "data": {
      "image/png": "[encoded data removed]",
      "text/plain": [
       "<Figure size 720x576 with 1 Axes>"
      ]
     },
     "metadata": {
      "needs_background": "light"
     },
     "output_type": "display_data"
    }
   ],
   "source": [
    "## plot the missing rent with own_variables\n",
    "\n",
    "train.loc[train['v2a1'].isnull(), own_variables].sum().plot(kind='bar', edgecolor='k', linewidth= 2, figsize= (10,8))\n",
    "plt.xlabel('Home ownership')\n",
    "plt.ylabel('count')\n",
    "plt.title('Home ownership vs Missing rent')\n",
    "#plt.xticks([1,2,3,4,5], [\"own house\", \"own_installments\", \"rented\", \"not_secure\", \"others\"] )"
   ]
  },
  {
   "cell_type": "code",
   "execution_count": 23,
   "metadata": {},
   "outputs": [],
   "source": [
    "## House that are owned, fill them with 0 rents\n",
    "\n",
    "train.loc[train['tipovivi1']==1, 'v2a1'] = 0"
   ]
  },
  {
   "cell_type": "code",
   "execution_count": 24,
   "metadata": {},
   "outputs": [],
   "source": [
    "## Checkpoint 1\n",
    "\n",
    "train_1 = train.copy()"
   ]
  },
  {
   "cell_type": "markdown",
   "metadata": {},
   "source": [
    "## Checkpoint"
   ]
  },
  {
   "cell_type": "code",
   "execution_count": 25,
   "metadata": {},
   "outputs": [],
   "source": [
    "# Create missing rent payment column\n",
    "train['missing_v2a1'] = train['v2a1'].isnull()"
   ]
  },
  {
   "cell_type": "code",
   "execution_count": 26,
   "metadata": {},
   "outputs": [
    {
     "data": {
      "text/plain": [
       "False    8608\n",
       "True      949\n",
       "Name: missing_v2a1, dtype: int64"
      ]
     },
     "execution_count": 26,
     "metadata": {},
     "output_type": "execute_result"
    }
   ],
   "source": [
    "train['missing_v2a1'].value_counts()"
   ]
  },
  {
   "cell_type": "code",
   "execution_count": 27,
   "metadata": {},
   "outputs": [
    {
     "data": {
      "text/plain": [
       " 0.0         5940\n",
       "NaN           949\n",
       " 150000.0     233\n",
       " 100000.0     181\n",
       " 200000.0     159\n",
       "Name: v2a1, dtype: int64"
      ]
     },
     "execution_count": 27,
     "metadata": {},
     "output_type": "execute_result"
    }
   ],
   "source": [
    "train['v2a1'].value_counts(dropna=False).head()"
   ]
  },
  {
   "cell_type": "code",
   "execution_count": 28,
   "metadata": {},
   "outputs": [
    {
     "data": {
      "text/html": [
       "<div>\n",
       "<style scoped>\n",
       "    .dataframe tbody tr th:only-of-type {\n",
       "        vertical-align: middle;\n",
       "    }\n",
       "\n",
       "    .dataframe tbody tr th {\n",
       "        vertical-align: top;\n",
       "    }\n",
       "\n",
       "    .dataframe thead th {\n",
       "        text-align: right;\n",
       "    }\n",
       "</style>\n",
       "<table border=\"1\" class=\"dataframe\">\n",
       "  <thead>\n",
       "    <tr style=\"text-align: right;\">\n",
       "      <th></th>\n",
       "      <th>rez_esc</th>\n",
       "      <th>escolari</th>\n",
       "      <th>age</th>\n",
       "    </tr>\n",
       "  </thead>\n",
       "  <tbody>\n",
       "    <tr>\n",
       "      <th>count</th>\n",
       "      <td>0.0</td>\n",
       "      <td>7928.000000</td>\n",
       "      <td>7928.000000</td>\n",
       "    </tr>\n",
       "    <tr>\n",
       "      <th>mean</th>\n",
       "      <td>NaN</td>\n",
       "      <td>7.647704</td>\n",
       "      <td>38.833249</td>\n",
       "    </tr>\n",
       "    <tr>\n",
       "      <th>std</th>\n",
       "      <td>NaN</td>\n",
       "      <td>4.903780</td>\n",
       "      <td>20.989486</td>\n",
       "    </tr>\n",
       "    <tr>\n",
       "      <th>min</th>\n",
       "      <td>NaN</td>\n",
       "      <td>0.000000</td>\n",
       "      <td>0.000000</td>\n",
       "    </tr>\n",
       "    <tr>\n",
       "      <th>25%</th>\n",
       "      <td>NaN</td>\n",
       "      <td>5.000000</td>\n",
       "      <td>24.000000</td>\n",
       "    </tr>\n",
       "    <tr>\n",
       "      <th>50%</th>\n",
       "      <td>NaN</td>\n",
       "      <td>7.000000</td>\n",
       "      <td>38.000000</td>\n",
       "    </tr>\n",
       "    <tr>\n",
       "      <th>75%</th>\n",
       "      <td>NaN</td>\n",
       "      <td>11.000000</td>\n",
       "      <td>54.000000</td>\n",
       "    </tr>\n",
       "    <tr>\n",
       "      <th>max</th>\n",
       "      <td>NaN</td>\n",
       "      <td>21.000000</td>\n",
       "      <td>97.000000</td>\n",
       "    </tr>\n",
       "  </tbody>\n",
       "</table>\n",
       "</div>"
      ],
      "text/plain": [
       "       rez_esc     escolari          age\n",
       "count      0.0  7928.000000  7928.000000\n",
       "mean       NaN     7.647704    38.833249\n",
       "std        NaN     4.903780    20.989486\n",
       "min        NaN     0.000000     0.000000\n",
       "25%        NaN     5.000000    24.000000\n",
       "50%        NaN     7.000000    38.000000\n",
       "75%        NaN    11.000000    54.000000\n",
       "max        NaN    21.000000    97.000000"
      ]
     },
     "execution_count": 28,
     "metadata": {},
     "output_type": "execute_result"
    }
   ],
   "source": [
    "train.loc[train['rez_esc'].isnull(), ('rez_esc', 'escolari', 'age')].describe()"
   ]
  },
  {
   "cell_type": "markdown",
   "metadata": {},
   "source": [
    "# Plot two categorical variables\n",
    "\n",
    "    Thete are three popular options, scatterplot, facet-bar plot, boxplot\n",
    "    But none of them are effecient in this scenario\n",
    "    Here the size of the points represent the percentage of a given y value, represented by each x value"
   ]
  },
  {
   "cell_type": "code",
   "execution_count": 29,
   "metadata": {},
   "outputs": [
    {
     "data": {
      "text/plain": [
       "<matplotlib.axes._subplots.AxesSubplot at 0x1f579efb9b0>"
      ]
     },
     "execution_count": 29,
     "metadata": {},
     "output_type": "execute_result"
    },
    {
     "data": {
      "image/png": "[encoded data removed]",
      "text/plain": [
       "<Figure size 720x576 with 1 Axes>"
      ]
     },
     "metadata": {
      "needs_background": "light"
     },
     "output_type": "display_data"
    }
   ],
   "source": [
    "plt.figure(figsize= (10,8))\n",
    "sns.countplot(x='Target', hue='rez_esc', data=train)"
   ]
  },
  {
   "cell_type": "code",
   "execution_count": 30,
   "metadata": {},
   "outputs": [
    {
     "data": {
      "text/plain": [
       "4    6004\n",
       "2    1558\n",
       "3    1221\n",
       "1     774\n",
       "Name: Target, dtype: int64"
      ]
     },
     "execution_count": 30,
     "metadata": {},
     "output_type": "execute_result"
    }
   ],
   "source": [
    "train['Target'].value_counts(dropna=False)"
   ]
  },
  {
   "cell_type": "markdown",
   "metadata": {},
   "source": [
    "People with their own house doesnot have a year drop, where as under priviledge once are always has a year back"
   ]
  },
  {
   "cell_type": "markdown",
   "metadata": {},
   "source": [
    "## Column Definition:\n",
    "We need to identify boolean, categorical and numerical variable, this can be done by data deinition chart. We need to seperate them because every type should be treated differently.\n",
    "after differenciating them we need to seperate them at indivisual and household level.\n",
    "Once we have different type of variables, we can aggregate them accordingly.\n",
    "\n",
    "The steps of this process is as follows:\n",
    "\n",
    "1. Break variables into household and indivisual level.\n",
    "\n",
    "2. Find suitable aggregation for indivisual level data\n",
    "        ordinal variable can used statical aggregation\n",
    "        Boolean variables can also be aggregated\n",
    "        Categorical variable can be converted into numerical\n",
    "    \n",
    "3. Join indivisual aggregation to household data"
   ]
  },
  {
   "cell_type": "markdown",
   "metadata": {},
   "source": [
    "### Defining variable category\n",
    "\n",
    "Below are few types of categorical variables\n",
    "\n",
    "1. Indivisual variables: Characteristics of indivisual rather than household variables\n",
    "        Boolean\n",
    "        Ordinal\n",
    "        \n",
    "2. Household variable:\n",
    "        Boolean\n",
    "        Ordinal\n",
    "        Numeric\n",
    "        \n",
    "3. Squared variable\n",
    "4. ID variable"
   ]
  },
  {
   "cell_type": "code",
   "execution_count": 31,
   "metadata": {},
   "outputs": [],
   "source": [
    "id_ = ['Id', 'idhogar', 'Target']"
   ]
  },
  {
   "cell_type": "code",
   "execution_count": 32,
   "metadata": {},
   "outputs": [],
   "source": [
    "ind_bool = ['v18q', 'dis', 'male', 'female', 'estadocivil1', 'estadocivil2', 'estadocivil3', \n",
    "            'estadocivil4', 'estadocivil5', 'estadocivil6', 'estadocivil7', \n",
    "            'parentesco1', 'parentesco2',  'parentesco3', 'parentesco4', 'parentesco5', \n",
    "            'parentesco6', 'parentesco7', 'parentesco8',  'parentesco9', 'parentesco10', \n",
    "            'parentesco11', 'parentesco12', 'instlevel1', 'instlevel2', 'instlevel3', \n",
    "            'instlevel4', 'instlevel5', 'instlevel6', 'instlevel7', 'instlevel8', \n",
    "            'instlevel9', 'mobilephone', 'rez_esc-missing']\n",
    "\n",
    "ind_ordered = ['rez_esc', 'escolari', 'age']"
   ]
  },
  {
   "cell_type": "code",
   "execution_count": 33,
   "metadata": {},
   "outputs": [],
   "source": [
    "hh_bool = ['hacdor', 'hacapo', 'v14a', 'refrig', 'paredblolad', 'paredzocalo', \n",
    "           'paredpreb','pisocemento', 'pareddes', 'paredmad',\n",
    "           'paredzinc', 'paredfibras', 'paredother', 'pisomoscer', 'pisoother', \n",
    "           'pisonatur', 'pisonotiene', 'pisomadera',\n",
    "           'techozinc', 'techoentrepiso', 'techocane', 'techootro', 'cielorazo', \n",
    "           'abastaguadentro', 'abastaguafuera', 'abastaguano',\n",
    "            'public', 'planpri', 'noelec', 'coopele', 'sanitario1', \n",
    "           'sanitario2', 'sanitario3', 'sanitario5',   'sanitario6',\n",
    "           'energcocinar1', 'energcocinar2', 'energcocinar3', 'energcocinar4', \n",
    "           'elimbasu1', 'elimbasu2', 'elimbasu3', 'elimbasu4', \n",
    "           'elimbasu5', 'elimbasu6', 'epared1', 'epared2', 'epared3',\n",
    "           'etecho1', 'etecho2', 'etecho3', 'eviv1', 'eviv2', 'eviv3', \n",
    "           'tipovivi1', 'tipovivi2', 'tipovivi3', 'tipovivi4', 'tipovivi5', \n",
    "           'computer', 'television', 'lugar1', 'lugar2', 'lugar3',\n",
    "           'lugar4', 'lugar5', 'lugar6', 'area1', 'area2']\n",
    "\n",
    "hh_ordered = [ 'rooms', 'r4h1', 'r4h2', 'r4h3', 'r4m1','r4m2','r4m3', 'r4t1',  'r4t2', \n",
    "              'r4t3', 'v18q1', 'tamhog','tamviv','hhsize','hogar_nin',\n",
    "              'hogar_adul','hogar_mayor','hogar_total',  'bedrooms', 'qmobilephone']\n",
    "\n",
    "hh_cont = ['v2a1', 'dependency', 'edjefe', 'edjefa', 'meaneduc', 'overcrowding']"
   ]
  },
  {
   "cell_type": "code",
   "execution_count": 34,
   "metadata": {},
   "outputs": [],
   "source": [
    "sqr_ = ['SQBescolari', 'SQBage', 'SQBhogar_total', 'SQBedjefe', \n",
    "        'SQBhogar_nin', 'SQBovercrowding', 'SQBdependency', 'SQBmeaned', 'agesq']"
   ]
  },
  {
   "cell_type": "markdown",
   "metadata": {},
   "source": [
    "## Check that we covered all columns"
   ]
  },
  {
   "cell_type": "code",
   "execution_count": 35,
   "metadata": {},
   "outputs": [
    {
     "name": "stdout",
     "output_type": "stream",
     "text": [
      "There are no repeats:  True\n",
      "We covered every variable:  True\n"
     ]
    }
   ],
   "source": [
    "x = ind_bool + ind_ordered + id_ + hh_bool + hh_ordered + hh_cont + sqr_\n",
    "\n",
    "from collections import Counter\n",
    "\n",
    "print('There are no repeats: ', np.all(np.array(list(Counter(x).values())) == 1))\n",
    "print('We covered every variable: ', len(x) == train.shape[1])"
   ]
  },
  {
   "cell_type": "code",
   "execution_count": 36,
   "metadata": {},
   "outputs": [
    {
     "name": "stderr",
     "output_type": "stream",
     "text": [
      "C:\\ProgramData\\Anaconda\\envs\\nlp\\lib\\site-packages\\scipy\\stats\\stats.py:1713: FutureWarning: Using a non-tuple sequence for multidimensional indexing is deprecated; use `arr[tuple(seq)]` instead of `arr[seq]`. In the future this will be interpreted as an array index, `arr[np.array(seq)]`, which will result either in an error or a different result.\n",
      "  return np.add.reduce(sorted[indexer] * weights, axis=axis) / sumval\n"
     ]
    },
    {
     "data": {
      "text/plain": [
       "<matplotlib.axes._subplots.AxesSubplot at 0x1f579fb71d0>"
      ]
     },
     "execution_count": 36,
     "metadata": {},
     "output_type": "execute_result"
    },
    {
     "data": {
      "image/png": "[encoded data removed]",
      "text/plain": [
       "<Figure size 432x288 with 1 Axes>"
      ]
     },
     "metadata": {
      "needs_background": "light"
     },
     "output_type": "display_data"
    }
   ],
   "source": [
    "sns.regplot('age', 'agesq', train)"
   ]
  },
  {
   "cell_type": "markdown",
   "metadata": {},
   "source": [
    "Drop all the columns with square"
   ]
  },
  {
   "cell_type": "markdown",
   "metadata": {},
   "source": [
    "## Checkpoint 2"
   ]
  },
  {
   "cell_type": "code",
   "execution_count": 37,
   "metadata": {},
   "outputs": [],
   "source": [
    "train_2 = train.copy()"
   ]
  },
  {
   "cell_type": "code",
   "execution_count": 38,
   "metadata": {},
   "outputs": [],
   "source": [
    "## Removing the squared variable\n",
    "\n",
    "train = train.drop(columns = sqr_)"
   ]
  },
  {
   "cell_type": "code",
   "execution_count": 39,
   "metadata": {},
   "outputs": [
    {
     "data": {
      "text/plain": [
       "(9557, 135)"
      ]
     },
     "execution_count": 39,
     "metadata": {},
     "output_type": "execute_result"
    }
   ],
   "source": [
    "train.shape"
   ]
  },
  {
   "cell_type": "code",
   "execution_count": 40,
   "metadata": {},
   "outputs": [
    {
     "data": {
      "text/plain": [
       "(9557, 144)"
      ]
     },
     "execution_count": 40,
     "metadata": {},
     "output_type": "execute_result"
    }
   ],
   "source": [
    "train_2.shape"
   ]
  },
  {
   "cell_type": "markdown",
   "metadata": {},
   "source": [
    "### ID level variables"
   ]
  },
  {
   "cell_type": "markdown",
   "metadata": {},
   "source": [
    "Lets keep the ID level variables as it is"
   ]
  },
  {
   "cell_type": "markdown",
   "metadata": {},
   "source": [
    "### household level variables"
   ]
  },
  {
   "cell_type": "markdown",
   "metadata": {},
   "source": [
    "Those variables where household value is 1 and all the respective columns, which has value when ID level variuables is 1"
   ]
  },
  {
   "cell_type": "code",
   "execution_count": 41,
   "metadata": {},
   "outputs": [],
   "source": [
    "heads = train.loc[train['parentesco1']==1]"
   ]
  },
  {
   "cell_type": "code",
   "execution_count": 42,
   "metadata": {},
   "outputs": [],
   "source": [
    "## Capture only those columns, which belong to household along with ID\n",
    "\n",
    "heads = heads[id_ + hh_bool + hh_ordered + hh_cont]"
   ]
  },
  {
   "cell_type": "code",
   "execution_count": 43,
   "metadata": {},
   "outputs": [
    {
     "data": {
      "text/plain": [
       "(2973, 98)"
      ]
     },
     "execution_count": 43,
     "metadata": {},
     "output_type": "execute_result"
    }
   ],
   "source": [
    "heads.shape"
   ]
  },
  {
   "cell_type": "markdown",
   "metadata": {},
   "source": [
    "    These are household features,\n",
    "    We are focusing on household predictors because we want to predict about each household\n",
    "    lets drop some of them if they are redundent or not contributing to the target,\n",
    "    or other variables which are duplicare, constant, quasi constant, also make some new powerfull predictors with the help of other predictors"
   ]
  },
  {
   "cell_type": "markdown",
   "metadata": {},
   "source": [
    "### Redundant or duplicatre or constant features\n",
    "\n",
    "Lets look at all the household variables, if we find highly correlated variables, we would remove them"
   ]
  },
  {
   "cell_type": "code",
   "execution_count": 44,
   "metadata": {},
   "outputs": [
    {
     "data": {
      "text/plain": [
       "(2973, 98)"
      ]
     },
     "execution_count": 44,
     "metadata": {},
     "output_type": "execute_result"
    }
   ],
   "source": [
    "## Lets chose a correlation which is higher than 0.95\n",
    "## Lets choose only the numerical variables\n",
    "heads.select_dtypes(exclude='category').shape\n"
   ]
  },
  {
   "cell_type": "code",
   "execution_count": 45,
   "metadata": {},
   "outputs": [
    {
     "data": {
      "text/plain": [
       "<matplotlib.axes._subplots.AxesSubplot at 0x1f57a094eb8>"
      ]
     },
     "execution_count": 45,
     "metadata": {},
     "output_type": "execute_result"
    },
    {
     "data": {
      "image/png": "[encoded data removed]",
      "text/plain": [
       "<Figure size 792x792 with 2 Axes>"
      ]
     },
     "metadata": {
      "needs_background": "light"
     },
     "output_type": "display_data"
    }
   ],
   "source": [
    "#We do not have any categorical variable\n",
    "corrmat = heads.corr()\n",
    "\n",
    "\n",
    "fig, ax = plt.subplots()\n",
    "fig.set_size_inches(11,11)\n",
    "sns.heatmap(corrmat)\n"
   ]
  },
  {
   "cell_type": "markdown",
   "metadata": {},
   "source": [
    "Here the diagonal represents the correlation of the variable with itself, black spots denotes highly correlated variables\n",
    "\n",
    "We see a white line vertical and horizontal lines passing through the center of the plot, I will investigate it later"
   ]
  },
  {
   "cell_type": "code",
   "execution_count": 46,
   "metadata": {},
   "outputs": [],
   "source": [
    "# Nothing is clear here, in heatmap, so we build a dataframe with correlation between features\n",
    "# The sign is not important, but the absolute value is important\n",
    "# We will just take the absolute value and drop the sign of the features.\n",
    "\n",
    "coremat = heads.corr()\n",
    "coremat = coremat.abs()"
   ]
  },
  {
   "cell_type": "code",
   "execution_count": 47,
   "metadata": {},
   "outputs": [
    {
     "data": {
      "text/html": [
       "<div>\n",
       "<style scoped>\n",
       "    .dataframe tbody tr th:only-of-type {\n",
       "        vertical-align: middle;\n",
       "    }\n",
       "\n",
       "    .dataframe tbody tr th {\n",
       "        vertical-align: top;\n",
       "    }\n",
       "\n",
       "    .dataframe thead th {\n",
       "        text-align: right;\n",
       "    }\n",
       "</style>\n",
       "<table border=\"1\" class=\"dataframe\">\n",
       "  <thead>\n",
       "    <tr style=\"text-align: right;\">\n",
       "      <th></th>\n",
       "      <th>Target</th>\n",
       "      <th>hacdor</th>\n",
       "      <th>hacapo</th>\n",
       "      <th>v14a</th>\n",
       "      <th>refrig</th>\n",
       "      <th>paredblolad</th>\n",
       "      <th>paredzocalo</th>\n",
       "      <th>paredpreb</th>\n",
       "      <th>pisocemento</th>\n",
       "      <th>pareddes</th>\n",
       "      <th>paredmad</th>\n",
       "      <th>paredzinc</th>\n",
       "      <th>paredfibras</th>\n",
       "      <th>paredother</th>\n",
       "      <th>pisomoscer</th>\n",
       "      <th>pisoother</th>\n",
       "      <th>pisonatur</th>\n",
       "      <th>pisonotiene</th>\n",
       "      <th>pisomadera</th>\n",
       "      <th>techozinc</th>\n",
       "      <th>techoentrepiso</th>\n",
       "      <th>techocane</th>\n",
       "      <th>techootro</th>\n",
       "      <th>cielorazo</th>\n",
       "      <th>abastaguadentro</th>\n",
       "      <th>abastaguafuera</th>\n",
       "      <th>abastaguano</th>\n",
       "      <th>public</th>\n",
       "      <th>planpri</th>\n",
       "      <th>noelec</th>\n",
       "      <th>coopele</th>\n",
       "      <th>sanitario1</th>\n",
       "      <th>sanitario2</th>\n",
       "      <th>sanitario3</th>\n",
       "      <th>sanitario5</th>\n",
       "      <th>sanitario6</th>\n",
       "      <th>energcocinar1</th>\n",
       "      <th>energcocinar2</th>\n",
       "      <th>energcocinar3</th>\n",
       "      <th>energcocinar4</th>\n",
       "      <th>elimbasu1</th>\n",
       "      <th>elimbasu2</th>\n",
       "      <th>elimbasu3</th>\n",
       "      <th>elimbasu4</th>\n",
       "      <th>elimbasu5</th>\n",
       "      <th>elimbasu6</th>\n",
       "      <th>epared1</th>\n",
       "      <th>epared2</th>\n",
       "      <th>epared3</th>\n",
       "      <th>etecho1</th>\n",
       "      <th>etecho2</th>\n",
       "      <th>etecho3</th>\n",
       "      <th>eviv1</th>\n",
       "      <th>eviv2</th>\n",
       "      <th>eviv3</th>\n",
       "      <th>tipovivi1</th>\n",
       "      <th>tipovivi2</th>\n",
       "      <th>tipovivi3</th>\n",
       "      <th>tipovivi4</th>\n",
       "      <th>tipovivi5</th>\n",
       "      <th>computer</th>\n",
       "      <th>television</th>\n",
       "      <th>lugar1</th>\n",
       "      <th>lugar2</th>\n",
       "      <th>lugar3</th>\n",
       "      <th>lugar4</th>\n",
       "      <th>lugar5</th>\n",
       "      <th>lugar6</th>\n",
       "      <th>area1</th>\n",
       "      <th>area2</th>\n",
       "      <th>rooms</th>\n",
       "      <th>r4h1</th>\n",
       "      <th>r4h2</th>\n",
       "      <th>r4h3</th>\n",
       "      <th>r4m1</th>\n",
       "      <th>r4m2</th>\n",
       "      <th>r4m3</th>\n",
       "      <th>r4t1</th>\n",
       "      <th>r4t2</th>\n",
       "      <th>r4t3</th>\n",
       "      <th>v18q1</th>\n",
       "      <th>tamhog</th>\n",
       "      <th>tamviv</th>\n",
       "      <th>hhsize</th>\n",
       "      <th>hogar_nin</th>\n",
       "      <th>hogar_adul</th>\n",
       "      <th>hogar_mayor</th>\n",
       "      <th>hogar_total</th>\n",
       "      <th>bedrooms</th>\n",
       "      <th>qmobilephone</th>\n",
       "      <th>v2a1</th>\n",
       "      <th>meaneduc</th>\n",
       "      <th>overcrowding</th>\n",
       "    </tr>\n",
       "  </thead>\n",
       "  <tbody>\n",
       "    <tr>\n",
       "      <th>Target</th>\n",
       "      <td>1.000000</td>\n",
       "      <td>0.136275</td>\n",
       "      <td>0.096313</td>\n",
       "      <td>0.068230</td>\n",
       "      <td>0.119607</td>\n",
       "      <td>0.254469</td>\n",
       "      <td>0.078851</td>\n",
       "      <td>0.104545</td>\n",
       "      <td>0.209131</td>\n",
       "      <td>0.096893</td>\n",
       "      <td>0.152979</td>\n",
       "      <td>0.040128</td>\n",
       "      <td>0.039861</td>\n",
       "      <td>0.005231</td>\n",
       "      <td>0.275452</td>\n",
       "      <td>0.016832</td>\n",
       "      <td>0.054463</td>\n",
       "      <td>0.114144</td>\n",
       "      <td>0.103487</td>\n",
       "      <td>0.014357</td>\n",
       "      <td>0.032872</td>\n",
       "      <td>0.026240</td>\n",
       "      <td>0.031516</td>\n",
       "      <td>0.295249</td>\n",
       "      <td>0.062961</td>\n",
       "      <td>0.046518</td>\n",
       "      <td>0.055818</td>\n",
       "      <td>0.021908</td>\n",
       "      <td>0.009437</td>\n",
       "      <td>0.051036</td>\n",
       "      <td>0.007696</td>\n",
       "      <td>0.049932</td>\n",
       "      <td>0.097592</td>\n",
       "      <td>0.062316</td>\n",
       "      <td>0.083835</td>\n",
       "      <td>0.017669</td>\n",
       "      <td>0.054739</td>\n",
       "      <td>0.158804</td>\n",
       "      <td>0.083063</td>\n",
       "      <td>0.162796</td>\n",
       "      <td>0.156930</td>\n",
       "      <td>0.060286</td>\n",
       "      <td>0.142433</td>\n",
       "      <td>0.041221</td>\n",
       "      <td>NaN</td>\n",
       "      <td>0.023812</td>\n",
       "      <td>0.208170</td>\n",
       "      <td>0.162652</td>\n",
       "      <td>0.280947</td>\n",
       "      <td>0.209181</td>\n",
       "      <td>0.128644</td>\n",
       "      <td>0.261142</td>\n",
       "      <td>0.217908</td>\n",
       "      <td>0.174310</td>\n",
       "      <td>0.293540</td>\n",
       "      <td>0.022316</td>\n",
       "      <td>0.131069</td>\n",
       "      <td>0.032834</td>\n",
       "      <td>0.109057</td>\n",
       "      <td>0.095326</td>\n",
       "      <td>0.173324</td>\n",
       "      <td>0.137407</td>\n",
       "      <td>0.175124</td>\n",
       "      <td>0.019746</td>\n",
       "      <td>0.085646</td>\n",
       "      <td>0.084516</td>\n",
       "      <td>0.079679</td>\n",
       "      <td>0.047958</td>\n",
       "      <td>0.089509</td>\n",
       "      <td>0.089509</td>\n",
       "      <td>0.201019</td>\n",
       "      <td>0.186530</td>\n",
       "      <td>0.086395</td>\n",
       "      <td>0.023307</td>\n",
       "      <td>0.209479</td>\n",
       "      <td>0.038193</td>\n",
       "      <td>0.142157</td>\n",
       "      <td>0.260917</td>\n",
       "      <td>0.036476</td>\n",
       "      <td>0.111489</td>\n",
       "      <td>0.197493</td>\n",
       "      <td>0.111557</td>\n",
       "      <td>0.122554</td>\n",
       "      <td>0.111557</td>\n",
       "      <td>0.266309</td>\n",
       "      <td>0.127904</td>\n",
       "      <td>0.025173</td>\n",
       "      <td>0.111557</td>\n",
       "      <td>0.135203</td>\n",
       "      <td>0.168685</td>\n",
       "      <td>0.161353</td>\n",
       "      <td>0.333652</td>\n",
       "      <td>0.234954</td>\n",
       "    </tr>\n",
       "    <tr>\n",
       "      <th>hacdor</th>\n",
       "      <td>0.136275</td>\n",
       "      <td>1.000000</td>\n",
       "      <td>0.624324</td>\n",
       "      <td>0.143713</td>\n",
       "      <td>0.055073</td>\n",
       "      <td>0.105112</td>\n",
       "      <td>0.053262</td>\n",
       "      <td>0.021422</td>\n",
       "      <td>0.060396</td>\n",
       "      <td>0.139910</td>\n",
       "      <td>0.072131</td>\n",
       "      <td>0.101985</td>\n",
       "      <td>0.006039</td>\n",
       "      <td>0.005401</td>\n",
       "      <td>0.130923</td>\n",
       "      <td>0.003818</td>\n",
       "      <td>0.068883</td>\n",
       "      <td>0.191171</td>\n",
       "      <td>0.045614</td>\n",
       "      <td>0.037777</td>\n",
       "      <td>0.021824</td>\n",
       "      <td>0.008108</td>\n",
       "      <td>0.007148</td>\n",
       "      <td>0.134352</td>\n",
       "      <td>0.051855</td>\n",
       "      <td>0.058215</td>\n",
       "      <td>0.008967</td>\n",
       "      <td>0.015910</td>\n",
       "      <td>0.003818</td>\n",
       "      <td>0.008108</td>\n",
       "      <td>0.013844</td>\n",
       "      <td>0.088413</td>\n",
       "      <td>0.006580</td>\n",
       "      <td>0.002880</td>\n",
       "      <td>0.016964</td>\n",
       "      <td>0.007148</td>\n",
       "      <td>0.010478</td>\n",
       "      <td>0.050384</td>\n",
       "      <td>0.042438</td>\n",
       "      <td>0.023042</td>\n",
       "      <td>0.027280</td>\n",
       "      <td>0.001265</td>\n",
       "      <td>0.032345</td>\n",
       "      <td>0.005401</td>\n",
       "      <td>NaN</td>\n",
       "      <td>0.005401</td>\n",
       "      <td>0.150762</td>\n",
       "      <td>0.047898</td>\n",
       "      <td>0.137802</td>\n",
       "      <td>0.122137</td>\n",
       "      <td>0.038463</td>\n",
       "      <td>0.119052</td>\n",
       "      <td>0.190081</td>\n",
       "      <td>0.034392</td>\n",
       "      <td>0.149066</td>\n",
       "      <td>0.064282</td>\n",
       "      <td>0.047444</td>\n",
       "      <td>0.052335</td>\n",
       "      <td>0.151861</td>\n",
       "      <td>0.021870</td>\n",
       "      <td>0.048189</td>\n",
       "      <td>0.040258</td>\n",
       "      <td>0.029605</td>\n",
       "      <td>0.010581</td>\n",
       "      <td>0.026791</td>\n",
       "      <td>0.010283</td>\n",
       "      <td>0.025574</td>\n",
       "      <td>0.001103</td>\n",
       "      <td>0.025404</td>\n",
       "      <td>0.025404</td>\n",
       "      <td>0.181283</td>\n",
       "      <td>0.186709</td>\n",
       "      <td>0.057368</td>\n",
       "      <td>0.147793</td>\n",
       "      <td>0.220037</td>\n",
       "      <td>0.105136</td>\n",
       "      <td>0.200622</td>\n",
       "      <td>0.268084</td>\n",
       "      <td>0.110120</td>\n",
       "      <td>0.233964</td>\n",
       "      <td>0.056616</td>\n",
       "      <td>0.234749</td>\n",
       "      <td>0.283206</td>\n",
       "      <td>0.234749</td>\n",
       "      <td>0.256228</td>\n",
       "      <td>0.074122</td>\n",
       "      <td>0.046097</td>\n",
       "      <td>0.234749</td>\n",
       "      <td>0.162266</td>\n",
       "      <td>0.030302</td>\n",
       "      <td>0.013642</td>\n",
       "      <td>0.067632</td>\n",
       "      <td>0.583197</td>\n",
       "    </tr>\n",
       "    <tr>\n",
       "      <th>hacapo</th>\n",
       "      <td>0.096313</td>\n",
       "      <td>0.624324</td>\n",
       "      <td>1.000000</td>\n",
       "      <td>0.154749</td>\n",
       "      <td>0.062110</td>\n",
       "      <td>0.092562</td>\n",
       "      <td>0.036795</td>\n",
       "      <td>0.020661</td>\n",
       "      <td>0.062616</td>\n",
       "      <td>0.124520</td>\n",
       "      <td>0.066715</td>\n",
       "      <td>0.111904</td>\n",
       "      <td>0.004544</td>\n",
       "      <td>0.004064</td>\n",
       "      <td>0.124567</td>\n",
       "      <td>0.002873</td>\n",
       "      <td>0.003519</td>\n",
       "      <td>0.206423</td>\n",
       "      <td>0.032552</td>\n",
       "      <td>0.048015</td>\n",
       "      <td>0.016422</td>\n",
       "      <td>0.006101</td>\n",
       "      <td>0.005379</td>\n",
       "      <td>0.125825</td>\n",
       "      <td>0.048910</td>\n",
       "      <td>0.054289</td>\n",
       "      <td>0.006747</td>\n",
       "      <td>0.008789</td>\n",
       "      <td>0.002873</td>\n",
       "      <td>0.006101</td>\n",
       "      <td>0.010760</td>\n",
       "      <td>0.122333</td>\n",
       "      <td>0.022836</td>\n",
       "      <td>0.008292</td>\n",
       "      <td>0.041293</td>\n",
       "      <td>0.005379</td>\n",
       "      <td>0.007884</td>\n",
       "      <td>0.044062</td>\n",
       "      <td>0.018669</td>\n",
       "      <td>0.063279</td>\n",
       "      <td>0.046656</td>\n",
       "      <td>0.016337</td>\n",
       "      <td>0.045107</td>\n",
       "      <td>0.004064</td>\n",
       "      <td>NaN</td>\n",
       "      <td>0.004064</td>\n",
       "      <td>0.114890</td>\n",
       "      <td>0.032241</td>\n",
       "      <td>0.101011</td>\n",
       "      <td>0.102290</td>\n",
       "      <td>0.006424</td>\n",
       "      <td>0.076188</td>\n",
       "      <td>0.193764</td>\n",
       "      <td>0.000453</td>\n",
       "      <td>0.120487</td>\n",
       "      <td>0.034762</td>\n",
       "      <td>0.035699</td>\n",
       "      <td>0.027959</td>\n",
       "      <td>0.110707</td>\n",
       "      <td>0.010169</td>\n",
       "      <td>0.036260</td>\n",
       "      <td>0.038271</td>\n",
       "      <td>0.032999</td>\n",
       "      <td>0.018682</td>\n",
       "      <td>0.007766</td>\n",
       "      <td>0.000237</td>\n",
       "      <td>0.007112</td>\n",
       "      <td>0.025496</td>\n",
       "      <td>0.015219</td>\n",
       "      <td>0.015219</td>\n",
       "      <td>0.172382</td>\n",
       "      <td>0.174432</td>\n",
       "      <td>0.088729</td>\n",
       "      <td>0.168476</td>\n",
       "      <td>0.183967</td>\n",
       "      <td>0.064559</td>\n",
       "      <td>0.149317</td>\n",
       "      <td>0.236029</td>\n",
       "      <td>0.105777</td>\n",
       "      <td>0.213128</td>\n",
       "      <td>0.045953</td>\n",
       "      <td>0.213700</td>\n",
       "      <td>0.263010</td>\n",
       "      <td>0.213700</td>\n",
       "      <td>0.204935</td>\n",
       "      <td>0.099435</td>\n",
       "      <td>0.027500</td>\n",
       "      <td>0.213700</td>\n",
       "      <td>0.102256</td>\n",
       "      <td>0.044939</td>\n",
       "      <td>0.016778</td>\n",
       "      <td>0.076277</td>\n",
       "      <td>0.445405</td>\n",
       "    </tr>\n",
       "    <tr>\n",
       "      <th>v14a</th>\n",
       "      <td>0.068230</td>\n",
       "      <td>0.143713</td>\n",
       "      <td>0.154749</td>\n",
       "      <td>1.000000</td>\n",
       "      <td>0.192954</td>\n",
       "      <td>0.075308</td>\n",
       "      <td>0.011317</td>\n",
       "      <td>0.001342</td>\n",
       "      <td>0.015043</td>\n",
       "      <td>0.188425</td>\n",
       "      <td>0.057004</td>\n",
       "      <td>0.007657</td>\n",
       "      <td>0.003113</td>\n",
       "      <td>0.002784</td>\n",
       "      <td>0.098117</td>\n",
       "      <td>0.001968</td>\n",
       "      <td>0.138091</td>\n",
       "      <td>0.070795</td>\n",
       "      <td>0.105688</td>\n",
       "      <td>0.085378</td>\n",
       "      <td>0.011248</td>\n",
       "      <td>0.004179</td>\n",
       "      <td>0.003684</td>\n",
       "      <td>0.084577</td>\n",
       "      <td>0.186949</td>\n",
       "      <td>0.173224</td>\n",
       "      <td>0.068852</td>\n",
       "      <td>0.029051</td>\n",
       "      <td>0.001968</td>\n",
       "      <td>0.158222</td>\n",
       "      <td>0.012141</td>\n",
       "      <td>0.624212</td>\n",
       "      <td>0.019500</td>\n",
       "      <td>0.091473</td>\n",
       "      <td>0.030463</td>\n",
       "      <td>0.003684</td>\n",
       "      <td>0.246445</td>\n",
       "      <td>0.058683</td>\n",
       "      <td>0.004059</td>\n",
       "      <td>0.046878</td>\n",
       "      <td>0.042431</td>\n",
       "      <td>0.013399</td>\n",
       "      <td>0.058385</td>\n",
       "      <td>0.002784</td>\n",
       "      <td>NaN</td>\n",
       "      <td>0.002784</td>\n",
       "      <td>0.077470</td>\n",
       "      <td>0.016724</td>\n",
       "      <td>0.063399</td>\n",
       "      <td>0.062741</td>\n",
       "      <td>0.022349</td>\n",
       "      <td>0.063519</td>\n",
       "      <td>0.066221</td>\n",
       "      <td>0.028708</td>\n",
       "      <td>0.067141</td>\n",
       "      <td>0.005645</td>\n",
       "      <td>0.024453</td>\n",
       "      <td>0.000819</td>\n",
       "      <td>0.062780</td>\n",
       "      <td>0.008739</td>\n",
       "      <td>0.009755</td>\n",
       "      <td>0.045345</td>\n",
       "      <td>0.018571</td>\n",
       "      <td>0.007181</td>\n",
       "      <td>0.015806</td>\n",
       "      <td>0.006585</td>\n",
       "      <td>0.021979</td>\n",
       "      <td>0.005262</td>\n",
       "      <td>0.018117</td>\n",
       "      <td>0.018117</td>\n",
       "      <td>0.136410</td>\n",
       "      <td>0.036434</td>\n",
       "      <td>0.019440</td>\n",
       "      <td>0.002333</td>\n",
       "      <td>0.004606</td>\n",
       "      <td>0.040788</td>\n",
       "      <td>0.034646</td>\n",
       "      <td>0.020559</td>\n",
       "      <td>0.040713</td>\n",
       "      <td>0.021828</td>\n",
       "      <td>0.027883</td>\n",
       "      <td>0.021351</td>\n",
       "      <td>0.024852</td>\n",
       "      <td>0.021351</td>\n",
       "      <td>0.009861</td>\n",
       "      <td>0.044171</td>\n",
       "      <td>0.017621</td>\n",
       "      <td>0.021351</td>\n",
       "      <td>0.095357</td>\n",
       "      <td>0.058897</td>\n",
       "      <td>0.022411</td>\n",
       "      <td>0.037008</td>\n",
       "      <td>0.089438</td>\n",
       "    </tr>\n",
       "    <tr>\n",
       "      <th>refrig</th>\n",
       "      <td>0.119607</td>\n",
       "      <td>0.055073</td>\n",
       "      <td>0.062110</td>\n",
       "      <td>0.192954</td>\n",
       "      <td>1.000000</td>\n",
       "      <td>0.132905</td>\n",
       "      <td>0.047555</td>\n",
       "      <td>0.019826</td>\n",
       "      <td>0.077232</td>\n",
       "      <td>0.135424</td>\n",
       "      <td>0.134043</td>\n",
       "      <td>0.056640</td>\n",
       "      <td>0.009158</td>\n",
       "      <td>0.008190</td>\n",
       "      <td>0.169081</td>\n",
       "      <td>0.005789</td>\n",
       "      <td>0.042751</td>\n",
       "      <td>0.115489</td>\n",
       "      <td>0.125656</td>\n",
       "      <td>0.029148</td>\n",
       "      <td>0.022193</td>\n",
       "      <td>0.012295</td>\n",
       "      <td>0.010840</td>\n",
       "      <td>0.162789</td>\n",
       "      <td>0.137173</td>\n",
       "      <td>0.093677</td>\n",
       "      <td>0.142789</td>\n",
       "      <td>0.079614</td>\n",
       "      <td>0.055245</td>\n",
       "      <td>0.246956</td>\n",
       "      <td>0.018720</td>\n",
       "      <td>0.185129</td>\n",
       "      <td>0.029288</td>\n",
       "      <td>0.045512</td>\n",
       "      <td>0.141175</td>\n",
       "      <td>0.054463</td>\n",
       "      <td>0.229800</td>\n",
       "      <td>0.079572</td>\n",
       "      <td>0.021032</td>\n",
       "      <td>0.161381</td>\n",
       "      <td>0.117560</td>\n",
       "      <td>0.052938</td>\n",
       "      <td>0.105776</td>\n",
       "      <td>0.008190</td>\n",
       "      <td>NaN</td>\n",
       "      <td>0.008190</td>\n",
       "      <td>0.154511</td>\n",
       "      <td>0.025051</td>\n",
       "      <td>0.118646</td>\n",
       "      <td>0.086104</td>\n",
       "      <td>0.033812</td>\n",
       "      <td>0.090036</td>\n",
       "      <td>0.131605</td>\n",
       "      <td>0.065936</td>\n",
       "      <td>0.141512</td>\n",
       "      <td>0.049092</td>\n",
       "      <td>0.055695</td>\n",
       "      <td>0.030982</td>\n",
       "      <td>0.074602</td>\n",
       "      <td>0.067673</td>\n",
       "      <td>0.062378</td>\n",
       "      <td>0.079528</td>\n",
       "      <td>0.068652</td>\n",
       "      <td>0.001336</td>\n",
       "      <td>0.036377</td>\n",
       "      <td>0.015320</td>\n",
       "      <td>0.048926</td>\n",
       "      <td>0.053853</td>\n",
       "      <td>0.066396</td>\n",
       "      <td>0.066396</td>\n",
       "      <td>0.158394</td>\n",
       "      <td>0.008685</td>\n",
       "      <td>0.014518</td>\n",
       "      <td>0.007996</td>\n",
       "      <td>0.011278</td>\n",
       "      <td>0.076409</td>\n",
       "      <td>0.066321</td>\n",
       "      <td>0.001899</td>\n",
       "      <td>0.060650</td>\n",
       "      <td>0.050094</td>\n",
       "      <td>0.058595</td>\n",
       "      <td>0.048699</td>\n",
       "      <td>0.043929</td>\n",
       "      <td>0.048699</td>\n",
       "      <td>0.011815</td>\n",
       "      <td>0.088699</td>\n",
       "      <td>0.023070</td>\n",
       "      <td>0.048699</td>\n",
       "      <td>0.117326</td>\n",
       "      <td>0.130262</td>\n",
       "      <td>0.037099</td>\n",
       "      <td>0.139758</td>\n",
       "      <td>0.049109</td>\n",
       "    </tr>\n",
       "  </tbody>\n",
       "</table>\n",
       "</div>"
      ],
      "text/plain": [
       "          Target    hacdor    hacapo      v14a    refrig  paredblolad  \\\n",
       "Target  1.000000  0.136275  0.096313  0.068230  0.119607     0.254469   \n",
       "hacdor  0.136275  1.000000  0.624324  0.143713  0.055073     0.105112   \n",
       "hacapo  0.096313  0.624324  1.000000  0.154749  0.062110     0.092562   \n",
       "v14a    0.068230  0.143713  0.154749  1.000000  0.192954     0.075308   \n",
       "refrig  0.119607  0.055073  0.062110  0.192954  1.000000     0.132905   \n",
       "\n",
       "        paredzocalo  paredpreb  pisocemento  pareddes  paredmad  paredzinc  \\\n",
       "Target     0.078851   0.104545     0.209131  0.096893  0.152979   0.040128   \n",
       "hacdor     0.053262   0.021422     0.060396  0.139910  0.072131   0.101985   \n",
       "hacapo     0.036795   0.020661     0.062616  0.124520  0.066715   0.111904   \n",
       "v14a       0.011317   0.001342     0.015043  0.188425  0.057004   0.007657   \n",
       "refrig     0.047555   0.019826     0.077232  0.135424  0.134043   0.056640   \n",
       "\n",
       "        paredfibras  paredother  pisomoscer  pisoother  pisonatur  \\\n",
       "Target     0.039861    0.005231    0.275452   0.016832   0.054463   \n",
       "hacdor     0.006039    0.005401    0.130923   0.003818   0.068883   \n",
       "hacapo     0.004544    0.004064    0.124567   0.002873   0.003519   \n",
       "v14a       0.003113    0.002784    0.098117   0.001968   0.138091   \n",
       "refrig     0.009158    0.008190    0.169081   0.005789   0.042751   \n",
       "\n",
       "        pisonotiene  pisomadera  techozinc  techoentrepiso  techocane  \\\n",
       "Target     0.114144    0.103487   0.014357        0.032872   0.026240   \n",
       "hacdor     0.191171    0.045614   0.037777        0.021824   0.008108   \n",
       "hacapo     0.206423    0.032552   0.048015        0.016422   0.006101   \n",
       "v14a       0.070795    0.105688   0.085378        0.011248   0.004179   \n",
       "refrig     0.115489    0.125656   0.029148        0.022193   0.012295   \n",
       "\n",
       "        techootro  cielorazo  abastaguadentro  abastaguafuera  abastaguano  \\\n",
       "Target   0.031516   0.295249         0.062961        0.046518     0.055818   \n",
       "hacdor   0.007148   0.134352         0.051855        0.058215     0.008967   \n",
       "hacapo   0.005379   0.125825         0.048910        0.054289     0.006747   \n",
       "v14a     0.003684   0.084577         0.186949        0.173224     0.068852   \n",
       "refrig   0.010840   0.162789         0.137173        0.093677     0.142789   \n",
       "\n",
       "          public   planpri    noelec   coopele  sanitario1  sanitario2  \\\n",
       "Target  0.021908  0.009437  0.051036  0.007696    0.049932    0.097592   \n",
       "hacdor  0.015910  0.003818  0.008108  0.013844    0.088413    0.006580   \n",
       "hacapo  0.008789  0.002873  0.006101  0.010760    0.122333    0.022836   \n",
       "v14a    0.029051  0.001968  0.158222  0.012141    0.624212    0.019500   \n",
       "refrig  0.079614  0.055245  0.246956  0.018720    0.185129    0.029288   \n",
       "\n",
       "        sanitario3  sanitario5  sanitario6  energcocinar1  energcocinar2  \\\n",
       "Target    0.062316    0.083835    0.017669       0.054739       0.158804   \n",
       "hacdor    0.002880    0.016964    0.007148       0.010478       0.050384   \n",
       "hacapo    0.008292    0.041293    0.005379       0.007884       0.044062   \n",
       "v14a      0.091473    0.030463    0.003684       0.246445       0.058683   \n",
       "refrig    0.045512    0.141175    0.054463       0.229800       0.079572   \n",
       "\n",
       "        energcocinar3  energcocinar4  elimbasu1  elimbasu2  elimbasu3  \\\n",
       "Target       0.083063       0.162796   0.156930   0.060286   0.142433   \n",
       "hacdor       0.042438       0.023042   0.027280   0.001265   0.032345   \n",
       "hacapo       0.018669       0.063279   0.046656   0.016337   0.045107   \n",
       "v14a         0.004059       0.046878   0.042431   0.013399   0.058385   \n",
       "refrig       0.021032       0.161381   0.117560   0.052938   0.105776   \n",
       "\n",
       "        elimbasu4  elimbasu5  elimbasu6   epared1   epared2   epared3  \\\n",
       "Target   0.041221        NaN   0.023812  0.208170  0.162652  0.280947   \n",
       "hacdor   0.005401        NaN   0.005401  0.150762  0.047898  0.137802   \n",
       "hacapo   0.004064        NaN   0.004064  0.114890  0.032241  0.101011   \n",
       "v14a     0.002784        NaN   0.002784  0.077470  0.016724  0.063399   \n",
       "refrig   0.008190        NaN   0.008190  0.154511  0.025051  0.118646   \n",
       "\n",
       "         etecho1   etecho2   etecho3     eviv1     eviv2     eviv3  tipovivi1  \\\n",
       "Target  0.209181  0.128644  0.261142  0.217908  0.174310  0.293540   0.022316   \n",
       "hacdor  0.122137  0.038463  0.119052  0.190081  0.034392  0.149066   0.064282   \n",
       "hacapo  0.102290  0.006424  0.076188  0.193764  0.000453  0.120487   0.034762   \n",
       "v14a    0.062741  0.022349  0.063519  0.066221  0.028708  0.067141   0.005645   \n",
       "refrig  0.086104  0.033812  0.090036  0.131605  0.065936  0.141512   0.049092   \n",
       "\n",
       "        tipovivi2  tipovivi3  tipovivi4  tipovivi5  computer  television  \\\n",
       "Target   0.131069   0.032834   0.109057   0.095326  0.173324    0.137407   \n",
       "hacdor   0.047444   0.052335   0.151861   0.021870  0.048189    0.040258   \n",
       "hacapo   0.035699   0.027959   0.110707   0.010169  0.036260    0.038271   \n",
       "v14a     0.024453   0.000819   0.062780   0.008739  0.009755    0.045345   \n",
       "refrig   0.055695   0.030982   0.074602   0.067673  0.062378    0.079528   \n",
       "\n",
       "          lugar1    lugar2    lugar3    lugar4    lugar5    lugar6     area1  \\\n",
       "Target  0.175124  0.019746  0.085646  0.084516  0.079679  0.047958  0.089509   \n",
       "hacdor  0.029605  0.010581  0.026791  0.010283  0.025574  0.001103  0.025404   \n",
       "hacapo  0.032999  0.018682  0.007766  0.000237  0.007112  0.025496  0.015219   \n",
       "v14a    0.018571  0.007181  0.015806  0.006585  0.021979  0.005262  0.018117   \n",
       "refrig  0.068652  0.001336  0.036377  0.015320  0.048926  0.053853  0.066396   \n",
       "\n",
       "           area2     rooms      r4h1      r4h2      r4h3      r4m1      r4m2  \\\n",
       "Target  0.089509  0.201019  0.186530  0.086395  0.023307  0.209479  0.038193   \n",
       "hacdor  0.025404  0.181283  0.186709  0.057368  0.147793  0.220037  0.105136   \n",
       "hacapo  0.015219  0.172382  0.174432  0.088729  0.168476  0.183967  0.064559   \n",
       "v14a    0.018117  0.136410  0.036434  0.019440  0.002333  0.004606  0.040788   \n",
       "refrig  0.066396  0.158394  0.008685  0.014518  0.007996  0.011278  0.076409   \n",
       "\n",
       "            r4m3      r4t1      r4t2      r4t3     v18q1    tamhog    tamviv  \\\n",
       "Target  0.142157  0.260917  0.036476  0.111489  0.197493  0.111557  0.122554   \n",
       "hacdor  0.200622  0.268084  0.110120  0.233964  0.056616  0.234749  0.283206   \n",
       "hacapo  0.149317  0.236029  0.105777  0.213128  0.045953  0.213700  0.263010   \n",
       "v14a    0.034646  0.020559  0.040713  0.021828  0.027883  0.021351  0.024852   \n",
       "refrig  0.066321  0.001899  0.060650  0.050094  0.058595  0.048699  0.043929   \n",
       "\n",
       "          hhsize  hogar_nin  hogar_adul  hogar_mayor  hogar_total  bedrooms  \\\n",
       "Target  0.111557   0.266309    0.127904     0.025173     0.111557  0.135203   \n",
       "hacdor  0.234749   0.256228    0.074122     0.046097     0.234749  0.162266   \n",
       "hacapo  0.213700   0.204935    0.099435     0.027500     0.213700  0.102256   \n",
       "v14a    0.021351   0.009861    0.044171     0.017621     0.021351  0.095357   \n",
       "refrig  0.048699   0.011815    0.088699     0.023070     0.048699  0.117326   \n",
       "\n",
       "        qmobilephone      v2a1  meaneduc  overcrowding  \n",
       "Target      0.168685  0.161353  0.333652      0.234954  \n",
       "hacdor      0.030302  0.013642  0.067632      0.583197  \n",
       "hacapo      0.044939  0.016778  0.076277      0.445405  \n",
       "v14a        0.058897  0.022411  0.037008      0.089438  \n",
       "refrig      0.130262  0.037099  0.139758      0.049109  "
      ]
     },
     "execution_count": 47,
     "metadata": {},
     "output_type": "execute_result"
    }
   ],
   "source": [
    "coremat.head()"
   ]
  },
  {
   "cell_type": "code",
   "execution_count": 48,
   "metadata": {},
   "outputs": [],
   "source": [
    "coremat =coremat.unstack()"
   ]
  },
  {
   "cell_type": "code",
   "execution_count": 49,
   "metadata": {},
   "outputs": [],
   "source": [
    "coremat = coremat.sort_values(ascending = False)"
   ]
  },
  {
   "cell_type": "code",
   "execution_count": 50,
   "metadata": {},
   "outputs": [],
   "source": [
    "coremat = coremat[coremat>=0.95]"
   ]
  },
  {
   "cell_type": "code",
   "execution_count": 51,
   "metadata": {},
   "outputs": [
    {
     "data": {
      "text/plain": [
       "overcrowding  overcrowding    1.0\n",
       "r4h1          r4h1            1.0\n",
       "area2         area2           1.0\n",
       "              area1           1.0\n",
       "area1         area2           1.0\n",
       "dtype: float64"
      ]
     },
     "execution_count": 51,
     "metadata": {},
     "output_type": "execute_result"
    }
   ],
   "source": [
    "coremat.head()"
   ]
  },
  {
   "cell_type": "code",
   "execution_count": 52,
   "metadata": {},
   "outputs": [],
   "source": [
    "coremat = pd.DataFrame(coremat).reset_index()\n"
   ]
  },
  {
   "cell_type": "code",
   "execution_count": 53,
   "metadata": {},
   "outputs": [
    {
     "data": {
      "text/html": [
       "<div>\n",
       "<style scoped>\n",
       "    .dataframe tbody tr th:only-of-type {\n",
       "        vertical-align: middle;\n",
       "    }\n",
       "\n",
       "    .dataframe tbody tr th {\n",
       "        vertical-align: top;\n",
       "    }\n",
       "\n",
       "    .dataframe thead th {\n",
       "        text-align: right;\n",
       "    }\n",
       "</style>\n",
       "<table border=\"1\" class=\"dataframe\">\n",
       "  <thead>\n",
       "    <tr style=\"text-align: right;\">\n",
       "      <th></th>\n",
       "      <th>level_0</th>\n",
       "      <th>level_1</th>\n",
       "      <th>0</th>\n",
       "    </tr>\n",
       "  </thead>\n",
       "  <tbody>\n",
       "    <tr>\n",
       "      <th>0</th>\n",
       "      <td>overcrowding</td>\n",
       "      <td>overcrowding</td>\n",
       "      <td>1.0</td>\n",
       "    </tr>\n",
       "    <tr>\n",
       "      <th>1</th>\n",
       "      <td>r4h1</td>\n",
       "      <td>r4h1</td>\n",
       "      <td>1.0</td>\n",
       "    </tr>\n",
       "    <tr>\n",
       "      <th>2</th>\n",
       "      <td>area2</td>\n",
       "      <td>area2</td>\n",
       "      <td>1.0</td>\n",
       "    </tr>\n",
       "    <tr>\n",
       "      <th>3</th>\n",
       "      <td>area2</td>\n",
       "      <td>area1</td>\n",
       "      <td>1.0</td>\n",
       "    </tr>\n",
       "    <tr>\n",
       "      <th>4</th>\n",
       "      <td>area1</td>\n",
       "      <td>area2</td>\n",
       "      <td>1.0</td>\n",
       "    </tr>\n",
       "  </tbody>\n",
       "</table>\n",
       "</div>"
      ],
      "text/plain": [
       "        level_0       level_1    0\n",
       "0  overcrowding  overcrowding  1.0\n",
       "1          r4h1          r4h1  1.0\n",
       "2         area2         area2  1.0\n",
       "3         area2         area1  1.0\n",
       "4         area1         area2  1.0"
      ]
     },
     "execution_count": 53,
     "metadata": {},
     "output_type": "execute_result"
    }
   ],
   "source": [
    "coremat.head()"
   ]
  },
  {
   "cell_type": "code",
   "execution_count": 54,
   "metadata": {},
   "outputs": [],
   "source": [
    "coremat.columns = ['feat1', 'feat2', 'corr']"
   ]
  },
  {
   "cell_type": "code",
   "execution_count": 55,
   "metadata": {},
   "outputs": [
    {
     "data": {
      "text/html": [
       "<div>\n",
       "<style scoped>\n",
       "    .dataframe tbody tr th:only-of-type {\n",
       "        vertical-align: middle;\n",
       "    }\n",
       "\n",
       "    .dataframe tbody tr th {\n",
       "        vertical-align: top;\n",
       "    }\n",
       "\n",
       "    .dataframe thead th {\n",
       "        text-align: right;\n",
       "    }\n",
       "</style>\n",
       "<table border=\"1\" class=\"dataframe\">\n",
       "  <thead>\n",
       "    <tr style=\"text-align: right;\">\n",
       "      <th></th>\n",
       "      <th>feat1</th>\n",
       "      <th>feat2</th>\n",
       "      <th>corr</th>\n",
       "    </tr>\n",
       "  </thead>\n",
       "  <tbody>\n",
       "    <tr>\n",
       "      <th>0</th>\n",
       "      <td>overcrowding</td>\n",
       "      <td>overcrowding</td>\n",
       "      <td>1.0</td>\n",
       "    </tr>\n",
       "    <tr>\n",
       "      <th>1</th>\n",
       "      <td>r4h1</td>\n",
       "      <td>r4h1</td>\n",
       "      <td>1.0</td>\n",
       "    </tr>\n",
       "    <tr>\n",
       "      <th>2</th>\n",
       "      <td>area2</td>\n",
       "      <td>area2</td>\n",
       "      <td>1.0</td>\n",
       "    </tr>\n",
       "    <tr>\n",
       "      <th>3</th>\n",
       "      <td>area2</td>\n",
       "      <td>area1</td>\n",
       "      <td>1.0</td>\n",
       "    </tr>\n",
       "    <tr>\n",
       "      <th>4</th>\n",
       "      <td>area1</td>\n",
       "      <td>area2</td>\n",
       "      <td>1.0</td>\n",
       "    </tr>\n",
       "  </tbody>\n",
       "</table>\n",
       "</div>"
      ],
      "text/plain": [
       "          feat1         feat2  corr\n",
       "0  overcrowding  overcrowding   1.0\n",
       "1          r4h1          r4h1   1.0\n",
       "2         area2         area2   1.0\n",
       "3         area2         area1   1.0\n",
       "4         area1         area2   1.0"
      ]
     },
     "execution_count": 55,
     "metadata": {},
     "output_type": "execute_result"
    }
   ],
   "source": [
    "coremat.head()"
   ]
  },
  {
   "cell_type": "code",
   "execution_count": 56,
   "metadata": {},
   "outputs": [
    {
     "data": {
      "text/plain": [
       "(108, 3)"
      ]
     },
     "execution_count": 56,
     "metadata": {},
     "output_type": "execute_result"
    }
   ],
   "source": [
    "coremat.shape"
   ]
  },
  {
   "cell_type": "code",
   "execution_count": 57,
   "metadata": {},
   "outputs": [],
   "source": [
    "## There are too many columns, lets increase the threshold value"
   ]
  },
  {
   "cell_type": "code",
   "execution_count": 58,
   "metadata": {},
   "outputs": [],
   "source": [
    "#Create a df where two columns are different\n",
    "\n",
    "coremat_1 = coremat.copy()"
   ]
  },
  {
   "cell_type": "code",
   "execution_count": 59,
   "metadata": {},
   "outputs": [],
   "source": [
    "coremat_2 = coremat_1[coremat_1['feat1'] != coremat_1['feat2']]"
   ]
  },
  {
   "cell_type": "code",
   "execution_count": 60,
   "metadata": {},
   "outputs": [],
   "source": [
    "coremat_2 = coremat_1.set_index('feat1').T"
   ]
  },
  {
   "cell_type": "code",
   "execution_count": 61,
   "metadata": {},
   "outputs": [
    {
     "data": {
      "text/html": [
       "<div>\n",
       "<style scoped>\n",
       "    .dataframe tbody tr th:only-of-type {\n",
       "        vertical-align: middle;\n",
       "    }\n",
       "\n",
       "    .dataframe tbody tr th {\n",
       "        vertical-align: top;\n",
       "    }\n",
       "\n",
       "    .dataframe thead th {\n",
       "        text-align: right;\n",
       "    }\n",
       "</style>\n",
       "<table border=\"1\" class=\"dataframe\">\n",
       "  <thead>\n",
       "    <tr style=\"text-align: right;\">\n",
       "      <th>feat1</th>\n",
       "      <th>overcrowding</th>\n",
       "      <th>r4h1</th>\n",
       "      <th>area2</th>\n",
       "      <th>area2</th>\n",
       "      <th>area1</th>\n",
       "      <th>area1</th>\n",
       "      <th>lugar6</th>\n",
       "      <th>lugar5</th>\n",
       "      <th>lugar4</th>\n",
       "      <th>lugar3</th>\n",
       "      <th>lugar2</th>\n",
       "      <th>lugar1</th>\n",
       "      <th>television</th>\n",
       "      <th>computer</th>\n",
       "      <th>tipovivi5</th>\n",
       "      <th>tipovivi4</th>\n",
       "      <th>tipovivi3</th>\n",
       "      <th>tipovivi2</th>\n",
       "      <th>tipovivi1</th>\n",
       "      <th>eviv3</th>\n",
       "      <th>eviv2</th>\n",
       "      <th>eviv1</th>\n",
       "      <th>etecho3</th>\n",
       "      <th>rooms</th>\n",
       "      <th>r4h2</th>\n",
       "      <th>v2a1</th>\n",
       "      <th>r4h3</th>\n",
       "      <th>bedrooms</th>\n",
       "      <th>hogar_total</th>\n",
       "      <th>hogar_total</th>\n",
       "      <th>hogar_total</th>\n",
       "      <th>hogar_mayor</th>\n",
       "      <th>hogar_adul</th>\n",
       "      <th>hogar_nin</th>\n",
       "      <th>hhsize</th>\n",
       "      <th>hhsize</th>\n",
       "      <th>hhsize</th>\n",
       "      <th>tamviv</th>\n",
       "      <th>tamhog</th>\n",
       "      <th>tamhog</th>\n",
       "      <th>tamhog</th>\n",
       "      <th>v18q1</th>\n",
       "      <th>r4t3</th>\n",
       "      <th>r4t2</th>\n",
       "      <th>r4t1</th>\n",
       "      <th>r4m3</th>\n",
       "      <th>r4m2</th>\n",
       "      <th>r4m1</th>\n",
       "      <th>etecho2</th>\n",
       "      <th>etecho1</th>\n",
       "      <th>epared3</th>\n",
       "      <th>epared2</th>\n",
       "      <th>techocane</th>\n",
       "      <th>techoentrepiso</th>\n",
       "      <th>techozinc</th>\n",
       "      <th>pisomadera</th>\n",
       "      <th>pisonotiene</th>\n",
       "      <th>pisonatur</th>\n",
       "      <th>pisoother</th>\n",
       "      <th>pisomoscer</th>\n",
       "      <th>paredother</th>\n",
       "      <th>paredfibras</th>\n",
       "      <th>paredzinc</th>\n",
       "      <th>paredmad</th>\n",
       "      <th>pareddes</th>\n",
       "      <th>pisocemento</th>\n",
       "      <th>paredpreb</th>\n",
       "      <th>paredzocalo</th>\n",
       "      <th>paredblolad</th>\n",
       "      <th>refrig</th>\n",
       "      <th>v14a</th>\n",
       "      <th>hacapo</th>\n",
       "      <th>hacdor</th>\n",
       "      <th>techootro</th>\n",
       "      <th>cielorazo</th>\n",
       "      <th>abastaguadentro</th>\n",
       "      <th>energcocinar1</th>\n",
       "      <th>epared1</th>\n",
       "      <th>elimbasu6</th>\n",
       "      <th>elimbasu4</th>\n",
       "      <th>elimbasu3</th>\n",
       "      <th>elimbasu2</th>\n",
       "      <th>elimbasu1</th>\n",
       "      <th>energcocinar4</th>\n",
       "      <th>energcocinar3</th>\n",
       "      <th>energcocinar2</th>\n",
       "      <th>sanitario6</th>\n",
       "      <th>abastaguafuera</th>\n",
       "      <th>sanitario5</th>\n",
       "      <th>sanitario3</th>\n",
       "      <th>sanitario2</th>\n",
       "      <th>sanitario1</th>\n",
       "      <th>coopele</th>\n",
       "      <th>noelec</th>\n",
       "      <th>planpri</th>\n",
       "      <th>public</th>\n",
       "      <th>abastaguano</th>\n",
       "      <th>qmobilephone</th>\n",
       "      <th>Target</th>\n",
       "      <th>meaneduc</th>\n",
       "      <th>r4t3</th>\n",
       "      <th>r4t3</th>\n",
       "      <th>hhsize</th>\n",
       "      <th>tamhog</th>\n",
       "      <th>r4t3</th>\n",
       "      <th>hogar_total</th>\n",
       "      <th>coopele</th>\n",
       "      <th>public</th>\n",
       "    </tr>\n",
       "  </thead>\n",
       "  <tbody>\n",
       "    <tr>\n",
       "      <th>feat2</th>\n",
       "      <td>overcrowding</td>\n",
       "      <td>r4h1</td>\n",
       "      <td>area2</td>\n",
       "      <td>area1</td>\n",
       "      <td>area2</td>\n",
       "      <td>area1</td>\n",
       "      <td>lugar6</td>\n",
       "      <td>lugar5</td>\n",
       "      <td>lugar4</td>\n",
       "      <td>lugar3</td>\n",
       "      <td>lugar2</td>\n",
       "      <td>lugar1</td>\n",
       "      <td>television</td>\n",
       "      <td>computer</td>\n",
       "      <td>tipovivi5</td>\n",
       "      <td>tipovivi4</td>\n",
       "      <td>tipovivi3</td>\n",
       "      <td>tipovivi2</td>\n",
       "      <td>tipovivi1</td>\n",
       "      <td>eviv3</td>\n",
       "      <td>eviv2</td>\n",
       "      <td>eviv1</td>\n",
       "      <td>etecho3</td>\n",
       "      <td>rooms</td>\n",
       "      <td>r4h2</td>\n",
       "      <td>v2a1</td>\n",
       "      <td>r4h3</td>\n",
       "      <td>bedrooms</td>\n",
       "      <td>hogar_total</td>\n",
       "      <td>hhsize</td>\n",
       "      <td>tamhog</td>\n",
       "      <td>hogar_mayor</td>\n",
       "      <td>hogar_adul</td>\n",
       "      <td>hogar_nin</td>\n",
       "      <td>hogar_total</td>\n",
       "      <td>hhsize</td>\n",
       "      <td>tamhog</td>\n",
       "      <td>tamviv</td>\n",
       "      <td>hogar_total</td>\n",
       "      <td>hhsize</td>\n",
       "      <td>tamhog</td>\n",
       "      <td>v18q1</td>\n",
       "      <td>r4t3</td>\n",
       "      <td>r4t2</td>\n",
       "      <td>r4t1</td>\n",
       "      <td>r4m3</td>\n",
       "      <td>r4m2</td>\n",
       "      <td>r4m1</td>\n",
       "      <td>etecho2</td>\n",
       "      <td>etecho1</td>\n",
       "      <td>epared3</td>\n",
       "      <td>epared2</td>\n",
       "      <td>techocane</td>\n",
       "      <td>techoentrepiso</td>\n",
       "      <td>techozinc</td>\n",
       "      <td>pisomadera</td>\n",
       "      <td>pisonotiene</td>\n",
       "      <td>pisonatur</td>\n",
       "      <td>pisoother</td>\n",
       "      <td>pisomoscer</td>\n",
       "      <td>paredother</td>\n",
       "      <td>paredfibras</td>\n",
       "      <td>paredzinc</td>\n",
       "      <td>paredmad</td>\n",
       "      <td>pareddes</td>\n",
       "      <td>pisocemento</td>\n",
       "      <td>paredpreb</td>\n",
       "      <td>paredzocalo</td>\n",
       "      <td>paredblolad</td>\n",
       "      <td>refrig</td>\n",
       "      <td>v14a</td>\n",
       "      <td>hacapo</td>\n",
       "      <td>hacdor</td>\n",
       "      <td>techootro</td>\n",
       "      <td>cielorazo</td>\n",
       "      <td>abastaguadentro</td>\n",
       "      <td>energcocinar1</td>\n",
       "      <td>epared1</td>\n",
       "      <td>elimbasu6</td>\n",
       "      <td>elimbasu4</td>\n",
       "      <td>elimbasu3</td>\n",
       "      <td>elimbasu2</td>\n",
       "      <td>elimbasu1</td>\n",
       "      <td>energcocinar4</td>\n",
       "      <td>energcocinar3</td>\n",
       "      <td>energcocinar2</td>\n",
       "      <td>sanitario6</td>\n",
       "      <td>abastaguafuera</td>\n",
       "      <td>sanitario5</td>\n",
       "      <td>sanitario3</td>\n",
       "      <td>sanitario2</td>\n",
       "      <td>sanitario1</td>\n",
       "      <td>coopele</td>\n",
       "      <td>noelec</td>\n",
       "      <td>planpri</td>\n",
       "      <td>public</td>\n",
       "      <td>abastaguano</td>\n",
       "      <td>qmobilephone</td>\n",
       "      <td>Target</td>\n",
       "      <td>meaneduc</td>\n",
       "      <td>hhsize</td>\n",
       "      <td>tamhog</td>\n",
       "      <td>r4t3</td>\n",
       "      <td>r4t3</td>\n",
       "      <td>hogar_total</td>\n",
       "      <td>r4t3</td>\n",
       "      <td>public</td>\n",
       "      <td>coopele</td>\n",
       "    </tr>\n",
       "    <tr>\n",
       "      <th>corr</th>\n",
       "      <td>1</td>\n",
       "      <td>1</td>\n",
       "      <td>1</td>\n",
       "      <td>1</td>\n",
       "      <td>1</td>\n",
       "      <td>1</td>\n",
       "      <td>1</td>\n",
       "      <td>1</td>\n",
       "      <td>1</td>\n",
       "      <td>1</td>\n",
       "      <td>1</td>\n",
       "      <td>1</td>\n",
       "      <td>1</td>\n",
       "      <td>1</td>\n",
       "      <td>1</td>\n",
       "      <td>1</td>\n",
       "      <td>1</td>\n",
       "      <td>1</td>\n",
       "      <td>1</td>\n",
       "      <td>1</td>\n",
       "      <td>1</td>\n",
       "      <td>1</td>\n",
       "      <td>1</td>\n",
       "      <td>1</td>\n",
       "      <td>1</td>\n",
       "      <td>1</td>\n",
       "      <td>1</td>\n",
       "      <td>1</td>\n",
       "      <td>1</td>\n",
       "      <td>1</td>\n",
       "      <td>1</td>\n",
       "      <td>1</td>\n",
       "      <td>1</td>\n",
       "      <td>1</td>\n",
       "      <td>1</td>\n",
       "      <td>1</td>\n",
       "      <td>1</td>\n",
       "      <td>1</td>\n",
       "      <td>1</td>\n",
       "      <td>1</td>\n",
       "      <td>1</td>\n",
       "      <td>1</td>\n",
       "      <td>1</td>\n",
       "      <td>1</td>\n",
       "      <td>1</td>\n",
       "      <td>1</td>\n",
       "      <td>1</td>\n",
       "      <td>1</td>\n",
       "      <td>1</td>\n",
       "      <td>1</td>\n",
       "      <td>1</td>\n",
       "      <td>1</td>\n",
       "      <td>1</td>\n",
       "      <td>1</td>\n",
       "      <td>1</td>\n",
       "      <td>1</td>\n",
       "      <td>1</td>\n",
       "      <td>1</td>\n",
       "      <td>1</td>\n",
       "      <td>1</td>\n",
       "      <td>1</td>\n",
       "      <td>1</td>\n",
       "      <td>1</td>\n",
       "      <td>1</td>\n",
       "      <td>1</td>\n",
       "      <td>1</td>\n",
       "      <td>1</td>\n",
       "      <td>1</td>\n",
       "      <td>1</td>\n",
       "      <td>1</td>\n",
       "      <td>1</td>\n",
       "      <td>1</td>\n",
       "      <td>1</td>\n",
       "      <td>1</td>\n",
       "      <td>1</td>\n",
       "      <td>1</td>\n",
       "      <td>1</td>\n",
       "      <td>1</td>\n",
       "      <td>1</td>\n",
       "      <td>1</td>\n",
       "      <td>1</td>\n",
       "      <td>1</td>\n",
       "      <td>1</td>\n",
       "      <td>1</td>\n",
       "      <td>1</td>\n",
       "      <td>1</td>\n",
       "      <td>1</td>\n",
       "      <td>1</td>\n",
       "      <td>1</td>\n",
       "      <td>1</td>\n",
       "      <td>1</td>\n",
       "      <td>1</td>\n",
       "      <td>1</td>\n",
       "      <td>1</td>\n",
       "      <td>1</td>\n",
       "      <td>1</td>\n",
       "      <td>1</td>\n",
       "      <td>1</td>\n",
       "      <td>1</td>\n",
       "      <td>1</td>\n",
       "      <td>0.996884</td>\n",
       "      <td>0.996884</td>\n",
       "      <td>0.996884</td>\n",
       "      <td>0.996884</td>\n",
       "      <td>0.996884</td>\n",
       "      <td>0.996884</td>\n",
       "      <td>0.974788</td>\n",
       "      <td>0.974788</td>\n",
       "    </tr>\n",
       "  </tbody>\n",
       "</table>\n",
       "</div>"
      ],
      "text/plain": [
       "feat1  overcrowding  r4h1  area2  area2  area1  area1  lugar6  lugar5  lugar4  \\\n",
       "feat2  overcrowding  r4h1  area2  area1  area2  area1  lugar6  lugar5  lugar4   \n",
       "corr              1     1      1      1      1      1       1       1       1   \n",
       "\n",
       "feat1  lugar3  lugar2  lugar1  television  computer  tipovivi5  tipovivi4  \\\n",
       "feat2  lugar3  lugar2  lugar1  television  computer  tipovivi5  tipovivi4   \n",
       "corr        1       1       1           1         1          1          1   \n",
       "\n",
       "feat1  tipovivi3  tipovivi2  tipovivi1  eviv3  eviv2  eviv1  etecho3  rooms  \\\n",
       "feat2  tipovivi3  tipovivi2  tipovivi1  eviv3  eviv2  eviv1  etecho3  rooms   \n",
       "corr           1          1          1      1      1      1        1      1   \n",
       "\n",
       "feat1  r4h2  v2a1  r4h3  bedrooms  hogar_total hogar_total hogar_total  \\\n",
       "feat2  r4h2  v2a1  r4h3  bedrooms  hogar_total      hhsize      tamhog   \n",
       "corr      1     1     1         1            1           1           1   \n",
       "\n",
       "feat1  hogar_mayor  hogar_adul  hogar_nin       hhsize  hhsize  hhsize  \\\n",
       "feat2  hogar_mayor  hogar_adul  hogar_nin  hogar_total  hhsize  tamhog   \n",
       "corr             1           1          1            1       1       1   \n",
       "\n",
       "feat1  tamviv       tamhog  tamhog  tamhog  v18q1  r4t3  r4t2  r4t1  r4m3  \\\n",
       "feat2  tamviv  hogar_total  hhsize  tamhog  v18q1  r4t3  r4t2  r4t1  r4m3   \n",
       "corr        1            1       1       1      1     1     1     1     1   \n",
       "\n",
       "feat1  r4m2  r4m1  etecho2  etecho1  epared3  epared2  techocane  \\\n",
       "feat2  r4m2  r4m1  etecho2  etecho1  epared3  epared2  techocane   \n",
       "corr      1     1        1        1        1        1          1   \n",
       "\n",
       "feat1  techoentrepiso  techozinc  pisomadera  pisonotiene  pisonatur  \\\n",
       "feat2  techoentrepiso  techozinc  pisomadera  pisonotiene  pisonatur   \n",
       "corr                1          1           1            1          1   \n",
       "\n",
       "feat1  pisoother  pisomoscer  paredother  paredfibras  paredzinc  paredmad  \\\n",
       "feat2  pisoother  pisomoscer  paredother  paredfibras  paredzinc  paredmad   \n",
       "corr           1           1           1            1          1         1   \n",
       "\n",
       "feat1  pareddes  pisocemento  paredpreb  paredzocalo  paredblolad  refrig  \\\n",
       "feat2  pareddes  pisocemento  paredpreb  paredzocalo  paredblolad  refrig   \n",
       "corr          1            1          1            1            1       1   \n",
       "\n",
       "feat1  v14a  hacapo  hacdor  techootro  cielorazo  abastaguadentro  \\\n",
       "feat2  v14a  hacapo  hacdor  techootro  cielorazo  abastaguadentro   \n",
       "corr      1       1       1          1          1                1   \n",
       "\n",
       "feat1  energcocinar1  epared1  elimbasu6  elimbasu4  elimbasu3  elimbasu2  \\\n",
       "feat2  energcocinar1  epared1  elimbasu6  elimbasu4  elimbasu3  elimbasu2   \n",
       "corr               1        1          1          1          1          1   \n",
       "\n",
       "feat1  elimbasu1  energcocinar4  energcocinar3  energcocinar2  sanitario6  \\\n",
       "feat2  elimbasu1  energcocinar4  energcocinar3  energcocinar2  sanitario6   \n",
       "corr           1              1              1              1           1   \n",
       "\n",
       "feat1  abastaguafuera  sanitario5  sanitario3  sanitario2  sanitario1  \\\n",
       "feat2  abastaguafuera  sanitario5  sanitario3  sanitario2  sanitario1   \n",
       "corr                1           1           1           1           1   \n",
       "\n",
       "feat1  coopele  noelec  planpri  public  abastaguano  qmobilephone  Target  \\\n",
       "feat2  coopele  noelec  planpri  public  abastaguano  qmobilephone  Target   \n",
       "corr         1       1        1       1            1             1       1   \n",
       "\n",
       "feat1  meaneduc      r4t3      r4t3    hhsize    tamhog         r4t3  \\\n",
       "feat2  meaneduc    hhsize    tamhog      r4t3      r4t3  hogar_total   \n",
       "corr          1  0.996884  0.996884  0.996884  0.996884     0.996884   \n",
       "\n",
       "feat1 hogar_total   coopele    public  \n",
       "feat2        r4t3    public   coopele  \n",
       "corr     0.996884  0.974788  0.974788  "
      ]
     },
     "execution_count": 61,
     "metadata": {},
     "output_type": "execute_result"
    }
   ],
   "source": [
    "coremat_2"
   ]
  },
  {
   "cell_type": "code",
   "execution_count": 62,
   "metadata": {},
   "outputs": [],
   "source": [
    "coremat_3 = coremat_1.set_index('feat1').T"
   ]
  },
  {
   "cell_type": "code",
   "execution_count": 63,
   "metadata": {},
   "outputs": [
    {
     "data": {
      "text/plain": [
       "Index(['overcrowding', 'r4h1', 'area2', 'area2', 'area1', 'area1', 'lugar6',\n",
       "       'lugar5', 'lugar4', 'lugar3',\n",
       "       ...\n",
       "       'Target', 'meaneduc', 'r4t3', 'r4t3', 'hhsize', 'tamhog', 'r4t3',\n",
       "       'hogar_total', 'coopele', 'public'],\n",
       "      dtype='object', name='feat1', length=108)"
      ]
     },
     "execution_count": 63,
     "metadata": {},
     "output_type": "execute_result"
    }
   ],
   "source": [
    "coremat_3.columns"
   ]
  },
  {
   "cell_type": "code",
   "execution_count": 64,
   "metadata": {},
   "outputs": [],
   "source": [
    "## Heatmap of correlated features\n",
    "\n",
    "corrmat_new = heads[['area2', 'area1', 'hogar_total', 'hogar_total', 'hhsize', 'hhsize', 'tamhog', 'tamhog', 'r4t3', 'r4t3', 'hhsize', 'tamhog', 'r4t3', 'hogar_total', 'coopele', 'public']]\n"
   ]
  },
  {
   "cell_type": "code",
   "execution_count": 65,
   "metadata": {},
   "outputs": [
    {
     "data": {
      "text/plain": [
       "<matplotlib.axes._subplots.AxesSubplot at 0x1f57ae59668>"
      ]
     },
     "execution_count": 65,
     "metadata": {},
     "output_type": "execute_result"
    },
    {
     "data": {
      "image/png": "[encoded data removed]",
      "text/plain": [
       "<Figure size 432x288 with 2 Axes>"
      ]
     },
     "metadata": {
      "needs_background": "light"
     },
     "output_type": "display_data"
    }
   ],
   "source": [
    "corrmat_new = corrmat_new.corr()\n",
    "sns.heatmap(corrmat_new, cmap='coolwarm')"
   ]
  },
  {
   "cell_type": "code",
   "execution_count": 66,
   "metadata": {},
   "outputs": [],
   "source": [
    "unique_items = set(['area2', 'area1', 'hogar_total', 'hogar_total', 'hhsize', 'hhsize', 'tamhog', 'tamhog', 'r4t3', 'r4t3', 'hhsize', 'tamhog', 'r4t3', 'hogar_total', 'coopele', 'public'])"
   ]
  },
  {
   "cell_type": "code",
   "execution_count": 67,
   "metadata": {},
   "outputs": [],
   "source": [
    "unique_items = list(unique_items)"
   ]
  },
  {
   "cell_type": "code",
   "execution_count": 68,
   "metadata": {},
   "outputs": [
    {
     "data": {
      "text/plain": [
       "<matplotlib.axes._subplots.AxesSubplot at 0x1f579fb9c50>"
      ]
     },
     "execution_count": 68,
     "metadata": {},
     "output_type": "execute_result"
    },
    {
     "data": {
      "image/png": "[encoded data removed]",
      "text/plain": [
       "<Figure size 432x288 with 2 Axes>"
      ]
     },
     "metadata": {
      "needs_background": "light"
     },
     "output_type": "display_data"
    }
   ],
   "source": [
    "corrmat_new = heads[unique_items]\n",
    "corrmat_new = corrmat_new.corr()\n",
    "sns.heatmap(corrmat_new, cmap='coolwarm', annot=True)"
   ]
  },
  {
   "cell_type": "code",
   "execution_count": 69,
   "metadata": {},
   "outputs": [
    {
     "data": {
      "text/plain": [
       "['r4t3',\n",
       " 'area2',\n",
       " 'area1',\n",
       " 'coopele',\n",
       " 'hogar_total',\n",
       " 'public',\n",
       " 'hhsize',\n",
       " 'tamhog']"
      ]
     },
     "execution_count": 69,
     "metadata": {},
     "output_type": "execute_result"
    }
   ],
   "source": [
    "unique_items"
   ]
  },
  {
   "cell_type": "markdown",
   "metadata": {},
   "source": [
    "    'hhsize', - household size\n",
    "     'area1', - zona urbana\n",
    "     'hogar_total', - of total individuals in the household\n",
    "     'coopele',- electricity from cooperative\n",
    "     'area2',- zona rural\n",
    "     'public',- electricity from CNFL,  ICE,  ESPH/JASEC\"\n",
    "     'r4t3',- Total persons in the household\n",
    "     'tamhog'- size of the household"
   ]
  },
  {
   "cell_type": "code",
   "execution_count": 70,
   "metadata": {},
   "outputs": [
    {
     "data": {
      "text/plain": [
       "3     742\n",
       "2     667\n",
       "4     607\n",
       "1     355\n",
       "5     335\n",
       "6     155\n",
       "7      61\n",
       "8      17\n",
       "9      12\n",
       "10      9\n",
       "11      6\n",
       "13      4\n",
       "12      2\n",
       "15      1\n",
       "Name: tamviv, dtype: int64"
      ]
     },
     "execution_count": 70,
     "metadata": {},
     "output_type": "execute_result"
    }
   ],
   "source": [
    "heads['tamviv'].value_counts()"
   ]
  },
  {
   "cell_type": "code",
   "execution_count": 71,
   "metadata": {},
   "outputs": [
    {
     "data": {
      "text/plain": [
       "3     753\n",
       "2     682\n",
       "4     612\n",
       "1     386\n",
       "5     317\n",
       "6     136\n",
       "7      52\n",
       "8      12\n",
       "9      10\n",
       "10      6\n",
       "11      4\n",
       "12      2\n",
       "13      1\n",
       "Name: hhsize, dtype: int64"
      ]
     },
     "execution_count": 71,
     "metadata": {},
     "output_type": "execute_result"
    }
   ],
   "source": [
    "heads['hhsize'].value_counts()"
   ]
  },
  {
   "cell_type": "code",
   "execution_count": 72,
   "metadata": {},
   "outputs": [
    {
     "data": {
      "text/plain": [
       "<seaborn.axisgrid.FacetGrid at 0x1f57ae33390>"
      ]
     },
     "execution_count": 72,
     "metadata": {},
     "output_type": "execute_result"
    },
    {
     "data": {
      "image/png": "[encoded data removed]",
      "text/plain": [
       "<Figure size 360x360 with 1 Axes>"
      ]
     },
     "metadata": {
      "needs_background": "light"
     },
     "output_type": "display_data"
    }
   ],
   "source": [
    "## lets understand the relationship between these two variables\n",
    "\n",
    "sns.lmplot('hhsize', 'tamviv', heads)"
   ]
  },
  {
   "cell_type": "code",
   "execution_count": 73,
   "metadata": {},
   "outputs": [],
   "source": [
    "## Tamviv - number of people living in household\n",
    "## hhsize - size of hhousehold"
   ]
  },
  {
   "cell_type": "code",
   "execution_count": 74,
   "metadata": {},
   "outputs": [
    {
     "data": {
      "text/html": [
       "<div>\n",
       "<style scoped>\n",
       "    .dataframe tbody tr th:only-of-type {\n",
       "        vertical-align: middle;\n",
       "    }\n",
       "\n",
       "    .dataframe tbody tr th {\n",
       "        vertical-align: top;\n",
       "    }\n",
       "\n",
       "    .dataframe thead th {\n",
       "        text-align: right;\n",
       "    }\n",
       "</style>\n",
       "<table border=\"1\" class=\"dataframe\">\n",
       "  <thead>\n",
       "    <tr style=\"text-align: right;\">\n",
       "      <th></th>\n",
       "      <th>hhsize</th>\n",
       "      <th>tamviv</th>\n",
       "      <th>Target</th>\n",
       "    </tr>\n",
       "  </thead>\n",
       "  <tbody>\n",
       "    <tr>\n",
       "      <th>442</th>\n",
       "      <td>11</td>\n",
       "      <td>11</td>\n",
       "      <td>4</td>\n",
       "    </tr>\n",
       "    <tr>\n",
       "      <th>2474</th>\n",
       "      <td>13</td>\n",
       "      <td>13</td>\n",
       "      <td>1</td>\n",
       "    </tr>\n",
       "    <tr>\n",
       "      <th>2638</th>\n",
       "      <td>11</td>\n",
       "      <td>11</td>\n",
       "      <td>4</td>\n",
       "    </tr>\n",
       "    <tr>\n",
       "      <th>5136</th>\n",
       "      <td>11</td>\n",
       "      <td>11</td>\n",
       "      <td>3</td>\n",
       "    </tr>\n",
       "    <tr>\n",
       "      <th>5699</th>\n",
       "      <td>12</td>\n",
       "      <td>12</td>\n",
       "      <td>3</td>\n",
       "    </tr>\n",
       "    <tr>\n",
       "      <th>8444</th>\n",
       "      <td>11</td>\n",
       "      <td>11</td>\n",
       "      <td>2</td>\n",
       "    </tr>\n",
       "    <tr>\n",
       "      <th>9083</th>\n",
       "      <td>12</td>\n",
       "      <td>12</td>\n",
       "      <td>4</td>\n",
       "    </tr>\n",
       "  </tbody>\n",
       "</table>\n",
       "</div>"
      ],
      "text/plain": [
       "      hhsize  tamviv  Target\n",
       "442       11      11       4\n",
       "2474      13      13       1\n",
       "2638      11      11       4\n",
       "5136      11      11       3\n",
       "5699      12      12       3\n",
       "8444      11      11       2\n",
       "9083      12      12       4"
      ]
     },
     "execution_count": 74,
     "metadata": {},
     "output_type": "execute_result"
    }
   ],
   "source": [
    "heads[(heads['hhsize']>10)][['hhsize', 'tamviv', 'Target']]"
   ]
  },
  {
   "cell_type": "code",
   "execution_count": 75,
   "metadata": {},
   "outputs": [
    {
     "data": {
      "text/html": [
       "<div>\n",
       "<style scoped>\n",
       "    .dataframe tbody tr th:only-of-type {\n",
       "        vertical-align: middle;\n",
       "    }\n",
       "\n",
       "    .dataframe tbody tr th {\n",
       "        vertical-align: top;\n",
       "    }\n",
       "\n",
       "    .dataframe thead th {\n",
       "        text-align: right;\n",
       "    }\n",
       "</style>\n",
       "<table border=\"1\" class=\"dataframe\">\n",
       "  <thead>\n",
       "    <tr style=\"text-align: right;\">\n",
       "      <th></th>\n",
       "      <th>Target</th>\n",
       "    </tr>\n",
       "  </thead>\n",
       "  <tbody>\n",
       "    <tr>\n",
       "      <th>442</th>\n",
       "      <td>4</td>\n",
       "    </tr>\n",
       "    <tr>\n",
       "      <th>2474</th>\n",
       "      <td>1</td>\n",
       "    </tr>\n",
       "    <tr>\n",
       "      <th>2638</th>\n",
       "      <td>4</td>\n",
       "    </tr>\n",
       "    <tr>\n",
       "      <th>5136</th>\n",
       "      <td>3</td>\n",
       "    </tr>\n",
       "    <tr>\n",
       "      <th>5699</th>\n",
       "      <td>3</td>\n",
       "    </tr>\n",
       "    <tr>\n",
       "      <th>8444</th>\n",
       "      <td>2</td>\n",
       "    </tr>\n",
       "    <tr>\n",
       "      <th>9083</th>\n",
       "      <td>4</td>\n",
       "    </tr>\n",
       "  </tbody>\n",
       "</table>\n",
       "</div>"
      ],
      "text/plain": [
       "      Target\n",
       "442        4\n",
       "2474       1\n",
       "2638       4\n",
       "5136       3\n",
       "5699       3\n",
       "8444       2\n",
       "9083       4"
      ]
     },
     "execution_count": 75,
     "metadata": {},
     "output_type": "execute_result"
    }
   ],
   "source": [
    "heads[(heads['hhsize']>10)][[ 'Target']]"
   ]
  },
  {
   "cell_type": "markdown",
   "metadata": {},
   "source": [
    "Substract the two columns hhsize and tamviv"
   ]
  },
  {
   "cell_type": "code",
   "execution_count": 76,
   "metadata": {},
   "outputs": [
    {
     "data": {
      "text/plain": [
       "(2973, 98)"
      ]
     },
     "execution_count": 76,
     "metadata": {},
     "output_type": "execute_result"
    }
   ],
   "source": [
    "heads.shape"
   ]
  },
  {
   "cell_type": "code",
   "execution_count": 77,
   "metadata": {},
   "outputs": [],
   "source": [
    "heads['hhsize-diff'] = heads['tamviv']-heads['hhsize']"
   ]
  },
  {
   "cell_type": "code",
   "execution_count": 78,
   "metadata": {},
   "outputs": [
    {
     "data": {
      "text/plain": [
       "0    2861\n",
       "1      29\n",
       "3      26\n",
       "2      26\n",
       "4      15\n",
       "5       7\n",
       "6       4\n",
       "7       3\n",
       "9       2\n",
       "Name: hhsize-diff, dtype: int64"
      ]
     },
     "execution_count": 78,
     "metadata": {},
     "output_type": "execute_result"
    }
   ],
   "source": [
    "heads['hhsize-diff'].value_counts()"
   ]
  },
  {
   "cell_type": "code",
   "execution_count": 79,
   "metadata": {},
   "outputs": [],
   "source": [
    "## There is a huge number which does not show any difference\n",
    "## Plot them with target"
   ]
  },
  {
   "cell_type": "code",
   "execution_count": 80,
   "metadata": {},
   "outputs": [],
   "source": [
    "hhsize_diff = heads[['hhsize-diff', 'Target']]"
   ]
  },
  {
   "cell_type": "code",
   "execution_count": 81,
   "metadata": {},
   "outputs": [
    {
     "name": "stderr",
     "output_type": "stream",
     "text": [
      "C:\\ProgramData\\Anaconda\\envs\\nlp\\lib\\site-packages\\ipykernel_launcher.py:1: SettingWithCopyWarning: \n",
      "A value is trying to be set on a copy of a slice from a DataFrame.\n",
      "Try using .loc[row_indexer,col_indexer] = value instead\n",
      "\n",
      "See the caveats in the documentation: http://pandas.pydata.org/pandas-docs/stable/indexing.html#indexing-view-versus-copy\n",
      "  \"\"\"Entry point for launching an IPython kernel.\n"
     ]
    }
   ],
   "source": [
    "hhsize_diff['hhsize-diff'] = hhsize_diff['hhsize-diff'].astype('category')"
   ]
  },
  {
   "cell_type": "code",
   "execution_count": 82,
   "metadata": {},
   "outputs": [
    {
     "name": "stderr",
     "output_type": "stream",
     "text": [
      "C:\\ProgramData\\Anaconda\\envs\\nlp\\lib\\site-packages\\ipykernel_launcher.py:1: SettingWithCopyWarning: \n",
      "A value is trying to be set on a copy of a slice from a DataFrame.\n",
      "Try using .loc[row_indexer,col_indexer] = value instead\n",
      "\n",
      "See the caveats in the documentation: http://pandas.pydata.org/pandas-docs/stable/indexing.html#indexing-view-versus-copy\n",
      "  \"\"\"Entry point for launching an IPython kernel.\n"
     ]
    }
   ],
   "source": [
    "hhsize_diff['Target'] = hhsize_diff['Target'].astype('category')"
   ]
  },
  {
   "cell_type": "code",
   "execution_count": 83,
   "metadata": {},
   "outputs": [
    {
     "data": {
      "text/plain": [
       "<matplotlib.axes._subplots.AxesSubplot at 0x1f579e8d5f8>"
      ]
     },
     "execution_count": 83,
     "metadata": {},
     "output_type": "execute_result"
    },
    {
     "data": {
      "image/png": "[encoded data removed]",
      "text/plain": [
       "<Figure size 432x288 with 1 Axes>"
      ]
     },
     "metadata": {
      "needs_background": "light"
     },
     "output_type": "display_data"
    }
   ],
   "source": [
    "sns.countplot('Target', hue='hhsize-diff', data = hhsize_diff)"
   ]
  },
  {
   "cell_type": "code",
   "execution_count": 84,
   "metadata": {},
   "outputs": [],
   "source": [
    "## There is not much difference"
   ]
  },
  {
   "cell_type": "markdown",
   "metadata": {},
   "source": [
    "#### Lets take another variable coopele"
   ]
  },
  {
   "cell_type": "markdown",
   "metadata": {},
   "source": [
    "coopele - Electricity form cooperative"
   ]
  },
  {
   "cell_type": "markdown",
   "metadata": {},
   "source": [
    "    public, \"=1 electricity from CNFL,  ICE,  ESPH/JASEC\"\n",
    "    planpri, =1 electricity from private plant\n",
    "    noelec, =1 no electricity in the dwelling\n",
    "    coopele, =1 electricity from cooperative"
   ]
  },
  {
   "cell_type": "markdown",
   "metadata": {},
   "source": [
    "We will look into all these variable, as all are related to electricity"
   ]
  },
  {
   "cell_type": "code",
   "execution_count": 85,
   "metadata": {},
   "outputs": [],
   "source": [
    "#ele_df = heads['public', 'planpri', 'noelec', 'coopele']"
   ]
  },
  {
   "cell_type": "code",
   "execution_count": 86,
   "metadata": {},
   "outputs": [
    {
     "data": {
      "text/html": [
       "<div>\n",
       "<style scoped>\n",
       "    .dataframe tbody tr th:only-of-type {\n",
       "        vertical-align: middle;\n",
       "    }\n",
       "\n",
       "    .dataframe tbody tr th {\n",
       "        vertical-align: top;\n",
       "    }\n",
       "\n",
       "    .dataframe thead th {\n",
       "        text-align: right;\n",
       "    }\n",
       "</style>\n",
       "<table border=\"1\" class=\"dataframe\">\n",
       "  <thead>\n",
       "    <tr style=\"text-align: right;\">\n",
       "      <th></th>\n",
       "      <th>public</th>\n",
       "      <th>planpri</th>\n",
       "      <th>noelec</th>\n",
       "      <th>coopele</th>\n",
       "    </tr>\n",
       "  </thead>\n",
       "  <tbody>\n",
       "    <tr>\n",
       "      <th>public</th>\n",
       "      <td>1.000000</td>\n",
       "      <td>-0.072443</td>\n",
       "      <td>-0.153856</td>\n",
       "      <td>-0.974788</td>\n",
       "    </tr>\n",
       "    <tr>\n",
       "      <th>planpri</th>\n",
       "      <td>-0.072443</td>\n",
       "      <td>1.000000</td>\n",
       "      <td>-0.001430</td>\n",
       "      <td>-0.009058</td>\n",
       "    </tr>\n",
       "    <tr>\n",
       "      <th>noelec</th>\n",
       "      <td>-0.153856</td>\n",
       "      <td>-0.001430</td>\n",
       "      <td>1.000000</td>\n",
       "      <td>-0.019238</td>\n",
       "    </tr>\n",
       "    <tr>\n",
       "      <th>coopele</th>\n",
       "      <td>-0.974788</td>\n",
       "      <td>-0.009058</td>\n",
       "      <td>-0.019238</td>\n",
       "      <td>1.000000</td>\n",
       "    </tr>\n",
       "  </tbody>\n",
       "</table>\n",
       "</div>"
      ],
      "text/plain": [
       "           public   planpri    noelec   coopele\n",
       "public   1.000000 -0.072443 -0.153856 -0.974788\n",
       "planpri -0.072443  1.000000 -0.001430 -0.009058\n",
       "noelec  -0.153856 -0.001430  1.000000 -0.019238\n",
       "coopele -0.974788 -0.009058 -0.019238  1.000000"
      ]
     },
     "execution_count": 86,
     "metadata": {},
     "output_type": "execute_result"
    }
   ],
   "source": [
    "heads[['public', 'planpri', 'noelec', 'coopele']].corr()"
   ]
  },
  {
   "cell_type": "code",
   "execution_count": 87,
   "metadata": {},
   "outputs": [],
   "source": [
    "ele_col = ['public', 'planpri', 'noelec', 'coopele']"
   ]
  },
  {
   "cell_type": "code",
   "execution_count": 88,
   "metadata": {},
   "outputs": [
    {
     "data": {
      "text/plain": [
       "<matplotlib.axes._subplots.AxesSubplot at 0x1f57ae30f60>"
      ]
     },
     "execution_count": 88,
     "metadata": {},
     "output_type": "execute_result"
    },
    {
     "data": {
      "image/png": "[encoded data removed]",
      "text/plain": [
       "<Figure size 432x288 with 1 Axes>"
      ]
     },
     "metadata": {
      "needs_background": "light"
     },
     "output_type": "display_data"
    }
   ],
   "source": [
    "sns.countplot('planpri', data = heads)"
   ]
  },
  {
   "cell_type": "code",
   "execution_count": 89,
   "metadata": {},
   "outputs": [
    {
     "data": {
      "text/plain": [
       "<matplotlib.axes._subplots.AxesSubplot at 0x1f579e70668>"
      ]
     },
     "execution_count": 89,
     "metadata": {},
     "output_type": "execute_result"
    },
    {
     "data": {
      "image/png": "[encoded data removed]",
      "text/plain": [
       "<Figure size 720x720 with 2 Axes>"
      ]
     },
     "metadata": {
      "needs_background": "light"
     },
     "output_type": "display_data"
    }
   ],
   "source": [
    "plt.figure(figsize= (10,10))\n",
    "sns.heatmap(heads[['public', 'planpri', 'noelec', 'coopele']])"
   ]
  },
  {
   "cell_type": "markdown",
   "metadata": {},
   "source": [
    "We see that all four are related to eachother"
   ]
  },
  {
   "cell_type": "markdown",
   "metadata": {},
   "source": [
    "Create a ordinal variable out of these four variables\n",
    "\n",
    "    0: No electricity\n",
    "    1: Electricity from cooperative\n",
    "    2: Electricity from CNFL\n",
    "    3: Electricity from private plant\n",
    "        \n",
    "\n",
    "        "
   ]
  },
  {
   "cell_type": "code",
   "execution_count": 90,
   "metadata": {},
   "outputs": [
    {
     "name": "stdout",
     "output_type": "stream",
     "text": [
      "the value count of public is 1    2635\n",
      "0     338\n",
      "Name: public, dtype: int64\n",
      "the value count of planpri is 0    2971\n",
      "1       2\n",
      "Name: planpri, dtype: int64\n",
      "the value count of noelec is 0    2964\n",
      "1       9\n",
      "Name: noelec, dtype: int64\n",
      "the value count of coopele is 0    2650\n",
      "1     323\n",
      "Name: coopele, dtype: int64\n"
     ]
    }
   ],
   "source": [
    "for col in ele_col:\n",
    "    print(f'the value count of {col} is {heads[col].value_counts()}')\n",
    "    "
   ]
  },
  {
   "cell_type": "markdown",
   "metadata": {},
   "source": [
    "Calculate all the 1's"
   ]
  },
  {
   "cell_type": "code",
   "execution_count": 91,
   "metadata": {},
   "outputs": [
    {
     "data": {
      "text/plain": [
       "2969"
      ]
     },
     "execution_count": 91,
     "metadata": {},
     "output_type": "execute_result"
    }
   ],
   "source": [
    "(2635 + 2 + 9 + 323)"
   ]
  },
  {
   "cell_type": "code",
   "execution_count": 92,
   "metadata": {},
   "outputs": [
    {
     "data": {
      "text/plain": [
       "(2973, 99)"
      ]
     },
     "execution_count": 92,
     "metadata": {},
     "output_type": "execute_result"
    }
   ],
   "source": [
    "heads.shape"
   ]
  },
  {
   "cell_type": "markdown",
   "metadata": {},
   "source": [
    "##### 4 houses do not have any thing, they donot intake electricity from anywhere"
   ]
  },
  {
   "cell_type": "code",
   "execution_count": 93,
   "metadata": {},
   "outputs": [],
   "source": [
    "elec = []\n",
    "\n",
    "## Assign values\n",
    "for i, row in heads.iterrows():\n",
    "    if row['noelec'] ==1:\n",
    "        elec.append(0)\n",
    "    elif row['coopele'] ==1:\n",
    "        elec.append(1)\n",
    "    elif row['public']==1:\n",
    "        elec.append(2)\n",
    "    elif row['planpri']==1:\n",
    "        elec.append(3)\n",
    "    else:\n",
    "        elec.append(np.nan)"
   ]
  },
  {
   "cell_type": "code",
   "execution_count": 94,
   "metadata": {},
   "outputs": [
    {
     "data": {
      "text/plain": [
       "2973"
      ]
     },
     "execution_count": 94,
     "metadata": {},
     "output_type": "execute_result"
    }
   ],
   "source": [
    "## Create a new variable with missing values\n",
    "len(elec)\n"
   ]
  },
  {
   "cell_type": "code",
   "execution_count": 95,
   "metadata": {},
   "outputs": [],
   "source": [
    "heads['elec'] = elec\n",
    "heads['elec_missing'] = heads['elec'].isnull()"
   ]
  },
  {
   "cell_type": "code",
   "execution_count": 96,
   "metadata": {},
   "outputs": [],
   "source": [
    "## Lets check the relationship between elec and target\n",
    "\n",
    "elec_cat = heads[['elec', 'Target']]"
   ]
  },
  {
   "cell_type": "code",
   "execution_count": 97,
   "metadata": {},
   "outputs": [
    {
     "name": "stderr",
     "output_type": "stream",
     "text": [
      "C:\\ProgramData\\Anaconda\\envs\\nlp\\lib\\site-packages\\ipykernel_launcher.py:1: SettingWithCopyWarning: \n",
      "A value is trying to be set on a copy of a slice from a DataFrame.\n",
      "Try using .loc[row_indexer,col_indexer] = value instead\n",
      "\n",
      "See the caveats in the documentation: http://pandas.pydata.org/pandas-docs/stable/indexing.html#indexing-view-versus-copy\n",
      "  \"\"\"Entry point for launching an IPython kernel.\n",
      "C:\\ProgramData\\Anaconda\\envs\\nlp\\lib\\site-packages\\ipykernel_launcher.py:2: SettingWithCopyWarning: \n",
      "A value is trying to be set on a copy of a slice from a DataFrame.\n",
      "Try using .loc[row_indexer,col_indexer] = value instead\n",
      "\n",
      "See the caveats in the documentation: http://pandas.pydata.org/pandas-docs/stable/indexing.html#indexing-view-versus-copy\n",
      "  \n"
     ]
    }
   ],
   "source": [
    "elec_cat['elec']= elec_cat['elec'].astype('category')\n",
    "elec_cat['Target']= elec_cat['Target'].astype('category')"
   ]
  },
  {
   "cell_type": "code",
   "execution_count": 98,
   "metadata": {},
   "outputs": [
    {
     "data": {
      "text/plain": [
       "<matplotlib.axes._subplots.AxesSubplot at 0x1f57b0784e0>"
      ]
     },
     "execution_count": 98,
     "metadata": {},
     "output_type": "execute_result"
    },
    {
     "data": {
      "image/png": "[encoded data removed]",
      "text/plain": [
       "<Figure size 432x288 with 1 Axes>"
      ]
     },
     "metadata": {
      "needs_background": "light"
     },
     "output_type": "display_data"
    }
   ],
   "source": [
    "sns.countplot('Target', hue='elec', data = elec_cat)"
   ]
  },
  {
   "cell_type": "markdown",
   "metadata": {},
   "source": [
    "Extreme poot households, consume from CNFL followed by cooperative"
   ]
  },
  {
   "cell_type": "markdown",
   "metadata": {},
   "source": [
    "#### Lets investigate area1 and area 2 w.r.t target variable"
   ]
  },
  {
   "cell_type": "code",
   "execution_count": 99,
   "metadata": {},
   "outputs": [
    {
     "data": {
      "text/plain": [
       "<matplotlib.axes._subplots.AxesSubplot at 0x1f57b174908>"
      ]
     },
     "execution_count": 99,
     "metadata": {},
     "output_type": "execute_result"
    },
    {
     "data": {
      "image/png": "[encoded data removed]",
      "text/plain": [
       "<Figure size 432x288 with 2 Axes>"
      ]
     },
     "metadata": {
      "needs_background": "light"
     },
     "output_type": "display_data"
    }
   ],
   "source": [
    "sns.heatmap(heads[['area1', 'area2']])"
   ]
  },
  {
   "cell_type": "code",
   "execution_count": 100,
   "metadata": {},
   "outputs": [],
   "source": [
    "## Both area1 and area2 are related to eachother, so we can drop either of the area"
   ]
  },
  {
   "cell_type": "code",
   "execution_count": 101,
   "metadata": {},
   "outputs": [],
   "source": [
    "heads = heads.drop(columns='area2')"
   ]
  },
  {
   "cell_type": "code",
   "execution_count": 102,
   "metadata": {},
   "outputs": [
    {
     "data": {
      "text/plain": [
       "area1  Target\n",
       "0      4         0.582249\n",
       "       2         0.176331\n",
       "       3         0.147929\n",
       "       1         0.093491\n",
       "1      4         0.687030\n",
       "       2         0.137688\n",
       "       3         0.108083\n",
       "       1         0.067199\n",
       "Name: Target, dtype: float64"
      ]
     },
     "execution_count": 102,
     "metadata": {},
     "output_type": "execute_result"
    }
   ],
   "source": [
    "heads.groupby('area1')['Target'].value_counts(normalize=True)"
   ]
  },
  {
   "cell_type": "markdown",
   "metadata": {},
   "source": [
    "It's clear that hosuseholds living in urban area (area1) are more likely to have low poverty level, very few household are \n",
    "below poverty level in urban area (area0)"
   ]
  },
  {
   "cell_type": "markdown",
   "metadata": {},
   "source": [
    "## Creating ordinal variable"
   ]
  },
  {
   "cell_type": "markdown",
   "metadata": {},
   "source": [
    "    epared1, =1 if walls are bad\n",
    "    epared2, =1 if walls are regular\n",
    "    epared3, =1 if walls are good\n",
    "    etecho1, =1 if roof are bad\n",
    "    etecho2, =1 if roof are regular\n",
    "    etecho3, =1 if roof are good\n",
    "    eviv1, =1 if floor are bad\n",
    "    eviv2, =1 if floor are regular\n",
    "    eviv3, =1 if floor are good"
   ]
  },
  {
   "cell_type": "markdown",
   "metadata": {},
   "source": [
    "These variables we will be merging in one column if possible, we will start with wall, where bad<regular<good"
   ]
  },
  {
   "cell_type": "code",
   "execution_count": 103,
   "metadata": {},
   "outputs": [],
   "source": [
    "# Wall ordinal variable\n",
    "heads['walls'] = np.argmax(np.array(heads[['epared1', 'epared2', 'epared3']]), axis=1)"
   ]
  },
  {
   "cell_type": "code",
   "execution_count": 104,
   "metadata": {},
   "outputs": [
    {
     "data": {
      "text/plain": [
       "2    1748\n",
       "1     921\n",
       "0     304\n",
       "Name: walls, dtype: int64"
      ]
     },
     "execution_count": 104,
     "metadata": {},
     "output_type": "execute_result"
    }
   ],
   "source": [
    "heads['walls'].value_counts()"
   ]
  },
  {
   "cell_type": "code",
   "execution_count": 105,
   "metadata": {},
   "outputs": [],
   "source": [
    "heads = heads.drop(columns =['epared1', 'epared2', 'epared3'] )"
   ]
  },
  {
   "cell_type": "code",
   "execution_count": 106,
   "metadata": {},
   "outputs": [],
   "source": [
    "walls_cat = heads[['walls', 'Target']]\n"
   ]
  },
  {
   "cell_type": "code",
   "execution_count": 107,
   "metadata": {},
   "outputs": [
    {
     "name": "stderr",
     "output_type": "stream",
     "text": [
      "C:\\ProgramData\\Anaconda\\envs\\nlp\\lib\\site-packages\\ipykernel_launcher.py:1: SettingWithCopyWarning: \n",
      "A value is trying to be set on a copy of a slice from a DataFrame.\n",
      "Try using .loc[row_indexer,col_indexer] = value instead\n",
      "\n",
      "See the caveats in the documentation: http://pandas.pydata.org/pandas-docs/stable/indexing.html#indexing-view-versus-copy\n",
      "  \"\"\"Entry point for launching an IPython kernel.\n",
      "C:\\ProgramData\\Anaconda\\envs\\nlp\\lib\\site-packages\\ipykernel_launcher.py:2: SettingWithCopyWarning: \n",
      "A value is trying to be set on a copy of a slice from a DataFrame.\n",
      "Try using .loc[row_indexer,col_indexer] = value instead\n",
      "\n",
      "See the caveats in the documentation: http://pandas.pydata.org/pandas-docs/stable/indexing.html#indexing-view-versus-copy\n",
      "  \n"
     ]
    }
   ],
   "source": [
    "walls_cat['walls'] = walls_cat['walls'].astype('category')\n",
    "walls_cat['Target'] = walls_cat['Target'].astype('category')"
   ]
  },
  {
   "cell_type": "code",
   "execution_count": 108,
   "metadata": {},
   "outputs": [
    {
     "data": {
      "text/plain": [
       "<matplotlib.axes._subplots.AxesSubplot at 0x1f57c9bc6a0>"
      ]
     },
     "execution_count": 108,
     "metadata": {},
     "output_type": "execute_result"
    },
    {
     "data": {
      "image/png": "[encoded data removed]",
      "text/plain": [
       "<Figure size 432x288 with 1 Axes>"
      ]
     },
     "metadata": {
      "needs_background": "light"
     },
     "output_type": "display_data"
    }
   ],
   "source": [
    "sns.countplot('Target', hue='walls', data = walls_cat)"
   ]
  },
  {
   "cell_type": "markdown",
   "metadata": {},
   "source": [
    "    Bad walls are neither too high nor too low for households below or above poverty,\n",
    "    where as good walls mostly lie in households which are above poverty line\n",
    "    regular walls are mostly lie in both types households above or below poverty line"
   ]
  },
  {
   "cell_type": "markdown",
   "metadata": {},
   "source": [
    "#### Roof"
   ]
  },
  {
   "cell_type": "markdown",
   "metadata": {},
   "source": [
    "    etecho1, =1 if roof are bad\n",
    "    etecho2, =1 if roof are regular\n",
    "    etecho3, =1 if roof are good"
   ]
  },
  {
   "cell_type": "code",
   "execution_count": 109,
   "metadata": {},
   "outputs": [],
   "source": [
    "# Roof ordinal variable\n",
    "heads['roof'] = np.argmax(np.array(heads[['etecho1', 'etecho2', 'etecho3']]), axis=1)"
   ]
  },
  {
   "cell_type": "code",
   "execution_count": 110,
   "metadata": {},
   "outputs": [
    {
     "data": {
      "text/plain": [
       "2    1750\n",
       "1     831\n",
       "0     392\n",
       "Name: roof, dtype: int64"
      ]
     },
     "execution_count": 110,
     "metadata": {},
     "output_type": "execute_result"
    }
   ],
   "source": [
    "heads.roof.value_counts()"
   ]
  },
  {
   "cell_type": "code",
   "execution_count": 111,
   "metadata": {},
   "outputs": [],
   "source": [
    "roof_cat = heads[['roof', 'Target']]\n",
    "\n",
    "heads['roof'] = heads['roof'].astype('category')\n",
    "heads['Target'] = heads['Target'].astype('category')"
   ]
  },
  {
   "cell_type": "code",
   "execution_count": 112,
   "metadata": {},
   "outputs": [
    {
     "data": {
      "text/plain": [
       "<matplotlib.axes._subplots.AxesSubplot at 0x1f57cc4ce48>"
      ]
     },
     "execution_count": 112,
     "metadata": {},
     "output_type": "execute_result"
    },
    {
     "data": {
      "image/png": "[encoded data removed]",
      "text/plain": [
       "<Figure size 432x288 with 1 Axes>"
      ]
     },
     "metadata": {
      "needs_background": "light"
     },
     "output_type": "display_data"
    }
   ],
   "source": [
    "sns.countplot('Target', hue='roof', data = heads)"
   ]
  },
  {
   "cell_type": "markdown",
   "metadata": {},
   "source": [
    "    eviv1, =1 if floor are bad\n",
    "    eviv2, =1 if floor are regular\n",
    "    eviv3, =1 if floor are good"
   ]
  },
  {
   "cell_type": "markdown",
   "metadata": {},
   "source": [
    "### Floor\n"
   ]
  },
  {
   "cell_type": "code",
   "execution_count": 113,
   "metadata": {},
   "outputs": [],
   "source": [
    "heads['floor'] = np.argmax(np.array(heads[['eviv1', 'eviv2', 'eviv3']]), axis=1)"
   ]
  },
  {
   "cell_type": "code",
   "execution_count": 114,
   "metadata": {},
   "outputs": [],
   "source": [
    "heads = heads.drop(columns = ['eviv1', 'eviv2', 'eviv3', 'etecho1', 'etecho2', 'etecho3'])"
   ]
  },
  {
   "cell_type": "markdown",
   "metadata": {},
   "source": [
    "#### Dropped unwanted columns"
   ]
  },
  {
   "cell_type": "markdown",
   "metadata": {},
   "source": [
    "## Feature Constructions"
   ]
  },
  {
   "cell_type": "markdown",
   "metadata": {},
   "source": [
    "Apart from creating ordinal variable from binary variable (with help of mapping), we can create totally new features from existing data\n",
    "This is known as \"Feature Construction\".\n",
    "\n",
    "    For instance: \n",
    "        We can create new features by adding all the thtee features we just mapped from binary variables.\n",
    "        We can add these three features and create a variable which tells us oveall quality of house hold structure"
   ]
  },
  {
   "cell_type": "code",
   "execution_count": 115,
   "metadata": {},
   "outputs": [
    {
     "data": {
      "text/plain": [
       "(2973,)"
      ]
     },
     "execution_count": 115,
     "metadata": {},
     "output_type": "execute_result"
    }
   ],
   "source": [
    "## Creating new features\n",
    "\n",
    "(heads['walls'] + heads['floor'] ).shape"
   ]
  },
  {
   "cell_type": "code",
   "execution_count": 116,
   "metadata": {},
   "outputs": [],
   "source": [
    "heads['roof'] = heads['roof'].astype('int64')"
   ]
  },
  {
   "cell_type": "code",
   "execution_count": 117,
   "metadata": {},
   "outputs": [],
   "source": [
    "heads['walls+floor+roof'] = heads['walls'] + heads['roof'] + heads['floor']"
   ]
  },
  {
   "cell_type": "code",
   "execution_count": 118,
   "metadata": {},
   "outputs": [
    {
     "data": {
      "text/plain": [
       "(2973, 95)"
      ]
     },
     "execution_count": 118,
     "metadata": {},
     "output_type": "execute_result"
    }
   ],
   "source": [
    "heads.shape"
   ]
  },
  {
   "cell_type": "code",
   "execution_count": 119,
   "metadata": {},
   "outputs": [
    {
     "data": {
      "text/plain": [
       "<matplotlib.axes._subplots.AxesSubplot at 0x1f57ca51908>"
      ]
     },
     "execution_count": 119,
     "metadata": {},
     "output_type": "execute_result"
    },
    {
     "data": {
      "image/png": "[encoded data removed]",
      "text/plain": [
       "<Figure size 432x288 with 1 Axes>"
      ]
     },
     "metadata": {
      "needs_background": "light"
     },
     "output_type": "display_data"
    }
   ],
   "source": [
    "sns.countplot('Target', hue='walls+floor+roof', data=heads)"
   ]
  },
  {
   "cell_type": "markdown",
   "metadata": {},
   "source": [
    "The households that belongs to lowest poverty level, tends to have a better household structure\n",
    "This new feature may be more helpfull when compared to rest other variables."
   ]
  },
  {
   "cell_type": "markdown",
   "metadata": {},
   "source": [
    "    pisonotiene, =1 if no floor at the household\n",
    "    abastaguano, =1 if no water provision\n",
    "    noelec, =1 no electricity in the dwelling\n",
    "    sanitario1, =1 no toilet in the dwelling\n",
    "    energcocinar1, =1 no main source of energy used for cooking (no kitchen)"
   ]
  },
  {
   "cell_type": "code",
   "execution_count": 120,
   "metadata": {},
   "outputs": [
    {
     "data": {
      "text/html": [
       "<div>\n",
       "<style scoped>\n",
       "    .dataframe tbody tr th:only-of-type {\n",
       "        vertical-align: middle;\n",
       "    }\n",
       "\n",
       "    .dataframe tbody tr th {\n",
       "        vertical-align: top;\n",
       "    }\n",
       "\n",
       "    .dataframe thead th {\n",
       "        text-align: right;\n",
       "    }\n",
       "</style>\n",
       "<table border=\"1\" class=\"dataframe\">\n",
       "  <thead>\n",
       "    <tr style=\"text-align: right;\">\n",
       "      <th></th>\n",
       "      <th>pisonotiene</th>\n",
       "      <th>abastaguano</th>\n",
       "      <th>noelec</th>\n",
       "      <th>sanitario1</th>\n",
       "      <th>energcocinar1</th>\n",
       "    </tr>\n",
       "  </thead>\n",
       "  <tbody>\n",
       "    <tr>\n",
       "      <th>9530</th>\n",
       "      <td>0</td>\n",
       "      <td>0</td>\n",
       "      <td>0</td>\n",
       "      <td>0</td>\n",
       "      <td>0</td>\n",
       "    </tr>\n",
       "    <tr>\n",
       "      <th>9531</th>\n",
       "      <td>0</td>\n",
       "      <td>0</td>\n",
       "      <td>0</td>\n",
       "      <td>0</td>\n",
       "      <td>0</td>\n",
       "    </tr>\n",
       "    <tr>\n",
       "      <th>9534</th>\n",
       "      <td>0</td>\n",
       "      <td>0</td>\n",
       "      <td>0</td>\n",
       "      <td>0</td>\n",
       "      <td>0</td>\n",
       "    </tr>\n",
       "    <tr>\n",
       "      <th>9535</th>\n",
       "      <td>0</td>\n",
       "      <td>0</td>\n",
       "      <td>0</td>\n",
       "      <td>0</td>\n",
       "      <td>0</td>\n",
       "    </tr>\n",
       "    <tr>\n",
       "      <th>9541</th>\n",
       "      <td>0</td>\n",
       "      <td>1</td>\n",
       "      <td>0</td>\n",
       "      <td>0</td>\n",
       "      <td>0</td>\n",
       "    </tr>\n",
       "    <tr>\n",
       "      <th>9545</th>\n",
       "      <td>0</td>\n",
       "      <td>0</td>\n",
       "      <td>0</td>\n",
       "      <td>0</td>\n",
       "      <td>0</td>\n",
       "    </tr>\n",
       "    <tr>\n",
       "      <th>9551</th>\n",
       "      <td>0</td>\n",
       "      <td>0</td>\n",
       "      <td>0</td>\n",
       "      <td>0</td>\n",
       "      <td>0</td>\n",
       "    </tr>\n",
       "    <tr>\n",
       "      <th>9552</th>\n",
       "      <td>0</td>\n",
       "      <td>0</td>\n",
       "      <td>0</td>\n",
       "      <td>0</td>\n",
       "      <td>0</td>\n",
       "    </tr>\n",
       "  </tbody>\n",
       "</table>\n",
       "</div>"
      ],
      "text/plain": [
       "      pisonotiene  abastaguano  noelec  sanitario1  energcocinar1\n",
       "9530            0            0       0           0              0\n",
       "9531            0            0       0           0              0\n",
       "9534            0            0       0           0              0\n",
       "9535            0            0       0           0              0\n",
       "9541            0            1       0           0              0\n",
       "9545            0            0       0           0              0\n",
       "9551            0            0       0           0              0\n",
       "9552            0            0       0           0              0"
      ]
     },
     "execution_count": 120,
     "metadata": {},
     "output_type": "execute_result"
    }
   ],
   "source": [
    "## We will look into variables thet do not have few facilities, \n",
    "## Lets print them to have a closer look\n",
    "\n",
    "heads[['pisonotiene', 'abastaguano', 'noelec', 'sanitario1', 'energcocinar1']].tail(8)"
   ]
  },
  {
   "cell_type": "markdown",
   "metadata": {},
   "source": [
    "We see most of them are zeros, its like a sparse matrix "
   ]
  },
  {
   "cell_type": "code",
   "execution_count": 121,
   "metadata": {},
   "outputs": [],
   "source": [
    "## We add all these columns to get the lowest poverty level\n",
    "\n",
    "heads['warnings'] = heads['pisonotiene'] + heads['abastaguano'] + heads['noelec'] + heads['sanitario1'] + heads['energcocinar1']"
   ]
  },
  {
   "cell_type": "code",
   "execution_count": 122,
   "metadata": {},
   "outputs": [
    {
     "data": {
      "text/plain": [
       "0    2901\n",
       "1      59\n",
       "2      11\n",
       "3       1\n",
       "4       1\n",
       "Name: warnings, dtype: int64"
      ]
     },
     "execution_count": 122,
     "metadata": {},
     "output_type": "execute_result"
    }
   ],
   "source": [
    "heads['warnings'].value_counts()"
   ]
  },
  {
   "cell_type": "code",
   "execution_count": 123,
   "metadata": {},
   "outputs": [
    {
     "data": {
      "image/png": "[encoded data removed]",
      "text/plain": [
       "<Figure size 720x432 with 1 Axes>"
      ]
     },
     "metadata": {
      "needs_background": "light"
     },
     "output_type": "display_data"
    }
   ],
   "source": [
    "plt.figure(figsize = (10, 6))\n",
    "sns.violinplot(y = 'Target', x = 'warnings',  data = heads, orient='v');\n",
    "plt.title('Target vs Warning Variable');"
   ]
  },
  {
   "cell_type": "code",
   "execution_count": 124,
   "metadata": {},
   "outputs": [
    {
     "data": {
      "text/plain": [
       "0    2901\n",
       "1      59\n",
       "2      11\n",
       "3       1\n",
       "4       1\n",
       "Name: warnings, dtype: int64"
      ]
     },
     "execution_count": 124,
     "metadata": {},
     "output_type": "execute_result"
    }
   ],
   "source": [
    "heads['warnings'].value_counts()"
   ]
  },
  {
   "cell_type": "markdown",
   "metadata": {},
   "source": [
    "## Lets include more negative variables to warnings like, this can be a part of model improvement"
   ]
  },
  {
   "cell_type": "markdown",
   "metadata": {},
   "source": [
    "    computer, =1 if the household has notebook or desktop computer\n",
    "    television, =1 if the household has TV\n",
    "    refrig, =1 if the household has refrigerator\n",
    "    v18q, owns a tablet"
   ]
  },
  {
   "cell_type": "code",
   "execution_count": 125,
   "metadata": {},
   "outputs": [],
   "source": [
    "# Owns a refrigerator, computer, tablet, and television\n",
    "heads['bonus'] =  (heads['refrig'] + (heads['v18q1'] >0)+ heads['television'] + heads['computer'])"
   ]
  },
  {
   "cell_type": "code",
   "execution_count": 126,
   "metadata": {},
   "outputs": [
    {
     "data": {
      "text/plain": [
       "<matplotlib.axes._subplots.AxesSubplot at 0x1f57caf5198>"
      ]
     },
     "execution_count": 126,
     "metadata": {},
     "output_type": "execute_result"
    },
    {
     "data": {
      "image/png": "[encoded data removed]",
      "text/plain": [
       "<Figure size 432x288 with 1 Axes>"
      ]
     },
     "metadata": {
      "needs_background": "light"
     },
     "output_type": "display_data"
    }
   ],
   "source": [
    "sns.violinplot('bonus', 'Target', data = heads, orient='v')"
   ]
  },
  {
   "cell_type": "markdown",
   "metadata": {},
   "source": [
    "## Per capita features:\n",
    "we will do it later on"
   ]
  },
  {
   "cell_type": "markdown",
   "metadata": {},
   "source": []
  },
  {
   "cell_type": "code",
   "execution_count": null,
   "metadata": {},
   "outputs": [],
   "source": []
  },
  {
   "cell_type": "code",
   "execution_count": 132,
   "metadata": {},
   "outputs": [],
   "source": [
    "pickle_out = open('heads.pickle', 'wb')\n",
    "pickle.dump(heads, pickle_out)"
   ]
  },
  {
   "cell_type": "code",
   "execution_count": 131,
   "metadata": {},
   "outputs": [],
   "source": [
    "import pickle"
   ]
  },
  {
   "cell_type": "code",
   "execution_count": null,
   "metadata": {},
   "outputs": [],
   "source": []
  },
  {
   "cell_type": "code",
   "execution_count": null,
   "metadata": {},
   "outputs": [],
   "source": []
  }
 ],
 "metadata": {
  "kernelspec": {
   "display_name": "Python 3",
   "language": "python",
   "name": "python3"
  },
  "language_info": {
   "codemirror_mode": {
    "name": "ipython",
    "version": 3
   },
   "file_extension": ".py",
   "mimetype": "text/x-python",
   "name": "python",
   "nbconvert_exporter": "python",
   "pygments_lexer": "ipython3",
   "version": "3.7.1"
  }
 },
 "nbformat": 4,
 "nbformat_minor": 2
}
