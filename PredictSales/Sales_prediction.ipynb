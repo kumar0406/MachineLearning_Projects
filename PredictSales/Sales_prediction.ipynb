{
 "cells": [
  {
   "cell_type": "code",
   "execution_count": 171,
   "metadata": {},
   "outputs": [],
   "source": [
    "# For handeling DataFrame\n",
    "import pandas as pd\n",
    "import numpy as np\n",
    "\n",
    "#For plotting\n",
    "import matplotlib.pyplot as plt\n",
    "import seaborn as sns\n",
    "%matplotlib inline\n",
    "\n",
    "\n",
    "# For dividing Train and test set\n",
    "from sklearn.model_selection import train_test_split\n",
    "from sklearn.model_selection import cross_val_score\n",
    "\n",
    "#For Feature Scalling\n",
    "from sklearn.preprocessing import MinMaxScaler\n",
    "\n",
    "# For Tree(CART)\n",
    "from sklearn.tree import DecisionTreeRegressor\n",
    "\n",
    "# For building models\n",
    "from sklearn.linear_model import Lasso, LinearRegression\n",
    "from sklearn.ensemble import RandomForestRegressor\n",
    "from sklearn.svm import SVR\n",
    "import xgboost as xgb\n",
    "\n",
    "import sklearn\n",
    "import matplotlib"
   ]
  },
  {
   "cell_type": "code",
   "execution_count": 172,
   "metadata": {},
   "outputs": [],
   "source": [
    "## For evaluating the matrix\n",
    "from sklearn.metrics import mean_squared_error\n",
    "from math import sqrt\n",
    "from sklearn.metrics import r2_score\n",
    "\n",
    "# Data display no. of columns\n",
    "pd.set_option('display.max_columns', 150)\n",
    "\n",
    "## Ignore the warnings\n",
    "import warnings\n",
    "warnings.filterwarnings('ignore')\n"
   ]
  },
  {
   "cell_type": "code",
   "execution_count": null,
   "metadata": {},
   "outputs": [],
   "source": []
  },
  {
   "cell_type": "code",
   "execution_count": 275,
   "metadata": {},
   "outputs": [
    {
     "name": "stdout",
     "output_type": "stream",
     "text": [
      "pandas version:  0.23.4\n",
      "numpy version:   1.16.1\n",
      "matplotlib version: 3.0.2\n",
      "seaborn version: 0.9.0\n",
      "sklearn version: 0.20.1\n"
     ]
    }
   ],
   "source": [
    "print(f'pandas version:  {pd.__version__}')\n",
    "print(f'numpy version:   {np.__version__}')\n",
    "print(f'matplotlib version: {matplotlib.__version__}')\n",
    "print(f'seaborn version: {sns.__version__}')\n",
    "print(f'sklearn version: {sklearn.__version__}')"
   ]
  },
  {
   "cell_type": "code",
   "execution_count": null,
   "metadata": {},
   "outputs": [],
   "source": []
  },
  {
   "cell_type": "code",
   "execution_count": 174,
   "metadata": {},
   "outputs": [],
   "source": [
    "## Load the dataset\n",
    "\n",
    "df = pd.read_csv('../PasarPolis/predict_sales.csv')"
   ]
  },
  {
   "cell_type": "code",
   "execution_count": 175,
   "metadata": {},
   "outputs": [
    {
     "data": {
      "text/html": [
       "<div>\n",
       "<style scoped>\n",
       "    .dataframe tbody tr th:only-of-type {\n",
       "        vertical-align: middle;\n",
       "    }\n",
       "\n",
       "    .dataframe tbody tr th {\n",
       "        vertical-align: top;\n",
       "    }\n",
       "\n",
       "    .dataframe thead th {\n",
       "        text-align: right;\n",
       "    }\n",
       "</style>\n",
       "<table border=\"1\" class=\"dataframe\">\n",
       "  <thead>\n",
       "    <tr style=\"text-align: right;\">\n",
       "      <th></th>\n",
       "      <th>Item_Identifier</th>\n",
       "      <th>Item_Weight</th>\n",
       "      <th>Item_Fat_Content</th>\n",
       "      <th>Item_Visibility</th>\n",
       "      <th>Item_Type</th>\n",
       "      <th>Item_MRP</th>\n",
       "      <th>Outlet_Identifier</th>\n",
       "      <th>Outlet_Establishment_Year</th>\n",
       "      <th>Outlet_Size</th>\n",
       "      <th>Outlet_Location_Type</th>\n",
       "      <th>Outlet_Type</th>\n",
       "      <th>Item_Outlet_Sales</th>\n",
       "    </tr>\n",
       "  </thead>\n",
       "  <tbody>\n",
       "    <tr>\n",
       "      <th>0</th>\n",
       "      <td>FDA15</td>\n",
       "      <td>9.30</td>\n",
       "      <td>Low Fat</td>\n",
       "      <td>0.016047</td>\n",
       "      <td>Dairy</td>\n",
       "      <td>249.8092</td>\n",
       "      <td>OUT049</td>\n",
       "      <td>1999</td>\n",
       "      <td>Medium</td>\n",
       "      <td>Tier 1</td>\n",
       "      <td>Supermarket Type1</td>\n",
       "      <td>3735.1380</td>\n",
       "    </tr>\n",
       "    <tr>\n",
       "      <th>1</th>\n",
       "      <td>DRC01</td>\n",
       "      <td>5.92</td>\n",
       "      <td>Regular</td>\n",
       "      <td>0.019278</td>\n",
       "      <td>Soft Drinks</td>\n",
       "      <td>48.2692</td>\n",
       "      <td>OUT018</td>\n",
       "      <td>2009</td>\n",
       "      <td>Medium</td>\n",
       "      <td>Tier 3</td>\n",
       "      <td>Supermarket Type2</td>\n",
       "      <td>443.4228</td>\n",
       "    </tr>\n",
       "    <tr>\n",
       "      <th>2</th>\n",
       "      <td>FDN15</td>\n",
       "      <td>17.50</td>\n",
       "      <td>Low Fat</td>\n",
       "      <td>0.016760</td>\n",
       "      <td>Meat</td>\n",
       "      <td>141.6180</td>\n",
       "      <td>OUT049</td>\n",
       "      <td>1999</td>\n",
       "      <td>Medium</td>\n",
       "      <td>Tier 1</td>\n",
       "      <td>Supermarket Type1</td>\n",
       "      <td>2097.2700</td>\n",
       "    </tr>\n",
       "    <tr>\n",
       "      <th>3</th>\n",
       "      <td>FDX07</td>\n",
       "      <td>19.20</td>\n",
       "      <td>Regular</td>\n",
       "      <td>0.000000</td>\n",
       "      <td>Fruits and Vegetables</td>\n",
       "      <td>182.0950</td>\n",
       "      <td>OUT010</td>\n",
       "      <td>1998</td>\n",
       "      <td>NaN</td>\n",
       "      <td>Tier 3</td>\n",
       "      <td>Grocery Store</td>\n",
       "      <td>732.3800</td>\n",
       "    </tr>\n",
       "    <tr>\n",
       "      <th>4</th>\n",
       "      <td>NCD19</td>\n",
       "      <td>8.93</td>\n",
       "      <td>Low Fat</td>\n",
       "      <td>0.000000</td>\n",
       "      <td>Household</td>\n",
       "      <td>53.8614</td>\n",
       "      <td>OUT013</td>\n",
       "      <td>1987</td>\n",
       "      <td>High</td>\n",
       "      <td>Tier 3</td>\n",
       "      <td>Supermarket Type1</td>\n",
       "      <td>994.7052</td>\n",
       "    </tr>\n",
       "  </tbody>\n",
       "</table>\n",
       "</div>"
      ],
      "text/plain": [
       "  Item_Identifier  Item_Weight Item_Fat_Content  Item_Visibility  \\\n",
       "0           FDA15         9.30          Low Fat         0.016047   \n",
       "1           DRC01         5.92          Regular         0.019278   \n",
       "2           FDN15        17.50          Low Fat         0.016760   \n",
       "3           FDX07        19.20          Regular         0.000000   \n",
       "4           NCD19         8.93          Low Fat         0.000000   \n",
       "\n",
       "               Item_Type  Item_MRP Outlet_Identifier  \\\n",
       "0                  Dairy  249.8092            OUT049   \n",
       "1            Soft Drinks   48.2692            OUT018   \n",
       "2                   Meat  141.6180            OUT049   \n",
       "3  Fruits and Vegetables  182.0950            OUT010   \n",
       "4              Household   53.8614            OUT013   \n",
       "\n",
       "   Outlet_Establishment_Year Outlet_Size Outlet_Location_Type  \\\n",
       "0                       1999      Medium               Tier 1   \n",
       "1                       2009      Medium               Tier 3   \n",
       "2                       1999      Medium               Tier 1   \n",
       "3                       1998         NaN               Tier 3   \n",
       "4                       1987        High               Tier 3   \n",
       "\n",
       "         Outlet_Type  Item_Outlet_Sales  \n",
       "0  Supermarket Type1          3735.1380  \n",
       "1  Supermarket Type2           443.4228  \n",
       "2  Supermarket Type1          2097.2700  \n",
       "3      Grocery Store           732.3800  \n",
       "4  Supermarket Type1           994.7052  "
      ]
     },
     "execution_count": 175,
     "metadata": {},
     "output_type": "execute_result"
    }
   ],
   "source": [
    "df.head()"
   ]
  },
  {
   "cell_type": "code",
   "execution_count": 176,
   "metadata": {},
   "outputs": [
    {
     "name": "stdout",
     "output_type": "stream",
     "text": [
      "The number of unique values in Item_Identifier column is 1559 and total length of dataframe is 8523 \n"
     ]
    }
   ],
   "source": [
    "# Lets check the identifier column\n",
    "print(f'The number of unique values in Item_Identifier column is {df[\"Item_Identifier\"].nunique()} and total length of dataframe is {df.shape[0]} ')"
   ]
  },
  {
   "cell_type": "markdown",
   "metadata": {},
   "source": [
    "## Temporal Data"
   ]
  },
  {
   "cell_type": "code",
   "execution_count": 177,
   "metadata": {},
   "outputs": [
    {
     "data": {
      "text/plain": [
       "['Outlet_Establishment_Year']"
      ]
     },
     "execution_count": 177,
     "metadata": {},
     "output_type": "execute_result"
    }
   ],
   "source": [
    "# Find the temporal data\n",
    "temporal_var = [i for i in df.columns if 'Year' in i]\n",
    "temporal_var"
   ]
  },
  {
   "cell_type": "code",
   "execution_count": 178,
   "metadata": {},
   "outputs": [
    {
     "data": {
      "text/plain": [
       "Text(0.5, 0, 'Years')"
      ]
     },
     "execution_count": 178,
     "metadata": {},
     "output_type": "execute_result"
    },
    {
     "data": {
      "image/png": "[encoded data removed]",
      "text/plain": [
       "<Figure size 576x288 with 1 Axes>"
      ]
     },
     "metadata": {
      "needs_background": "light"
     },
     "output_type": "display_data"
    }
   ],
   "source": [
    "plt.figure(figsize= (8,4))\n",
    "df.groupby('Outlet_Establishment_Year')['Item_Outlet_Sales'].mean().plot()\n",
    "plt.title('Yearly_outlet_sales_Variation')\n",
    "plt.xlabel('Years')"
   ]
  },
  {
   "cell_type": "code",
   "execution_count": 179,
   "metadata": {},
   "outputs": [
    {
     "data": {
      "text/plain": [
       "Text(0.5, 0, 'Years')"
      ]
     },
     "execution_count": 179,
     "metadata": {},
     "output_type": "execute_result"
    },
    {
     "data": {
      "image/png": "[encoded data removed]",
      "text/plain": [
       "<Figure size 576x288 with 1 Axes>"
      ]
     },
     "metadata": {
      "needs_background": "light"
     },
     "output_type": "display_data"
    }
   ],
   "source": [
    "plt.figure(figsize= (8,4))\n",
    "df.groupby('Outlet_Establishment_Year')['Item_Outlet_Sales'].count().plot()\n",
    "plt.title('Yearly_outlet_sales_Variation')\n",
    "plt.xlabel('Years')"
   ]
  },
  {
   "cell_type": "code",
   "execution_count": 180,
   "metadata": {},
   "outputs": [
    {
     "data": {
      "text/html": [
       "<div>\n",
       "<style scoped>\n",
       "    .dataframe tbody tr th:only-of-type {\n",
       "        vertical-align: middle;\n",
       "    }\n",
       "\n",
       "    .dataframe tbody tr th {\n",
       "        vertical-align: top;\n",
       "    }\n",
       "\n",
       "    .dataframe thead th {\n",
       "        text-align: right;\n",
       "    }\n",
       "</style>\n",
       "<table border=\"1\" class=\"dataframe\">\n",
       "  <thead>\n",
       "    <tr style=\"text-align: right;\">\n",
       "      <th></th>\n",
       "      <th>count</th>\n",
       "      <th>mean</th>\n",
       "    </tr>\n",
       "    <tr>\n",
       "      <th>Outlet_Establishment_Year</th>\n",
       "      <th></th>\n",
       "      <th></th>\n",
       "    </tr>\n",
       "  </thead>\n",
       "  <tbody>\n",
       "    <tr>\n",
       "      <th>1985</th>\n",
       "      <td>1463</td>\n",
       "      <td>2483.677474</td>\n",
       "    </tr>\n",
       "    <tr>\n",
       "      <th>1987</th>\n",
       "      <td>932</td>\n",
       "      <td>2298.995256</td>\n",
       "    </tr>\n",
       "    <tr>\n",
       "      <th>1997</th>\n",
       "      <td>930</td>\n",
       "      <td>2277.844267</td>\n",
       "    </tr>\n",
       "    <tr>\n",
       "      <th>1998</th>\n",
       "      <td>555</td>\n",
       "      <td>339.351662</td>\n",
       "    </tr>\n",
       "    <tr>\n",
       "      <th>1999</th>\n",
       "      <td>930</td>\n",
       "      <td>2348.354635</td>\n",
       "    </tr>\n",
       "    <tr>\n",
       "      <th>2002</th>\n",
       "      <td>929</td>\n",
       "      <td>2192.384798</td>\n",
       "    </tr>\n",
       "    <tr>\n",
       "      <th>2004</th>\n",
       "      <td>930</td>\n",
       "      <td>2438.841866</td>\n",
       "    </tr>\n",
       "    <tr>\n",
       "      <th>2007</th>\n",
       "      <td>926</td>\n",
       "      <td>2340.675263</td>\n",
       "    </tr>\n",
       "    <tr>\n",
       "      <th>2009</th>\n",
       "      <td>928</td>\n",
       "      <td>1995.498739</td>\n",
       "    </tr>\n",
       "  </tbody>\n",
       "</table>\n",
       "</div>"
      ],
      "text/plain": [
       "                           count         mean\n",
       "Outlet_Establishment_Year                    \n",
       "1985                        1463  2483.677474\n",
       "1987                         932  2298.995256\n",
       "1997                         930  2277.844267\n",
       "1998                         555   339.351662\n",
       "1999                         930  2348.354635\n",
       "2002                         929  2192.384798\n",
       "2004                         930  2438.841866\n",
       "2007                         926  2340.675263\n",
       "2009                         928  1995.498739"
      ]
     },
     "execution_count": 180,
     "metadata": {},
     "output_type": "execute_result"
    }
   ],
   "source": [
    "df.groupby('Outlet_Establishment_Year')['Item_Outlet_Sales'].agg(['count', 'mean'])"
   ]
  },
  {
   "cell_type": "markdown",
   "metadata": {},
   "source": [
    "We see that the observation for year 1998 is very less, almost half w.r.t other years and as a result the sales is very less Othet years sales are almost 21 times as that of 1998"
   ]
  },
  {
   "cell_type": "markdown",
   "metadata": {},
   "source": [
    "## Numerical variable"
   ]
  },
  {
   "cell_type": "code",
   "execution_count": 181,
   "metadata": {},
   "outputs": [
    {
     "data": {
      "text/plain": [
       "Index(['Item_Weight', 'Item_Visibility', 'Item_MRP', 'Item_Outlet_Sales'], dtype='object')"
      ]
     },
     "execution_count": 181,
     "metadata": {},
     "output_type": "execute_result"
    }
   ],
   "source": [
    "df_numerical = df.select_dtypes(exclude='O')\n",
    "\n",
    "df_numerical.drop(columns = 'Outlet_Establishment_Year', axis=1, inplace=True) # drop temporal data\n",
    "\n",
    "df_numerical.columns"
   ]
  },
  {
   "cell_type": "markdown",
   "metadata": {},
   "source": [
    "### Discrete Variable"
   ]
  },
  {
   "cell_type": "code",
   "execution_count": 182,
   "metadata": {},
   "outputs": [
    {
     "name": "stdout",
     "output_type": "stream",
     "text": [
      "There are no discrete variables\n"
     ]
    }
   ],
   "source": [
    "### Discrete variable\n",
    "Discrete = []\n",
    "for col in ['Item_Weight', 'Item_Visibility', 'Item_MRP']:\n",
    "    if len(df[col].unique())<30:\n",
    "        print(col)\n",
    "        Discrete.append(col)\n",
    "if len(Discrete) ==0:\n",
    "    print('There are no discrete variables')"
   ]
  },
  {
   "cell_type": "markdown",
   "metadata": {},
   "source": [
    "## Categorical variables"
   ]
  },
  {
   "cell_type": "code",
   "execution_count": 183,
   "metadata": {},
   "outputs": [
    {
     "data": {
      "text/plain": [
       "7"
      ]
     },
     "execution_count": 183,
     "metadata": {},
     "output_type": "execute_result"
    }
   ],
   "source": [
    "len(df.select_dtypes(include='O').columns)"
   ]
  },
  {
   "cell_type": "markdown",
   "metadata": {},
   "source": [
    "    Number of Numerical variables = 3 (Excluding 1 Target variable)\n",
    "    Number of Discrete variables = 0\n",
    "    Number of Temporal variables = 1\n",
    "    Number of categorical variable = 7"
   ]
  },
  {
   "cell_type": "markdown",
   "metadata": {},
   "source": [
    "### Type of problem with variables\n",
    "1. Spelling or abbreviations\n",
    "2. Missing \n",
    "3. Outliers\n",
    "4. Rare categorical values\n",
    "5. High Cardianility"
   ]
  },
  {
   "cell_type": "markdown",
   "metadata": {},
   "source": [
    "### 1. Spelling and abbreviations\n",
    "\n",
    "Spellings are associated with categorical variable only"
   ]
  },
  {
   "cell_type": "code",
   "execution_count": 184,
   "metadata": {},
   "outputs": [],
   "source": [
    "df_categorical = df.select_dtypes(include='O')\n",
    "\n",
    "num_of_labels =[]\n",
    "for var in df_categorical:\n",
    "    #print(len(df[var].unique()))\n",
    "    num_of_labels.append(len(df[var].unique()))"
   ]
  },
  {
   "cell_type": "code",
   "execution_count": 185,
   "metadata": {},
   "outputs": [
    {
     "data": {
      "text/plain": [
       "Text(0, 0.5, 'Count of different category')"
      ]
     },
     "execution_count": 185,
     "metadata": {},
     "output_type": "execute_result"
    },
    {
     "data": {
      "image/png": "[encoded data removed]",
      "text/plain": [
       "<Figure size 432x288 with 1 Axes>"
      ]
     },
     "metadata": {
      "needs_background": "light"
     },
     "output_type": "display_data"
    }
   ],
   "source": [
    "category = pd.Series(num_of_labels)\n",
    "category.index = df_categorical.columns\n",
    "\n",
    "category.plot(kind='bar', color = 'b' )\n",
    "plt.title('Number of labels in each category')\n",
    "plt.xlabel('Categorical variable')\n",
    "plt.ylabel('Count of different category')"
   ]
  },
  {
   "cell_type": "code",
   "execution_count": 186,
   "metadata": {},
   "outputs": [
    {
     "data": {
      "text/plain": [
       "(0, 30)"
      ]
     },
     "execution_count": 186,
     "metadata": {},
     "output_type": "execute_result"
    },
    {
     "data": {
      "image/png": "[encoded data removed]",
      "text/plain": [
       "<Figure size 432x288 with 1 Axes>"
      ]
     },
     "metadata": {
      "needs_background": "light"
     },
     "output_type": "display_data"
    }
   ],
   "source": [
    "## Changing the ylimit for viewing the other variables\n",
    "category.plot(kind='bar' )\n",
    "plt.title('Number of labels in each category')\n",
    "plt.xlabel('Categorical variable')\n",
    "plt.ylabel('Count of different category')\n",
    "plt.ylim(0,30)"
   ]
  },
  {
   "cell_type": "code",
   "execution_count": 187,
   "metadata": {},
   "outputs": [
    {
     "name": "stdout",
     "output_type": "stream",
     "text": [
      "1559  Item_Identifier\n",
      "5     Item_Fat_Content\n",
      "16    Item_Type\n",
      "10    Outlet_Identifier\n",
      "3     Outlet_Size\n",
      "3     Outlet_Location_Type\n",
      "4     Outlet_Type\n"
     ]
    }
   ],
   "source": [
    "for col in df_categorical.columns:\n",
    "    print(f'{df[col].nunique(): <{5}} {col}')"
   ]
  },
  {
   "cell_type": "markdown",
   "metadata": {},
   "source": [
    "Item_Identifier is a variable with High cardianalaty, rest all appears to be good"
   ]
  },
  {
   "cell_type": "code",
   "execution_count": 188,
   "metadata": {},
   "outputs": [
    {
     "data": {
      "text/plain": [
       "Low Fat    5089\n",
       "Regular    2889\n",
       "LF          316\n",
       "reg         117\n",
       "low fat     112\n",
       "Name: Item_Fat_Content, dtype: int64"
      ]
     },
     "execution_count": 188,
     "metadata": {},
     "output_type": "execute_result"
    }
   ],
   "source": [
    "# Item_fat_content\n",
    "df['Item_Fat_Content'].value_counts()"
   ]
  },
  {
   "cell_type": "code",
   "execution_count": 189,
   "metadata": {},
   "outputs": [],
   "source": [
    "df['Item_Fat_Content'] = df['Item_Fat_Content'].replace('low fat', 'Low Fat')\n",
    "df['Item_Fat_Content'] = df['Item_Fat_Content'].replace('LF', 'Low Fat')\n",
    "df['Item_Fat_Content'] = df['Item_Fat_Content'].replace('reg', 'Regular')"
   ]
  },
  {
   "cell_type": "code",
   "execution_count": 190,
   "metadata": {},
   "outputs": [
    {
     "data": {
      "text/plain": [
       "Low Fat    5517\n",
       "Regular    3006\n",
       "Name: Item_Fat_Content, dtype: int64"
      ]
     },
     "execution_count": 190,
     "metadata": {},
     "output_type": "execute_result"
    }
   ],
   "source": [
    "df['Item_Fat_Content'].value_counts()"
   ]
  },
  {
   "cell_type": "code",
   "execution_count": 191,
   "metadata": {},
   "outputs": [
    {
     "data": {
      "text/plain": [
       "<matplotlib.axes._subplots.AxesSubplot at 0x1bea4c6b400>"
      ]
     },
     "execution_count": 191,
     "metadata": {},
     "output_type": "execute_result"
    },
    {
     "data": {
      "image/png": "[encoded data removed]",
      "text/plain": [
       "<Figure size 432x288 with 1 Axes>"
      ]
     },
     "metadata": {
      "needs_background": "light"
     },
     "output_type": "display_data"
    }
   ],
   "source": [
    "# Item_Type\n",
    "df['Item_Type'].value_counts().plot(kind='bar')"
   ]
  },
  {
   "cell_type": "code",
   "execution_count": 192,
   "metadata": {},
   "outputs": [
    {
     "data": {
      "text/plain": [
       "OUT027    935\n",
       "OUT013    932\n",
       "OUT049    930\n",
       "OUT046    930\n",
       "OUT035    930\n",
       "OUT045    929\n",
       "OUT018    928\n",
       "OUT017    926\n",
       "OUT010    555\n",
       "OUT019    528\n",
       "Name: Outlet_Identifier, dtype: int64"
      ]
     },
     "execution_count": 192,
     "metadata": {},
     "output_type": "execute_result"
    }
   ],
   "source": [
    "df['Outlet_Identifier'].value_counts()"
   ]
  },
  {
   "cell_type": "markdown",
   "metadata": {},
   "source": [
    "Here we see OUT0 if removed, this variable cab be treated as a predictor, and can show correlation with other variables"
   ]
  },
  {
   "cell_type": "code",
   "execution_count": 193,
   "metadata": {},
   "outputs": [],
   "source": [
    "df['Outlet_Identifier'] = df['Outlet_Identifier'].str.split('OUT0').str[1]"
   ]
  },
  {
   "cell_type": "code",
   "execution_count": 194,
   "metadata": {},
   "outputs": [
    {
     "data": {
      "text/plain": [
       "27    935\n",
       "13    932\n",
       "35    930\n",
       "49    930\n",
       "46    930\n",
       "45    929\n",
       "18    928\n",
       "17    926\n",
       "10    555\n",
       "19    528\n",
       "Name: Outlet_Identifier, dtype: int64"
      ]
     },
     "execution_count": 194,
     "metadata": {},
     "output_type": "execute_result"
    }
   ],
   "source": [
    "df['Outlet_Identifier'].value_counts()"
   ]
  },
  {
   "cell_type": "code",
   "execution_count": 195,
   "metadata": {},
   "outputs": [
    {
     "data": {
      "text/plain": [
       "Medium    2793\n",
       "NaN       2410\n",
       "Small     2388\n",
       "High       932\n",
       "Name: Outlet_Size, dtype: int64"
      ]
     },
     "execution_count": 195,
     "metadata": {},
     "output_type": "execute_result"
    }
   ],
   "source": [
    "df['Outlet_Size'].value_counts(dropna=False)"
   ]
  },
  {
   "cell_type": "markdown",
   "metadata": {},
   "source": [
    "There is a good amount of missing values, but there are no spelling errors"
   ]
  },
  {
   "cell_type": "code",
   "execution_count": 196,
   "metadata": {},
   "outputs": [
    {
     "data": {
      "text/plain": [
       "Tier 3    3350\n",
       "Tier 2    2785\n",
       "Tier 1    2388\n",
       "Name: Outlet_Location_Type, dtype: int64"
      ]
     },
     "execution_count": 196,
     "metadata": {},
     "output_type": "execute_result"
    }
   ],
   "source": [
    "df['Outlet_Location_Type'].value_counts()"
   ]
  },
  {
   "cell_type": "code",
   "execution_count": 197,
   "metadata": {},
   "outputs": [
    {
     "data": {
      "text/plain": [
       "Supermarket Type1    5577\n",
       "Grocery Store        1083\n",
       "Supermarket Type3     935\n",
       "Supermarket Type2     928\n",
       "Name: Outlet_Type, dtype: int64"
      ]
     },
     "execution_count": 197,
     "metadata": {},
     "output_type": "execute_result"
    }
   ],
   "source": [
    "df['Outlet_Type'].value_counts()"
   ]
  },
  {
   "cell_type": "markdown",
   "metadata": {},
   "source": [
    "## 2. Missing Data"
   ]
  },
  {
   "cell_type": "code",
   "execution_count": 198,
   "metadata": {},
   "outputs": [
    {
     "data": {
      "text/plain": [
       "['Item_Weight', 'Outlet_Size']"
      ]
     },
     "execution_count": 198,
     "metadata": {},
     "output_type": "execute_result"
    }
   ],
   "source": [
    "## Check for missing variables\n",
    "\n",
    "missing_col = [i for i in df.columns if df[i].isnull().sum()>1]\n",
    "missing_col"
   ]
  },
  {
   "cell_type": "code",
   "execution_count": 199,
   "metadata": {},
   "outputs": [
    {
     "data": {
      "text/plain": [
       "Item_Weight    0.171653\n",
       "Outlet_Size    0.282764\n",
       "dtype: float64"
      ]
     },
     "execution_count": 199,
     "metadata": {},
     "output_type": "execute_result"
    }
   ],
   "source": [
    "#There are two variables, with missing values\n",
    "\n",
    "df[missing_col].isnull().mean()"
   ]
  },
  {
   "cell_type": "markdown",
   "metadata": {},
   "source": [
    "#### Missing value of numerical variable"
   ]
  },
  {
   "cell_type": "code",
   "execution_count": 200,
   "metadata": {},
   "outputs": [
    {
     "data": {
      "image/png": "[encoded data removed]",
      "text/plain": [
       "<Figure size 720x288 with 2 Axes>"
      ]
     },
     "metadata": {
      "needs_background": "light"
     },
     "output_type": "display_data"
    },
    {
     "data": {
      "image/png": "[encoded data removed]",
      "text/plain": [
       "<Figure size 720x288 with 2 Axes>"
      ]
     },
     "metadata": {
      "needs_background": "light"
     },
     "output_type": "display_data"
    },
    {
     "data": {
      "image/png": "[encoded data removed]",
      "text/plain": [
       "<Figure size 720x288 with 2 Axes>"
      ]
     },
     "metadata": {
      "needs_background": "light"
     },
     "output_type": "display_data"
    },
    {
     "data": {
      "image/png": "[encoded data removed]",
      "text/plain": [
       "<Figure size 720x288 with 2 Axes>"
      ]
     },
     "metadata": {
      "needs_background": "light"
     },
     "output_type": "display_data"
    }
   ],
   "source": [
    "for col in df_numerical:\n",
    "    plt.figure(figsize= (10,4))\n",
    "    \n",
    "    plt.subplot(1,2,1)\n",
    "    fig = df.boxplot(column=col)\n",
    "    fig.set_title('')\n",
    "    fig.set_ylabel(col)\n",
    "    \n",
    "    plt.subplot(1,2,2)\n",
    "    fig = df[col].plot(kind='hist', bins=30)\n",
    "    fig.set_ylabel('')\n",
    "    fig.set_xlabel(col)"
   ]
  },
  {
   "cell_type": "markdown",
   "metadata": {},
   "source": [
    "1. Item weight  :- is uniformally distributed, if this variable is not contributing to target variable, we may drop it in Feature selection\n",
    "\n",
    "2. Item Visibility :- It has outliers and is skewed, should be transformed\n",
    "\n",
    "3. Item MRP :- This variable also shows very less variability\n",
    "\n",
    "4. Item outlet sales : Skewed same as  Item visibility\n",
    "\n",
    "Note :After transformation Standardization is also needed, I am avoiding normalization as outliers has a impact on normalization."
   ]
  },
  {
   "cell_type": "markdown",
   "metadata": {},
   "source": [
    "## EDA"
   ]
  },
  {
   "cell_type": "code",
   "execution_count": 201,
   "metadata": {},
   "outputs": [
    {
     "data": {
      "text/html": [
       "<div>\n",
       "<style scoped>\n",
       "    .dataframe tbody tr th:only-of-type {\n",
       "        vertical-align: middle;\n",
       "    }\n",
       "\n",
       "    .dataframe tbody tr th {\n",
       "        vertical-align: top;\n",
       "    }\n",
       "\n",
       "    .dataframe thead th {\n",
       "        text-align: right;\n",
       "    }\n",
       "</style>\n",
       "<table border=\"1\" class=\"dataframe\">\n",
       "  <thead>\n",
       "    <tr style=\"text-align: right;\">\n",
       "      <th></th>\n",
       "      <th>Item_Weight</th>\n",
       "      <th>Item_Visibility</th>\n",
       "      <th>Item_MRP</th>\n",
       "      <th>Item_Outlet_Sales</th>\n",
       "    </tr>\n",
       "  </thead>\n",
       "  <tbody>\n",
       "    <tr>\n",
       "      <th>count</th>\n",
       "      <td>7060.000000</td>\n",
       "      <td>8523.000000</td>\n",
       "      <td>8523.000000</td>\n",
       "      <td>8523.000000</td>\n",
       "    </tr>\n",
       "    <tr>\n",
       "      <th>mean</th>\n",
       "      <td>12.857645</td>\n",
       "      <td>0.066132</td>\n",
       "      <td>140.992782</td>\n",
       "      <td>2181.288914</td>\n",
       "    </tr>\n",
       "    <tr>\n",
       "      <th>std</th>\n",
       "      <td>4.643456</td>\n",
       "      <td>0.051598</td>\n",
       "      <td>62.275067</td>\n",
       "      <td>1706.499616</td>\n",
       "    </tr>\n",
       "    <tr>\n",
       "      <th>min</th>\n",
       "      <td>4.555000</td>\n",
       "      <td>0.000000</td>\n",
       "      <td>31.290000</td>\n",
       "      <td>33.290000</td>\n",
       "    </tr>\n",
       "    <tr>\n",
       "      <th>25%</th>\n",
       "      <td>8.773750</td>\n",
       "      <td>0.026989</td>\n",
       "      <td>93.826500</td>\n",
       "      <td>834.247400</td>\n",
       "    </tr>\n",
       "    <tr>\n",
       "      <th>50%</th>\n",
       "      <td>12.600000</td>\n",
       "      <td>0.053931</td>\n",
       "      <td>143.012800</td>\n",
       "      <td>1794.331000</td>\n",
       "    </tr>\n",
       "    <tr>\n",
       "      <th>75%</th>\n",
       "      <td>16.850000</td>\n",
       "      <td>0.094585</td>\n",
       "      <td>185.643700</td>\n",
       "      <td>3101.296400</td>\n",
       "    </tr>\n",
       "    <tr>\n",
       "      <th>max</th>\n",
       "      <td>21.350000</td>\n",
       "      <td>0.328391</td>\n",
       "      <td>266.888400</td>\n",
       "      <td>13086.964800</td>\n",
       "    </tr>\n",
       "  </tbody>\n",
       "</table>\n",
       "</div>"
      ],
      "text/plain": [
       "       Item_Weight  Item_Visibility     Item_MRP  Item_Outlet_Sales\n",
       "count  7060.000000      8523.000000  8523.000000        8523.000000\n",
       "mean     12.857645         0.066132   140.992782        2181.288914\n",
       "std       4.643456         0.051598    62.275067        1706.499616\n",
       "min       4.555000         0.000000    31.290000          33.290000\n",
       "25%       8.773750         0.026989    93.826500         834.247400\n",
       "50%      12.600000         0.053931   143.012800        1794.331000\n",
       "75%      16.850000         0.094585   185.643700        3101.296400\n",
       "max      21.350000         0.328391   266.888400       13086.964800"
      ]
     },
     "execution_count": 201,
     "metadata": {},
     "output_type": "execute_result"
    }
   ],
   "source": [
    "df_numerical.describe()"
   ]
  },
  {
   "cell_type": "markdown",
   "metadata": {},
   "source": [
    "We see that all the variables are on different scale, we must standarize them"
   ]
  },
  {
   "cell_type": "code",
   "execution_count": 202,
   "metadata": {},
   "outputs": [],
   "source": [
    "scaler = MinMaxScaler()\n",
    "df_numerical_normalize = scaler.fit_transform(df_numerical)"
   ]
  },
  {
   "cell_type": "code",
   "execution_count": 203,
   "metadata": {},
   "outputs": [
    {
     "data": {
      "text/plain": [
       "array([[0.28252456, 0.04886645, 0.92750715, 0.28358666],\n",
       "       [0.08127419, 0.05870508, 0.0720684 , 0.03141895],\n",
       "       [0.77076511, 0.05103696, 0.46828841, 0.15811486],\n",
       "       ...,\n",
       "       [0.35992855, 0.10714751, 0.22849221, 0.08885035],\n",
       "       [0.15808276, 0.44221878, 0.30493925, 0.13883505],\n",
       "       [0.61000298, 0.13666114, 0.18750976, 0.05610527]])"
      ]
     },
     "execution_count": 203,
     "metadata": {},
     "output_type": "execute_result"
    }
   ],
   "source": [
    "df_numerical_normalize ## Returns a array, we must convert it into a dataframe"
   ]
  },
  {
   "cell_type": "code",
   "execution_count": 204,
   "metadata": {},
   "outputs": [],
   "source": [
    "df_numerical_normalize = pd.DataFrame(df_numerical_normalize, columns= [df_numerical.columns])"
   ]
  },
  {
   "cell_type": "code",
   "execution_count": 205,
   "metadata": {},
   "outputs": [
    {
     "data": {
      "image/png": "[encoded data removed]",
      "text/plain": [
       "<Figure size 720x432 with 1 Axes>"
      ]
     },
     "metadata": {
      "needs_background": "light"
     },
     "output_type": "display_data"
    }
   ],
   "source": [
    "plt.figure(figsize= (10,6))\n",
    "for col in df_numerical_normalize.columns:\n",
    "    sns.distplot(df_numerical_normalize[col], hist=False, label=col)"
   ]
  },
  {
   "cell_type": "markdown",
   "metadata": {},
   "source": [
    "Item visibility is high then sales is also high, Item MRP, and Item weight almost evenly distributed"
   ]
  },
  {
   "cell_type": "code",
   "execution_count": 206,
   "metadata": {},
   "outputs": [
    {
     "data": {
      "text/plain": [
       "(array([0, 1, 2, 3]), <a list of 4 Text xticklabel objects>)"
      ]
     },
     "execution_count": 206,
     "metadata": {},
     "output_type": "execute_result"
    },
    {
     "data": {
      "image/png": "[encoded data removed]",
      "text/plain": [
       "<Figure size 432x288 with 1 Axes>"
      ]
     },
     "metadata": {
      "needs_background": "light"
     },
     "output_type": "display_data"
    }
   ],
   "source": [
    "df.groupby('Outlet_Type')['Item_Outlet_Sales'].mean().plot(kind='bar')\n",
    "plt.xticks(rotation=30)\n",
    "\n"
   ]
  },
  {
   "cell_type": "code",
   "execution_count": 207,
   "metadata": {},
   "outputs": [
    {
     "data": {
      "text/plain": [
       "(array([0, 1, 2]), <a list of 3 Text xticklabel objects>)"
      ]
     },
     "execution_count": 207,
     "metadata": {},
     "output_type": "execute_result"
    },
    {
     "data": {
      "image/png": "[encoded data removed]",
      "text/plain": [
       "<Figure size 432x288 with 1 Axes>"
      ]
     },
     "metadata": {
      "needs_background": "light"
     },
     "output_type": "display_data"
    }
   ],
   "source": [
    "df.groupby('Outlet_Location_Type')['Item_Outlet_Sales'].mean().plot(kind='bar')\n",
    "plt.xticks(rotation=30)"
   ]
  },
  {
   "cell_type": "code",
   "execution_count": 208,
   "metadata": {},
   "outputs": [
    {
     "data": {
      "text/plain": [
       "(array([0, 1, 2, 3]), <a list of 4 Text xticklabel objects>)"
      ]
     },
     "execution_count": 208,
     "metadata": {},
     "output_type": "execute_result"
    },
    {
     "data": {
      "image/png": "[encoded data removed]",
      "text/plain": [
       "<Figure size 432x288 with 1 Axes>"
      ]
     },
     "metadata": {
      "needs_background": "light"
     },
     "output_type": "display_data"
    }
   ],
   "source": [
    "## Outlet size has missing values, filled it with a new category \"Missing\"\n",
    "\n",
    "df.groupby(df['Outlet_Size'].fillna('Missing'))['Item_Outlet_Sales'].mean().plot(kind='bar')\n",
    "plt.xticks(rotation=30)"
   ]
  },
  {
   "cell_type": "code",
   "execution_count": 209,
   "metadata": {},
   "outputs": [
    {
     "data": {
      "text/plain": [
       "(array([0, 1, 2, 3, 4, 5, 6, 7, 8, 9]), <a list of 10 Text xticklabel objects>)"
      ]
     },
     "execution_count": 209,
     "metadata": {},
     "output_type": "execute_result"
    },
    {
     "data": {
      "image/png": "[encoded data removed]",
      "text/plain": [
       "<Figure size 432x288 with 1 Axes>"
      ]
     },
     "metadata": {
      "needs_background": "light"
     },
     "output_type": "display_data"
    }
   ],
   "source": [
    "df.groupby('Outlet_Identifier')['Item_Outlet_Sales'].mean().plot(kind='bar')\n",
    "plt.xticks(rotation=30)"
   ]
  },
  {
   "cell_type": "code",
   "execution_count": 210,
   "metadata": {},
   "outputs": [
    {
     "data": {
      "text/plain": [
       "(array([0, 1]), <a list of 2 Text xticklabel objects>)"
      ]
     },
     "execution_count": 210,
     "metadata": {},
     "output_type": "execute_result"
    },
    {
     "data": {
      "image/png": "[encoded data removed]",
      "text/plain": [
       "<Figure size 432x288 with 1 Axes>"
      ]
     },
     "metadata": {
      "needs_background": "light"
     },
     "output_type": "display_data"
    }
   ],
   "source": [
    "df.groupby('Item_Fat_Content')['Item_Outlet_Sales'].mean().plot(kind='bar')\n",
    "plt.xticks(rotation=30)"
   ]
  },
  {
   "cell_type": "markdown",
   "metadata": {},
   "source": [
    "Supermarket type 3, and outlet_Identifier 27 contributes highly in sales, where as medium size store is shows slightly high sales, when compared to other outlet_sizes "
   ]
  },
  {
   "cell_type": "markdown",
   "metadata": {},
   "source": [
    "# Feature Engineering"
   ]
  },
  {
   "cell_type": "code",
   "execution_count": 211,
   "metadata": {},
   "outputs": [],
   "source": [
    "df_new = df.copy()"
   ]
  },
  {
   "cell_type": "markdown",
   "metadata": {},
   "source": [
    "### Checkpoint"
   ]
  },
  {
   "cell_type": "code",
   "execution_count": 212,
   "metadata": {},
   "outputs": [],
   "source": [
    "# Item identifier shows high cardinality, so for now lets drop it"
   ]
  },
  {
   "cell_type": "code",
   "execution_count": 213,
   "metadata": {},
   "outputs": [],
   "source": [
    "df.drop('Item_Identifier', axis=1, inplace=True)"
   ]
  },
  {
   "cell_type": "code",
   "execution_count": 214,
   "metadata": {},
   "outputs": [],
   "source": [
    "X = df.drop('Item_Outlet_Sales', axis=1)\n",
    "y = df['Item_Outlet_Sales']"
   ]
  },
  {
   "cell_type": "code",
   "execution_count": 215,
   "metadata": {},
   "outputs": [
    {
     "data": {
      "text/plain": [
       "((7670, 10), (853, 10))"
      ]
     },
     "execution_count": 215,
     "metadata": {},
     "output_type": "execute_result"
    }
   ],
   "source": [
    "X_train, X_test, y_train, y_test = train_test_split(X, y, test_size=0.1, random_state= 100)\n",
    "\n",
    "X_train.shape, X_test.shape"
   ]
  },
  {
   "cell_type": "code",
   "execution_count": 216,
   "metadata": {},
   "outputs": [],
   "source": [
    "#### Engineering missing data of numerical variable"
   ]
  },
  {
   "cell_type": "code",
   "execution_count": 217,
   "metadata": {},
   "outputs": [
    {
     "data": {
      "text/plain": [
       "0.17170795306388525"
      ]
     },
     "execution_count": 217,
     "metadata": {},
     "output_type": "execute_result"
    }
   ],
   "source": [
    "X_train['Item_Weight'].isnull().mean()"
   ]
  },
  {
   "cell_type": "code",
   "execution_count": 218,
   "metadata": {},
   "outputs": [],
   "source": [
    "# Let us create a new variable to capture the missingness of data\n",
    "# Item_Weight - 17 % of the data is missing\n",
    "# Lets assume missing data is at random\n",
    "# For knowing thedata is missing at random or not we must know how the data was collected."
   ]
  },
  {
   "cell_type": "code",
   "execution_count": 219,
   "metadata": {},
   "outputs": [],
   "source": [
    "# Create a new dataset to undestand the missingness\n",
    "missing_item_wt = df[df['Item_Weight'].isnull()]"
   ]
  },
  {
   "cell_type": "code",
   "execution_count": 220,
   "metadata": {},
   "outputs": [
    {
     "name": "stdout",
     "output_type": "stream",
     "text": [
      "Unique values in Item_Weight               = 0\n",
      "Unique values in Item_Fat_Content          = 2\n",
      "Unique values in Item_Visibility           = 1362\n",
      "Unique values in Item_Type                 = 16\n",
      "Unique values in Item_MRP                  = 1371\n",
      "Unique values in Outlet_Identifier         = 2\n",
      "Unique values in Outlet_Establishment_Year = 1\n",
      "Unique values in Outlet_Size               = 2\n",
      "Unique values in Outlet_Location_Type      = 2\n",
      "Unique values in Outlet_Type               = 2\n",
      "Unique values in Item_Outlet_Sales         = 1183\n"
     ]
    }
   ],
   "source": [
    "for col in missing_item_wt.columns:\n",
    "    print(f'Unique values in {col: <{25}} = {missing_item_wt[col].nunique()}')"
   ]
  },
  {
   "cell_type": "code",
   "execution_count": 221,
   "metadata": {},
   "outputs": [
    {
     "data": {
      "text/plain": [
       "1985    1463\n",
       "Name: Outlet_Establishment_Year, dtype: int64"
      ]
     },
     "execution_count": 221,
     "metadata": {},
     "output_type": "execute_result"
    }
   ],
   "source": [
    "# Outlet_Establishment_Year has only one value i.e data is missing only for one particular year\n",
    "\n",
    "missing_item_wt['Outlet_Establishment_Year'].value_counts()\n"
   ]
  },
  {
   "cell_type": "markdown",
   "metadata": {},
   "source": [
    "    Outlet_Establishment_Year shows only one unique value, i.e. in 1985 there were no system of weighing the food item\n",
    "    But this information does not add a value to out prediction"
   ]
  },
  {
   "cell_type": "code",
   "execution_count": 222,
   "metadata": {},
   "outputs": [],
   "source": [
    "## Imputation of variable with mean or median\n",
    "# Its skewed so we go for median imputation, \n",
    "# if it would be a normal distribution we would have done mean imputation\n",
    "\n",
    "for df in [X_train, X_test]:\n",
    "    df['Item_Weight'+'_NA'] = np.where(df['Item_Weight'].isnull(), 1,0) # New variable to capture the missingness\n",
    "    df['Item_Weight'].fillna(X_train['Item_Weight'].median(), inplace=True) "
   ]
  },
  {
   "cell_type": "code",
   "execution_count": 223,
   "metadata": {},
   "outputs": [
    {
     "data": {
      "text/html": [
       "<div>\n",
       "<style scoped>\n",
       "    .dataframe tbody tr th:only-of-type {\n",
       "        vertical-align: middle;\n",
       "    }\n",
       "\n",
       "    .dataframe tbody tr th {\n",
       "        vertical-align: top;\n",
       "    }\n",
       "\n",
       "    .dataframe thead th {\n",
       "        text-align: right;\n",
       "    }\n",
       "</style>\n",
       "<table border=\"1\" class=\"dataframe\">\n",
       "  <thead>\n",
       "    <tr style=\"text-align: right;\">\n",
       "      <th></th>\n",
       "      <th>Item_Weight</th>\n",
       "      <th>Item_Fat_Content</th>\n",
       "      <th>Item_Visibility</th>\n",
       "      <th>Item_Type</th>\n",
       "      <th>Item_MRP</th>\n",
       "      <th>Outlet_Identifier</th>\n",
       "      <th>Outlet_Establishment_Year</th>\n",
       "      <th>Outlet_Size</th>\n",
       "      <th>Outlet_Location_Type</th>\n",
       "      <th>Outlet_Type</th>\n",
       "      <th>Item_Weight_NA</th>\n",
       "    </tr>\n",
       "  </thead>\n",
       "  <tbody>\n",
       "    <tr>\n",
       "      <th>5885</th>\n",
       "      <td>20.2</td>\n",
       "      <td>Low Fat</td>\n",
       "      <td>0.000000</td>\n",
       "      <td>Household</td>\n",
       "      <td>187.1898</td>\n",
       "      <td>13</td>\n",
       "      <td>1987</td>\n",
       "      <td>High</td>\n",
       "      <td>Tier 3</td>\n",
       "      <td>Supermarket Type1</td>\n",
       "      <td>0</td>\n",
       "    </tr>\n",
       "    <tr>\n",
       "      <th>4478</th>\n",
       "      <td>12.6</td>\n",
       "      <td>Low Fat</td>\n",
       "      <td>0.040748</td>\n",
       "      <td>Snack Foods</td>\n",
       "      <td>140.2496</td>\n",
       "      <td>27</td>\n",
       "      <td>1985</td>\n",
       "      <td>Medium</td>\n",
       "      <td>Tier 3</td>\n",
       "      <td>Supermarket Type3</td>\n",
       "      <td>1</td>\n",
       "    </tr>\n",
       "    <tr>\n",
       "      <th>6694</th>\n",
       "      <td>20.1</td>\n",
       "      <td>Low Fat</td>\n",
       "      <td>0.075049</td>\n",
       "      <td>Dairy</td>\n",
       "      <td>110.4228</td>\n",
       "      <td>17</td>\n",
       "      <td>2007</td>\n",
       "      <td>NaN</td>\n",
       "      <td>Tier 2</td>\n",
       "      <td>Supermarket Type1</td>\n",
       "      <td>0</td>\n",
       "    </tr>\n",
       "  </tbody>\n",
       "</table>\n",
       "</div>"
      ],
      "text/plain": [
       "      Item_Weight Item_Fat_Content  Item_Visibility    Item_Type  Item_MRP  \\\n",
       "5885         20.2          Low Fat         0.000000    Household  187.1898   \n",
       "4478         12.6          Low Fat         0.040748  Snack Foods  140.2496   \n",
       "6694         20.1          Low Fat         0.075049        Dairy  110.4228   \n",
       "\n",
       "     Outlet_Identifier  Outlet_Establishment_Year Outlet_Size  \\\n",
       "5885                13                       1987        High   \n",
       "4478                27                       1985      Medium   \n",
       "6694                17                       2007         NaN   \n",
       "\n",
       "     Outlet_Location_Type        Outlet_Type  Item_Weight_NA  \n",
       "5885               Tier 3  Supermarket Type1               0  \n",
       "4478               Tier 3  Supermarket Type3               1  \n",
       "6694               Tier 2  Supermarket Type1               0  "
      ]
     },
     "execution_count": 223,
     "metadata": {},
     "output_type": "execute_result"
    }
   ],
   "source": [
    "X_train.head(3)"
   ]
  },
  {
   "cell_type": "markdown",
   "metadata": {},
   "source": [
    "### Engineering missing data from Categorival variable"
   ]
  },
  {
   "cell_type": "code",
   "execution_count": 224,
   "metadata": {},
   "outputs": [
    {
     "data": {
      "text/plain": [
       "<matplotlib.axes._subplots.AxesSubplot at 0x1bece9ae630>"
      ]
     },
     "execution_count": 224,
     "metadata": {},
     "output_type": "execute_result"
    },
    {
     "data": {
      "image/png": "[encoded data removed]",
      "text/plain": [
       "<Figure size 432x288 with 1 Axes>"
      ]
     },
     "metadata": {
      "needs_background": "light"
     },
     "output_type": "display_data"
    }
   ],
   "source": [
    "df['Outlet_Size'].value_counts(dropna=False).plot(kind='bar')"
   ]
  },
  {
   "cell_type": "markdown",
   "metadata": {},
   "source": [
    "Store size High can be termed as a rare label, but I replace the nan with 'Missing' and create a new variable to capture missingness"
   ]
  },
  {
   "cell_type": "code",
   "execution_count": 225,
   "metadata": {},
   "outputs": [],
   "source": [
    "## Adding a variable to capture NA\n",
    "\n",
    "def impute_na_var(df_train, df_test, variable):\n",
    "    # add additional variable to indicate missingness\n",
    "    df_train[variable+'_missingness'] = np.where(df_train[variable].isnull(), 1, 0)\n",
    "    df_test[variable+'_missingness'] = np.where(df_test[variable].isnull(), 1, 0)"
   ]
  },
  {
   "cell_type": "code",
   "execution_count": 226,
   "metadata": {},
   "outputs": [],
   "source": [
    "## Adding a category \"Missing\" to capture NA\n",
    "def impute_na_cat(df_train, df_test, variable):\n",
    "    df_train[variable+'_NA'] = np.where(df_train[variable].isnull(), 'Missing', df_train[variable])\n",
    "    df_test[variable+'_NA'] = np.where(df_test[variable].isnull(), 'Missing', df_test[variable])"
   ]
  },
  {
   "cell_type": "code",
   "execution_count": 227,
   "metadata": {},
   "outputs": [],
   "source": [
    "impute_na_var(X_train, X_test,'Outlet_Size' ) ## Creating new variable\n",
    "impute_na_cat(X_train, X_test, 'Outlet_Size') ## Replacing NAN with \"Missing\""
   ]
  },
  {
   "cell_type": "code",
   "execution_count": 228,
   "metadata": {},
   "outputs": [
    {
     "data": {
      "text/html": [
       "<div>\n",
       "<style scoped>\n",
       "    .dataframe tbody tr th:only-of-type {\n",
       "        vertical-align: middle;\n",
       "    }\n",
       "\n",
       "    .dataframe tbody tr th {\n",
       "        vertical-align: top;\n",
       "    }\n",
       "\n",
       "    .dataframe thead th {\n",
       "        text-align: right;\n",
       "    }\n",
       "</style>\n",
       "<table border=\"1\" class=\"dataframe\">\n",
       "  <thead>\n",
       "    <tr style=\"text-align: right;\">\n",
       "      <th></th>\n",
       "      <th>Item_Weight</th>\n",
       "      <th>Item_Fat_Content</th>\n",
       "      <th>Item_Visibility</th>\n",
       "      <th>Item_Type</th>\n",
       "      <th>Item_MRP</th>\n",
       "      <th>Outlet_Identifier</th>\n",
       "      <th>Outlet_Establishment_Year</th>\n",
       "      <th>Outlet_Size</th>\n",
       "      <th>Outlet_Location_Type</th>\n",
       "      <th>Outlet_Type</th>\n",
       "      <th>Item_Weight_NA</th>\n",
       "      <th>Outlet_Size_missingness</th>\n",
       "      <th>Outlet_Size_NA</th>\n",
       "    </tr>\n",
       "  </thead>\n",
       "  <tbody>\n",
       "    <tr>\n",
       "      <th>5885</th>\n",
       "      <td>20.2</td>\n",
       "      <td>Low Fat</td>\n",
       "      <td>0.000000</td>\n",
       "      <td>Household</td>\n",
       "      <td>187.1898</td>\n",
       "      <td>13</td>\n",
       "      <td>1987</td>\n",
       "      <td>High</td>\n",
       "      <td>Tier 3</td>\n",
       "      <td>Supermarket Type1</td>\n",
       "      <td>0</td>\n",
       "      <td>0</td>\n",
       "      <td>High</td>\n",
       "    </tr>\n",
       "    <tr>\n",
       "      <th>4478</th>\n",
       "      <td>12.6</td>\n",
       "      <td>Low Fat</td>\n",
       "      <td>0.040748</td>\n",
       "      <td>Snack Foods</td>\n",
       "      <td>140.2496</td>\n",
       "      <td>27</td>\n",
       "      <td>1985</td>\n",
       "      <td>Medium</td>\n",
       "      <td>Tier 3</td>\n",
       "      <td>Supermarket Type3</td>\n",
       "      <td>1</td>\n",
       "      <td>0</td>\n",
       "      <td>Medium</td>\n",
       "    </tr>\n",
       "    <tr>\n",
       "      <th>6694</th>\n",
       "      <td>20.1</td>\n",
       "      <td>Low Fat</td>\n",
       "      <td>0.075049</td>\n",
       "      <td>Dairy</td>\n",
       "      <td>110.4228</td>\n",
       "      <td>17</td>\n",
       "      <td>2007</td>\n",
       "      <td>NaN</td>\n",
       "      <td>Tier 2</td>\n",
       "      <td>Supermarket Type1</td>\n",
       "      <td>0</td>\n",
       "      <td>1</td>\n",
       "      <td>Missing</td>\n",
       "    </tr>\n",
       "  </tbody>\n",
       "</table>\n",
       "</div>"
      ],
      "text/plain": [
       "      Item_Weight Item_Fat_Content  Item_Visibility    Item_Type  Item_MRP  \\\n",
       "5885         20.2          Low Fat         0.000000    Household  187.1898   \n",
       "4478         12.6          Low Fat         0.040748  Snack Foods  140.2496   \n",
       "6694         20.1          Low Fat         0.075049        Dairy  110.4228   \n",
       "\n",
       "     Outlet_Identifier  Outlet_Establishment_Year Outlet_Size  \\\n",
       "5885                13                       1987        High   \n",
       "4478                27                       1985      Medium   \n",
       "6694                17                       2007         NaN   \n",
       "\n",
       "     Outlet_Location_Type        Outlet_Type  Item_Weight_NA  \\\n",
       "5885               Tier 3  Supermarket Type1               0   \n",
       "4478               Tier 3  Supermarket Type3               1   \n",
       "6694               Tier 2  Supermarket Type1               0   \n",
       "\n",
       "      Outlet_Size_missingness Outlet_Size_NA  \n",
       "5885                        0           High  \n",
       "4478                        0         Medium  \n",
       "6694                        1        Missing  "
      ]
     },
     "execution_count": 228,
     "metadata": {},
     "output_type": "execute_result"
    }
   ],
   "source": [
    "X_train.head(3)"
   ]
  },
  {
   "cell_type": "code",
   "execution_count": 229,
   "metadata": {},
   "outputs": [],
   "source": [
    "### Engineering outliers of numerical variables"
   ]
  },
  {
   "cell_type": "markdown",
   "metadata": {},
   "source": [
    "    We can go for \"Top encoding\" and \"bottom encoding\"\n",
    "    As mean and variance are very sensitive to outliers, and also\n",
    "    Some machine learning algorithms are very sensetive to outliers Like Linear regression, Ada Boost and k-means\n",
    "    and their performance could be impaired, \n",
    "    thus I will engineer the features to minimize the impact of outliers on ML models."
   ]
  },
  {
   "cell_type": "code",
   "execution_count": 230,
   "metadata": {},
   "outputs": [
    {
     "data": {
      "text/plain": [
       "<matplotlib.axes._subplots.AxesSubplot at 0x1bece6150b8>"
      ]
     },
     "execution_count": 230,
     "metadata": {},
     "output_type": "execute_result"
    },
    {
     "data": {
      "image/png": "[encoded data removed]",
      "text/plain": [
       "<Figure size 216x432 with 1 Axes>"
      ]
     },
     "metadata": {
      "needs_background": "light"
     },
     "output_type": "display_data"
    }
   ],
   "source": [
    "X_train['Item_Visibility'].plot.box(figsize=(3,6))"
   ]
  },
  {
   "cell_type": "markdown",
   "metadata": {},
   "source": [
    "In this scenario Top encoding is needed"
   ]
  },
  {
   "cell_type": "code",
   "execution_count": 231,
   "metadata": {},
   "outputs": [
    {
     "data": {
      "text/plain": [
       "count    7670.000000\n",
       "mean        0.066095\n",
       "std         0.051326\n",
       "min         0.000000\n",
       "25%         0.027058\n",
       "50%         0.054129\n",
       "75%         0.094548\n",
       "max         0.321115\n",
       "Name: Item_Visibility, dtype: float64"
      ]
     },
     "execution_count": 231,
     "metadata": {},
     "output_type": "execute_result"
    }
   ],
   "source": [
    "X_train['Item_Visibility'].describe()"
   ]
  },
  {
   "cell_type": "code",
   "execution_count": 232,
   "metadata": {},
   "outputs": [
    {
     "data": {
      "text/plain": [
       "0.0674899185"
      ]
     },
     "execution_count": 232,
     "metadata": {},
     "output_type": "execute_result"
    }
   ],
   "source": [
    "## Top encoding: upper boundary for outliers\n",
    "\n",
    "IQR = X_train.Item_Visibility.quantile(0.75) - X_train.Item_Visibility.quantile(0.25)\n",
    "IQR"
   ]
  },
  {
   "cell_type": "code",
   "execution_count": 233,
   "metadata": {},
   "outputs": [
    {
     "data": {
      "text/plain": [
       "0.2970180395"
      ]
     },
     "execution_count": 233,
     "metadata": {},
     "output_type": "execute_result"
    }
   ],
   "source": [
    "upper_boundary = X_train.Item_Visibility.quantile(0.75) + (IQR * 3)\n",
    "upper_boundary"
   ]
  },
  {
   "cell_type": "code",
   "execution_count": 234,
   "metadata": {},
   "outputs": [],
   "source": [
    "X_train['Item_Visibility_engg'] = X_train['Item_Visibility']"
   ]
  },
  {
   "cell_type": "code",
   "execution_count": 235,
   "metadata": {},
   "outputs": [],
   "source": [
    "X_test['Item_Visibility_engg'] = X_test['Item_Visibility']"
   ]
  },
  {
   "cell_type": "code",
   "execution_count": 236,
   "metadata": {},
   "outputs": [],
   "source": [
    "X_train.loc[X_train['Item_Visibility_engg'] > 0.29, 'Item_Visibility'] = 0.29"
   ]
  },
  {
   "cell_type": "code",
   "execution_count": 237,
   "metadata": {},
   "outputs": [],
   "source": [
    "X_test.loc[X_test['Item_Visibility_engg'] > 0.29, 'Item_Visibility'] = 0.29"
   ]
  },
  {
   "cell_type": "code",
   "execution_count": 238,
   "metadata": {},
   "outputs": [
    {
     "data": {
      "text/plain": [
       "((7670, 14), (853, 14))"
      ]
     },
     "execution_count": 238,
     "metadata": {},
     "output_type": "execute_result"
    }
   ],
   "source": [
    "X_train.shape, X_test.shape"
   ]
  },
  {
   "cell_type": "markdown",
   "metadata": {},
   "source": [
    "## Encoding categorical variables"
   ]
  },
  {
   "cell_type": "code",
   "execution_count": 239,
   "metadata": {},
   "outputs": [],
   "source": [
    "categorical_column = X_train.select_dtypes('O').columns"
   ]
  },
  {
   "cell_type": "code",
   "execution_count": null,
   "metadata": {},
   "outputs": [],
   "source": []
  },
  {
   "cell_type": "markdown",
   "metadata": {},
   "source": [
    "Lets drop Outlet_Size, Item_Visibility these two variables and create dummy variables"
   ]
  },
  {
   "cell_type": "code",
   "execution_count": 240,
   "metadata": {},
   "outputs": [],
   "source": [
    "X_train.drop(['Outlet_Size','Item_Visibility'], axis=1, inplace=True)\n",
    "X_test.drop(['Outlet_Size','Item_Visibility'], axis=1, inplace=True)"
   ]
  },
  {
   "cell_type": "code",
   "execution_count": 241,
   "metadata": {},
   "outputs": [],
   "source": [
    "categorical_column =X_train.select_dtypes('O').columns"
   ]
  },
  {
   "cell_type": "code",
   "execution_count": 242,
   "metadata": {},
   "outputs": [],
   "source": [
    "X_train_dummy = pd.get_dummies(X_train, \n",
    "                               columns= categorical_column,\n",
    "                              drop_first=True)\n",
    "\n",
    "X_test_dummy = pd.get_dummies(X_test, \n",
    "                              columns= categorical_column,\n",
    "                              drop_first=True)"
   ]
  },
  {
   "cell_type": "code",
   "execution_count": 243,
   "metadata": {},
   "outputs": [
    {
     "data": {
      "text/plain": [
       "((7670, 39), (853, 39))"
      ]
     },
     "execution_count": 243,
     "metadata": {},
     "output_type": "execute_result"
    }
   ],
   "source": [
    "X_train_dummy.shape, X_test_dummy.shape"
   ]
  },
  {
   "cell_type": "markdown",
   "metadata": {},
   "source": [
    "## Scaler"
   ]
  },
  {
   "cell_type": "code",
   "execution_count": 244,
   "metadata": {},
   "outputs": [
    {
     "data": {
      "text/plain": [
       "MinMaxScaler(copy=True, feature_range=(0, 1))"
      ]
     },
     "execution_count": 244,
     "metadata": {},
     "output_type": "execute_result"
    }
   ],
   "source": [
    "# fit scaler\n",
    "\n",
    "\n",
    "scaler = MinMaxScaler() # create an instance\n",
    "scaler.fit(X_train_dummy) #  fit  the scaler to the train set for later use\n",
    "# Not selecting Year as its a correlated variable, which can be removed"
   ]
  },
  {
   "cell_type": "code",
   "execution_count": 245,
   "metadata": {},
   "outputs": [
    {
     "data": {
      "text/plain": [
       "MinMaxScaler(copy=True, feature_range=(0, 1))"
      ]
     },
     "execution_count": 245,
     "metadata": {},
     "output_type": "execute_result"
    }
   ],
   "source": [
    "scaler"
   ]
  },
  {
   "cell_type": "markdown",
   "metadata": {},
   "source": [
    "## Building Machine Learning Models"
   ]
  },
  {
   "cell_type": "markdown",
   "metadata": {},
   "source": [
    "As seen earlier the Target variable is also skewed, so log transformation on Target would be great idea\n",
    "\n",
    "Then, we must convert it back to its original sales value, to evaluate the model"
   ]
  },
  {
   "cell_type": "markdown",
   "metadata": {},
   "source": [
    "#### XGBOOST"
   ]
  },
  {
   "cell_type": "code",
   "execution_count": 246,
   "metadata": {},
   "outputs": [
    {
     "name": "stdout",
     "output_type": "stream",
     "text": [
      "xgb train mse : 1170242.6978261136\n",
      "xgb train rmse : 1081.777563931751\n",
      "xgb train R-sq: 0.5955735865788208\n",
      "\n",
      "\n",
      "xgb train mse : 1270862.190573709\n",
      "xgb train rmse : 1127.32523726461\n",
      "xgb test R-sq: 0.586627655864038\n"
     ]
    }
   ],
   "source": [
    "xgb_model = xgb.XGBRegressor()\n",
    "\n",
    "evaluation_set = [(X_test_dummy, np.log(y_test))]\n",
    "\n",
    "xgb_model.fit(X_train_dummy, np.log(y_train), eval_set = evaluation_set, verbose=False)\n",
    "\n",
    "pred = xgb_model.predict(X_train_dummy)\n",
    "\n",
    "## Training set\n",
    "print('xgb train mse : {}'.format(mean_squared_error(y_train, np.exp(pred))))\n",
    "print('xgb train rmse : {}'.format(sqrt(mean_squared_error(y_train, np.exp(pred)))))\n",
    "print('xgb train R-sq: {}'.format(r2_score(y_train, np.exp(pred))))\n",
    "print('\\n')\n",
    "\n",
    "## Test set\n",
    "\n",
    "pred = xgb_model.predict(X_test_dummy)\n",
    "print('xgb train mse : {}'.format(mean_squared_error(y_test, np.exp(pred))))\n",
    "print('xgb train rmse : {}'.format(sqrt(mean_squared_error(y_test, np.exp(pred)))))\n",
    "print('xgb test R-sq: {}'.format(r2_score(y_test, np.exp(pred))))\n",
    "\n"
   ]
  },
  {
   "cell_type": "markdown",
   "metadata": {},
   "source": [
    "Model is some what overfitted,as the train error is less than test error"
   ]
  },
  {
   "cell_type": "markdown",
   "metadata": {},
   "source": [
    "### Random Forest"
   ]
  },
  {
   "cell_type": "code",
   "execution_count": 247,
   "metadata": {},
   "outputs": [
    {
     "name": "stdout",
     "output_type": "stream",
     "text": [
      "rf train mse : 1119027.748760244\n",
      "rf train rmse : 1057.8410791608749\n",
      "rf train R-sq: 0.6132730588359301\n",
      "\n",
      "rf train mse : 1291936.5770925463\n",
      "rf train rmse : 1136.6338799686318\n",
      "rf test R-sq: 0.5797728067536192\n"
     ]
    }
   ],
   "source": [
    "rf_model = RandomForestRegressor(n_estimators= 100, max_depth=8)\n",
    "\n",
    "rf_model.fit(X_train_dummy, np.log(y_train))\n",
    "pred = rf_model.predict(X_train_dummy)\n",
    "\n",
    "## Train set\n",
    "print('rf train mse : {}'.format(mean_squared_error(y_train, np.exp(pred))))\n",
    "print('rf train rmse : {}'.format(sqrt(mean_squared_error(y_train, np.exp(pred)))))\n",
    "print('rf train R-sq: {}'.format(r2_score(y_train, np.exp(pred))))\n",
    "print()\n",
    "## Test set\n",
    "pred = rf_model.predict(X_test_dummy)\n",
    "print('rf train mse : {}'.format(mean_squared_error(y_test, np.exp(pred))))\n",
    "print('rf train rmse : {}'.format(sqrt(mean_squared_error(y_test, np.exp(pred)))))\n",
    "print('rf test R-sq: {}'.format(r2_score(y_test, np.exp(pred))))\n",
    "\n"
   ]
  },
  {
   "cell_type": "markdown",
   "metadata": {},
   "source": [
    "### Support Vector"
   ]
  },
  {
   "cell_type": "code",
   "execution_count": 248,
   "metadata": {},
   "outputs": [
    {
     "data": {
      "text/plain": [
       "SVR(C=1.0, cache_size=200, coef0=0.0, degree=3, epsilon=0.1,\n",
       "  gamma='auto_deprecated', kernel='rbf', max_iter=-1, shrinking=True,\n",
       "  tol=0.001, verbose=False)"
      ]
     },
     "execution_count": 248,
     "metadata": {},
     "output_type": "execute_result"
    }
   ],
   "source": [
    "svr_model = SVR()\n",
    "svr_model.fit(scaler.transform(X_train_dummy), np.log(y_train))\n"
   ]
  },
  {
   "cell_type": "code",
   "execution_count": 249,
   "metadata": {},
   "outputs": [
    {
     "name": "stdout",
     "output_type": "stream",
     "text": [
      "svr train mse : 1219542.426838138\n",
      "svr train rmse : 1104.328948655308\n",
      "svr train R-sq: 0.5785359988852535\n",
      "\n",
      "svr test mse : 1271081.983291625\n",
      "svr test rmse: 1127.4227172146325\n",
      "svr test R-sq: 0.5865561640597317\n"
     ]
    }
   ],
   "source": [
    "# Train set\n",
    "# Scale the train set\n",
    "\n",
    "pred = svr_model.predict(scaler.transform(X_train_dummy))\n",
    "print('svr train mse : {}'. format(mean_squared_error(y_train, np.exp(pred))))\n",
    "print('svr train rmse : {}'. format(sqrt(mean_squared_error(y_train, np.exp(pred)))))\n",
    "print('svr train R-sq: {}'.format(r2_score(y_train, np.exp(pred))))\n",
    "#Test set\n",
    "print()\n",
    "\n",
    "pred = svr_model.predict(scaler.transform(X_test_dummy))  # Scaler test set\n",
    "print('svr test mse : {}'.format(mean_squared_error(y_test, np.exp(pred))))\n",
    "print('svr test rmse: {}'.format(sqrt(mean_squared_error(y_test, np.exp(pred)))))\n",
    "print('svr test R-sq: {}'.format(r2_score(y_test, np.exp(pred))))"
   ]
  },
  {
   "cell_type": "markdown",
   "metadata": {},
   "source": [
    "All the 3 models are over fitted, and none of them are giving a good r-sq score, there are some unimportant variables, which should be removed, we can know it by the p-values of featured or ren a ML model to calculate the feature importance of the variable"
   ]
  },
  {
   "cell_type": "markdown",
   "metadata": {},
   "source": [
    "#### Feature importance"
   ]
  },
  {
   "cell_type": "code",
   "execution_count": 250,
   "metadata": {},
   "outputs": [],
   "source": [
    "# Feature importance by xgb"
   ]
  },
  {
   "cell_type": "code",
   "execution_count": 251,
   "metadata": {},
   "outputs": [
    {
     "data": {
      "text/plain": [
       "<matplotlib.axes._subplots.AxesSubplot at 0x1bece4c8908>"
      ]
     },
     "execution_count": 251,
     "metadata": {},
     "output_type": "execute_result"
    },
    {
     "data": {
      "image/png": "[encoded data removed]",
      "text/plain": [
       "<Figure size 1440x432 with 1 Axes>"
      ]
     },
     "metadata": {
      "needs_background": "light"
     },
     "output_type": "display_data"
    }
   ],
   "source": [
    "features = pd.Series(xgb_model.feature_importances_)\n",
    "features.index = X_train_dummy.columns\n",
    "\n",
    "# sort the features by importance\n",
    "features.sort_values(ascending=True, inplace=True)\n",
    "\n",
    "# plot\n",
    "features.plot.bar(figsize=(20,6))"
   ]
  },
  {
   "cell_type": "code",
   "execution_count": 252,
   "metadata": {},
   "outputs": [],
   "source": [
    "# Feature selection\n",
    "from sklearn.feature_selection import SelectFromModel"
   ]
  },
  {
   "cell_type": "code",
   "execution_count": 253,
   "metadata": {},
   "outputs": [],
   "source": [
    "### Feature importance by RF"
   ]
  },
  {
   "cell_type": "code",
   "execution_count": 254,
   "metadata": {},
   "outputs": [
    {
     "data": {
      "text/plain": [
       "Index(['Item_Weight', 'Item_MRP', 'Outlet_Establishment_Year',\n",
       "       'Item_Visibility_engg', 'Outlet_Identifier_27',\n",
       "       'Outlet_Type_Supermarket Type1', 'Outlet_Type_Supermarket Type3'],\n",
       "      dtype='object')"
      ]
     },
     "execution_count": 254,
     "metadata": {},
     "output_type": "execute_result"
    }
   ],
   "source": [
    "sel_ = SelectFromModel(RandomForestRegressor(n_estimators=100))\n",
    "sel_.fit(X_train_dummy, y_train)\n",
    "selected_feat_rf = X_train_dummy.columns[(sel_.get_support())]\n",
    "selected_feat_rf"
   ]
  },
  {
   "cell_type": "code",
   "execution_count": null,
   "metadata": {},
   "outputs": [],
   "source": []
  },
  {
   "cell_type": "code",
   "execution_count": 255,
   "metadata": {},
   "outputs": [],
   "source": [
    "features_xgb = features.sort_values(ascending=False).head(7)"
   ]
  },
  {
   "cell_type": "code",
   "execution_count": 256,
   "metadata": {},
   "outputs": [],
   "source": [
    "unCommon_features = [i for i in selected_feat_rf if i not in features_xgb]"
   ]
  },
  {
   "cell_type": "code",
   "execution_count": 257,
   "metadata": {},
   "outputs": [
    {
     "data": {
      "text/plain": [
       "['Outlet_Type_Supermarket Type3']"
      ]
     },
     "execution_count": 257,
     "metadata": {},
     "output_type": "execute_result"
    }
   ],
   "source": [
    "unCommon_features"
   ]
  },
  {
   "cell_type": "markdown",
   "metadata": {},
   "source": [
    "### recursive feature elimination. (RFE)"
   ]
  },
  {
   "cell_type": "code",
   "execution_count": 258,
   "metadata": {},
   "outputs": [],
   "source": [
    "from sklearn.feature_selection import RFE\n",
    "\n"
   ]
  },
  {
   "cell_type": "code",
   "execution_count": 259,
   "metadata": {},
   "outputs": [
    {
     "data": {
      "text/plain": [
       "RFE(estimator=RandomForestRegressor(bootstrap=True, criterion='mse', max_depth=None,\n",
       "           max_features='auto', max_leaf_nodes=None,\n",
       "           min_impurity_decrease=0.0, min_impurity_split=None,\n",
       "           min_samples_leaf=1, min_samples_split=2,\n",
       "           min_weight_fraction_leaf=0.0, n_estimators=100, n_jobs=None,\n",
       "           oob_score=False, random_state=None, verbose=0, warm_start=False),\n",
       "  n_features_to_select=30, step=1, verbose=0)"
      ]
     },
     "execution_count": 259,
     "metadata": {},
     "output_type": "execute_result"
    }
   ],
   "source": [
    "## Lets select the top 30 features\n",
    "sel_ = RFE(RandomForestRegressor(n_estimators=100), n_features_to_select=30)\n",
    "sel_.fit(X_train_dummy, y_train)"
   ]
  },
  {
   "cell_type": "code",
   "execution_count": 260,
   "metadata": {},
   "outputs": [
    {
     "data": {
      "text/plain": [
       "Index(['Item_Weight', 'Item_MRP', 'Outlet_Establishment_Year',\n",
       "       'Item_Visibility_engg', 'Item_Fat_Content_Regular', 'Item_Type_Breads',\n",
       "       'Item_Type_Canned', 'Item_Type_Dairy', 'Item_Type_Frozen Foods',\n",
       "       'Item_Type_Fruits and Vegetables', 'Item_Type_Health and Hygiene',\n",
       "       'Item_Type_Household', 'Item_Type_Meat', 'Item_Type_Snack Foods',\n",
       "       'Item_Type_Soft Drinks', 'Item_Type_Starchy Foods',\n",
       "       'Outlet_Identifier_18', 'Outlet_Identifier_19', 'Outlet_Identifier_27',\n",
       "       'Outlet_Identifier_35', 'Outlet_Identifier_45', 'Outlet_Identifier_46',\n",
       "       'Outlet_Identifier_49', 'Outlet_Location_Type_Tier 3',\n",
       "       'Outlet_Type_Supermarket Type1', 'Outlet_Type_Supermarket Type2',\n",
       "       'Outlet_Type_Supermarket Type3', 'Outlet_Size_NA_Medium',\n",
       "       'Outlet_Size_NA_Missing', 'Outlet_Size_NA_Small'],\n",
       "      dtype='object')"
      ]
     },
     "execution_count": 260,
     "metadata": {},
     "output_type": "execute_result"
    }
   ],
   "source": [
    "selected_feat_rfe_30 = X_train_dummy.columns[(sel_.get_support())]\n",
    "selected_feat_rfe_30"
   ]
  },
  {
   "cell_type": "code",
   "execution_count": 261,
   "metadata": {},
   "outputs": [],
   "source": [
    "X_train_30 = X_train_dummy[selected_feat_rfe_30]\n",
    "X_test_30 = X_test_dummy[selected_feat_rfe_30]"
   ]
  },
  {
   "cell_type": "markdown",
   "metadata": {},
   "source": [
    "### Create new model after removal of unwanted features"
   ]
  },
  {
   "cell_type": "code",
   "execution_count": 262,
   "metadata": {},
   "outputs": [
    {
     "name": "stdout",
     "output_type": "stream",
     "text": [
      "rf train mse : 1118516.5420420126\n",
      "rf train rmse : 1057.5994241876328\n",
      "rf train R-sq: 0.6134497277439739\n",
      "\n",
      "rf train mse : 1284373.291165746\n",
      "rf train rmse : 1133.3019417462172\n",
      "rf test R-sq: 0.5822329108122037\n"
     ]
    }
   ],
   "source": [
    "rf_model = RandomForestRegressor(n_estimators= 100, max_depth=8)\n",
    "\n",
    "rf_model.fit(X_train_30, np.log(y_train))\n",
    "pred = rf_model.predict(X_train_30)\n",
    "\n",
    "## Train set\n",
    "print('rf train mse : {}'.format(mean_squared_error(y_train, np.exp(pred))))\n",
    "print('rf train rmse : {}'.format(sqrt(mean_squared_error(y_train, np.exp(pred)))))\n",
    "print('rf train R-sq: {}'.format(r2_score(y_train, np.exp(pred))))\n",
    "print()\n",
    "## Test set\n",
    "pred = rf_model.predict(X_test_30)\n",
    "print('rf train mse : {}'.format(mean_squared_error(y_test, np.exp(pred))))\n",
    "print('rf train rmse : {}'.format(sqrt(mean_squared_error(y_test, np.exp(pred)))))\n",
    "print('rf test R-sq: {}'.format(r2_score(y_test, np.exp(pred))))\n"
   ]
  },
  {
   "cell_type": "code",
   "execution_count": 263,
   "metadata": {},
   "outputs": [],
   "source": [
    "## There is no improvement in the model"
   ]
  },
  {
   "cell_type": "code",
   "execution_count": 264,
   "metadata": {},
   "outputs": [
    {
     "data": {
      "text/plain": [
       "RFE(estimator=RandomForestRegressor(bootstrap=True, criterion='mse', max_depth=None,\n",
       "           max_features='auto', max_leaf_nodes=None,\n",
       "           min_impurity_decrease=0.0, min_impurity_split=None,\n",
       "           min_samples_leaf=1, min_samples_split=2,\n",
       "           min_weight_fraction_leaf=0.0, n_estimators=100, n_jobs=None,\n",
       "           oob_score=False, random_state=None, verbose=0, warm_start=False),\n",
       "  n_features_to_select=25, step=1, verbose=0)"
      ]
     },
     "execution_count": 264,
     "metadata": {},
     "output_type": "execute_result"
    }
   ],
   "source": [
    "# I will select 25 best features from the model\n",
    "sel_25 = RFE(RandomForestRegressor(n_estimators=100), n_features_to_select=25)\n",
    "sel_25.fit(X_train_dummy, y_train)"
   ]
  },
  {
   "cell_type": "code",
   "execution_count": 265,
   "metadata": {},
   "outputs": [],
   "source": [
    "selected_feat_rfe_25 = X_train_dummy.columns[(sel_25.get_support())]"
   ]
  },
  {
   "cell_type": "code",
   "execution_count": 266,
   "metadata": {},
   "outputs": [],
   "source": [
    "X_train_25 = X_train_dummy[selected_feat_rfe_25]\n",
    "X_test_25 = X_test_dummy[selected_feat_rfe_25]"
   ]
  },
  {
   "cell_type": "markdown",
   "metadata": {},
   "source": [
    "## Ordinary Least Squares using StatsModel"
   ]
  },
  {
   "cell_type": "code",
   "execution_count": 267,
   "metadata": {},
   "outputs": [],
   "source": [
    "import statsmodels.api as sm"
   ]
  },
  {
   "cell_type": "code",
   "execution_count": 268,
   "metadata": {},
   "outputs": [
    {
     "data": {
      "text/html": [
       "<table class=\"simpletable\">\n",
       "<caption>OLS Regression Results</caption>\n",
       "<tr>\n",
       "  <th>Dep. Variable:</th>    <td>Item_Outlet_Sales</td> <th>  R-squared:         </th> <td>   0.563</td> \n",
       "</tr>\n",
       "<tr>\n",
       "  <th>Model:</th>                   <td>OLS</td>        <th>  Adj. R-squared:    </th> <td>   0.562</td> \n",
       "</tr>\n",
       "<tr>\n",
       "  <th>Method:</th>             <td>Least Squares</td>   <th>  F-statistic:       </th> <td>   468.7</td> \n",
       "</tr>\n",
       "<tr>\n",
       "  <th>Date:</th>             <td>Mon, 10 Jun 2019</td>  <th>  Prob (F-statistic):</th>  <td>  0.00</td>  \n",
       "</tr>\n",
       "<tr>\n",
       "  <th>Time:</th>                 <td>10:09:09</td>      <th>  Log-Likelihood:    </th> <td> -64768.</td> \n",
       "</tr>\n",
       "<tr>\n",
       "  <th>No. Observations:</th>      <td>  7670</td>       <th>  AIC:               </th> <td>1.296e+05</td>\n",
       "</tr>\n",
       "<tr>\n",
       "  <th>Df Residuals:</th>          <td>  7648</td>       <th>  BIC:               </th> <td>1.297e+05</td>\n",
       "</tr>\n",
       "<tr>\n",
       "  <th>Df Model:</th>              <td>    21</td>       <th>                     </th>     <td> </td>    \n",
       "</tr>\n",
       "<tr>\n",
       "  <th>Covariance Type:</th>      <td>nonrobust</td>     <th>                     </th>     <td> </td>    \n",
       "</tr>\n",
       "</table>\n",
       "<table class=\"simpletable\">\n",
       "<tr>\n",
       "                 <td></td>                    <th>coef</th>     <th>std err</th>      <th>t</th>      <th>P>|t|</th>  <th>[0.025</th>    <th>0.975]</th>  \n",
       "</tr>\n",
       "<tr>\n",
       "  <th>Item_Weight</th>                     <td>   -0.5148</td> <td>    3.058</td> <td>   -0.168</td> <td> 0.866</td> <td>   -6.510</td> <td>    5.480</td>\n",
       "</tr>\n",
       "<tr>\n",
       "  <th>Item_MRP</th>                        <td>   15.5062</td> <td>    0.207</td> <td>   74.910</td> <td> 0.000</td> <td>   15.100</td> <td>   15.912</td>\n",
       "</tr>\n",
       "<tr>\n",
       "  <th>Outlet_Establishment_Year</th>       <td>   -0.9540</td> <td>    0.048</td> <td>  -19.705</td> <td> 0.000</td> <td>   -1.049</td> <td>   -0.859</td>\n",
       "</tr>\n",
       "<tr>\n",
       "  <th>Item_Visibility_engg</th>            <td> -178.1465</td> <td>  261.919</td> <td>   -0.680</td> <td> 0.496</td> <td> -691.579</td> <td>  335.286</td>\n",
       "</tr>\n",
       "<tr>\n",
       "  <th>Item_Fat_Content_Regular</th>        <td>   55.7565</td> <td>   28.886</td> <td>    1.930</td> <td> 0.054</td> <td>   -0.867</td> <td>  112.380</td>\n",
       "</tr>\n",
       "<tr>\n",
       "  <th>Item_Type_Canned</th>                <td>   23.5204</td> <td>   53.952</td> <td>    0.436</td> <td> 0.663</td> <td>  -82.241</td> <td>  129.281</td>\n",
       "</tr>\n",
       "<tr>\n",
       "  <th>Item_Type_Dairy</th>                 <td>  -67.1409</td> <td>   52.573</td> <td>   -1.277</td> <td> 0.202</td> <td> -170.198</td> <td>   35.916</td>\n",
       "</tr>\n",
       "<tr>\n",
       "  <th>Item_Type_Frozen Foods</th>          <td>  -42.4121</td> <td>   48.447</td> <td>   -0.875</td> <td> 0.381</td> <td> -137.381</td> <td>   52.557</td>\n",
       "</tr>\n",
       "<tr>\n",
       "  <th>Item_Type_Fruits and Vegetables</th> <td>   14.2841</td> <td>   43.038</td> <td>    0.332</td> <td> 0.740</td> <td>  -70.083</td> <td>   98.651</td>\n",
       "</tr>\n",
       "<tr>\n",
       "  <th>Item_Type_Health and Hygiene</th>    <td>  -19.5107</td> <td>   59.787</td> <td>   -0.326</td> <td> 0.744</td> <td> -136.710</td> <td>   97.689</td>\n",
       "</tr>\n",
       "<tr>\n",
       "  <th>Item_Type_Household</th>             <td>  -59.1596</td> <td>   49.115</td> <td>   -1.205</td> <td> 0.228</td> <td> -155.437</td> <td>   37.118</td>\n",
       "</tr>\n",
       "<tr>\n",
       "  <th>Item_Type_Snack Foods</th>           <td>  -14.4294</td> <td>   43.258</td> <td>   -0.334</td> <td> 0.739</td> <td>  -99.226</td> <td>   70.368</td>\n",
       "</tr>\n",
       "<tr>\n",
       "  <th>Item_Type_Soft Drinks</th>           <td>  -43.3013</td> <td>   62.721</td> <td>   -0.690</td> <td> 0.490</td> <td> -166.252</td> <td>   79.649</td>\n",
       "</tr>\n",
       "<tr>\n",
       "  <th>Outlet_Identifier_18</th>            <td>  823.6110</td> <td>   42.714</td> <td>   19.282</td> <td> 0.000</td> <td>  739.881</td> <td>  907.341</td>\n",
       "</tr>\n",
       "<tr>\n",
       "  <th>Outlet_Identifier_19</th>            <td>   62.1788</td> <td>   63.778</td> <td>    0.975</td> <td> 0.330</td> <td>  -62.844</td> <td>  187.202</td>\n",
       "</tr>\n",
       "<tr>\n",
       "  <th>Outlet_Identifier_27</th>            <td> 1669.9835</td> <td>   42.316</td> <td>   39.464</td> <td> 0.000</td> <td> 1587.032</td> <td> 1752.935</td>\n",
       "</tr>\n",
       "<tr>\n",
       "  <th>Outlet_Identifier_35</th>            <td>   75.8952</td> <td>   38.234</td> <td>    1.985</td> <td> 0.047</td> <td>    0.946</td> <td>  150.844</td>\n",
       "</tr>\n",
       "<tr>\n",
       "  <th>Outlet_Identifier_45</th>            <td> -195.8215</td> <td>   54.874</td> <td>   -3.569</td> <td> 0.000</td> <td> -303.389</td> <td>  -88.254</td>\n",
       "</tr>\n",
       "<tr>\n",
       "  <th>Outlet_Identifier_46</th>            <td>  -87.4144</td> <td>   38.242</td> <td>   -2.286</td> <td> 0.022</td> <td> -162.379</td> <td>  -12.450</td>\n",
       "</tr>\n",
       "<tr>\n",
       "  <th>Outlet_Type_Supermarket Type1</th>   <td> 2022.8569</td> <td>   64.717</td> <td>   31.257</td> <td> 0.000</td> <td> 1895.994</td> <td> 2149.720</td>\n",
       "</tr>\n",
       "<tr>\n",
       "  <th>Outlet_Type_Supermarket Type2</th>   <td>  823.6110</td> <td>   42.714</td> <td>   19.282</td> <td> 0.000</td> <td>  739.881</td> <td>  907.341</td>\n",
       "</tr>\n",
       "<tr>\n",
       "  <th>Outlet_Type_Supermarket Type3</th>   <td> 1669.9835</td> <td>   42.316</td> <td>   39.464</td> <td> 0.000</td> <td> 1587.032</td> <td> 1752.935</td>\n",
       "</tr>\n",
       "<tr>\n",
       "  <th>Outlet_Size_NA_Medium</th>           <td>   71.3551</td> <td>   55.300</td> <td>    1.290</td> <td> 0.197</td> <td>  -37.048</td> <td>  179.758</td>\n",
       "</tr>\n",
       "<tr>\n",
       "  <th>Outlet_Size_NA_Missing</th>          <td>   97.3814</td> <td>   55.533</td> <td>    1.754</td> <td> 0.080</td> <td>  -11.479</td> <td>  206.241</td>\n",
       "</tr>\n",
       "<tr>\n",
       "  <th>Outlet_Size_NA_Small</th>            <td>   50.6596</td> <td>   38.504</td> <td>    1.316</td> <td> 0.188</td> <td>  -24.820</td> <td>  126.139</td>\n",
       "</tr>\n",
       "</table>\n",
       "<table class=\"simpletable\">\n",
       "<tr>\n",
       "  <th>Omnibus:</th>       <td>897.488</td> <th>  Durbin-Watson:     </th> <td>   2.028</td>\n",
       "</tr>\n",
       "<tr>\n",
       "  <th>Prob(Omnibus):</th> <td> 0.000</td>  <th>  Jarque-Bera (JB):  </th> <td>2219.278</td>\n",
       "</tr>\n",
       "<tr>\n",
       "  <th>Skew:</th>          <td> 0.678</td>  <th>  Prob(JB):          </th> <td>    0.00</td>\n",
       "</tr>\n",
       "<tr>\n",
       "  <th>Kurtosis:</th>      <td> 5.259</td>  <th>  Cond. No.          </th> <td>5.28e+19</td>\n",
       "</tr>\n",
       "</table><br/><br/>Warnings:<br/>[1] Standard Errors assume that the covariance matrix of the errors is correctly specified.<br/>[2] The smallest eigenvalue is 1.1e-29. This might indicate that there are<br/>strong multicollinearity problems or that the design matrix is singular."
      ],
      "text/plain": [
       "<class 'statsmodels.iolib.summary.Summary'>\n",
       "\"\"\"\n",
       "                            OLS Regression Results                            \n",
       "==============================================================================\n",
       "Dep. Variable:      Item_Outlet_Sales   R-squared:                       0.563\n",
       "Model:                            OLS   Adj. R-squared:                  0.562\n",
       "Method:                 Least Squares   F-statistic:                     468.7\n",
       "Date:                Mon, 10 Jun 2019   Prob (F-statistic):               0.00\n",
       "Time:                        10:09:09   Log-Likelihood:                -64768.\n",
       "No. Observations:                7670   AIC:                         1.296e+05\n",
       "Df Residuals:                    7648   BIC:                         1.297e+05\n",
       "Df Model:                          21                                         \n",
       "Covariance Type:            nonrobust                                         \n",
       "===================================================================================================\n",
       "                                      coef    std err          t      P>|t|      [0.025      0.975]\n",
       "---------------------------------------------------------------------------------------------------\n",
       "Item_Weight                        -0.5148      3.058     -0.168      0.866      -6.510       5.480\n",
       "Item_MRP                           15.5062      0.207     74.910      0.000      15.100      15.912\n",
       "Outlet_Establishment_Year          -0.9540      0.048    -19.705      0.000      -1.049      -0.859\n",
       "Item_Visibility_engg             -178.1465    261.919     -0.680      0.496    -691.579     335.286\n",
       "Item_Fat_Content_Regular           55.7565     28.886      1.930      0.054      -0.867     112.380\n",
       "Item_Type_Canned                   23.5204     53.952      0.436      0.663     -82.241     129.281\n",
       "Item_Type_Dairy                   -67.1409     52.573     -1.277      0.202    -170.198      35.916\n",
       "Item_Type_Frozen Foods            -42.4121     48.447     -0.875      0.381    -137.381      52.557\n",
       "Item_Type_Fruits and Vegetables    14.2841     43.038      0.332      0.740     -70.083      98.651\n",
       "Item_Type_Health and Hygiene      -19.5107     59.787     -0.326      0.744    -136.710      97.689\n",
       "Item_Type_Household               -59.1596     49.115     -1.205      0.228    -155.437      37.118\n",
       "Item_Type_Snack Foods             -14.4294     43.258     -0.334      0.739     -99.226      70.368\n",
       "Item_Type_Soft Drinks             -43.3013     62.721     -0.690      0.490    -166.252      79.649\n",
       "Outlet_Identifier_18              823.6110     42.714     19.282      0.000     739.881     907.341\n",
       "Outlet_Identifier_19               62.1788     63.778      0.975      0.330     -62.844     187.202\n",
       "Outlet_Identifier_27             1669.9835     42.316     39.464      0.000    1587.032    1752.935\n",
       "Outlet_Identifier_35               75.8952     38.234      1.985      0.047       0.946     150.844\n",
       "Outlet_Identifier_45             -195.8215     54.874     -3.569      0.000    -303.389     -88.254\n",
       "Outlet_Identifier_46              -87.4144     38.242     -2.286      0.022    -162.379     -12.450\n",
       "Outlet_Type_Supermarket Type1    2022.8569     64.717     31.257      0.000    1895.994    2149.720\n",
       "Outlet_Type_Supermarket Type2     823.6110     42.714     19.282      0.000     739.881     907.341\n",
       "Outlet_Type_Supermarket Type3    1669.9835     42.316     39.464      0.000    1587.032    1752.935\n",
       "Outlet_Size_NA_Medium              71.3551     55.300      1.290      0.197     -37.048     179.758\n",
       "Outlet_Size_NA_Missing             97.3814     55.533      1.754      0.080     -11.479     206.241\n",
       "Outlet_Size_NA_Small               50.6596     38.504      1.316      0.188     -24.820     126.139\n",
       "==============================================================================\n",
       "Omnibus:                      897.488   Durbin-Watson:                   2.028\n",
       "Prob(Omnibus):                  0.000   Jarque-Bera (JB):             2219.278\n",
       "Skew:                           0.678   Prob(JB):                         0.00\n",
       "Kurtosis:                       5.259   Cond. No.                     5.28e+19\n",
       "==============================================================================\n",
       "\n",
       "Warnings:\n",
       "[1] Standard Errors assume that the covariance matrix of the errors is correctly specified.\n",
       "[2] The smallest eigenvalue is 1.1e-29. This might indicate that there are\n",
       "strong multicollinearity problems or that the design matrix is singular.\n",
       "\"\"\""
      ]
     },
     "execution_count": 268,
     "metadata": {},
     "output_type": "execute_result"
    }
   ],
   "source": [
    "linear_Reg_25 = sm.OLS(y_train, X_train_25).fit()\n",
    "linear_Reg_25.summary()"
   ]
  },
  {
   "cell_type": "markdown",
   "metadata": {},
   "source": [
    "#### Here we see lots of variable show p-value of t-stat greater than 0.05, i.e the variable is statically not significant\n",
    "\n"
   ]
  },
  {
   "cell_type": "markdown",
   "metadata": {},
   "source": [
    "##### Lets select 15 best features"
   ]
  },
  {
   "cell_type": "code",
   "execution_count": 269,
   "metadata": {},
   "outputs": [],
   "source": [
    "sel_15 = RFE(RandomForestRegressor(n_estimators=100), n_features_to_select=15)\n",
    "sel_15.fit(X_train_dummy, y_train)\n",
    "selected_feat_rfe_15 = X_train_dummy.columns[(sel_15.get_support())]"
   ]
  },
  {
   "cell_type": "code",
   "execution_count": 270,
   "metadata": {},
   "outputs": [],
   "source": [
    "X_train_15 = X_train_dummy[selected_feat_rfe_15]\n",
    "X_test_15 = X_test_dummy[selected_feat_rfe_15]"
   ]
  },
  {
   "cell_type": "markdown",
   "metadata": {},
   "source": [
    "### OLS"
   ]
  },
  {
   "cell_type": "code",
   "execution_count": 272,
   "metadata": {},
   "outputs": [
    {
     "data": {
      "text/html": [
       "<table class=\"simpletable\">\n",
       "<caption>OLS Regression Results</caption>\n",
       "<tr>\n",
       "  <th>Dep. Variable:</th>    <td>Item_Outlet_Sales</td> <th>  R-squared:         </th> <td>   0.834</td> \n",
       "</tr>\n",
       "<tr>\n",
       "  <th>Model:</th>                   <td>OLS</td>        <th>  Adj. R-squared:    </th> <td>   0.833</td> \n",
       "</tr>\n",
       "<tr>\n",
       "  <th>Method:</th>             <td>Least Squares</td>   <th>  F-statistic:       </th> <td>   2954.</td> \n",
       "</tr>\n",
       "<tr>\n",
       "  <th>Date:</th>             <td>Mon, 10 Jun 2019</td>  <th>  Prob (F-statistic):</th>  <td>  0.00</td>  \n",
       "</tr>\n",
       "<tr>\n",
       "  <th>Time:</th>                 <td>10:12:06</td>      <th>  Log-Likelihood:    </th> <td> -64781.</td> \n",
       "</tr>\n",
       "<tr>\n",
       "  <th>No. Observations:</th>      <td>  7670</td>       <th>  AIC:               </th> <td>1.296e+05</td>\n",
       "</tr>\n",
       "<tr>\n",
       "  <th>Df Residuals:</th>          <td>  7657</td>       <th>  BIC:               </th> <td>1.297e+05</td>\n",
       "</tr>\n",
       "<tr>\n",
       "  <th>Df Model:</th>              <td>    13</td>       <th>                     </th>     <td> </td>    \n",
       "</tr>\n",
       "<tr>\n",
       "  <th>Covariance Type:</th>      <td>nonrobust</td>     <th>                     </th>     <td> </td>    \n",
       "</tr>\n",
       "</table>\n",
       "<table class=\"simpletable\">\n",
       "<tr>\n",
       "                 <td></td>                    <th>coef</th>     <th>std err</th>      <th>t</th>      <th>P>|t|</th>  <th>[0.025</th>    <th>0.975]</th>  \n",
       "</tr>\n",
       "<tr>\n",
       "  <th>Item_Weight</th>                     <td>   -0.8250</td> <td>    3.053</td> <td>   -0.270</td> <td> 0.787</td> <td>   -6.810</td> <td>    5.160</td>\n",
       "</tr>\n",
       "<tr>\n",
       "  <th>Item_MRP</th>                        <td>   15.4831</td> <td>    0.206</td> <td>   74.987</td> <td> 0.000</td> <td>   15.078</td> <td>   15.888</td>\n",
       "</tr>\n",
       "<tr>\n",
       "  <th>Outlet_Establishment_Year</th>       <td>   -0.8994</td> <td>    0.042</td> <td>  -21.395</td> <td> 0.000</td> <td>   -0.982</td> <td>   -0.817</td>\n",
       "</tr>\n",
       "<tr>\n",
       "  <th>Outlet_Size_missingness</th>         <td>  -31.3788</td> <td>   35.644</td> <td>   -0.880</td> <td> 0.379</td> <td> -101.250</td> <td>   38.493</td>\n",
       "</tr>\n",
       "<tr>\n",
       "  <th>Item_Visibility_engg</th>            <td> -168.0126</td> <td>  261.660</td> <td>   -0.642</td> <td> 0.521</td> <td> -680.938</td> <td>  344.913</td>\n",
       "</tr>\n",
       "<tr>\n",
       "  <th>Item_Fat_Content_Regular</th>        <td>   63.5791</td> <td>   27.236</td> <td>    2.334</td> <td> 0.020</td> <td>   10.189</td> <td>  116.969</td>\n",
       "</tr>\n",
       "<tr>\n",
       "  <th>Item_Type_Fruits and Vegetables</th> <td>   36.4354</td> <td>   37.458</td> <td>    0.973</td> <td> 0.331</td> <td>  -36.992</td> <td>  109.863</td>\n",
       "</tr>\n",
       "<tr>\n",
       "  <th>Item_Type_Snack Foods</th>           <td>   10.8000</td> <td>   37.607</td> <td>    0.287</td> <td> 0.774</td> <td>  -62.921</td> <td>   84.521</td>\n",
       "</tr>\n",
       "<tr>\n",
       "  <th>Outlet_Identifier_18</th>            <td>  773.8740</td> <td>   40.420</td> <td>   19.146</td> <td> 0.000</td> <td>  694.639</td> <td>  853.109</td>\n",
       "</tr>\n",
       "<tr>\n",
       "  <th>Outlet_Identifier_19</th>            <td>  -16.4794</td> <td>   80.494</td> <td>   -0.205</td> <td> 0.838</td> <td> -174.270</td> <td>  141.311</td>\n",
       "</tr>\n",
       "<tr>\n",
       "  <th>Outlet_Identifier_27</th>            <td> 1620.6759</td> <td>   40.059</td> <td>   40.457</td> <td> 0.000</td> <td> 1542.148</td> <td> 1699.203</td>\n",
       "</tr>\n",
       "<tr>\n",
       "  <th>Outlet_Type_Supermarket Type1</th>   <td> 1922.9351</td> <td>   58.536</td> <td>   32.850</td> <td> 0.000</td> <td> 1808.189</td> <td> 2037.682</td>\n",
       "</tr>\n",
       "<tr>\n",
       "  <th>Outlet_Type_Supermarket Type2</th>   <td>  773.8740</td> <td>   40.420</td> <td>   19.146</td> <td> 0.000</td> <td>  694.639</td> <td>  853.109</td>\n",
       "</tr>\n",
       "<tr>\n",
       "  <th>Outlet_Type_Supermarket Type3</th>   <td> 1620.6759</td> <td>   40.059</td> <td>   40.457</td> <td> 0.000</td> <td> 1542.148</td> <td> 1699.203</td>\n",
       "</tr>\n",
       "<tr>\n",
       "  <th>Outlet_Size_NA_Medium</th>           <td>   41.2940</td> <td>   45.118</td> <td>    0.915</td> <td> 0.360</td> <td>  -47.149</td> <td>  129.737</td>\n",
       "</tr>\n",
       "</table>\n",
       "<table class=\"simpletable\">\n",
       "<tr>\n",
       "  <th>Omnibus:</th>       <td>889.651</td> <th>  Durbin-Watson:     </th> <td>   2.029</td>\n",
       "</tr>\n",
       "<tr>\n",
       "  <th>Prob(Omnibus):</th> <td> 0.000</td>  <th>  Jarque-Bera (JB):  </th> <td>2195.868</td>\n",
       "</tr>\n",
       "<tr>\n",
       "  <th>Skew:</th>          <td> 0.673</td>  <th>  Prob(JB):          </th> <td>    0.00</td>\n",
       "</tr>\n",
       "<tr>\n",
       "  <th>Kurtosis:</th>      <td> 5.249</td>  <th>  Cond. No.          </th> <td>5.59e+19</td>\n",
       "</tr>\n",
       "</table><br/><br/>Warnings:<br/>[1] Standard Errors assume that the covariance matrix of the errors is correctly specified.<br/>[2] The smallest eigenvalue is 9.85e-30. This might indicate that there are<br/>strong multicollinearity problems or that the design matrix is singular."
      ],
      "text/plain": [
       "<class 'statsmodels.iolib.summary.Summary'>\n",
       "\"\"\"\n",
       "                            OLS Regression Results                            \n",
       "==============================================================================\n",
       "Dep. Variable:      Item_Outlet_Sales   R-squared:                       0.834\n",
       "Model:                            OLS   Adj. R-squared:                  0.833\n",
       "Method:                 Least Squares   F-statistic:                     2954.\n",
       "Date:                Mon, 10 Jun 2019   Prob (F-statistic):               0.00\n",
       "Time:                        10:12:06   Log-Likelihood:                -64781.\n",
       "No. Observations:                7670   AIC:                         1.296e+05\n",
       "Df Residuals:                    7657   BIC:                         1.297e+05\n",
       "Df Model:                          13                                         \n",
       "Covariance Type:            nonrobust                                         \n",
       "===================================================================================================\n",
       "                                      coef    std err          t      P>|t|      [0.025      0.975]\n",
       "---------------------------------------------------------------------------------------------------\n",
       "Item_Weight                        -0.8250      3.053     -0.270      0.787      -6.810       5.160\n",
       "Item_MRP                           15.4831      0.206     74.987      0.000      15.078      15.888\n",
       "Outlet_Establishment_Year          -0.8994      0.042    -21.395      0.000      -0.982      -0.817\n",
       "Outlet_Size_missingness           -31.3788     35.644     -0.880      0.379    -101.250      38.493\n",
       "Item_Visibility_engg             -168.0126    261.660     -0.642      0.521    -680.938     344.913\n",
       "Item_Fat_Content_Regular           63.5791     27.236      2.334      0.020      10.189     116.969\n",
       "Item_Type_Fruits and Vegetables    36.4354     37.458      0.973      0.331     -36.992     109.863\n",
       "Item_Type_Snack Foods              10.8000     37.607      0.287      0.774     -62.921      84.521\n",
       "Outlet_Identifier_18              773.8740     40.420     19.146      0.000     694.639     853.109\n",
       "Outlet_Identifier_19              -16.4794     80.494     -0.205      0.838    -174.270     141.311\n",
       "Outlet_Identifier_27             1620.6759     40.059     40.457      0.000    1542.148    1699.203\n",
       "Outlet_Type_Supermarket Type1    1922.9351     58.536     32.850      0.000    1808.189    2037.682\n",
       "Outlet_Type_Supermarket Type2     773.8740     40.420     19.146      0.000     694.639     853.109\n",
       "Outlet_Type_Supermarket Type3    1620.6759     40.059     40.457      0.000    1542.148    1699.203\n",
       "Outlet_Size_NA_Medium              41.2940     45.118      0.915      0.360     -47.149     129.737\n",
       "==============================================================================\n",
       "Omnibus:                      889.651   Durbin-Watson:                   2.029\n",
       "Prob(Omnibus):                  0.000   Jarque-Bera (JB):             2195.868\n",
       "Skew:                           0.673   Prob(JB):                         0.00\n",
       "Kurtosis:                       5.249   Cond. No.                     5.59e+19\n",
       "==============================================================================\n",
       "\n",
       "Warnings:\n",
       "[1] Standard Errors assume that the covariance matrix of the errors is correctly specified.\n",
       "[2] The smallest eigenvalue is 9.85e-30. This might indicate that there are\n",
       "strong multicollinearity problems or that the design matrix is singular.\n",
       "\"\"\""
      ]
     },
     "execution_count": 272,
     "metadata": {},
     "output_type": "execute_result"
    }
   ],
   "source": [
    "linear_Reg_15 = sm.OLS(y_train, X_train_15).fit()\n",
    "linear_Reg_15.summary()"
   ]
  },
  {
   "cell_type": "code",
   "execution_count": 273,
   "metadata": {},
   "outputs": [
    {
     "data": {
      "text/html": [
       "<table class=\"simpletable\">\n",
       "<caption>OLS Regression Results</caption>\n",
       "<tr>\n",
       "  <th>Dep. Variable:</th>    <td>Item_Outlet_Sales</td> <th>  R-squared:         </th> <td>   0.838</td> \n",
       "</tr>\n",
       "<tr>\n",
       "  <th>Model:</th>                   <td>OLS</td>        <th>  Adj. R-squared:    </th> <td>   0.835</td> \n",
       "</tr>\n",
       "<tr>\n",
       "  <th>Method:</th>             <td>Least Squares</td>   <th>  F-statistic:       </th> <td>   333.8</td> \n",
       "</tr>\n",
       "<tr>\n",
       "  <th>Date:</th>             <td>Mon, 10 Jun 2019</td>  <th>  Prob (F-statistic):</th> <td>5.71e-321</td>\n",
       "</tr>\n",
       "<tr>\n",
       "  <th>Time:</th>                 <td>10:12:07</td>      <th>  Log-Likelihood:    </th> <td> -7212.4</td> \n",
       "</tr>\n",
       "<tr>\n",
       "  <th>No. Observations:</th>      <td>   853</td>       <th>  AIC:               </th> <td>1.445e+04</td>\n",
       "</tr>\n",
       "<tr>\n",
       "  <th>Df Residuals:</th>          <td>   840</td>       <th>  BIC:               </th> <td>1.451e+04</td>\n",
       "</tr>\n",
       "<tr>\n",
       "  <th>Df Model:</th>              <td>    13</td>       <th>                     </th>     <td> </td>    \n",
       "</tr>\n",
       "<tr>\n",
       "  <th>Covariance Type:</th>      <td>nonrobust</td>     <th>                     </th>     <td> </td>    \n",
       "</tr>\n",
       "</table>\n",
       "<table class=\"simpletable\">\n",
       "<tr>\n",
       "                 <td></td>                    <th>coef</th>     <th>std err</th>      <th>t</th>      <th>P>|t|</th>  <th>[0.025</th>    <th>0.975]</th>  \n",
       "</tr>\n",
       "<tr>\n",
       "  <th>Item_Weight</th>                     <td>    0.8542</td> <td>    9.338</td> <td>    0.091</td> <td> 0.927</td> <td>  -17.475</td> <td>   19.183</td>\n",
       "</tr>\n",
       "<tr>\n",
       "  <th>Item_MRP</th>                        <td>   16.1417</td> <td>    0.656</td> <td>   24.600</td> <td> 0.000</td> <td>   14.854</td> <td>   17.430</td>\n",
       "</tr>\n",
       "<tr>\n",
       "  <th>Outlet_Establishment_Year</th>       <td>   -0.9403</td> <td>    0.132</td> <td>   -7.134</td> <td> 0.000</td> <td>   -1.199</td> <td>   -0.682</td>\n",
       "</tr>\n",
       "<tr>\n",
       "  <th>Outlet_Size_missingness</th>         <td>  -46.9236</td> <td>  113.349</td> <td>   -0.414</td> <td> 0.679</td> <td> -269.404</td> <td>  175.556</td>\n",
       "</tr>\n",
       "<tr>\n",
       "  <th>Item_Visibility_engg</th>            <td>-1137.1293</td> <td>  785.125</td> <td>   -1.448</td> <td> 0.148</td> <td>-2678.167</td> <td>  403.908</td>\n",
       "</tr>\n",
       "<tr>\n",
       "  <th>Item_Fat_Content_Regular</th>        <td>  -95.8947</td> <td>   85.127</td> <td>   -1.126</td> <td> 0.260</td> <td> -262.981</td> <td>   71.192</td>\n",
       "</tr>\n",
       "<tr>\n",
       "  <th>Item_Type_Fruits and Vegetables</th> <td>   76.5968</td> <td>  115.609</td> <td>    0.663</td> <td> 0.508</td> <td> -150.320</td> <td>  303.514</td>\n",
       "</tr>\n",
       "<tr>\n",
       "  <th>Item_Type_Snack Foods</th>           <td> -116.6512</td> <td>  118.542</td> <td>   -0.984</td> <td> 0.325</td> <td> -349.324</td> <td>  116.022</td>\n",
       "</tr>\n",
       "<tr>\n",
       "  <th>Outlet_Identifier_18</th>            <td>  856.4316</td> <td>  122.680</td> <td>    6.981</td> <td> 0.000</td> <td>  615.637</td> <td> 1097.227</td>\n",
       "</tr>\n",
       "<tr>\n",
       "  <th>Outlet_Identifier_19</th>            <td>  -99.9835</td> <td>  245.950</td> <td>   -0.407</td> <td> 0.684</td> <td> -582.732</td> <td>  382.765</td>\n",
       "</tr>\n",
       "<tr>\n",
       "  <th>Outlet_Identifier_27</th>            <td> 1768.7127</td> <td>  124.809</td> <td>   14.171</td> <td> 0.000</td> <td> 1523.738</td> <td> 2013.687</td>\n",
       "</tr>\n",
       "<tr>\n",
       "  <th>Outlet_Type_Supermarket Type1</th>   <td> 2019.8027</td> <td>  184.284</td> <td>   10.960</td> <td> 0.000</td> <td> 1658.092</td> <td> 2381.514</td>\n",
       "</tr>\n",
       "<tr>\n",
       "  <th>Outlet_Type_Supermarket Type2</th>   <td>  856.4316</td> <td>  122.680</td> <td>    6.981</td> <td> 0.000</td> <td>  615.637</td> <td> 1097.227</td>\n",
       "</tr>\n",
       "<tr>\n",
       "  <th>Outlet_Type_Supermarket Type3</th>   <td> 1768.7127</td> <td>  124.809</td> <td>   14.171</td> <td> 0.000</td> <td> 1523.738</td> <td> 2013.687</td>\n",
       "</tr>\n",
       "<tr>\n",
       "  <th>Outlet_Size_NA_Medium</th>           <td>   59.5713</td> <td>  135.777</td> <td>    0.439</td> <td> 0.661</td> <td> -206.931</td> <td>  326.074</td>\n",
       "</tr>\n",
       "</table>\n",
       "<table class=\"simpletable\">\n",
       "<tr>\n",
       "  <th>Omnibus:</th>       <td>71.089</td> <th>  Durbin-Watson:     </th> <td>   1.835</td>\n",
       "</tr>\n",
       "<tr>\n",
       "  <th>Prob(Omnibus):</th> <td> 0.000</td> <th>  Jarque-Bera (JB):  </th> <td> 118.941</td>\n",
       "</tr>\n",
       "<tr>\n",
       "  <th>Skew:</th>          <td> 0.583</td> <th>  Prob(JB):          </th> <td>1.49e-26</td>\n",
       "</tr>\n",
       "<tr>\n",
       "  <th>Kurtosis:</th>      <td> 4.410</td> <th>  Cond. No.          </th> <td>4.91e+19</td>\n",
       "</tr>\n",
       "</table><br/><br/>Warnings:<br/>[1] Standard Errors assume that the covariance matrix of the errors is correctly specified.<br/>[2] The smallest eigenvalue is 1.42e-30. This might indicate that there are<br/>strong multicollinearity problems or that the design matrix is singular."
      ],
      "text/plain": [
       "<class 'statsmodels.iolib.summary.Summary'>\n",
       "\"\"\"\n",
       "                            OLS Regression Results                            \n",
       "==============================================================================\n",
       "Dep. Variable:      Item_Outlet_Sales   R-squared:                       0.838\n",
       "Model:                            OLS   Adj. R-squared:                  0.835\n",
       "Method:                 Least Squares   F-statistic:                     333.8\n",
       "Date:                Mon, 10 Jun 2019   Prob (F-statistic):          5.71e-321\n",
       "Time:                        10:12:07   Log-Likelihood:                -7212.4\n",
       "No. Observations:                 853   AIC:                         1.445e+04\n",
       "Df Residuals:                     840   BIC:                         1.451e+04\n",
       "Df Model:                          13                                         \n",
       "Covariance Type:            nonrobust                                         \n",
       "===================================================================================================\n",
       "                                      coef    std err          t      P>|t|      [0.025      0.975]\n",
       "---------------------------------------------------------------------------------------------------\n",
       "Item_Weight                         0.8542      9.338      0.091      0.927     -17.475      19.183\n",
       "Item_MRP                           16.1417      0.656     24.600      0.000      14.854      17.430\n",
       "Outlet_Establishment_Year          -0.9403      0.132     -7.134      0.000      -1.199      -0.682\n",
       "Outlet_Size_missingness           -46.9236    113.349     -0.414      0.679    -269.404     175.556\n",
       "Item_Visibility_engg            -1137.1293    785.125     -1.448      0.148   -2678.167     403.908\n",
       "Item_Fat_Content_Regular          -95.8947     85.127     -1.126      0.260    -262.981      71.192\n",
       "Item_Type_Fruits and Vegetables    76.5968    115.609      0.663      0.508    -150.320     303.514\n",
       "Item_Type_Snack Foods            -116.6512    118.542     -0.984      0.325    -349.324     116.022\n",
       "Outlet_Identifier_18              856.4316    122.680      6.981      0.000     615.637    1097.227\n",
       "Outlet_Identifier_19              -99.9835    245.950     -0.407      0.684    -582.732     382.765\n",
       "Outlet_Identifier_27             1768.7127    124.809     14.171      0.000    1523.738    2013.687\n",
       "Outlet_Type_Supermarket Type1    2019.8027    184.284     10.960      0.000    1658.092    2381.514\n",
       "Outlet_Type_Supermarket Type2     856.4316    122.680      6.981      0.000     615.637    1097.227\n",
       "Outlet_Type_Supermarket Type3    1768.7127    124.809     14.171      0.000    1523.738    2013.687\n",
       "Outlet_Size_NA_Medium              59.5713    135.777      0.439      0.661    -206.931     326.074\n",
       "==============================================================================\n",
       "Omnibus:                       71.089   Durbin-Watson:                   1.835\n",
       "Prob(Omnibus):                  0.000   Jarque-Bera (JB):              118.941\n",
       "Skew:                           0.583   Prob(JB):                     1.49e-26\n",
       "Kurtosis:                       4.410   Cond. No.                     4.91e+19\n",
       "==============================================================================\n",
       "\n",
       "Warnings:\n",
       "[1] Standard Errors assume that the covariance matrix of the errors is correctly specified.\n",
       "[2] The smallest eigenvalue is 1.42e-30. This might indicate that there are\n",
       "strong multicollinearity problems or that the design matrix is singular.\n",
       "\"\"\""
      ]
     },
     "execution_count": 273,
     "metadata": {},
     "output_type": "execute_result"
    }
   ],
   "source": [
    "linear_Reg_15 = sm.OLS(y_test, X_test_15).fit()\n",
    "linear_Reg_15.summary()"
   ]
  },
  {
   "cell_type": "markdown",
   "metadata": {},
   "source": [
    "    We see that our R-sq has increases as well as Adjusted R-sq, More powerfull models can be made\n",
    "\n",
    "    Item_Weight, Item_Type_Snack Foods, Outlet_Identifier_19 show high p-value of t-stats\n",
    "\n",
    "    I think I should not have capped the outliers of Item_visibility column.\n",
    "    ============================================================================\n",
    "    \n",
    "    coef -0.6229 means that if Item_Weight increases by 1 unit, the predicted value of Salse decrease by 0.6229 unit.\n",
    "\n",
    "    R-Squared - Percentage of variation the model explains\n",
    "\n",
    "    R-sq = (1 -(SSr/SSt))\n",
    "\n",
    "    SSr = Sum of Sq errors(prediction)\n",
    "    SSt = Sum of sq errors(simplest model i.e. mean of y)\n",
    "    \n",
    "    Standard error is accuracy of prediction, the lower the standered error the better is the estimate\n",
    "\n",
    "t-stat and its p-value = \n",
    "\n",
    "\n",
    "    if the p-value is below 0.05 then it means the variable is staticallt significant\n",
    "    \n",
    "    "
   ]
  },
  {
   "cell_type": "markdown",
   "metadata": {},
   "source": [
    "## Saving the model to disk"
   ]
  },
  {
   "cell_type": "code",
   "execution_count": 274,
   "metadata": {},
   "outputs": [],
   "source": [
    "# save the model to disk\n",
    "import pickle\n",
    "filename = 'linear_Reg_15.sav'\n",
    "pickle.dump(linear_Reg_15, open(filename, 'wb'))"
   ]
  },
  {
   "cell_type": "code",
   "execution_count": null,
   "metadata": {},
   "outputs": [],
   "source": []
  },
  {
   "cell_type": "code",
   "execution_count": null,
   "metadata": {},
   "outputs": [],
   "source": []
  },
  {
   "cell_type": "code",
   "execution_count": null,
   "metadata": {},
   "outputs": [],
   "source": []
  }
 ],
 "metadata": {
  "kernelspec": {
   "display_name": "Python 3",
   "language": "python",
   "name": "python3"
  },
  "language_info": {
   "codemirror_mode": {
    "name": "ipython",
    "version": 3
   },
   "file_extension": ".py",
   "mimetype": "text/x-python",
   "name": "python",
   "nbconvert_exporter": "python",
   "pygments_lexer": "ipython3",
   "version": "3.7.1"
  }
 },
 "nbformat": 4,
 "nbformat_minor": 2
}
