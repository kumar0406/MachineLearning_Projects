{
 "cells": [
  {
   "cell_type": "code",
   "execution_count": 1,
   "metadata": {},
   "outputs": [],
   "source": [
    "# Data Manipulation\n",
    "import pandas as pd\n",
    "import numpy as np\n",
    "\n",
    "# Data Visualization\n",
    "import matplotlib.pyplot as plt\n",
    "\n",
    "import seaborn as sns\n",
    "%matplotlib inline\n",
    "\n",
    "\n",
    "plt.rcParams['font.size'] = 18"
   ]
  },
  {
   "cell_type": "code",
   "execution_count": 2,
   "metadata": {},
   "outputs": [],
   "source": [
    "## The file size is 1.5 gb. hence we will read only 50,000 rows\n",
    "\n",
    "df = pd.read_csv('../NY_Taxi_Fair/train.csv', nrows = 1_000_000)"
   ]
  },
  {
   "cell_type": "code",
   "execution_count": 3,
   "metadata": {},
   "outputs": [
    {
     "data": {
      "text/plain": [
       "(1000000, 8)"
      ]
     },
     "execution_count": 3,
     "metadata": {},
     "output_type": "execute_result"
    }
   ],
   "source": [
    "df.shape"
   ]
  },
  {
   "cell_type": "code",
   "execution_count": 4,
   "metadata": {},
   "outputs": [
    {
     "data": {
      "text/html": [
       "<div>\n",
       "<style scoped>\n",
       "    .dataframe tbody tr th:only-of-type {\n",
       "        vertical-align: middle;\n",
       "    }\n",
       "\n",
       "    .dataframe tbody tr th {\n",
       "        vertical-align: top;\n",
       "    }\n",
       "\n",
       "    .dataframe thead th {\n",
       "        text-align: right;\n",
       "    }\n",
       "</style>\n",
       "<table border=\"1\" class=\"dataframe\">\n",
       "  <thead>\n",
       "    <tr style=\"text-align: right;\">\n",
       "      <th></th>\n",
       "      <th>key</th>\n",
       "      <th>fare_amount</th>\n",
       "      <th>pickup_datetime</th>\n",
       "      <th>pickup_longitude</th>\n",
       "      <th>pickup_latitude</th>\n",
       "      <th>dropoff_longitude</th>\n",
       "      <th>dropoff_latitude</th>\n",
       "      <th>passenger_count</th>\n",
       "    </tr>\n",
       "  </thead>\n",
       "  <tbody>\n",
       "    <tr>\n",
       "      <th>0</th>\n",
       "      <td>2009-06-15 17:26:21.0000001</td>\n",
       "      <td>4.5</td>\n",
       "      <td>2009-06-15 17:26:21 UTC</td>\n",
       "      <td>-73.844311</td>\n",
       "      <td>40.721319</td>\n",
       "      <td>-73.841610</td>\n",
       "      <td>40.712278</td>\n",
       "      <td>1</td>\n",
       "    </tr>\n",
       "    <tr>\n",
       "      <th>1</th>\n",
       "      <td>2010-01-05 16:52:16.0000002</td>\n",
       "      <td>16.9</td>\n",
       "      <td>2010-01-05 16:52:16 UTC</td>\n",
       "      <td>-74.016048</td>\n",
       "      <td>40.711303</td>\n",
       "      <td>-73.979268</td>\n",
       "      <td>40.782004</td>\n",
       "      <td>1</td>\n",
       "    </tr>\n",
       "    <tr>\n",
       "      <th>2</th>\n",
       "      <td>2011-08-18 00:35:00.00000049</td>\n",
       "      <td>5.7</td>\n",
       "      <td>2011-08-18 00:35:00 UTC</td>\n",
       "      <td>-73.982738</td>\n",
       "      <td>40.761270</td>\n",
       "      <td>-73.991242</td>\n",
       "      <td>40.750562</td>\n",
       "      <td>2</td>\n",
       "    </tr>\n",
       "    <tr>\n",
       "      <th>3</th>\n",
       "      <td>2012-04-21 04:30:42.0000001</td>\n",
       "      <td>7.7</td>\n",
       "      <td>2012-04-21 04:30:42 UTC</td>\n",
       "      <td>-73.987130</td>\n",
       "      <td>40.733143</td>\n",
       "      <td>-73.991567</td>\n",
       "      <td>40.758092</td>\n",
       "      <td>1</td>\n",
       "    </tr>\n",
       "    <tr>\n",
       "      <th>4</th>\n",
       "      <td>2010-03-09 07:51:00.000000135</td>\n",
       "      <td>5.3</td>\n",
       "      <td>2010-03-09 07:51:00 UTC</td>\n",
       "      <td>-73.968095</td>\n",
       "      <td>40.768008</td>\n",
       "      <td>-73.956655</td>\n",
       "      <td>40.783762</td>\n",
       "      <td>1</td>\n",
       "    </tr>\n",
       "  </tbody>\n",
       "</table>\n",
       "</div>"
      ],
      "text/plain": [
       "                             key  fare_amount          pickup_datetime  \\\n",
       "0    2009-06-15 17:26:21.0000001          4.5  2009-06-15 17:26:21 UTC   \n",
       "1    2010-01-05 16:52:16.0000002         16.9  2010-01-05 16:52:16 UTC   \n",
       "2   2011-08-18 00:35:00.00000049          5.7  2011-08-18 00:35:00 UTC   \n",
       "3    2012-04-21 04:30:42.0000001          7.7  2012-04-21 04:30:42 UTC   \n",
       "4  2010-03-09 07:51:00.000000135          5.3  2010-03-09 07:51:00 UTC   \n",
       "\n",
       "   pickup_longitude  pickup_latitude  dropoff_longitude  dropoff_latitude  \\\n",
       "0        -73.844311        40.721319         -73.841610         40.712278   \n",
       "1        -74.016048        40.711303         -73.979268         40.782004   \n",
       "2        -73.982738        40.761270         -73.991242         40.750562   \n",
       "3        -73.987130        40.733143         -73.991567         40.758092   \n",
       "4        -73.968095        40.768008         -73.956655         40.783762   \n",
       "\n",
       "   passenger_count  \n",
       "0                1  \n",
       "1                1  \n",
       "2                2  \n",
       "3                1  \n",
       "4                1  "
      ]
     },
     "execution_count": 4,
     "metadata": {},
     "output_type": "execute_result"
    }
   ],
   "source": [
    "## inspect the data\n",
    "df.head()"
   ]
  },
  {
   "cell_type": "code",
   "execution_count": 5,
   "metadata": {},
   "outputs": [],
   "source": [
    "df.drop('key', axis = 1, inplace=True)"
   ]
  },
  {
   "cell_type": "code",
   "execution_count": 6,
   "metadata": {},
   "outputs": [
    {
     "data": {
      "text/html": [
       "<div>\n",
       "<style scoped>\n",
       "    .dataframe tbody tr th:only-of-type {\n",
       "        vertical-align: middle;\n",
       "    }\n",
       "\n",
       "    .dataframe tbody tr th {\n",
       "        vertical-align: top;\n",
       "    }\n",
       "\n",
       "    .dataframe thead th {\n",
       "        text-align: right;\n",
       "    }\n",
       "</style>\n",
       "<table border=\"1\" class=\"dataframe\">\n",
       "  <thead>\n",
       "    <tr style=\"text-align: right;\">\n",
       "      <th></th>\n",
       "      <th>fare_amount</th>\n",
       "      <th>pickup_datetime</th>\n",
       "      <th>pickup_longitude</th>\n",
       "      <th>pickup_latitude</th>\n",
       "      <th>dropoff_longitude</th>\n",
       "      <th>dropoff_latitude</th>\n",
       "      <th>passenger_count</th>\n",
       "    </tr>\n",
       "  </thead>\n",
       "  <tbody>\n",
       "    <tr>\n",
       "      <th>0</th>\n",
       "      <td>4.5</td>\n",
       "      <td>2009-06-15 17:26:21 UTC</td>\n",
       "      <td>-73.844311</td>\n",
       "      <td>40.721319</td>\n",
       "      <td>-73.841610</td>\n",
       "      <td>40.712278</td>\n",
       "      <td>1</td>\n",
       "    </tr>\n",
       "    <tr>\n",
       "      <th>1</th>\n",
       "      <td>16.9</td>\n",
       "      <td>2010-01-05 16:52:16 UTC</td>\n",
       "      <td>-74.016048</td>\n",
       "      <td>40.711303</td>\n",
       "      <td>-73.979268</td>\n",
       "      <td>40.782004</td>\n",
       "      <td>1</td>\n",
       "    </tr>\n",
       "    <tr>\n",
       "      <th>2</th>\n",
       "      <td>5.7</td>\n",
       "      <td>2011-08-18 00:35:00 UTC</td>\n",
       "      <td>-73.982738</td>\n",
       "      <td>40.761270</td>\n",
       "      <td>-73.991242</td>\n",
       "      <td>40.750562</td>\n",
       "      <td>2</td>\n",
       "    </tr>\n",
       "    <tr>\n",
       "      <th>3</th>\n",
       "      <td>7.7</td>\n",
       "      <td>2012-04-21 04:30:42 UTC</td>\n",
       "      <td>-73.987130</td>\n",
       "      <td>40.733143</td>\n",
       "      <td>-73.991567</td>\n",
       "      <td>40.758092</td>\n",
       "      <td>1</td>\n",
       "    </tr>\n",
       "    <tr>\n",
       "      <th>4</th>\n",
       "      <td>5.3</td>\n",
       "      <td>2010-03-09 07:51:00 UTC</td>\n",
       "      <td>-73.968095</td>\n",
       "      <td>40.768008</td>\n",
       "      <td>-73.956655</td>\n",
       "      <td>40.783762</td>\n",
       "      <td>1</td>\n",
       "    </tr>\n",
       "  </tbody>\n",
       "</table>\n",
       "</div>"
      ],
      "text/plain": [
       "   fare_amount          pickup_datetime  pickup_longitude  pickup_latitude  \\\n",
       "0          4.5  2009-06-15 17:26:21 UTC        -73.844311        40.721319   \n",
       "1         16.9  2010-01-05 16:52:16 UTC        -74.016048        40.711303   \n",
       "2          5.7  2011-08-18 00:35:00 UTC        -73.982738        40.761270   \n",
       "3          7.7  2012-04-21 04:30:42 UTC        -73.987130        40.733143   \n",
       "4          5.3  2010-03-09 07:51:00 UTC        -73.968095        40.768008   \n",
       "\n",
       "   dropoff_longitude  dropoff_latitude  passenger_count  \n",
       "0         -73.841610         40.712278                1  \n",
       "1         -73.979268         40.782004                1  \n",
       "2         -73.991242         40.750562                2  \n",
       "3         -73.991567         40.758092                1  \n",
       "4         -73.956655         40.783762                1  "
      ]
     },
     "execution_count": 6,
     "metadata": {},
     "output_type": "execute_result"
    }
   ],
   "source": [
    "df.head()"
   ]
  },
  {
   "cell_type": "code",
   "execution_count": 7,
   "metadata": {},
   "outputs": [
    {
     "data": {
      "text/plain": [
       "2"
      ]
     },
     "execution_count": 7,
     "metadata": {},
     "output_type": "execute_result"
    }
   ],
   "source": [
    "df.isnull().any().sum()"
   ]
  },
  {
   "cell_type": "markdown",
   "metadata": {},
   "source": [
    "#### There are 2 missing values"
   ]
  },
  {
   "cell_type": "code",
   "execution_count": 8,
   "metadata": {},
   "outputs": [],
   "source": [
    "df.dropna(inplace=True)"
   ]
  },
  {
   "cell_type": "code",
   "execution_count": 9,
   "metadata": {},
   "outputs": [
    {
     "data": {
      "text/plain": [
       "0"
      ]
     },
     "execution_count": 9,
     "metadata": {},
     "output_type": "execute_result"
    }
   ],
   "source": [
    "df.isnull().any().sum()"
   ]
  },
  {
   "cell_type": "code",
   "execution_count": null,
   "metadata": {},
   "outputs": [],
   "source": []
  },
  {
   "cell_type": "code",
   "execution_count": 10,
   "metadata": {},
   "outputs": [
    {
     "data": {
      "text/html": [
       "<div>\n",
       "<style scoped>\n",
       "    .dataframe tbody tr th:only-of-type {\n",
       "        vertical-align: middle;\n",
       "    }\n",
       "\n",
       "    .dataframe tbody tr th {\n",
       "        vertical-align: top;\n",
       "    }\n",
       "\n",
       "    .dataframe thead th {\n",
       "        text-align: right;\n",
       "    }\n",
       "</style>\n",
       "<table border=\"1\" class=\"dataframe\">\n",
       "  <thead>\n",
       "    <tr style=\"text-align: right;\">\n",
       "      <th></th>\n",
       "      <th>fare_amount</th>\n",
       "      <th>pickup_longitude</th>\n",
       "      <th>pickup_latitude</th>\n",
       "      <th>dropoff_longitude</th>\n",
       "      <th>dropoff_latitude</th>\n",
       "      <th>passenger_count</th>\n",
       "    </tr>\n",
       "  </thead>\n",
       "  <tbody>\n",
       "    <tr>\n",
       "      <th>count</th>\n",
       "      <td>999990.000000</td>\n",
       "      <td>999990.000000</td>\n",
       "      <td>999990.000000</td>\n",
       "      <td>999990.000000</td>\n",
       "      <td>999990.000000</td>\n",
       "      <td>999990.000000</td>\n",
       "    </tr>\n",
       "    <tr>\n",
       "      <th>mean</th>\n",
       "      <td>11.347953</td>\n",
       "      <td>-72.526699</td>\n",
       "      <td>39.929040</td>\n",
       "      <td>-72.527860</td>\n",
       "      <td>39.919954</td>\n",
       "      <td>1.684941</td>\n",
       "    </tr>\n",
       "    <tr>\n",
       "      <th>std</th>\n",
       "      <td>9.821790</td>\n",
       "      <td>12.057778</td>\n",
       "      <td>7.626087</td>\n",
       "      <td>11.324494</td>\n",
       "      <td>8.201418</td>\n",
       "      <td>1.323907</td>\n",
       "    </tr>\n",
       "    <tr>\n",
       "      <th>min</th>\n",
       "      <td>-44.900000</td>\n",
       "      <td>-3377.680935</td>\n",
       "      <td>-3116.285383</td>\n",
       "      <td>-3383.296608</td>\n",
       "      <td>-3114.338567</td>\n",
       "      <td>0.000000</td>\n",
       "    </tr>\n",
       "    <tr>\n",
       "      <th>25%</th>\n",
       "      <td>6.000000</td>\n",
       "      <td>-73.992060</td>\n",
       "      <td>40.734965</td>\n",
       "      <td>-73.991385</td>\n",
       "      <td>40.734046</td>\n",
       "      <td>1.000000</td>\n",
       "    </tr>\n",
       "    <tr>\n",
       "      <th>50%</th>\n",
       "      <td>8.500000</td>\n",
       "      <td>-73.981792</td>\n",
       "      <td>40.752695</td>\n",
       "      <td>-73.980135</td>\n",
       "      <td>40.753166</td>\n",
       "      <td>1.000000</td>\n",
       "    </tr>\n",
       "    <tr>\n",
       "      <th>75%</th>\n",
       "      <td>12.500000</td>\n",
       "      <td>-73.967094</td>\n",
       "      <td>40.767154</td>\n",
       "      <td>-73.963654</td>\n",
       "      <td>40.768129</td>\n",
       "      <td>2.000000</td>\n",
       "    </tr>\n",
       "    <tr>\n",
       "      <th>max</th>\n",
       "      <td>500.000000</td>\n",
       "      <td>2522.271325</td>\n",
       "      <td>2621.628430</td>\n",
       "      <td>45.581619</td>\n",
       "      <td>1651.553433</td>\n",
       "      <td>208.000000</td>\n",
       "    </tr>\n",
       "  </tbody>\n",
       "</table>\n",
       "</div>"
      ],
      "text/plain": [
       "         fare_amount  pickup_longitude  pickup_latitude  dropoff_longitude  \\\n",
       "count  999990.000000     999990.000000    999990.000000      999990.000000   \n",
       "mean       11.347953        -72.526699        39.929040         -72.527860   \n",
       "std         9.821790         12.057778         7.626087          11.324494   \n",
       "min       -44.900000      -3377.680935     -3116.285383       -3383.296608   \n",
       "25%         6.000000        -73.992060        40.734965         -73.991385   \n",
       "50%         8.500000        -73.981792        40.752695         -73.980135   \n",
       "75%        12.500000        -73.967094        40.767154         -73.963654   \n",
       "max       500.000000       2522.271325      2621.628430          45.581619   \n",
       "\n",
       "       dropoff_latitude  passenger_count  \n",
       "count     999990.000000    999990.000000  \n",
       "mean          39.919954         1.684941  \n",
       "std            8.201418         1.323907  \n",
       "min        -3114.338567         0.000000  \n",
       "25%           40.734046         1.000000  \n",
       "50%           40.753166         1.000000  \n",
       "75%           40.768129         2.000000  \n",
       "max         1651.553433       208.000000  "
      ]
     },
     "execution_count": 10,
     "metadata": {},
     "output_type": "execute_result"
    }
   ],
   "source": [
    "df.describe()"
   ]
  },
  {
   "cell_type": "code",
   "execution_count": null,
   "metadata": {},
   "outputs": [],
   "source": []
  },
  {
   "cell_type": "code",
   "execution_count": 11,
   "metadata": {},
   "outputs": [
    {
     "name": "stderr",
     "output_type": "stream",
     "text": [
      "C:\\ProgramData\\Anaconda\\envs\\nlp\\lib\\site-packages\\scipy\\stats\\stats.py:1713: FutureWarning: Using a non-tuple sequence for multidimensional indexing is deprecated; use `arr[tuple(seq)]` instead of `arr[seq]`. In the future this will be interpreted as an array index, `arr[np.array(seq)]`, which will result either in an error or a different result.\n",
      "  return np.add.reduce(sorted[indexer] * weights, axis=axis) / sumval\n"
     ]
    },
    {
     "data": {
      "text/plain": [
       "<matplotlib.axes._subplots.AxesSubplot at 0x25ecbafe278>"
      ]
     },
     "execution_count": 11,
     "metadata": {},
     "output_type": "execute_result"
    },
    {
     "data": {
      "image/png": "[encoded data removed]",
      "text/plain": [
       "<Figure size 432x288 with 1 Axes>"
      ]
     },
     "metadata": {
      "needs_background": "light"
     },
     "output_type": "display_data"
    }
   ],
   "source": [
    "sns.distplot(df['fare_amount'])"
   ]
  },
  {
   "cell_type": "code",
   "execution_count": 12,
   "metadata": {},
   "outputs": [
    {
     "name": "stdout",
     "output_type": "stream",
     "text": [
      "There are 38 negative fairs\n",
      "There are 29 Zero\n",
      "There are 396 fare more than avg.\n"
     ]
    }
   ],
   "source": [
    "## Find a little insights about the fair, as we see outliers are there\n",
    "print(f\"There are {df[df['fare_amount']<0].shape[0]} negative fairs\")\n",
    "print(f\"There are {df[df['fare_amount']==0].shape[0]} Zero\")\n",
    "print(f\"There are {df[df['fare_amount']>100].shape[0]} fare more than avg.\")"
   ]
  },
  {
   "cell_type": "markdown",
   "metadata": {},
   "source": [
    "Here in this case we will remove all fairs less than 2.5 dollars, \n",
    "and more than $100, while making another model we will change this data and see our result"
   ]
  },
  {
   "cell_type": "code",
   "execution_count": 13,
   "metadata": {},
   "outputs": [],
   "source": [
    "df = df[df['fare_amount'].between(left=2.5, right=100)]"
   ]
  },
  {
   "cell_type": "code",
   "execution_count": 14,
   "metadata": {},
   "outputs": [
    {
     "data": {
      "text/html": [
       "<div>\n",
       "<style scoped>\n",
       "    .dataframe tbody tr th:only-of-type {\n",
       "        vertical-align: middle;\n",
       "    }\n",
       "\n",
       "    .dataframe tbody tr th {\n",
       "        vertical-align: top;\n",
       "    }\n",
       "\n",
       "    .dataframe thead th {\n",
       "        text-align: right;\n",
       "    }\n",
       "</style>\n",
       "<table border=\"1\" class=\"dataframe\">\n",
       "  <thead>\n",
       "    <tr style=\"text-align: right;\">\n",
       "      <th></th>\n",
       "      <th>fare_amount</th>\n",
       "      <th>pickup_datetime</th>\n",
       "      <th>pickup_longitude</th>\n",
       "      <th>pickup_latitude</th>\n",
       "      <th>dropoff_longitude</th>\n",
       "      <th>dropoff_latitude</th>\n",
       "      <th>passenger_count</th>\n",
       "    </tr>\n",
       "  </thead>\n",
       "  <tbody>\n",
       "    <tr>\n",
       "      <th>0</th>\n",
       "      <td>4.5</td>\n",
       "      <td>2009-06-15 17:26:21 UTC</td>\n",
       "      <td>-73.844311</td>\n",
       "      <td>40.721319</td>\n",
       "      <td>-73.841610</td>\n",
       "      <td>40.712278</td>\n",
       "      <td>1</td>\n",
       "    </tr>\n",
       "    <tr>\n",
       "      <th>1</th>\n",
       "      <td>16.9</td>\n",
       "      <td>2010-01-05 16:52:16 UTC</td>\n",
       "      <td>-74.016048</td>\n",
       "      <td>40.711303</td>\n",
       "      <td>-73.979268</td>\n",
       "      <td>40.782004</td>\n",
       "      <td>1</td>\n",
       "    </tr>\n",
       "  </tbody>\n",
       "</table>\n",
       "</div>"
      ],
      "text/plain": [
       "   fare_amount          pickup_datetime  pickup_longitude  pickup_latitude  \\\n",
       "0          4.5  2009-06-15 17:26:21 UTC        -73.844311        40.721319   \n",
       "1         16.9  2010-01-05 16:52:16 UTC        -74.016048        40.711303   \n",
       "\n",
       "   dropoff_longitude  dropoff_latitude  passenger_count  \n",
       "0         -73.841610         40.712278                1  \n",
       "1         -73.979268         40.782004                1  "
      ]
     },
     "execution_count": 14,
     "metadata": {},
     "output_type": "execute_result"
    }
   ],
   "source": [
    "df.head(2)"
   ]
  },
  {
   "cell_type": "code",
   "execution_count": 15,
   "metadata": {},
   "outputs": [
    {
     "data": {
      "text/plain": [
       "<matplotlib.axes._subplots.AxesSubplot at 0x25ecbae3ef0>"
      ]
     },
     "execution_count": 15,
     "metadata": {},
     "output_type": "execute_result"
    },
    {
     "data": {
      "image/png": "[encoded data removed]",
      "text/plain": [
       "<Figure size 432x288 with 1 Axes>"
      ]
     },
     "metadata": {
      "needs_background": "light"
     },
     "output_type": "display_data"
    }
   ],
   "source": [
    "sns.distplot(df['fare_amount'])"
   ]
  },
  {
   "cell_type": "markdown",
   "metadata": {},
   "source": [
    "Here we see a normalised curve, but its not clearly visible"
   ]
  },
  {
   "cell_type": "code",
   "execution_count": 16,
   "metadata": {},
   "outputs": [],
   "source": [
    "## Make bins of fare\n",
    "df['fare_bin'] = pd.cut(df['fare_amount'], bins=list(range(0, 50 , 5))).astype(str)"
   ]
  },
  {
   "cell_type": "code",
   "execution_count": 17,
   "metadata": {},
   "outputs": [
    {
     "data": {
      "text/html": [
       "<div>\n",
       "<style scoped>\n",
       "    .dataframe tbody tr th:only-of-type {\n",
       "        vertical-align: middle;\n",
       "    }\n",
       "\n",
       "    .dataframe tbody tr th {\n",
       "        vertical-align: top;\n",
       "    }\n",
       "\n",
       "    .dataframe thead th {\n",
       "        text-align: right;\n",
       "    }\n",
       "</style>\n",
       "<table border=\"1\" class=\"dataframe\">\n",
       "  <thead>\n",
       "    <tr style=\"text-align: right;\">\n",
       "      <th></th>\n",
       "      <th>fare_amount</th>\n",
       "      <th>pickup_datetime</th>\n",
       "      <th>pickup_longitude</th>\n",
       "      <th>pickup_latitude</th>\n",
       "      <th>dropoff_longitude</th>\n",
       "      <th>dropoff_latitude</th>\n",
       "      <th>passenger_count</th>\n",
       "      <th>fare_bin</th>\n",
       "    </tr>\n",
       "  </thead>\n",
       "  <tbody>\n",
       "    <tr>\n",
       "      <th>0</th>\n",
       "      <td>4.5</td>\n",
       "      <td>2009-06-15 17:26:21 UTC</td>\n",
       "      <td>-73.844311</td>\n",
       "      <td>40.721319</td>\n",
       "      <td>-73.841610</td>\n",
       "      <td>40.712278</td>\n",
       "      <td>1</td>\n",
       "      <td>(0, 5]</td>\n",
       "    </tr>\n",
       "    <tr>\n",
       "      <th>1</th>\n",
       "      <td>16.9</td>\n",
       "      <td>2010-01-05 16:52:16 UTC</td>\n",
       "      <td>-74.016048</td>\n",
       "      <td>40.711303</td>\n",
       "      <td>-73.979268</td>\n",
       "      <td>40.782004</td>\n",
       "      <td>1</td>\n",
       "      <td>(15, 20]</td>\n",
       "    </tr>\n",
       "    <tr>\n",
       "      <th>2</th>\n",
       "      <td>5.7</td>\n",
       "      <td>2011-08-18 00:35:00 UTC</td>\n",
       "      <td>-73.982738</td>\n",
       "      <td>40.761270</td>\n",
       "      <td>-73.991242</td>\n",
       "      <td>40.750562</td>\n",
       "      <td>2</td>\n",
       "      <td>(5, 10]</td>\n",
       "    </tr>\n",
       "    <tr>\n",
       "      <th>3</th>\n",
       "      <td>7.7</td>\n",
       "      <td>2012-04-21 04:30:42 UTC</td>\n",
       "      <td>-73.987130</td>\n",
       "      <td>40.733143</td>\n",
       "      <td>-73.991567</td>\n",
       "      <td>40.758092</td>\n",
       "      <td>1</td>\n",
       "      <td>(5, 10]</td>\n",
       "    </tr>\n",
       "  </tbody>\n",
       "</table>\n",
       "</div>"
      ],
      "text/plain": [
       "   fare_amount          pickup_datetime  pickup_longitude  pickup_latitude  \\\n",
       "0          4.5  2009-06-15 17:26:21 UTC        -73.844311        40.721319   \n",
       "1         16.9  2010-01-05 16:52:16 UTC        -74.016048        40.711303   \n",
       "2          5.7  2011-08-18 00:35:00 UTC        -73.982738        40.761270   \n",
       "3          7.7  2012-04-21 04:30:42 UTC        -73.987130        40.733143   \n",
       "\n",
       "   dropoff_longitude  dropoff_latitude  passenger_count  fare_bin  \n",
       "0         -73.841610         40.712278                1    (0, 5]  \n",
       "1         -73.979268         40.782004                1  (15, 20]  \n",
       "2         -73.991242         40.750562                2   (5, 10]  \n",
       "3         -73.991567         40.758092                1   (5, 10]  "
      ]
     },
     "execution_count": 17,
     "metadata": {},
     "output_type": "execute_result"
    }
   ],
   "source": [
    "df.head(4)"
   ]
  },
  {
   "cell_type": "code",
   "execution_count": 18,
   "metadata": {},
   "outputs": [],
   "source": [
    "## Uppermost bin\n",
    "df.loc[df['fare_bin'] == 'nan', 'fare_bin']  = \"[45+]\""
   ]
  },
  {
   "cell_type": "code",
   "execution_count": 19,
   "metadata": {},
   "outputs": [
    {
     "data": {
      "text/plain": [
       "Text(0.5, 1.0, 'fare-binned')"
      ]
     },
     "execution_count": 19,
     "metadata": {},
     "output_type": "execute_result"
    },
    {
     "data": {
      "image/png": "[encoded data removed]",
      "text/plain": [
       "<Figure size 432x288 with 1 Axes>"
      ]
     },
     "metadata": {},
     "output_type": "display_data"
    }
   ],
   "source": [
    "## Create a bar plot of value counts\n",
    "palette = sns.color_palette('Paired', 10)\n",
    "plt.style.use('fivethirtyeight')\n",
    "plt.rcParams['font.size'] = 8\n",
    "\n",
    "\n",
    "\n",
    "df.loc[df['fare_bin']== '(5, 10]', 'fare_bin'] = '(05, 10]'\n",
    "df['fare_bin'].value_counts().sort_index().plot(kind='bar', color='b', edgecolor='k')\n",
    "plt.title('fare-binned')"
   ]
  },
  {
   "cell_type": "markdown",
   "metadata": {},
   "source": [
    "      Our plot shows the plot is heavily skewed, most of the fair lies below $20, \n",
    "      we will remove it, but first lets have a look on passanger counts, there seems to be a relationship between \n",
    "      passanger count"
   ]
  },
  {
   "cell_type": "code",
   "execution_count": 20,
   "metadata": {},
   "outputs": [
    {
     "data": {
      "text/plain": [
       "Text(0, 0.5, 'Frequency')"
      ]
     },
     "execution_count": 20,
     "metadata": {},
     "output_type": "execute_result"
    },
    {
     "data": {
      "image/png": "[encoded data removed]",
      "text/plain": [
       "<Figure size 432x288 with 1 Axes>"
      ]
     },
     "metadata": {},
     "output_type": "display_data"
    }
   ],
   "source": [
    "df['passenger_count'].value_counts().plot.bar(color = 'b', edgecolor= 'k')\n",
    "plt.title('passanger count plot')\n",
    "plt.xlabel('No. of passanger')\n",
    "plt.ylabel('Frequency')"
   ]
  },
  {
   "cell_type": "markdown",
   "metadata": {},
   "source": [
    "We dont have any passanger greater than 6"
   ]
  },
  {
   "cell_type": "code",
   "execution_count": null,
   "metadata": {},
   "outputs": [],
   "source": []
  },
  {
   "cell_type": "code",
   "execution_count": 21,
   "metadata": {},
   "outputs": [],
   "source": [
    "## Find the absolute difference between longitude and latitude, i.e substract the longitude and latitude\n",
    "\n",
    "df['abs_lat_diff'] = (df['dropoff_latitude']) - (df['pickup_latitude']).abs()\n",
    "df['abs_lon_diff'] = (df['dropoff_longitude']) - (df['pickup_longitude']).abs()"
   ]
  },
  {
   "cell_type": "code",
   "execution_count": 22,
   "metadata": {},
   "outputs": [
    {
     "data": {
      "text/html": [
       "<div>\n",
       "<style scoped>\n",
       "    .dataframe tbody tr th:only-of-type {\n",
       "        vertical-align: middle;\n",
       "    }\n",
       "\n",
       "    .dataframe tbody tr th {\n",
       "        vertical-align: top;\n",
       "    }\n",
       "\n",
       "    .dataframe thead th {\n",
       "        text-align: right;\n",
       "    }\n",
       "</style>\n",
       "<table border=\"1\" class=\"dataframe\">\n",
       "  <thead>\n",
       "    <tr style=\"text-align: right;\">\n",
       "      <th></th>\n",
       "      <th>fare_amount</th>\n",
       "      <th>pickup_datetime</th>\n",
       "      <th>pickup_longitude</th>\n",
       "      <th>pickup_latitude</th>\n",
       "      <th>dropoff_longitude</th>\n",
       "      <th>dropoff_latitude</th>\n",
       "      <th>passenger_count</th>\n",
       "      <th>fare_bin</th>\n",
       "      <th>abs_lat_diff</th>\n",
       "      <th>abs_lon_diff</th>\n",
       "    </tr>\n",
       "  </thead>\n",
       "  <tbody>\n",
       "    <tr>\n",
       "      <th>0</th>\n",
       "      <td>4.5</td>\n",
       "      <td>2009-06-15 17:26:21 UTC</td>\n",
       "      <td>-73.844311</td>\n",
       "      <td>40.721319</td>\n",
       "      <td>-73.841610</td>\n",
       "      <td>40.712278</td>\n",
       "      <td>1</td>\n",
       "      <td>(0, 5]</td>\n",
       "      <td>-0.009041</td>\n",
       "      <td>-147.685921</td>\n",
       "    </tr>\n",
       "    <tr>\n",
       "      <th>1</th>\n",
       "      <td>16.9</td>\n",
       "      <td>2010-01-05 16:52:16 UTC</td>\n",
       "      <td>-74.016048</td>\n",
       "      <td>40.711303</td>\n",
       "      <td>-73.979268</td>\n",
       "      <td>40.782004</td>\n",
       "      <td>1</td>\n",
       "      <td>(15, 20]</td>\n",
       "      <td>0.070701</td>\n",
       "      <td>-147.995316</td>\n",
       "    </tr>\n",
       "    <tr>\n",
       "      <th>2</th>\n",
       "      <td>5.7</td>\n",
       "      <td>2011-08-18 00:35:00 UTC</td>\n",
       "      <td>-73.982738</td>\n",
       "      <td>40.761270</td>\n",
       "      <td>-73.991242</td>\n",
       "      <td>40.750562</td>\n",
       "      <td>2</td>\n",
       "      <td>(05, 10]</td>\n",
       "      <td>-0.010708</td>\n",
       "      <td>-147.973980</td>\n",
       "    </tr>\n",
       "  </tbody>\n",
       "</table>\n",
       "</div>"
      ],
      "text/plain": [
       "   fare_amount          pickup_datetime  pickup_longitude  pickup_latitude  \\\n",
       "0          4.5  2009-06-15 17:26:21 UTC        -73.844311        40.721319   \n",
       "1         16.9  2010-01-05 16:52:16 UTC        -74.016048        40.711303   \n",
       "2          5.7  2011-08-18 00:35:00 UTC        -73.982738        40.761270   \n",
       "\n",
       "   dropoff_longitude  dropoff_latitude  passenger_count  fare_bin  \\\n",
       "0         -73.841610         40.712278                1    (0, 5]   \n",
       "1         -73.979268         40.782004                1  (15, 20]   \n",
       "2         -73.991242         40.750562                2  (05, 10]   \n",
       "\n",
       "   abs_lat_diff  abs_lon_diff  \n",
       "0     -0.009041   -147.685921  \n",
       "1      0.070701   -147.995316  \n",
       "2     -0.010708   -147.973980  "
      ]
     },
     "execution_count": 22,
     "metadata": {},
     "output_type": "execute_result"
    }
   ],
   "source": [
    "df.head(3)"
   ]
  },
  {
   "cell_type": "code",
   "execution_count": null,
   "metadata": {},
   "outputs": [],
   "source": []
  },
  {
   "cell_type": "code",
   "execution_count": 23,
   "metadata": {},
   "outputs": [],
   "source": [
    "## Plot the lat_diff and lon_diff to know were there any outliers"
   ]
  },
  {
   "cell_type": "code",
   "execution_count": 24,
   "metadata": {},
   "outputs": [],
   "source": [
    "#df['abs_lat_diff'].value_counts().plot.bar()"
   ]
  },
  {
   "cell_type": "code",
   "execution_count": 25,
   "metadata": {},
   "outputs": [
    {
     "name": "stderr",
     "output_type": "stream",
     "text": [
      "C:\\ProgramData\\Anaconda\\envs\\nlp\\lib\\site-packages\\scipy\\stats\\stats.py:1713: FutureWarning: Using a non-tuple sequence for multidimensional indexing is deprecated; use `arr[tuple(seq)]` instead of `arr[seq]`. In the future this will be interpreted as an array index, `arr[np.array(seq)]`, which will result either in an error or a different result.\n",
      "  return np.add.reduce(sorted[indexer] * weights, axis=axis) / sumval\n"
     ]
    },
    {
     "data": {
      "text/plain": [
       "<matplotlib.axes._subplots.AxesSubplot at 0x25ee5e3c0f0>"
      ]
     },
     "execution_count": 25,
     "metadata": {},
     "output_type": "execute_result"
    },
    {
     "data": {
      "image/png": "[encoded data removed]",
      "text/plain": [
       "<Figure size 432x288 with 1 Axes>"
      ]
     },
     "metadata": {},
     "output_type": "display_data"
    }
   ],
   "source": [
    "sns.distplot(df['abs_lat_diff'])\n"
   ]
  },
  {
   "cell_type": "code",
   "execution_count": 26,
   "metadata": {},
   "outputs": [
    {
     "data": {
      "text/plain": [
       "<matplotlib.axes._subplots.AxesSubplot at 0x25ee5cc8e10>"
      ]
     },
     "execution_count": 26,
     "metadata": {},
     "output_type": "execute_result"
    },
    {
     "data": {
      "image/png": "[encoded data removed]",
      "text/plain": [
       "<Figure size 432x288 with 1 Axes>"
      ]
     },
     "metadata": {},
     "output_type": "display_data"
    }
   ],
   "source": [
    "sns.distplot(df['abs_lon_diff'])"
   ]
  },
  {
   "cell_type": "code",
   "execution_count": 27,
   "metadata": {},
   "outputs": [],
   "source": [
    "## The variance is very high, reducing it will help us"
   ]
  },
  {
   "cell_type": "code",
   "execution_count": 30,
   "metadata": {},
   "outputs": [
    {
     "data": {
      "text/plain": [
       "\"\\ndata = df.loc[df['pickup_latitude'].between(40, 42)]\\ndata = df.loc[df['pickup_longitude'].between(-75, -72)]\\ndata = df.loc[df['dropoff_latitude'].between(40, 42)]\\ndata = df.loc[df['dropoff_longitude'].between(-75, -72)]\""
      ]
     },
     "execution_count": 30,
     "metadata": {},
     "output_type": "execute_result"
    }
   ],
   "source": [
    "# Remove latitude and longtiude outliers\n",
    "\"\"\"\n",
    "data = df.loc[df['pickup_latitude'].between(40, 42)]\n",
    "data = df.loc[df['pickup_longitude'].between(-75, -72)]\n",
    "data = df.loc[df['dropoff_latitude'].between(40, 42)]\n",
    "data = df.loc[df['dropoff_longitude'].between(-75, -72)]\"\"\""
   ]
  },
  {
   "cell_type": "code",
   "execution_count": 31,
   "metadata": {},
   "outputs": [
    {
     "data": {
      "text/plain": [
       "'data.head()'"
      ]
     },
     "execution_count": 31,
     "metadata": {},
     "output_type": "execute_result"
    }
   ],
   "source": [
    "\"\"\"data.head()\"\"\""
   ]
  },
  {
   "cell_type": "code",
   "execution_count": 32,
   "metadata": {},
   "outputs": [
    {
     "data": {
      "text/plain": [
       "\"data['pickup_datetime'].value_counts().plot()\""
      ]
     },
     "execution_count": 32,
     "metadata": {},
     "output_type": "execute_result"
    }
   ],
   "source": [
    "\"\"\"data['pickup_datetime'].value_counts().plot()\"\"\""
   ]
  },
  {
   "cell_type": "code",
   "execution_count": 33,
   "metadata": {},
   "outputs": [
    {
     "data": {
      "text/plain": [
       "\"sns.distplot(data['dropoff_latitude'])\""
      ]
     },
     "execution_count": 33,
     "metadata": {},
     "output_type": "execute_result"
    }
   ],
   "source": [
    "\"\"\"sns.distplot(data['dropoff_latitude'])\"\"\""
   ]
  },
  {
   "cell_type": "code",
   "execution_count": 34,
   "metadata": {},
   "outputs": [],
   "source": [
    "## Plot longitude and latitude against each other"
   ]
  },
  {
   "cell_type": "code",
   "execution_count": 35,
   "metadata": {},
   "outputs": [
    {
     "data": {
      "text/plain": [
       "\"fig, axes = plt.subplots(1, 2, figsize = (20, 8), sharex=True, sharey=True)\\naxes = axes.flatten()\\n\\nsns.regplot('pickup_longitude', 'pickup_latitude', fit_reg = False, \\n            data = data.sample(100000, random_state = 100), ax = axes[0])\\n\\nsns.regplot('dropoff_longitude', 'dropoff_latitude', fit_reg = False, \\n            data = data.sample(100000, random_state = 100), ax = axes[1]);\\naxes[0].set_title('Pickup Locations')\\naxes[1].set_title('Dropoff Locations');\""
      ]
     },
     "execution_count": 35,
     "metadata": {},
     "output_type": "execute_result"
    }
   ],
   "source": [
    "\"\"\"fig, axes = plt.subplots(1, 2, figsize = (20, 8), sharex=True, sharey=True)\n",
    "axes = axes.flatten()\n",
    "\n",
    "sns.regplot('pickup_longitude', 'pickup_latitude', fit_reg = False, \n",
    "            data = data.sample(100000, random_state = 100), ax = axes[0])\n",
    "\n",
    "sns.regplot('dropoff_longitude', 'dropoff_latitude', fit_reg = False, \n",
    "            data = data.sample(100000, random_state = 100), ax = axes[1]);\n",
    "axes[0].set_title('Pickup Locations')\n",
    "axes[1].set_title('Dropoff Locations');\"\"\""
   ]
  },
  {
   "cell_type": "code",
   "execution_count": 36,
   "metadata": {},
   "outputs": [
    {
     "data": {
      "text/plain": [
       "\"## there are out liers, remove them\\nlen(data[data['pickup_longitude']>-10])\""
      ]
     },
     "execution_count": 36,
     "metadata": {},
     "output_type": "execute_result"
    }
   ],
   "source": [
    "\"\"\"## there are out liers, remove them\n",
    "len(data[data['pickup_longitude']>-10])\"\"\""
   ]
  },
  {
   "cell_type": "code",
   "execution_count": 37,
   "metadata": {},
   "outputs": [
    {
     "data": {
      "text/plain": [
       "\"len(data[data['dropoff_latitude']>50])\""
      ]
     },
     "execution_count": 37,
     "metadata": {},
     "output_type": "execute_result"
    }
   ],
   "source": [
    "\"\"\"len(data[data['dropoff_latitude']>50])\"\"\""
   ]
  },
  {
   "cell_type": "code",
   "execution_count": 38,
   "metadata": {},
   "outputs": [
    {
     "data": {
      "text/plain": [
       "\"# Remove latitude and longtiude outliers\\ndata = df.loc[df['pickup_latitude'].between(left= 0, right= 50)]\\ndata = df.loc[df['pickup_longitude'].between(left = -80,right = -20)]\\ndata = df.loc[df['dropoff_latitude'].between(left = 0,right= 100)]\\ndata = df.loc[df['dropoff_longitude'].between(left = -80,right= -60)]\""
      ]
     },
     "execution_count": 38,
     "metadata": {},
     "output_type": "execute_result"
    }
   ],
   "source": [
    "\"\"\"# Remove latitude and longtiude outliers\n",
    "data = df.loc[df['pickup_latitude'].between(left= 0, right= 50)]\n",
    "data = df.loc[df['pickup_longitude'].between(left = -80,right = -20)]\n",
    "data = df.loc[df['dropoff_latitude'].between(left = 0,right= 100)]\n",
    "data = df.loc[df['dropoff_longitude'].between(left = -80,right= -60)]\"\"\""
   ]
  },
  {
   "cell_type": "code",
   "execution_count": 39,
   "metadata": {},
   "outputs": [
    {
     "data": {
      "text/plain": [
       "\"fig, axes = plt.subplots(1, 2, figsize = (20, 8), sharex=True, sharey=True)\\naxes = axes.flatten()\\n\\nsns.regplot('pickup_longitude', 'pickup_latitude', fit_reg = False, \\n            data = data.sample(100000, random_state = 100), ax = axes[0])\\n\\nsns.regplot('dropoff_longitude', 'dropoff_latitude', fit_reg = False, \\n            data = data.sample(100000, random_state = 100), ax = axes[1]);\\naxes[0].set_title('Pickup Locations')\\naxes[1].set_title('Dropoff Locations');\""
      ]
     },
     "execution_count": 39,
     "metadata": {},
     "output_type": "execute_result"
    }
   ],
   "source": [
    "\"\"\"fig, axes = plt.subplots(1, 2, figsize = (20, 8), sharex=True, sharey=True)\n",
    "axes = axes.flatten()\n",
    "\n",
    "sns.regplot('pickup_longitude', 'pickup_latitude', fit_reg = False, \n",
    "            data = data.sample(100000, random_state = 100), ax = axes[0])\n",
    "\n",
    "sns.regplot('dropoff_longitude', 'dropoff_latitude', fit_reg = False, \n",
    "            data = data.sample(100000, random_state = 100), ax = axes[1]);\n",
    "axes[0].set_title('Pickup Locations')\n",
    "axes[1].set_title('Dropoff Locations');\"\"\""
   ]
  },
  {
   "cell_type": "code",
   "execution_count": 40,
   "metadata": {},
   "outputs": [],
   "source": [
    "## nothing is happening, lets do it one by one"
   ]
  },
  {
   "cell_type": "code",
   "execution_count": 41,
   "metadata": {},
   "outputs": [
    {
     "data": {
      "text/plain": [
       "\"data = df.loc[(df['pickup_latitude']>0) & (df['pickup_latitude']<50)]\""
      ]
     },
     "execution_count": 41,
     "metadata": {},
     "output_type": "execute_result"
    }
   ],
   "source": [
    "\"\"\"data = df.loc[(df['pickup_latitude']>0) & (df['pickup_latitude']<50)]\"\"\""
   ]
  },
  {
   "cell_type": "code",
   "execution_count": 42,
   "metadata": {},
   "outputs": [
    {
     "data": {
      "text/plain": [
       "'data.describe()'"
      ]
     },
     "execution_count": 42,
     "metadata": {},
     "output_type": "execute_result"
    }
   ],
   "source": [
    "\"\"\"data.describe()\"\"\""
   ]
  },
  {
   "cell_type": "code",
   "execution_count": 43,
   "metadata": {},
   "outputs": [
    {
     "data": {
      "text/plain": [
       "\"data = data.loc[(data['pickup_longitude']<-50)&(data['pickup_longitude']>-100)]\""
      ]
     },
     "execution_count": 43,
     "metadata": {},
     "output_type": "execute_result"
    }
   ],
   "source": [
    "\"\"\"data = data.loc[(data['pickup_longitude']<-50)&(data['pickup_longitude']>-100)]\"\"\""
   ]
  },
  {
   "cell_type": "code",
   "execution_count": 44,
   "metadata": {},
   "outputs": [
    {
     "data": {
      "text/plain": [
       "'data.describe()'"
      ]
     },
     "execution_count": 44,
     "metadata": {},
     "output_type": "execute_result"
    }
   ],
   "source": [
    "\"\"\"data.describe()\"\"\""
   ]
  },
  {
   "cell_type": "code",
   "execution_count": 45,
   "metadata": {},
   "outputs": [
    {
     "data": {
      "text/plain": [
       "\"data = data.loc[(data['pickup_latitude']>0) & (data['pickup_latitude']<50)]\\n\\ndata = data.loc[(data['dropoff_longitude']>-100) & (data['dropoff_longitude']<-60)]\\ndata = data.loc[(data['dropoff_latitude']>0) & (data['dropoff_latitude']<100)]\""
      ]
     },
     "execution_count": 45,
     "metadata": {},
     "output_type": "execute_result"
    }
   ],
   "source": [
    "\"\"\"data = data.loc[(data['pickup_latitude']>0) & (data['pickup_latitude']<50)]\n",
    "\n",
    "data = data.loc[(data['dropoff_longitude']>-100) & (data['dropoff_longitude']<-60)]\n",
    "data = data.loc[(data['dropoff_latitude']>0) & (data['dropoff_latitude']<100)]\"\"\""
   ]
  },
  {
   "cell_type": "code",
   "execution_count": 46,
   "metadata": {},
   "outputs": [
    {
     "data": {
      "text/plain": [
       "'data.describe()'"
      ]
     },
     "execution_count": 46,
     "metadata": {},
     "output_type": "execute_result"
    }
   ],
   "source": [
    "\"\"\"data.describe()\"\"\""
   ]
  },
  {
   "cell_type": "code",
   "execution_count": 47,
   "metadata": {},
   "outputs": [
    {
     "data": {
      "text/plain": [
       "\"fig, axes = plt.subplots(1, 2, figsize = (20, 8), sharex=True, sharey=True)\\naxes = axes.flatten()\\n\\nsns.regplot('pickup_longitude', 'pickup_latitude', fit_reg = False, \\n            data = data.sample(100000, random_state = 100), ax = axes[0])\\n\\nsns.regplot('dropoff_longitude', 'dropoff_latitude', fit_reg = False, \\n            data = data.sample(100000, random_state = 100), ax = axes[1]);\\naxes[0].set_title('Pickup Locations')\\naxes[1].set_title('Dropoff Locations');\""
      ]
     },
     "execution_count": 47,
     "metadata": {},
     "output_type": "execute_result"
    }
   ],
   "source": [
    "\"\"\"fig, axes = plt.subplots(1, 2, figsize = (20, 8), sharex=True, sharey=True)\n",
    "axes = axes.flatten()\n",
    "\n",
    "sns.regplot('pickup_longitude', 'pickup_latitude', fit_reg = False, \n",
    "            data = data.sample(100000, random_state = 100), ax = axes[0])\n",
    "\n",
    "sns.regplot('dropoff_longitude', 'dropoff_latitude', fit_reg = False, \n",
    "            data = data.sample(100000, random_state = 100), ax = axes[1]);\n",
    "axes[0].set_title('Pickup Locations')\n",
    "axes[1].set_title('Dropoff Locations');\"\"\""
   ]
  },
  {
   "cell_type": "code",
   "execution_count": 48,
   "metadata": {},
   "outputs": [],
   "source": [
    "## Lets not consider them as outliers"
   ]
  },
  {
   "cell_type": "markdown",
   "metadata": {},
   "source": [
    "# Feature Engineering\n",
    "    A process of creating predictors, which can predict target more accurately than existing features"
   ]
  },
  {
   "cell_type": "code",
   "execution_count": 49,
   "metadata": {},
   "outputs": [],
   "source": [
    "##Plot abs_lat and abs_lon on a graph"
   ]
  },
  {
   "cell_type": "code",
   "execution_count": 50,
   "metadata": {},
   "outputs": [
    {
     "data": {
      "text/plain": [
       "\"sns.lmplot(x='abs_lat_diff', y='abs_lon_diff', data=data.sample(10000), fit_reg=False)\\nplt.title('absolute lat vs absolute lon')\""
      ]
     },
     "execution_count": 50,
     "metadata": {},
     "output_type": "execute_result"
    }
   ],
   "source": [
    "\"\"\"sns.lmplot(x='abs_lat_diff', y='abs_lon_diff', data=data.sample(10000), fit_reg=False)\n",
    "plt.title('absolute lat vs absolute lon')\"\"\""
   ]
  },
  {
   "cell_type": "code",
   "execution_count": 51,
   "metadata": {},
   "outputs": [
    {
     "data": {
      "text/plain": [
       "\"data = data.drop(['abs_lat_diff', 'abs_lon_diff'], axis=1)\""
      ]
     },
     "execution_count": 51,
     "metadata": {},
     "output_type": "execute_result"
    }
   ],
   "source": [
    "\"\"\"data = data.drop(['abs_lat_diff', 'abs_lon_diff'], axis=1)\"\"\""
   ]
  },
  {
   "cell_type": "code",
   "execution_count": 52,
   "metadata": {},
   "outputs": [
    {
     "data": {
      "text/plain": [
       "'data.head()'"
      ]
     },
     "execution_count": 52,
     "metadata": {},
     "output_type": "execute_result"
    }
   ],
   "source": [
    "\"\"\"data.head()\"\"\""
   ]
  },
  {
   "cell_type": "code",
   "execution_count": 53,
   "metadata": {},
   "outputs": [
    {
     "data": {
      "text/plain": [
       "'df.head()'"
      ]
     },
     "execution_count": 53,
     "metadata": {},
     "output_type": "execute_result"
    }
   ],
   "source": [
    "\"\"\"df.head()\"\"\""
   ]
  },
  {
   "cell_type": "markdown",
   "metadata": {},
   "source": [
    "## Checkpoint 1"
   ]
  },
  {
   "cell_type": "code",
   "execution_count": 28,
   "metadata": {},
   "outputs": [],
   "source": [
    "df1 = df.copy()"
   ]
  },
  {
   "cell_type": "code",
   "execution_count": 29,
   "metadata": {},
   "outputs": [
    {
     "data": {
      "text/plain": [
       "(999517, 10)"
      ]
     },
     "execution_count": 29,
     "metadata": {},
     "output_type": "execute_result"
    }
   ],
   "source": [
    "df1.shape"
   ]
  },
  {
   "cell_type": "code",
   "execution_count": 30,
   "metadata": {},
   "outputs": [],
   "source": [
    "df1 = df1.loc[(df1['pickup_latitude']>0) & (df1['pickup_latitude']<50)]\n",
    "df1 = df1.loc[(df1['pickup_longitude']<-50)&(df1['pickup_longitude']>-100)]\n",
    "\n",
    "df1 = df1.loc[(df1['dropoff_longitude']>-100) & (df1['dropoff_longitude']<-60)]\n",
    "df1 = df1.loc[(df1['dropoff_latitude']>0) & (df1['dropoff_latitude']<100)]"
   ]
  },
  {
   "cell_type": "code",
   "execution_count": 31,
   "metadata": {},
   "outputs": [
    {
     "data": {
      "text/plain": [
       "Text(0.5, 1.0, 'dropoff_location')"
      ]
     },
     "execution_count": 31,
     "metadata": {},
     "output_type": "execute_result"
    },
    {
     "data": {
      "image/png": "[encoded data removed]",
      "text/plain": [
       "<Figure size 1440x720 with 2 Axes>"
      ]
     },
     "metadata": {},
     "output_type": "display_data"
    }
   ],
   "source": [
    "fig, axes = plt.subplots(1,2, figsize=(20,10))\n",
    "axes = axes.flatten()\n",
    "\n",
    "sns.regplot(x =\"pickup_latitude\" , y =\"pickup_longitude\" , data = df1.sample(10000, random_state=100),fit_reg=False, ax=axes[0])\n",
    "sns.regplot(x =\"dropoff_latitude\" , y =\"dropoff_longitude\" , data = df1.sample(10000, random_state=100),fit_reg=False, ax=axes[1])\n",
    "axes[0].set_title('pickup location')\n",
    "axes[1].set_title('dropoff_location')"
   ]
  },
  {
   "cell_type": "code",
   "execution_count": 32,
   "metadata": {},
   "outputs": [],
   "source": [
    "## Lets create absolute difference, and check no travel at all\n",
    "df1['abs_lat_diff'] = (df1['pickup_latitude'])-(df1['dropoff_latitude'])\n",
    "\n",
    "df1['abs_lon_diff'] = (df1['pickup_longitude'])-(df1['dropoff_longitude'])"
   ]
  },
  {
   "cell_type": "code",
   "execution_count": 33,
   "metadata": {},
   "outputs": [
    {
     "data": {
      "text/html": [
       "<div>\n",
       "<style scoped>\n",
       "    .dataframe tbody tr th:only-of-type {\n",
       "        vertical-align: middle;\n",
       "    }\n",
       "\n",
       "    .dataframe tbody tr th {\n",
       "        vertical-align: top;\n",
       "    }\n",
       "\n",
       "    .dataframe thead th {\n",
       "        text-align: right;\n",
       "    }\n",
       "</style>\n",
       "<table border=\"1\" class=\"dataframe\">\n",
       "  <thead>\n",
       "    <tr style=\"text-align: right;\">\n",
       "      <th></th>\n",
       "      <th>fare_amount</th>\n",
       "      <th>pickup_datetime</th>\n",
       "      <th>pickup_longitude</th>\n",
       "      <th>pickup_latitude</th>\n",
       "      <th>dropoff_longitude</th>\n",
       "      <th>dropoff_latitude</th>\n",
       "      <th>passenger_count</th>\n",
       "      <th>fare_bin</th>\n",
       "      <th>abs_lat_diff</th>\n",
       "      <th>abs_lon_diff</th>\n",
       "    </tr>\n",
       "  </thead>\n",
       "  <tbody>\n",
       "    <tr>\n",
       "      <th>0</th>\n",
       "      <td>4.5</td>\n",
       "      <td>2009-06-15 17:26:21 UTC</td>\n",
       "      <td>-73.844311</td>\n",
       "      <td>40.721319</td>\n",
       "      <td>-73.841610</td>\n",
       "      <td>40.712278</td>\n",
       "      <td>1</td>\n",
       "      <td>(0, 5]</td>\n",
       "      <td>0.009041</td>\n",
       "      <td>-0.002701</td>\n",
       "    </tr>\n",
       "    <tr>\n",
       "      <th>1</th>\n",
       "      <td>16.9</td>\n",
       "      <td>2010-01-05 16:52:16 UTC</td>\n",
       "      <td>-74.016048</td>\n",
       "      <td>40.711303</td>\n",
       "      <td>-73.979268</td>\n",
       "      <td>40.782004</td>\n",
       "      <td>1</td>\n",
       "      <td>(15, 20]</td>\n",
       "      <td>-0.070701</td>\n",
       "      <td>-0.036780</td>\n",
       "    </tr>\n",
       "    <tr>\n",
       "      <th>2</th>\n",
       "      <td>5.7</td>\n",
       "      <td>2011-08-18 00:35:00 UTC</td>\n",
       "      <td>-73.982738</td>\n",
       "      <td>40.761270</td>\n",
       "      <td>-73.991242</td>\n",
       "      <td>40.750562</td>\n",
       "      <td>2</td>\n",
       "      <td>(05, 10]</td>\n",
       "      <td>0.010708</td>\n",
       "      <td>0.008504</td>\n",
       "    </tr>\n",
       "    <tr>\n",
       "      <th>3</th>\n",
       "      <td>7.7</td>\n",
       "      <td>2012-04-21 04:30:42 UTC</td>\n",
       "      <td>-73.987130</td>\n",
       "      <td>40.733143</td>\n",
       "      <td>-73.991567</td>\n",
       "      <td>40.758092</td>\n",
       "      <td>1</td>\n",
       "      <td>(05, 10]</td>\n",
       "      <td>-0.024949</td>\n",
       "      <td>0.004437</td>\n",
       "    </tr>\n",
       "    <tr>\n",
       "      <th>4</th>\n",
       "      <td>5.3</td>\n",
       "      <td>2010-03-09 07:51:00 UTC</td>\n",
       "      <td>-73.968095</td>\n",
       "      <td>40.768008</td>\n",
       "      <td>-73.956655</td>\n",
       "      <td>40.783762</td>\n",
       "      <td>1</td>\n",
       "      <td>(05, 10]</td>\n",
       "      <td>-0.015754</td>\n",
       "      <td>-0.011440</td>\n",
       "    </tr>\n",
       "  </tbody>\n",
       "</table>\n",
       "</div>"
      ],
      "text/plain": [
       "   fare_amount          pickup_datetime  pickup_longitude  pickup_latitude  \\\n",
       "0          4.5  2009-06-15 17:26:21 UTC        -73.844311        40.721319   \n",
       "1         16.9  2010-01-05 16:52:16 UTC        -74.016048        40.711303   \n",
       "2          5.7  2011-08-18 00:35:00 UTC        -73.982738        40.761270   \n",
       "3          7.7  2012-04-21 04:30:42 UTC        -73.987130        40.733143   \n",
       "4          5.3  2010-03-09 07:51:00 UTC        -73.968095        40.768008   \n",
       "\n",
       "   dropoff_longitude  dropoff_latitude  passenger_count  fare_bin  \\\n",
       "0         -73.841610         40.712278                1    (0, 5]   \n",
       "1         -73.979268         40.782004                1  (15, 20]   \n",
       "2         -73.991242         40.750562                2  (05, 10]   \n",
       "3         -73.991567         40.758092                1  (05, 10]   \n",
       "4         -73.956655         40.783762                1  (05, 10]   \n",
       "\n",
       "   abs_lat_diff  abs_lon_diff  \n",
       "0      0.009041     -0.002701  \n",
       "1     -0.070701     -0.036780  \n",
       "2      0.010708      0.008504  \n",
       "3     -0.024949      0.004437  \n",
       "4     -0.015754     -0.011440  "
      ]
     },
     "execution_count": 33,
     "metadata": {},
     "output_type": "execute_result"
    }
   ],
   "source": [
    "df1.head()"
   ]
  },
  {
   "cell_type": "code",
   "execution_count": 34,
   "metadata": {},
   "outputs": [],
   "source": [
    "## find out how many 0.0 are lat lon diff"
   ]
  },
  {
   "cell_type": "code",
   "execution_count": 35,
   "metadata": {},
   "outputs": [],
   "source": [
    "no_diff = df1[(df1['abs_lat_diff']==0) &(df1['abs_lon_diff']==0)]"
   ]
  },
  {
   "cell_type": "code",
   "execution_count": 36,
   "metadata": {},
   "outputs": [
    {
     "data": {
      "text/plain": [
       "10497"
      ]
     },
     "execution_count": 36,
     "metadata": {},
     "output_type": "execute_result"
    }
   ],
   "source": [
    "len(no_diff)"
   ]
  },
  {
   "cell_type": "markdown",
   "metadata": {},
   "source": [
    "#### This is strange that there was no difference between the lat lon"
   ]
  },
  {
   "cell_type": "code",
   "execution_count": 37,
   "metadata": {},
   "outputs": [
    {
     "name": "stderr",
     "output_type": "stream",
     "text": [
      "C:\\ProgramData\\Anaconda\\envs\\nlp\\lib\\site-packages\\seaborn\\regression.py:546: UserWarning: The `size` paramter has been renamed to `height`; please update your code.\n",
      "  warnings.warn(msg, UserWarning)\n"
     ]
    },
    {
     "data": {
      "text/plain": [
       "Text(0.5, 1.0, '')"
      ]
     },
     "execution_count": 37,
     "metadata": {},
     "output_type": "execute_result"
    },
    {
     "data": {
      "image/png": "[encoded data removed]",
      "text/plain": [
       "<Figure size 636.3x576 with 1 Axes>"
      ]
     },
     "metadata": {},
     "output_type": "display_data"
    }
   ],
   "source": [
    "## Plot the regplot with fare_bin\n",
    "sns.lmplot(x= 'abs_lat_diff', y='abs_lon_diff', hue='fare_bin', data = df1.sample(10000, random_state=100),\n",
    "           fit_reg=False,size = 8, palette=palette)\n",
    "plt.title('')"
   ]
  },
  {
   "cell_type": "code",
   "execution_count": 38,
   "metadata": {},
   "outputs": [
    {
     "name": "stderr",
     "output_type": "stream",
     "text": [
      "C:\\ProgramData\\Anaconda\\envs\\nlp\\lib\\site-packages\\seaborn\\regression.py:546: UserWarning: The `size` paramter has been renamed to `height`; please update your code.\n",
      "  warnings.warn(msg, UserWarning)\n"
     ]
    },
    {
     "data": {
      "text/plain": [
       "Text(0.5, 1.0, 'absolute latitude longitude _fare')"
      ]
     },
     "execution_count": 38,
     "metadata": {},
     "output_type": "execute_result"
    },
    {
     "data": {
      "image/png": "[encoded data removed]",
      "text/plain": [
       "<Figure size 780.3x720 with 1 Axes>"
      ]
     },
     "metadata": {},
     "output_type": "display_data"
    }
   ],
   "source": [
    "## Lets have a closer look \n",
    "\n",
    "sns.lmplot(x= 'abs_lat_diff', y = 'abs_lon_diff', hue='fare_bin', \n",
    "           data= df1.sample(10000, random_state=100), fit_reg=False, size=10)\n",
    "\n",
    "plt.xlim((-0.02,0.02))\n",
    "plt.ylim((-0.02,0.02))\n",
    "plt.title('absolute latitude longitude _fare')"
   ]
  },
  {
   "cell_type": "code",
   "execution_count": 39,
   "metadata": {},
   "outputs": [
    {
     "name": "stderr",
     "output_type": "stream",
     "text": [
      "C:\\ProgramData\\Anaconda\\envs\\nlp\\lib\\site-packages\\seaborn\\regression.py:546: UserWarning: The `size` paramter has been renamed to `height`; please update your code.\n",
      "  warnings.warn(msg, UserWarning)\n"
     ]
    },
    {
     "data": {
      "text/plain": [
       "Text(0.5, 1.0, 'absolute latitude longitude _fare')"
      ]
     },
     "execution_count": 39,
     "metadata": {},
     "output_type": "execute_result"
    },
    {
     "data": {
      "image/png": "[encoded data removed]",
      "text/plain": [
       "<Figure size 780.3x720 with 1 Axes>"
      ]
     },
     "metadata": {},
     "output_type": "display_data"
    }
   ],
   "source": [
    "sns.lmplot(x= 'abs_lat_diff', y = 'abs_lon_diff', hue='fare_bin', \n",
    "           data= df1.sample(10000, random_state=100), fit_reg=False, size=10)\n",
    "\n",
    "plt.xlim((0.02,0.3))\n",
    "plt.ylim((0.02,0.3))\n",
    "plt.title('absolute latitude longitude _fare')"
   ]
  },
  {
   "cell_type": "code",
   "execution_count": 40,
   "metadata": {},
   "outputs": [],
   "source": [
    "## Calculate the distance between the lat lon, using Eculidean and manhatten distance\n",
    "def minkowski_distance(x1, x2, y1, y2, p):\n",
    "    return ((abs(x2-x1)**p) + (abs(y2-y1))**p)**(1/p)\n"
   ]
  },
  {
   "cell_type": "code",
   "execution_count": 41,
   "metadata": {},
   "outputs": [
    {
     "data": {
      "text/plain": [
       "5.0"
      ]
     },
     "execution_count": 41,
     "metadata": {},
     "output_type": "execute_result"
    }
   ],
   "source": [
    "minkowski_distance(0,3,0,4,2)"
   ]
  },
  {
   "cell_type": "code",
   "execution_count": null,
   "metadata": {},
   "outputs": [],
   "source": []
  },
  {
   "cell_type": "code",
   "execution_count": 42,
   "metadata": {},
   "outputs": [],
   "source": [
    "df1['Manhattan'] = minkowski_distance(df1['pickup_longitude'], df1['dropoff_longitude'], \n",
    "                                     df1['pickup_latitude'], df1['dropoff_latitude'], 1)"
   ]
  },
  {
   "cell_type": "code",
   "execution_count": 43,
   "metadata": {},
   "outputs": [
    {
     "data": {
      "text/plain": [
       "<Figure size 864x576 with 0 Axes>"
      ]
     },
     "execution_count": 43,
     "metadata": {},
     "output_type": "execute_result"
    },
    {
     "data": {
      "text/plain": [
       "<Figure size 864x576 with 0 Axes>"
      ]
     },
     "metadata": {},
     "output_type": "display_data"
    }
   ],
   "source": [
    "## Calculate distribution by each fare bin\n",
    "\n",
    "plt.figure(figsize=(12,8))\n"
   ]
  },
  {
   "cell_type": "code",
   "execution_count": null,
   "metadata": {},
   "outputs": [],
   "source": []
  },
  {
   "cell_type": "code",
   "execution_count": null,
   "metadata": {},
   "outputs": [],
   "source": []
  },
  {
   "cell_type": "code",
   "execution_count": 70,
   "metadata": {},
   "outputs": [],
   "source": [
    "df2 = df1.groupby('fare_bin')"
   ]
  },
  {
   "cell_type": "code",
   "execution_count": 71,
   "metadata": {},
   "outputs": [
    {
     "data": {
      "text/plain": [
       "<pandas.core.groupby.groupby.DataFrameGroupBy object at 0x000001C117F70B00>"
      ]
     },
     "execution_count": 71,
     "metadata": {},
     "output_type": "execute_result"
    }
   ],
   "source": [
    "df2"
   ]
  },
  {
   "cell_type": "code",
   "execution_count": 76,
   "metadata": {},
   "outputs": [
    {
     "name": "stdout",
     "output_type": "stream",
     "text": [
      "(0, 5]         fare_amount          pickup_datetime  pickup_longitude  \\\n",
      "0               4.5  2009-06-15 17:26:21 UTC        -73.844311   \n",
      "12              4.1  2009-11-06 01:04:03 UTC        -73.991601   \n",
      "19              4.0  2014-12-06 20:36:22 UTC        -73.979815   \n",
      "22              4.5  2009-08-06 18:17:23 UTC        -73.991707   \n",
      "23              4.9  2010-12-06 12:29:00 UTC        -74.000632   \n",
      "27              4.5  2011-06-28 19:47:00 UTC        -73.988893   \n",
      "29              4.5  2013-08-11 00:52:00 UTC        -73.981020   \n",
      "36              4.5  2015-03-12 08:08:38 UTC        -73.990173   \n",
      "46              4.5  2011-06-01 20:30:00 UTC        -73.980822   \n",
      "47              3.3  2011-12-14 07:53:00 UTC        -73.988877   \n",
      "48              3.3  2012-07-18 00:16:00 UTC        -73.986660   \n",
      "60              5.0  2014-07-16 10:57:00 UTC        -73.996148   \n",
      "61              4.5  2011-04-22 23:21:03 UTC        -74.009137   \n",
      "62              4.9  2012-01-02 14:54:00 UTC        -74.003985   \n",
      "69              5.0  2015-05-12 23:51:42 UTC        -73.954796   \n",
      "71              3.7  2010-01-31 10:53:00 UTC        -74.001630   \n",
      "81              5.0  2013-03-10 15:44:00 UTC        -74.013360   \n",
      "89              5.0  2015-03-04 14:55:40 UTC        -73.988747   \n",
      "117             3.7  2011-01-05 17:39:00 UTC        -73.966957   \n",
      "121             4.0  2013-11-23 23:34:03 UTC        -73.993701   \n",
      "125             5.0  2013-05-10 16:39:08 UTC        -73.971696   \n",
      "157             4.5  2010-03-14 15:40:00 UTC        -73.979872   \n",
      "161             4.9  2009-12-27 21:07:39 UTC        -74.003018   \n",
      "168             4.5  2009-01-16 21:10:00 UTC        -73.994143   \n",
      "169             4.1  2011-01-21 18:43:46 UTC        -73.982279   \n",
      "175             4.9  2009-03-25 14:48:49 UTC        -73.982095   \n",
      "184             4.5  2013-02-06 14:52:00 UTC        -73.972072   \n",
      "193             4.5  2012-08-30 18:57:00 UTC        -73.926500   \n",
      "209             4.5  2011-09-26 09:32:42 UTC        -73.995331   \n",
      "212             4.9  2012-07-31 19:20:00 UTC        -74.002707   \n",
      "...             ...                      ...               ...   \n",
      "999824          3.5  2013-12-31 12:37:05 UTC        -73.992393   \n",
      "999827          4.9  2010-11-19 10:34:00 UTC        -73.953462   \n",
      "999833          3.7  2011-01-26 19:31:00 UTC        -73.978208   \n",
      "999835          2.5  2013-03-13 10:31:00 UTC        -73.937373   \n",
      "999842          4.5  2011-01-14 07:44:47 UTC        -73.989095   \n",
      "999851          5.0  2014-03-21 11:08:00 UTC        -73.951235   \n",
      "999854          4.1  2009-12-27 20:26:00 UTC        -73.991362   \n",
      "999856          4.9  2010-11-04 20:43:48 UTC        -73.979791   \n",
      "999866          4.5  2011-10-07 05:38:00 UTC        -73.986688   \n",
      "999869          4.0  2015-03-01 14:13:32 UTC        -73.977280   \n",
      "999877          4.1  2012-06-11 22:58:09 UTC        -73.962054   \n",
      "999878          5.0  2012-12-24 15:48:17 UTC        -73.959848   \n",
      "999904          4.1  2009-06-22 11:47:00 UTC        -73.987600   \n",
      "999913          4.9  2012-08-28 09:47:56 UTC        -74.003830   \n",
      "999921          4.1  2010-05-24 20:47:18 UTC        -73.981053   \n",
      "999922          4.5  2009-01-05 13:34:26 UTC        -73.982686   \n",
      "999923          4.5  2010-01-17 15:06:00 UTC        -74.015147   \n",
      "999927          5.0  2013-05-03 13:48:08 UTC        -73.954127   \n",
      "999929          4.5  2010-04-30 12:10:00 UTC        -73.992035   \n",
      "999935          4.1  2010-02-14 04:32:00 UTC        -73.987745   \n",
      "999937          4.5  2013-06-20 12:47:00 UTC        -73.973642   \n",
      "999938          4.5  2014-11-10 18:02:00 UTC        -73.999497   \n",
      "999944          4.5  2011-09-28 10:04:00 UTC        -73.998590   \n",
      "999949          4.5  2009-07-12 23:37:06 UTC        -73.981992   \n",
      "999956          2.5  2009-05-25 09:14:40 UTC        -73.946527   \n",
      "999982          4.5  2011-11-10 06:02:00 UTC        -73.985948   \n",
      "999983          4.5  2014-08-29 07:18:09 UTC        -73.991835   \n",
      "999987          4.1  2010-01-26 15:03:00 UTC        -73.982407   \n",
      "999989          5.0  2012-11-11 10:36:00 UTC        -73.982482   \n",
      "999999          4.1  2009-12-31 14:30:00 UTC        -74.006635   \n",
      "\n",
      "        pickup_latitude  dropoff_longitude  dropoff_latitude  passenger_count  \\\n",
      "0             40.721319         -73.841610         40.712278                1   \n",
      "12            40.744712         -73.983081         40.744682                2   \n",
      "19            40.751902         -73.979446         40.755481                1   \n",
      "22            40.770505         -73.985459         40.763671                1   \n",
      "23            40.747473         -73.986672         40.740577                1   \n",
      "27            40.760160         -73.986445         40.757857                3   \n",
      "29            40.737760         -73.980668         40.730497                2   \n",
      "36            40.756447         -73.985619         40.762829                1   \n",
      "46            40.744420         -73.991093         40.748797                1   \n",
      "47            40.763577         -73.985573         40.760262                1   \n",
      "48            40.756072         -73.989727         40.751702                5   \n",
      "60            40.741890         -73.992202         40.739425                6   \n",
      "61            40.713436         -74.002823         40.723428                3   \n",
      "62            40.731677         -73.999765         40.723512                1   \n",
      "69            40.779335         -73.944931         40.780087                1   \n",
      "71            40.730767         -73.997112         40.737533                1   \n",
      "81            40.702272         -74.016990         40.709245                1   \n",
      "89            40.744953         -73.995682         40.744221                2   \n",
      "117           40.761268         -73.967912         40.765535                1   \n",
      "121           40.741569         -73.987999         40.748834                1   \n",
      "125           40.763378         -73.962035         40.776598                1   \n",
      "157           40.749027         -73.976553         40.757498                5   \n",
      "161           40.739780         -73.991533         40.733091                1   \n",
      "168           40.751193         -73.988897         40.759742                1   \n",
      "169           40.768364         -73.985968         40.762939                1   \n",
      "175           40.774001         -73.975373         40.787111                1   \n",
      "184           40.755692         -73.972082         40.755727                2   \n",
      "193           40.765577         -73.937897         40.764510                3   \n",
      "209           40.739986         -73.987655         40.736707                1   \n",
      "212           40.726640         -73.991825         40.727220                2   \n",
      "...                 ...                ...               ...              ...   \n",
      "999824        40.743682         -73.989300         40.747840                1   \n",
      "999827        40.779228         -73.953462         40.779228                5   \n",
      "999833        40.751167         -73.970280         40.760018                2   \n",
      "999835        40.758157         -73.937383         40.758157                1   \n",
      "999842        40.741358         -73.980201         40.752102                1   \n",
      "999851        40.774307         -73.950345         40.783167                1   \n",
      "999854        40.750118         -73.985558         40.752718                1   \n",
      "999856        40.763523         -73.969149         40.760264                1   \n",
      "999866        40.732965         -73.978583         40.724438                5   \n",
      "999869        40.754646         -73.975670         40.759167                1   \n",
      "999877        40.767767         -73.952062         40.773054                1   \n",
      "999878        40.774833         -73.961514         40.766893                3   \n",
      "999904        40.758078         -73.978337         40.762017                5   \n",
      "999913        40.732032         -73.997320         40.725518                1   \n",
      "999921        40.754316         -73.978716         40.761133                2   \n",
      "999922        40.768688         -73.973939         40.764840                2   \n",
      "999923        40.714313         -74.011590         40.710400                5   \n",
      "999927        40.784628         -73.955518         40.776495                1   \n",
      "999929        40.732830         -73.995378         40.735047                2   \n",
      "999935        40.748095         -73.982538         40.743020                1   \n",
      "999937        40.763537         -73.977343         40.758582                5   \n",
      "999938        40.733852         -74.005005         40.739952                1   \n",
      "999944        40.739987         -73.993603         40.734193                2   \n",
      "999949        40.736835         -73.990058         40.724857                2   \n",
      "999956        40.776640         -73.906304         40.826364                1   \n",
      "999982        40.768127         -73.974000         40.762892                1   \n",
      "999983        40.750038         -73.984214         40.754428                1   \n",
      "999987        40.765418         -73.981803         40.763305                1   \n",
      "999989        40.747582         -73.986402         40.738122                5   \n",
      "999999        40.741598         -73.999450         40.745702                1   \n",
      "\n",
      "       fare_bin  abs_lat_diff  abs_lon_diff  Manhattan  \n",
      "0        (0, 5]      0.009041     -0.002701   0.011742  \n",
      "12       (0, 5]      0.000030     -0.008520   0.008550  \n",
      "19       (0, 5]     -0.003579     -0.000369   0.003948  \n",
      "22       (0, 5]      0.006834     -0.006248   0.013082  \n",
      "23       (0, 5]      0.006896     -0.013960   0.020856  \n",
      "27       (0, 5]      0.002303     -0.002448   0.004751  \n",
      "29       (0, 5]      0.007263     -0.000352   0.007615  \n",
      "36       (0, 5]     -0.006382     -0.004555   0.010937  \n",
      "46       (0, 5]     -0.004377      0.010271   0.014648  \n",
      "47       (0, 5]      0.003315     -0.003304   0.006619  \n",
      "48       (0, 5]      0.004370      0.003067   0.007437  \n",
      "60       (0, 5]      0.002465     -0.003946   0.006411  \n",
      "61       (0, 5]     -0.009992     -0.006314   0.016306  \n",
      "62       (0, 5]      0.008165     -0.004220   0.012385  \n",
      "69       (0, 5]     -0.000751     -0.009865   0.010616  \n",
      "71       (0, 5]     -0.006766     -0.004518   0.011284  \n",
      "81       (0, 5]     -0.006973      0.003630   0.010603  \n",
      "89       (0, 5]      0.000732      0.006935   0.007668  \n",
      "117      (0, 5]     -0.004267      0.000955   0.005222  \n",
      "121      (0, 5]     -0.007265     -0.005702   0.012967  \n",
      "125      (0, 5]     -0.013220     -0.009661   0.022881  \n",
      "157      (0, 5]     -0.008471     -0.003319   0.011790  \n",
      "161      (0, 5]      0.006689     -0.011485   0.018174  \n",
      "168      (0, 5]     -0.008549     -0.005246   0.013795  \n",
      "169      (0, 5]      0.005425      0.003689   0.009114  \n",
      "175      (0, 5]     -0.013110     -0.006722   0.019832  \n",
      "184      (0, 5]     -0.000035      0.000010   0.000045  \n",
      "193      (0, 5]      0.001067      0.011397   0.012464  \n",
      "209      (0, 5]      0.003279     -0.007676   0.010955  \n",
      "212      (0, 5]     -0.000580     -0.010882   0.011462  \n",
      "...         ...           ...           ...        ...  \n",
      "999824   (0, 5]     -0.004158     -0.003093   0.007251  \n",
      "999827   (0, 5]      0.000000      0.000000   0.000000  \n",
      "999833   (0, 5]     -0.008851     -0.007928   0.016779  \n",
      "999835   (0, 5]      0.000000      0.000010   0.000010  \n",
      "999842   (0, 5]     -0.010744     -0.008894   0.019638  \n",
      "999851   (0, 5]     -0.008860     -0.000890   0.009750  \n",
      "999854   (0, 5]     -0.002600     -0.005804   0.008404  \n",
      "999856   (0, 5]      0.003259     -0.010642   0.013901  \n",
      "999866   (0, 5]      0.008527     -0.008105   0.016632  \n",
      "999869   (0, 5]     -0.004520     -0.001610   0.006130  \n",
      "999877   (0, 5]     -0.005287     -0.009992   0.015279  \n",
      "999878   (0, 5]      0.007940      0.001666   0.009606  \n",
      "999904   (0, 5]     -0.003939     -0.009263   0.013202  \n",
      "999913   (0, 5]      0.006514     -0.006510   0.013024  \n",
      "999921   (0, 5]     -0.006817     -0.002337   0.009154  \n",
      "999922   (0, 5]      0.003848     -0.008747   0.012595  \n",
      "999923   (0, 5]      0.003913     -0.003557   0.007470  \n",
      "999927   (0, 5]      0.008133      0.001391   0.009524  \n",
      "999929   (0, 5]     -0.002217      0.003343   0.005560  \n",
      "999935   (0, 5]      0.005075     -0.005207   0.010282  \n",
      "999937   (0, 5]      0.004955      0.003701   0.008656  \n",
      "999938   (0, 5]     -0.006100      0.005508   0.011608  \n",
      "999944   (0, 5]      0.005794     -0.004987   0.010781  \n",
      "999949   (0, 5]      0.011978      0.008066   0.020044  \n",
      "999956   (0, 5]     -0.049724     -0.040223   0.089947  \n",
      "999982   (0, 5]      0.005235     -0.011948   0.017183  \n",
      "999983   (0, 5]     -0.004390     -0.007621   0.012011  \n",
      "999987   (0, 5]      0.002113     -0.000604   0.002717  \n",
      "999989   (0, 5]      0.009460      0.003920   0.013380  \n",
      "999999   (0, 5]     -0.004104     -0.007185   0.011289  \n",
      "\n",
      "[151933 rows x 11 columns]\n",
      "(05, 10]         fare_amount          pickup_datetime  pickup_longitude  \\\n",
      "2               5.7  2011-08-18 00:35:00 UTC        -73.982738   \n",
      "3               7.7  2012-04-21 04:30:42 UTC        -73.987130   \n",
      "4               5.3  2010-03-09 07:51:00 UTC        -73.968095   \n",
      "6               7.5  2012-11-20 20:35:00 UTC        -73.980002   \n",
      "8               9.0  2012-12-03 13:10:00 UTC        -74.006462   \n",
      "9               8.9  2009-09-02 01:11:00 UTC        -73.980658   \n",
      "10              5.3  2012-04-08 07:30:50 UTC        -73.996335   \n",
      "13              7.0  2013-07-02 19:54:00 UTC        -74.005360   \n",
      "14              7.7  2011-04-05 17:11:05 UTC        -74.001821   \n",
      "17              5.3  2009-07-22 16:08:00 UTC        -73.981060   \n",
      "18              5.3  2010-07-07 14:52:00 UTC        -73.969505   \n",
      "24              6.1  2009-12-10 15:37:00 UTC        -73.969622   \n",
      "25              7.3  2011-06-21 16:15:00 UTC        -73.991875   \n",
      "28              9.3  2012-05-04 06:11:20 UTC        -73.989258   \n",
      "30              5.5  2014-02-19 16:03:00 UTC        -73.976075   \n",
      "33              5.7  2011-09-07 14:05:00 UTC        -73.976162   \n",
      "37              5.3  2012-01-19 10:15:30 UTC        -73.995199   \n",
      "38              9.0  2013-11-24 11:42:00 UTC        -73.957740   \n",
      "39              9.8  2009-03-02 20:42:49 UTC        -73.972673   \n",
      "40              8.1  2011-03-29 15:39:49 UTC        -73.984267   \n",
      "44              5.3  2011-03-04 18:12:00 UTC        -73.997037   \n",
      "45              6.9  2011-08-31 21:14:15 UTC        -73.971114   \n",
      "49              9.0  2013-01-29 12:26:00 UTC        -73.992253   \n",
      "50              9.7  2011-12-06 09:09:21 UTC        -73.985582   \n",
      "51              5.5  2012-10-06 20:31:36 UTC        -73.952825   \n",
      "52              8.0  2013-01-23 07:01:38 UTC        -73.980298   \n",
      "53              7.5  2013-09-07 03:17:00 UTC        -73.977708   \n",
      "57              9.7  2011-03-19 21:55:00 UTC        -73.979542   \n",
      "59              6.5  2009-03-23 12:13:29 UTC        -73.985430   \n",
      "63              7.0  2014-05-01 09:12:00 UTC        -73.966203   \n",
      "...             ...                      ...               ...   \n",
      "999928          8.9  2009-02-02 07:22:03 UTC        -73.948181   \n",
      "999930          6.9  2011-10-28 20:37:26 UTC        -73.964400   \n",
      "999931          6.9  2012-03-05 22:22:00 UTC        -73.970005   \n",
      "999932          6.0  2013-12-03 14:43:00 UTC        -73.983960   \n",
      "999939          8.1  2009-12-09 19:09:00 UTC        -74.174965   \n",
      "999940          9.5  2013-03-11 23:02:00 UTC        -73.976477   \n",
      "999942          8.0  2014-08-03 18:11:36 UTC        -73.958468   \n",
      "999943          9.7  2009-03-22 10:23:44 UTC        -73.954889   \n",
      "999946          6.1  2012-08-15 00:23:57 UTC        -73.954266   \n",
      "999951          8.9  2009-07-25 18:43:51 UTC        -73.981850   \n",
      "999952          5.7  2009-08-30 23:15:00 UTC        -74.001180   \n",
      "999954          8.1  2012-01-27 22:57:30 UTC        -73.997718   \n",
      "999958          5.7  2012-03-24 21:31:00 UTC        -73.980922   \n",
      "999959          6.1  2009-02-01 00:07:46 UTC        -73.962778   \n",
      "999960          8.1  2011-05-02 10:34:00 UTC        -73.975708   \n",
      "999961          8.0  2014-12-14 14:06:00 UTC        -73.986807   \n",
      "999963          6.5  2009-11-07 02:48:46 UTC        -73.987891   \n",
      "999964          5.3  2012-06-21 07:59:16 UTC        -73.991952   \n",
      "999966          8.1  2010-09-15 18:46:43 UTC        -73.970873   \n",
      "999967          5.3  2012-06-02 08:39:45 UTC        -73.991467   \n",
      "999970          8.5  2013-10-25 23:36:36 UTC        -73.967576   \n",
      "999978          6.5  2012-02-22 00:47:14 UTC        -73.984087   \n",
      "999985          8.5  2014-12-18 20:13:00 UTC        -74.003187   \n",
      "999986          7.0  2015-06-02 09:21:33 UTC        -73.975723   \n",
      "999990          6.1  2009-09-22 16:43:00 UTC        -73.963472   \n",
      "999991          8.9  2010-04-20 08:17:51 UTC        -73.973683   \n",
      "999992          5.7  2011-01-21 10:57:27 UTC        -73.976733   \n",
      "999995          7.0  2014-09-13 21:44:38 UTC        -73.976676   \n",
      "999996          7.3  2010-09-20 14:50:37 UTC        -73.992103   \n",
      "999998          6.9  2011-07-08 00:29:00 UTC        -73.980317   \n",
      "\n",
      "        pickup_latitude  dropoff_longitude  dropoff_latitude  passenger_count  \\\n",
      "2             40.761270         -73.991242         40.750562                2   \n",
      "3             40.733143         -73.991567         40.758092                1   \n",
      "4             40.768008         -73.956655         40.783762                1   \n",
      "6             40.751662         -73.973802         40.764842                1   \n",
      "8             40.726713         -73.993078         40.731628                1   \n",
      "9             40.733873         -73.991540         40.758138                2   \n",
      "10            40.737142         -73.980721         40.733559                1   \n",
      "13            40.728867         -74.008913         40.710907                1   \n",
      "14            40.737547         -73.998060         40.722788                2   \n",
      "17            40.737690         -73.994177         40.728412                1   \n",
      "18            40.784843         -73.958732         40.783357                1   \n",
      "24            40.756973         -73.981152         40.759712                1   \n",
      "25            40.754437         -73.977230         40.774323                3   \n",
      "28            40.690835         -74.004133         40.725690                1   \n",
      "30            40.752422         -73.981082         40.759285                1   \n",
      "33            40.744988         -73.990002         40.738323                2   \n",
      "37            40.754740         -74.005416         40.751084                1   \n",
      "38            40.773617         -73.977087         40.758465                6   \n",
      "39            40.759186         -73.969897         40.791367                1   \n",
      "40            40.744961         -73.981646         40.759608                1   \n",
      "44            40.737095         -73.986128         40.735043                1   \n",
      "45            40.758944         -73.977930         40.736613                1   \n",
      "49            40.742657         -73.983597         40.755947                1   \n",
      "50            40.739765         -73.973899         40.760426                1   \n",
      "51            40.772048         -73.952194         40.781152                3   \n",
      "52            40.783723         -73.979628         40.763179                1   \n",
      "53            40.746212         -73.975782         40.745055                1   \n",
      "57            40.727498         -73.999315         40.730088                4   \n",
      "59            40.736011         -73.982501         40.724802                1   \n",
      "63            40.767500         -73.980915         40.774240                6   \n",
      "...                 ...                ...               ...              ...   \n",
      "999928        40.782406         -73.975844         40.755121                1   \n",
      "999930        40.756600         -73.954200         40.775600                2   \n",
      "999931        40.713008         -73.970005         40.713008                5   \n",
      "999932        40.743462         -73.992750         40.736842                1   \n",
      "999939        40.800683         -74.175798         40.805972                5   \n",
      "999940        40.755777         -73.974472         40.736737                1   \n",
      "999942        40.713187         -73.985793         40.720576                1   \n",
      "999943        40.784138         -73.982653         40.747078                4   \n",
      "999946        40.778724         -73.947480         40.796296                1   \n",
      "999951        40.768826         -73.960363         40.798267                1   \n",
      "999952        40.735160         -73.991892         40.746732                1   \n",
      "999954        40.756509         -73.981827         40.737399                1   \n",
      "999958        40.764202         -73.969352         40.761832                3   \n",
      "999959        40.762505         -73.970761         40.753877                1   \n",
      "999960        40.751745         -73.968620         40.766368                1   \n",
      "999961        40.755717         -74.002562         40.756065                1   \n",
      "999963        40.729417         -73.989511         40.716104                2   \n",
      "999964        40.744309         -73.979807         40.754429                1   \n",
      "999966        40.761883         -73.965082         40.764888                1   \n",
      "999967        40.750040         -73.998292         40.756731                1   \n",
      "999970        40.760106         -73.988016         40.764855                1   \n",
      "999978        40.746916         -73.983599         40.730348                1   \n",
      "999985        40.749022         -73.987785         40.745847                1   \n",
      "999986        40.758533         -73.981537         40.752602                1   \n",
      "999990        40.774893         -73.980038         40.777478                1   \n",
      "999991        40.792300         -73.979603         40.765361                1   \n",
      "999992        40.790480         -73.988215         40.779298                1   \n",
      "999995        40.785630         -73.959196         40.775114                1   \n",
      "999996        40.671385         -73.992103         40.671385                2   \n",
      "999998        40.759482         -73.976832         40.743122                1   \n",
      "\n",
      "        fare_bin  abs_lat_diff  abs_lon_diff  Manhattan  \n",
      "2       (05, 10]      0.010708      0.008504   0.019212  \n",
      "3       (05, 10]     -0.024949      0.004437   0.029386  \n",
      "4       (05, 10]     -0.015754     -0.011440   0.027194  \n",
      "6       (05, 10]     -0.013180     -0.006200   0.019380  \n",
      "8       (05, 10]     -0.004915     -0.013384   0.018299  \n",
      "9       (05, 10]     -0.024265      0.010882   0.035147  \n",
      "10      (05, 10]      0.003583     -0.015614   0.019197  \n",
      "13      (05, 10]      0.017960      0.003553   0.021513  \n",
      "14      (05, 10]      0.014759     -0.003761   0.018520  \n",
      "17      (05, 10]      0.009278      0.013117   0.022395  \n",
      "18      (05, 10]      0.001486     -0.010773   0.012259  \n",
      "24      (05, 10]     -0.002739      0.011530   0.014269  \n",
      "25      (05, 10]     -0.019886     -0.014645   0.034531  \n",
      "28      (05, 10]     -0.034855      0.014875   0.049730  \n",
      "30      (05, 10]     -0.006863      0.005007   0.011870  \n",
      "33      (05, 10]      0.006665      0.013840   0.020505  \n",
      "37      (05, 10]      0.003656      0.010217   0.013873  \n",
      "38      (05, 10]      0.015152      0.019347   0.034499  \n",
      "39      (05, 10]     -0.032181     -0.002776   0.034957  \n",
      "40      (05, 10]     -0.014647     -0.002621   0.017268  \n",
      "44      (05, 10]      0.002052     -0.010909   0.012961  \n",
      "45      (05, 10]      0.022331      0.006816   0.029147  \n",
      "49      (05, 10]     -0.013290     -0.008656   0.021946  \n",
      "50      (05, 10]     -0.020661     -0.011683   0.032344  \n",
      "51      (05, 10]     -0.009104     -0.000631   0.009735  \n",
      "52      (05, 10]      0.020544     -0.000670   0.021214  \n",
      "53      (05, 10]      0.001157     -0.001926   0.003083  \n",
      "57      (05, 10]     -0.002590      0.019773   0.022363  \n",
      "59      (05, 10]      0.011209     -0.002929   0.014138  \n",
      "63      (05, 10]     -0.006740      0.014712   0.021452  \n",
      "...          ...           ...           ...        ...  \n",
      "999928  (05, 10]      0.027285      0.027663   0.054948  \n",
      "999930  (05, 10]     -0.019000     -0.010200   0.029200  \n",
      "999931  (05, 10]      0.000000      0.000000   0.000000  \n",
      "999932  (05, 10]      0.006620      0.008790   0.015410  \n",
      "999939  (05, 10]     -0.005289      0.000833   0.006122  \n",
      "999940  (05, 10]      0.019040     -0.002005   0.021045  \n",
      "999942  (05, 10]     -0.007389      0.027325   0.034714  \n",
      "999943  (05, 10]      0.037060      0.027764   0.064824  \n",
      "999946  (05, 10]     -0.017572     -0.006786   0.024358  \n",
      "999951  (05, 10]     -0.029441     -0.021487   0.050928  \n",
      "999952  (05, 10]     -0.011572     -0.009288   0.020860  \n",
      "999954  (05, 10]      0.019110     -0.015891   0.035001  \n",
      "999958  (05, 10]      0.002370     -0.011570   0.013940  \n",
      "999959  (05, 10]      0.008628      0.007983   0.016611  \n",
      "999960  (05, 10]     -0.014623     -0.007088   0.021711  \n",
      "999961  (05, 10]     -0.000348      0.015755   0.016103  \n",
      "999963  (05, 10]      0.013313      0.001620   0.014933  \n",
      "999964  (05, 10]     -0.010120     -0.012145   0.022265  \n",
      "999966  (05, 10]     -0.003005     -0.005791   0.008796  \n",
      "999967  (05, 10]     -0.006691      0.006825   0.013516  \n",
      "999970  (05, 10]     -0.004749      0.020440   0.025189  \n",
      "999978  (05, 10]      0.016568     -0.000488   0.017056  \n",
      "999985  (05, 10]      0.003175     -0.015402   0.018577  \n",
      "999986  (05, 10]      0.005932      0.005814   0.011745  \n",
      "999990  (05, 10]     -0.002585      0.016566   0.019151  \n",
      "999991  (05, 10]      0.026939      0.005920   0.032859  \n",
      "999992  (05, 10]      0.011182      0.011482   0.022664  \n",
      "999995  (05, 10]      0.010516     -0.017480   0.027996  \n",
      "999996  (05, 10]      0.000000      0.000000   0.000000  \n",
      "999998  (05, 10]      0.016360     -0.003485   0.019845  \n",
      "\n",
      "[459926 rows x 11 columns]\n",
      "(10, 15]         fare_amount          pickup_datetime  pickup_longitude  \\\n",
      "5              12.1  2011-01-06 09:50:45 UTC        -74.000964   \n",
      "16             12.5  2014-02-19 07:22:00 UTC        -73.986430   \n",
      "20             10.5  2010-09-07 13:18:00 UTC        -73.985382   \n",
      "21             11.5  2013-02-12 12:15:46 UTC        -73.957954   \n",
      "41             10.9  2011-10-15 10:55:24 UTC        -74.003899   \n",
      "43             12.1  2009-06-10 21:28:00 UTC        -73.988558   \n",
      "58             13.7  2012-07-19 23:53:14 UTC        -74.002113   \n",
      "68             11.5  2015-04-12 10:19:05 UTC        -73.979279   \n",
      "73             10.1  2012-05-21 15:20:00 UTC        -73.977788   \n",
      "85             12.0  2014-10-02 13:39:56 UTC        -73.995387   \n",
      "86             12.5  2011-08-31 08:21:47 UTC        -73.917399   \n",
      "90             10.5  2010-04-27 21:40:07 UTC        -74.001135   \n",
      "92             11.0  2015-04-03 16:21:30 UTC        -73.981056   \n",
      "95             13.5  2013-07-06 17:18:00 UTC        -73.950655   \n",
      "98             14.0  2015-05-17 08:02:59 UTC        -73.979210   \n",
      "103            14.1  2011-03-09 07:24:34 UTC        -73.974492   \n",
      "106            11.3  2010-03-22 10:01:00 UTC        -74.007670   \n",
      "108            12.9  2012-06-05 09:16:00 UTC        -73.965315   \n",
      "116            14.5  2010-03-27 02:26:39 UTC        -73.961598   \n",
      "120            11.5  2012-11-08 21:00:00 UTC        -73.972018   \n",
      "122            10.5  2010-06-17 16:12:58 UTC        -73.966473   \n",
      "133            10.5  2012-02-03 13:46:35 UTC        -73.988006   \n",
      "135            11.5  2012-12-21 06:47:00 UTC        -73.947472   \n",
      "136            12.5  2014-11-01 16:51:09 UTC        -73.984723   \n",
      "142            10.9  2009-07-23 17:05:10 UTC        -73.983735   \n",
      "146            12.5  2010-08-24 01:39:26 UTC        -74.003848   \n",
      "154            12.9  2009-07-16 20:33:00 UTC        -73.980755   \n",
      "155            10.1  2011-05-16 13:10:38 UTC        -73.991245   \n",
      "164            14.9  2012-08-28 12:29:40 UTC        -73.992214   \n",
      "170            11.7  2011-02-26 20:27:36 UTC        -73.981496   \n",
      "...             ...                      ...               ...   \n",
      "999840         12.0  2015-04-25 07:32:27 UTC        -73.974815   \n",
      "999841         14.1  2010-08-24 10:39:00 UTC        -74.006522   \n",
      "999852         14.0  2013-02-09 18:24:23 UTC        -73.989620   \n",
      "999853         11.3  2009-01-31 08:18:30 UTC        -73.951714   \n",
      "999855         10.5  2010-04-07 00:44:00 UTC        -73.988402   \n",
      "999863         14.5  2015-02-16 12:19:57 UTC        -73.997375   \n",
      "999870         11.7  2010-04-21 17:11:00 UTC        -73.991993   \n",
      "999872         14.5  2013-11-05 14:41:38 UTC        -73.977378   \n",
      "999884         13.3  2012-06-27 07:48:00 UTC        -74.008052   \n",
      "999901         12.1  2010-11-28 09:55:31 UTC        -74.003825   \n",
      "999914         14.5  2012-09-29 03:53:00 UTC        -73.939280   \n",
      "999933         11.5  2014-04-10 16:50:00 UTC        -73.968337   \n",
      "999934         11.5  2015-05-19 11:48:33 UTC        -73.971558   \n",
      "999936         12.5  2013-06-18 18:54:29 UTC        -73.951292   \n",
      "999941         14.5  2013-08-22 19:28:00 UTC        -74.011387   \n",
      "999947         10.5  2013-01-18 14:40:00 UTC        -73.952990   \n",
      "999948         11.0  2013-12-21 12:22:00 UTC        -73.974407   \n",
      "999950         10.1  2012-08-03 03:54:00 UTC        -73.983107   \n",
      "999953         14.5  2010-07-14 10:41:03 UTC        -73.977654   \n",
      "999957         13.7  2009-12-15 07:50:00 UTC        -74.009978   \n",
      "999962         13.3  2011-05-07 02:03:00 UTC        -74.023533   \n",
      "999965         10.5  2015-05-29 03:54:38 UTC        -73.956055   \n",
      "999969         14.5  2013-10-16 09:45:00 UTC        -73.987197   \n",
      "999972         10.1  2009-08-10 17:47:43 UTC        -73.983638   \n",
      "999973         11.3  2011-05-07 12:53:00 UTC        -73.952537   \n",
      "999976         12.5  2011-01-06 14:50:45 UTC        -73.981381   \n",
      "999977         13.3  2011-02-10 12:08:13 UTC        -74.015867   \n",
      "999979         14.0  2013-05-06 15:56:00 UTC        -74.002227   \n",
      "999993         15.0  2012-12-14 11:08:00 UTC        -73.975895   \n",
      "999997         10.5  2013-04-26 14:03:00 UTC        -73.978423   \n",
      "\n",
      "        pickup_latitude  dropoff_longitude  dropoff_latitude  passenger_count  \\\n",
      "5             40.731630         -73.972892         40.758233                1   \n",
      "16            40.760465         -73.988990         40.737075                1   \n",
      "20            40.747858         -73.978377         40.762070                1   \n",
      "21            40.779252         -73.961250         40.758787                1   \n",
      "41            40.725514         -73.976484         40.765537                2   \n",
      "43            40.737200         -73.958688         40.780748                1   \n",
      "58            40.739582         -73.971918         40.791899                2   \n",
      "68            40.723438         -74.004608         40.746948                6   \n",
      "73            40.771838         -73.966200         40.778113                2   \n",
      "85            40.749482         -73.975789         40.748741                1   \n",
      "86            40.746485         -73.973756         40.763836                1   \n",
      "90            40.730979         -73.984424         40.764630                1   \n",
      "92            40.774265         -73.959045         40.780674                2   \n",
      "95            40.783282         -73.984365         40.769802                1   \n",
      "98            40.723682         -74.017464         40.711395                1   \n",
      "103           40.751369         -74.010585         40.703364                1   \n",
      "106           40.732177         -73.974663         40.758932                1   \n",
      "108           40.790852         -73.978195         40.766375                6   \n",
      "116           40.716487         -73.960417         40.674963                2   \n",
      "120           40.750142         -74.006008         40.736220                5   \n",
      "122           40.757500         -73.993336         40.745051                1   \n",
      "133           40.737723         -73.965699         40.766095                1   \n",
      "135           40.771227         -73.981832         40.760272                1   \n",
      "136           40.748023         -73.977245         40.757891                2   \n",
      "142           40.746697         -73.954411         40.772219                1   \n",
      "146           40.720855         -73.980980         40.668304                1   \n",
      "154           40.680558         -73.989110         40.726788                2   \n",
      "155           40.739058         -73.992972         40.767680                1   \n",
      "164           40.758864         -73.993800         40.722718                1   \n",
      "170           40.781004         -73.995920         40.738813                1   \n",
      "...                 ...                ...               ...              ...   \n",
      "999840        40.742073         -73.944893         40.783421                5   \n",
      "999841        40.712212         -73.957933         40.717068                1   \n",
      "999852        40.717963         -73.991102         40.750184                1   \n",
      "999853        40.778027         -73.988793         40.760146                1   \n",
      "999855        40.723482         -73.988253         40.756780                1   \n",
      "999863        40.746754         -73.973656         40.782776                1   \n",
      "999870        40.759220         -73.972663         40.759600                2   \n",
      "999872        40.756803         -73.966298         40.789443                1   \n",
      "999884        40.722138         -73.982270         40.756567                5   \n",
      "999901        40.715919         -73.975160         40.755737                1   \n",
      "999914        40.722962         -73.994495         40.719587                1   \n",
      "999933        40.791850         -73.976597         40.764187                2   \n",
      "999934        40.749435         -73.989449         40.745090                1   \n",
      "999936        40.770111         -73.985947         40.731154                1   \n",
      "999941        40.701807         -73.973410         40.746135                2   \n",
      "999947        40.786665         -73.967550         40.797930                1   \n",
      "999948        40.757022         -73.990200         40.756697                2   \n",
      "999950        40.761212         -73.995312         40.720675                5   \n",
      "999953        40.753787         -73.954179         40.806058                1   \n",
      "999957        40.705772         -73.984660         40.755773                3   \n",
      "999962        40.634648         -73.996562         40.690867                1   \n",
      "999965        40.763691         -73.982048         40.728516                1   \n",
      "999969        40.760312         -73.960002         40.808062                1   \n",
      "999972        40.746203         -73.987377         40.749008                2   \n",
      "999973        40.808417         -73.953065         40.803848                5   \n",
      "999976        40.778593         -74.004399         40.746174                1   \n",
      "999977        40.715233         -73.989395         40.758612                0   \n",
      "999979        40.724750         -73.979082         40.752920                1   \n",
      "999993        40.728558         -74.002202         40.755675                2   \n",
      "999997        40.751135         -73.993397         40.762197                5   \n",
      "\n",
      "        fare_bin  abs_lat_diff  abs_lon_diff  Manhattan  \n",
      "5       (10, 15]     -0.026603     -0.028072   0.054675  \n",
      "16      (10, 15]      0.023390      0.002560   0.025950  \n",
      "20      (10, 15]     -0.014212     -0.007005   0.021217  \n",
      "21      (10, 15]      0.020465      0.003296   0.023761  \n",
      "41      (10, 15]     -0.040023     -0.027415   0.067438  \n",
      "43      (10, 15]     -0.043548     -0.029870   0.073418  \n",
      "58      (10, 15]     -0.052317     -0.030195   0.082512  \n",
      "68      (10, 15]     -0.023510      0.025330   0.048840  \n",
      "73      (10, 15]     -0.006275     -0.011588   0.017863  \n",
      "85      (10, 15]      0.000741     -0.019598   0.020339  \n",
      "86      (10, 15]     -0.017351      0.056357   0.073708  \n",
      "90      (10, 15]     -0.033651     -0.016711   0.050362  \n",
      "92      (10, 15]     -0.006409     -0.022011   0.028419  \n",
      "95      (10, 15]      0.013480      0.033710   0.047190  \n",
      "98      (10, 15]      0.012287      0.038254   0.050541  \n",
      "103     (10, 15]      0.048005      0.036093   0.084098  \n",
      "106     (10, 15]     -0.026755     -0.033007   0.059762  \n",
      "108     (10, 15]      0.024477      0.012880   0.037357  \n",
      "116     (10, 15]      0.041524     -0.001181   0.042705  \n",
      "120     (10, 15]      0.013922      0.033990   0.047912  \n",
      "122     (10, 15]      0.012449      0.026863   0.039312  \n",
      "133     (10, 15]     -0.028372     -0.022307   0.050679  \n",
      "135     (10, 15]      0.010955      0.034360   0.045315  \n",
      "136     (10, 15]     -0.009868     -0.007478   0.017346  \n",
      "142     (10, 15]     -0.025522     -0.029324   0.054846  \n",
      "146     (10, 15]      0.052551     -0.022868   0.075419  \n",
      "154     (10, 15]     -0.046230      0.008355   0.054585  \n",
      "155     (10, 15]     -0.028622      0.001727   0.030349  \n",
      "164     (10, 15]      0.036146      0.001586   0.037732  \n",
      "170     (10, 15]      0.042191      0.014424   0.056615  \n",
      "...          ...           ...           ...        ...  \n",
      "999840  (10, 15]     -0.041348     -0.029922   0.071270  \n",
      "999841  (10, 15]     -0.004856     -0.048589   0.053445  \n",
      "999852  (10, 15]     -0.032221      0.001482   0.033703  \n",
      "999853  (10, 15]      0.017881      0.037079   0.054960  \n",
      "999855  (10, 15]     -0.033298     -0.000149   0.033447  \n",
      "999863  (10, 15]     -0.036022     -0.023720   0.059742  \n",
      "999870  (10, 15]     -0.000380     -0.019330   0.019710  \n",
      "999872  (10, 15]     -0.032640     -0.011080   0.043720  \n",
      "999884  (10, 15]     -0.034429     -0.025782   0.060211  \n",
      "999901  (10, 15]     -0.039818     -0.028665   0.068483  \n",
      "999914  (10, 15]      0.003375      0.055215   0.058590  \n",
      "999933  (10, 15]      0.027663      0.008260   0.035923  \n",
      "999934  (10, 15]      0.004345      0.017891   0.022236  \n",
      "999936  (10, 15]      0.038957      0.034655   0.073612  \n",
      "999941  (10, 15]     -0.044328     -0.037977   0.082305  \n",
      "999947  (10, 15]     -0.011265      0.014560   0.025825  \n",
      "999948  (10, 15]      0.000325      0.015793   0.016118  \n",
      "999950  (10, 15]      0.040537      0.012205   0.052742  \n",
      "999953  (10, 15]     -0.052271     -0.023475   0.075746  \n",
      "999957  (10, 15]     -0.050001     -0.025318   0.075319  \n",
      "999962  (10, 15]     -0.056219     -0.026971   0.083190  \n",
      "999965  (10, 15]      0.035175      0.025993   0.061169  \n",
      "999969  (10, 15]     -0.047750     -0.027195   0.074945  \n",
      "999972  (10, 15]     -0.002805      0.003739   0.006544  \n",
      "999973  (10, 15]      0.004569      0.000528   0.005097  \n",
      "999976  (10, 15]      0.032419      0.023018   0.055437  \n",
      "999977  (10, 15]     -0.043379     -0.026472   0.069851  \n",
      "999979  (10, 15]     -0.028170     -0.023145   0.051315  \n",
      "999993  (10, 15]     -0.027117      0.026307   0.053424  \n",
      "999997  (10, 15]     -0.011062      0.014974   0.026036  \n",
      "\n",
      "[195222 rows x 11 columns]\n",
      "(15, 20]         fare_amount          pickup_datetime  pickup_longitude  \\\n",
      "1             16.90  2010-01-05 16:52:16 UTC        -74.016048   \n",
      "7             16.50  2012-01-04 17:22:00 UTC        -73.951300   \n",
      "34            18.10  2011-09-07 23:05:44 UTC        -73.993717   \n",
      "42            17.50  2013-11-22 08:38:09 UTC        -73.978450   \n",
      "55            15.30  2012-01-04 18:07:29 UTC        -73.971510   \n",
      "67            16.50  2014-04-29 18:28:00 UTC        -73.970323   \n",
      "74            16.50  2014-12-08 16:00:01 UTC        -73.982800   \n",
      "75            15.07  2010-08-16 01:33:00 UTC        -73.961933   \n",
      "83            17.00  2013-07-08 21:24:00 UTC        -74.009728   \n",
      "114           17.00  2014-07-20 12:48:35 UTC        -73.973390   \n",
      "123           17.70  2012-08-19 19:56:34 UTC        -73.870820   \n",
      "126           19.00  2013-09-17 04:22:00 UTC        -73.987210   \n",
      "131           16.50  2014-09-12 23:10:00 UTC        -73.983837   \n",
      "139           16.50  2015-05-31 07:33:18 UTC        -73.996986   \n",
      "145           17.00  2013-02-08 09:50:04 UTC        -73.962458   \n",
      "148           16.00  2014-10-25 21:24:00 UTC        -74.005677   \n",
      "150           17.30  2010-05-17 07:44:00 UTC        -73.950972   \n",
      "153           16.50  2009-02-27 13:31:21 UTC        -73.974938   \n",
      "163           15.30  2011-06-12 13:33:00 UTC        -73.949477   \n",
      "186           16.50  2014-07-27 08:22:00 UTC        -73.954850   \n",
      "187           17.00  2013-06-06 15:23:56 UTC        -73.954462   \n",
      "195           16.00  2014-02-05 00:28:00 UTC        -73.996652   \n",
      "196           16.10  2010-01-12 17:11:00 UTC        -73.959222   \n",
      "197           15.70  2010-11-07 17:14:23 UTC        -73.974895   \n",
      "211           16.50  2013-09-07 22:29:00 UTC        -73.995200   \n",
      "214           15.50  2013-03-17 12:56:58 UTC        -73.985132   \n",
      "243           19.00  2013-07-31 06:51:13 UTC        -73.988834   \n",
      "247           18.00  2013-05-11 19:51:00 UTC        -73.997845   \n",
      "251           16.10  2010-05-28 21:33:07 UTC        -73.789506   \n",
      "254           15.30  2011-05-02 12:44:59 UTC        -74.006636   \n",
      "...             ...                      ...               ...   \n",
      "999580        18.50  2014-01-19 00:18:32 UTC        -73.993979   \n",
      "999586        16.10  2012-02-19 01:38:00 UTC        -73.981740   \n",
      "999588        15.83  2014-12-28 13:06:02 UTC        -74.013476   \n",
      "999600        18.90  2009-04-15 19:54:22 UTC        -73.980289   \n",
      "999604        19.30  2011-01-16 23:12:11 UTC        -73.993760   \n",
      "999606        16.30  2012-10-09 12:27:00 UTC        -73.973957   \n",
      "999654        15.50  2014-07-05 04:52:00 UTC        -73.973317   \n",
      "999657        20.00  2012-10-24 11:46:00 UTC        -74.005445   \n",
      "999664        18.50  2015-06-22 12:20:29 UTC        -73.951263   \n",
      "999676        18.00  2014-02-24 07:10:48 UTC        -73.990463   \n",
      "999682        15.30  2010-10-06 18:09:00 UTC        -74.006793   \n",
      "999697        16.10  2012-05-02 10:48:00 UTC        -73.971462   \n",
      "999752        16.50  2015-02-25 09:31:55 UTC        -73.965668   \n",
      "999777        17.30  2010-06-29 08:23:43 UTC        -73.979503   \n",
      "999817        18.00  2015-04-15 17:37:20 UTC        -73.954964   \n",
      "999818        16.50  2010-04-16 21:55:00 UTC        -73.922235   \n",
      "999822        15.70  2012-07-11 17:10:45 UTC        -73.874635   \n",
      "999826        18.50  2014-09-26 22:44:53 UTC        -73.974142   \n",
      "999832        16.90  2012-01-26 13:24:00 UTC        -73.982590   \n",
      "999850        15.50  2013-02-05 09:10:04 UTC        -73.973819   \n",
      "999858        19.30  2009-09-26 17:51:28 UTC        -73.980662   \n",
      "999881        17.30  2010-07-08 13:19:00 UTC        -73.978767   \n",
      "999886        17.00  2012-10-17 20:27:34 UTC        -73.946043   \n",
      "999905        18.10  2009-12-08 16:03:06 UTC        -73.954445   \n",
      "999912        19.30  2012-07-11 14:39:40 UTC        -73.976978   \n",
      "999926        20.00  2012-10-19 09:41:00 UTC        -73.965460   \n",
      "999955        16.00  2013-05-04 18:50:00 UTC        -73.958983   \n",
      "999980        18.50  2014-04-07 07:00:13 UTC        -74.010280   \n",
      "999981        18.50  2015-05-08 12:14:23 UTC        -73.956215   \n",
      "999994        20.00  2014-06-29 22:57:55 UTC        -73.872919   \n",
      "\n",
      "        pickup_latitude  dropoff_longitude  dropoff_latitude  passenger_count  \\\n",
      "1             40.711303         -73.979268         40.782004                1   \n",
      "7             40.774138         -73.990095         40.751048                1   \n",
      "34            40.740785         -73.999272         40.676617                1   \n",
      "42            40.762920         -74.008482         40.716502                1   \n",
      "55            40.755886         -73.968067         40.801173                1   \n",
      "67            40.750840         -73.998392         40.724862                6   \n",
      "74            40.745287         -74.014250         40.702935                1   \n",
      "75            40.795585         -73.962253         40.764817                2   \n",
      "83            40.705167         -73.970897         40.749307                1   \n",
      "114           40.743883         -73.954021         40.766063                1   \n",
      "123           40.773748         -73.808317         40.700300                1   \n",
      "126           40.729325         -73.931985         40.697207                1   \n",
      "131           40.676052         -74.002522         40.723145                1   \n",
      "139           40.755428         -73.953194         40.802101                3   \n",
      "145           40.759027         -73.986199         40.753397                1   \n",
      "148           40.745547         -73.962663         40.794295                1   \n",
      "150           40.785633         -74.010240         40.720302                1   \n",
      "153           40.762091         -74.003309         40.706195                2   \n",
      "163           40.768018         -74.003118         40.733022                5   \n",
      "186           40.765420         -74.007510         40.738770                2   \n",
      "187           40.764046         -73.994593         40.729272                2   \n",
      "195           40.744495         -73.980253         40.737635                1   \n",
      "196           40.763282         -73.963300         40.716935                1   \n",
      "197           40.751455         -73.981754         40.783542                2   \n",
      "211           40.731697         -73.949770         40.780347                1   \n",
      "214           40.768530         -74.002285         40.730008                1   \n",
      "243           40.764280         -73.941405         40.838664                1   \n",
      "247           40.721235         -73.988257         40.764125                1   \n",
      "251           40.647040         -73.815622         40.680364                1   \n",
      "254           40.751407         -73.954979         40.765281                1   \n",
      "...                 ...                ...               ...              ...   \n",
      "999580        40.720454         -73.942895         40.714650                1   \n",
      "999586        40.728568         -73.986613         40.669292                1   \n",
      "999588        40.708527         -74.002489         40.677414                2   \n",
      "999600        40.759811         -73.978033         40.685244                1   \n",
      "999604        40.741552         -73.989369         40.664775                2   \n",
      "999606        40.747158         -73.934808         40.755620                1   \n",
      "999654        40.748727         -74.011497         40.703265                1   \n",
      "999657        40.727082         -73.984882         40.761025                2   \n",
      "999664        40.778198         -73.986099         40.754162                1   \n",
      "999676        40.761488         -74.011485         40.703920                1   \n",
      "999682        40.704290         -73.990755         40.741912                5   \n",
      "999697        40.750953         -73.952100         40.783707                1   \n",
      "999752        40.805847         -73.973373         40.759319                1   \n",
      "999777        40.762104         -73.997321         40.725503                1   \n",
      "999817        40.764999         -73.945686         40.809631                2   \n",
      "999818        40.743797         -73.951263         40.771698                3   \n",
      "999822        40.774006         -73.952960         40.758440                1   \n",
      "999826        40.751059         -73.912660         40.755958                1   \n",
      "999832        40.751227         -74.004258         40.740443                1   \n",
      "999850        40.747420         -74.010812         40.703061                1   \n",
      "999858        40.747610         -73.957731         40.711308                1   \n",
      "999881        40.751055         -74.012928         40.706390                5   \n",
      "999886        40.773223         -74.005081         40.741271                1   \n",
      "999905        40.774342         -73.992307         40.737545                1   \n",
      "999912        40.763913         -73.984065         40.768142                1   \n",
      "999926        40.774230         -73.978958         40.751572                5   \n",
      "999955        40.780012         -73.972545         40.740405                1   \n",
      "999980        40.703269         -73.983382         40.668774                1   \n",
      "999981        40.778343         -73.978371         40.750416                1   \n",
      "999994        40.774106         -73.796524         40.775041                2   \n",
      "\n",
      "        fare_bin  abs_lat_diff  abs_lon_diff  Manhattan  \n",
      "1       (15, 20]     -0.070701     -0.036780   0.107481  \n",
      "7       (15, 20]      0.023090      0.038795   0.061885  \n",
      "34      (15, 20]      0.064168      0.005555   0.069723  \n",
      "42      (15, 20]      0.046418      0.030032   0.076450  \n",
      "55      (15, 20]     -0.045287     -0.003443   0.048730  \n",
      "67      (15, 20]      0.025978      0.028069   0.054047  \n",
      "74      (15, 20]      0.042352      0.031450   0.073802  \n",
      "75      (15, 20]      0.030768      0.000320   0.031088  \n",
      "83      (15, 20]     -0.044140     -0.038831   0.082971  \n",
      "114     (15, 20]     -0.022180     -0.019369   0.041549  \n",
      "123     (15, 20]      0.073448     -0.062503   0.135951  \n",
      "126     (15, 20]      0.032118     -0.055225   0.087343  \n",
      "131     (15, 20]     -0.047093      0.018685   0.065778  \n",
      "139     (15, 20]     -0.046673     -0.043793   0.090466  \n",
      "145     (15, 20]      0.005630      0.023741   0.029371  \n",
      "148     (15, 20]     -0.048748     -0.043014   0.091762  \n",
      "150     (15, 20]      0.065331      0.059268   0.124599  \n",
      "153     (15, 20]      0.055896      0.028371   0.084267  \n",
      "163     (15, 20]      0.034996      0.053641   0.088637  \n",
      "186     (15, 20]      0.026650      0.052660   0.079310  \n",
      "187     (15, 20]      0.034774      0.040131   0.074905  \n",
      "195     (15, 20]      0.006860     -0.016399   0.023259  \n",
      "196     (15, 20]      0.046347      0.004078   0.050425  \n",
      "197     (15, 20]     -0.032087      0.006859   0.038946  \n",
      "211     (15, 20]     -0.048650     -0.045430   0.094080  \n",
      "214     (15, 20]      0.038522      0.017153   0.055675  \n",
      "243     (15, 20]     -0.074384     -0.047429   0.121813  \n",
      "247     (15, 20]     -0.042890     -0.009588   0.052478  \n",
      "251     (15, 20]     -0.033324      0.026116   0.059440  \n",
      "254     (15, 20]     -0.013874     -0.051657   0.065531  \n",
      "...          ...           ...           ...        ...  \n",
      "999580  (15, 20]      0.005804     -0.051084   0.056888  \n",
      "999586  (15, 20]      0.059276      0.004873   0.064149  \n",
      "999588  (15, 20]      0.031113     -0.010987   0.042100  \n",
      "999600  (15, 20]      0.074567     -0.002256   0.076823  \n",
      "999604  (15, 20]      0.076777     -0.004391   0.081168  \n",
      "999606  (15, 20]     -0.008462     -0.039149   0.047611  \n",
      "999654  (15, 20]      0.045462      0.038180   0.083642  \n",
      "999657  (15, 20]     -0.033943     -0.020563   0.054506  \n",
      "999664  (15, 20]      0.024036      0.034836   0.058872  \n",
      "999676  (15, 20]      0.057568      0.021022   0.078590  \n",
      "999682  (15, 20]     -0.037622     -0.016038   0.053660  \n",
      "999697  (15, 20]     -0.032754     -0.019362   0.052116  \n",
      "999752  (15, 20]      0.046528      0.007706   0.054234  \n",
      "999777  (15, 20]      0.036601      0.017818   0.054419  \n",
      "999817  (15, 20]     -0.044632     -0.009277   0.053909  \n",
      "999818  (15, 20]     -0.027901      0.029028   0.056929  \n",
      "999822  (15, 20]      0.015566      0.078325   0.093891  \n",
      "999826  (15, 20]     -0.004899     -0.061482   0.066381  \n",
      "999832  (15, 20]      0.010784      0.021668   0.032452  \n",
      "999850  (15, 20]      0.044359      0.036993   0.081352  \n",
      "999858  (15, 20]      0.036302     -0.022931   0.059233  \n",
      "999881  (15, 20]      0.044665      0.034161   0.078826  \n",
      "999886  (15, 20]      0.031952      0.059038   0.090990  \n",
      "999905  (15, 20]      0.036797      0.037862   0.074659  \n",
      "999912  (15, 20]     -0.004229      0.007087   0.011316  \n",
      "999926  (15, 20]      0.022658      0.013498   0.036156  \n",
      "999955  (15, 20]      0.039607      0.013562   0.053169  \n",
      "999980  (15, 20]      0.034495     -0.026898   0.061393  \n",
      "999981  (15, 20]      0.027927      0.022156   0.050083  \n",
      "999994  (15, 20]     -0.000935     -0.076395   0.077330  \n",
      "\n",
      "[71981 rows x 11 columns]\n",
      "(20, 25]         fare_amount          pickup_datetime  pickup_longitude  \\\n",
      "31            22.54  2015-06-21 21:46:34 UTC        -74.010483   \n",
      "77            24.90  2011-08-12 04:20:00 UTC        -74.006662   \n",
      "134           22.50  2012-02-12 01:26:00 UTC        -73.988200   \n",
      "159           21.50  2015-01-30 00:16:06 UTC        -74.001099   \n",
      "171           23.00  2013-06-22 02:35:01 UTC        -73.997728   \n",
      "188           24.50  2014-07-12 15:22:00 UTC        -74.012780   \n",
      "305           25.00  2014-07-11 05:07:00 UTC        -73.951660   \n",
      "313           20.50  2011-11-24 01:58:25 UTC        -73.965723   \n",
      "325           20.50  2011-12-05 08:38:34 UTC        -73.968619   \n",
      "330           23.50  2012-11-08 20:07:35 UTC        -73.992028   \n",
      "339           20.33  2013-04-01 00:04:15 UTC        -73.994718   \n",
      "347           23.50  2014-06-25 17:43:16 UTC        -73.958585   \n",
      "373           21.50  2013-03-22 19:20:00 UTC        -73.955235   \n",
      "404           22.50  2014-02-06 11:17:00 UTC        -73.980710   \n",
      "416           20.50  2015-05-20 20:29:35 UTC        -74.011597   \n",
      "427           21.00  2014-01-29 22:41:00 UTC        -73.978553   \n",
      "455           22.00  2014-07-03 01:34:00 UTC        -73.968087   \n",
      "459           24.00  2014-07-20 11:49:33 UTC        -73.874483   \n",
      "471           23.50  2014-09-02 00:02:00 UTC        -73.944145   \n",
      "481           20.50  2012-09-13 11:31:00 UTC        -73.986460   \n",
      "509           21.50  2014-05-09 12:55:00 UTC        -73.965747   \n",
      "562           22.00  2014-05-01 14:20:00 UTC        -74.016847   \n",
      "656           20.50  2014-04-07 07:41:50 UTC        -74.016064   \n",
      "658           21.00  2013-04-17 18:27:15 UTC        -73.977208   \n",
      "664           24.50  2014-10-07 15:02:06 UTC        -73.979269   \n",
      "677           20.50  2013-09-19 23:58:08 UTC        -73.989813   \n",
      "685           20.50  2013-07-27 23:20:00 UTC        -73.984410   \n",
      "761           21.50  2014-01-09 21:55:00 UTC        -74.001562   \n",
      "790           24.90  2011-09-25 14:09:00 UTC        -73.994673   \n",
      "791           22.50  2015-03-22 14:23:12 UTC        -73.962341   \n",
      "...             ...                      ...               ...   \n",
      "999119        23.30  2009-11-16 11:03:00 UTC        -73.971202   \n",
      "999125        22.50  2014-05-09 22:14:00 UTC        -73.997723   \n",
      "999129        20.50  2010-10-21 11:16:00 UTC        -73.862805   \n",
      "999135        24.90  2009-09-03 12:15:58 UTC        -73.851605   \n",
      "999164        25.00  2014-04-06 02:16:00 UTC        -73.978712   \n",
      "999194        25.00  2014-03-12 21:12:00 UTC        -74.006170   \n",
      "999267        22.10  2010-06-21 12:57:00 UTC        -73.992973   \n",
      "999275        20.50  2011-10-13 00:53:49 UTC        -73.991049   \n",
      "999298        20.50  2014-02-05 15:59:50 UTC        -73.985359   \n",
      "999323        23.00  2014-12-28 01:25:00 UTC        -74.005985   \n",
      "999339        20.10  2009-01-13 14:10:33 UTC        -74.010142   \n",
      "999419        20.50  2014-06-23 00:23:00 UTC        -73.970090   \n",
      "999452        20.50  2010-11-06 18:34:00 UTC        -73.990242   \n",
      "999508        24.65  2009-02-05 15:49:15 UTC        -73.978247   \n",
      "999535        21.00  2012-12-05 06:54:00 UTC        -73.915127   \n",
      "999543        24.00  2015-04-11 07:39:52 UTC        -73.952515   \n",
      "999629        22.00  2014-02-22 18:05:00 UTC        -73.989572   \n",
      "999630        20.90  2010-08-24 10:07:17 UTC        -73.952285   \n",
      "999672        24.90  2009-06-28 05:20:00 UTC        -73.985180   \n",
      "999690        21.50  2015-03-08 06:20:54 UTC        -73.883308   \n",
      "999764        22.50  2010-05-10 12:10:18 UTC        -73.988731   \n",
      "999794        21.50  2014-06-24 13:08:00 UTC        -73.977245   \n",
      "999804        20.50  2013-11-02 03:18:55 UTC        -73.996307   \n",
      "999820        20.10  2009-05-08 23:50:00 UTC        -73.988192   \n",
      "999843        21.00  2014-12-03 17:45:00 UTC        -73.961318   \n",
      "999874        24.00  2014-04-20 14:26:07 UTC        -73.933423   \n",
      "999920        25.00  2015-02-01 05:04:25 UTC        -73.905441   \n",
      "999945        20.50  2012-07-18 07:40:03 UTC        -74.014705   \n",
      "999968        22.50  2013-07-16 08:46:00 UTC        -74.007533   \n",
      "999974        21.50  2013-10-16 07:54:00 UTC        -73.991245   \n",
      "\n",
      "        pickup_latitude  dropoff_longitude  dropoff_latitude  passenger_count  \\\n",
      "31            40.717667         -73.985771         40.660366                1   \n",
      "77            40.731210         -73.925940         40.825588                1   \n",
      "134           40.759090         -73.923683         40.868610                5   \n",
      "159           40.721497         -73.959435         40.653065                1   \n",
      "171           40.746099         -73.947656         40.829451                1   \n",
      "188           40.707952         -73.997932         40.760632                6   \n",
      "305           40.772657         -74.010583         40.721405                2   \n",
      "313           40.758641         -73.937824         40.855636                1   \n",
      "325           40.766432         -74.008559         40.704591                1   \n",
      "330           40.754970         -73.912663         40.780157                1   \n",
      "339           40.750306         -73.950511         40.728566                1   \n",
      "347           40.775615         -74.000480         40.737611                1   \n",
      "373           40.773077         -74.007955         40.717110                6   \n",
      "404           40.782635         -74.002040         40.719425                1   \n",
      "416           40.702908         -73.972229         40.763145                2   \n",
      "427           40.766717         -74.016195         40.711052                6   \n",
      "455           40.755140         -73.952622         40.823312                5   \n",
      "459           40.774095         -73.967098         40.711603                1   \n",
      "471           40.702737         -73.913985         40.778460                2   \n",
      "481           40.751527         -73.953732         40.787725                1   \n",
      "509           40.771210         -74.005188         40.729157                1   \n",
      "562           40.704765         -73.975607         40.748965                1   \n",
      "656           40.711575         -73.983339         40.760979                1   \n",
      "658           40.733786         -73.978238         40.686617                1   \n",
      "664           40.761886         -74.002076         40.724702                1   \n",
      "677           40.747356         -73.927147         40.762732                1   \n",
      "685           40.716667         -73.922238         40.767287                6   \n",
      "761           40.741032         -73.958680         40.719377                1   \n",
      "790           40.750317         -73.945843         40.835722                2   \n",
      "791           40.779072         -74.005989         40.709438                4   \n",
      "...                 ...                ...               ...              ...   \n",
      "999119        40.782482         -74.010877         40.708382                2   \n",
      "999125        40.718730         -73.975717         40.765930                1   \n",
      "999129        40.768807         -73.971897         40.761938                5   \n",
      "999135        40.726296         -73.965065         40.756626                1   \n",
      "999164        40.736817         -73.958592         40.646330                1   \n",
      "999194        40.751177         -73.954873         40.685747                1   \n",
      "999267        40.749433         -73.941005         40.844180                1   \n",
      "999275        40.719553         -73.971958         40.795572                3   \n",
      "999298        40.718496         -73.983063         40.765634                1   \n",
      "999323        40.725717         -73.935915         40.671755                1   \n",
      "999339        40.720399         -73.978587         40.750480                1   \n",
      "999419        40.762067         -74.005310         40.741027                1   \n",
      "999452        40.751125         -73.947587         40.836038                1   \n",
      "999508        40.748565         -73.872515         40.774491                2   \n",
      "999535        40.763832         -73.957780         40.760905                1   \n",
      "999543        40.772999         -73.871712         40.773960                1   \n",
      "999629        40.741675         -73.991732         40.748632                1   \n",
      "999630        40.781379         -74.007478         40.706066                1   \n",
      "999672        40.718865         -73.855557         40.753830                1   \n",
      "999690        40.747707         -73.949181         40.776772                6   \n",
      "999764        40.722122         -73.873111         40.774363                1   \n",
      "999794        40.763675         -74.005953         40.725952                1   \n",
      "999804        40.733111         -73.970340         40.796469                1   \n",
      "999820        40.720058         -73.974222         40.795627                2   \n",
      "999843        40.771697         -73.995200         40.722472                1   \n",
      "999874        40.855226         -73.951944         40.765962                3   \n",
      "999920        40.745304         -74.003120         40.733269                1   \n",
      "999945        40.716917         -73.950038         40.772213                1   \n",
      "999968        40.725687         -73.972683         40.758247                1   \n",
      "999974        40.765387         -74.004995         40.705362                2   \n",
      "\n",
      "        fare_bin  abs_lat_diff  abs_lon_diff  Manhattan  \n",
      "31      (20, 25]      0.057301     -0.024712   0.082012  \n",
      "77      (20, 25]     -0.094378     -0.080722   0.175100  \n",
      "134     (20, 25]     -0.109520     -0.064517   0.174037  \n",
      "159     (20, 25]      0.068432     -0.041664   0.110096  \n",
      "171     (20, 25]     -0.083352     -0.050072   0.133424  \n",
      "188     (20, 25]     -0.052680     -0.014848   0.067528  \n",
      "305     (20, 25]      0.051252      0.058923   0.110175  \n",
      "313     (20, 25]     -0.096995     -0.027899   0.124894  \n",
      "325     (20, 25]      0.061841      0.039940   0.101781  \n",
      "330     (20, 25]     -0.025187     -0.079365   0.104552  \n",
      "339     (20, 25]      0.021740     -0.044207   0.065947  \n",
      "347     (20, 25]      0.038004      0.041895   0.079899  \n",
      "373     (20, 25]      0.055967      0.052720   0.108687  \n",
      "404     (20, 25]      0.063210      0.021330   0.084540  \n",
      "416     (20, 25]     -0.060238     -0.039368   0.099606  \n",
      "427     (20, 25]      0.055665      0.037642   0.093307  \n",
      "455     (20, 25]     -0.068172     -0.015465   0.083637  \n",
      "459     (20, 25]      0.062492      0.092615   0.155107  \n",
      "471     (20, 25]     -0.075723     -0.030160   0.105883  \n",
      "481     (20, 25]     -0.036198     -0.032728   0.068926  \n",
      "509     (20, 25]      0.042053      0.039441   0.081494  \n",
      "562     (20, 25]     -0.044200     -0.041240   0.085440  \n",
      "656     (20, 25]     -0.049404     -0.032725   0.082129  \n",
      "658     (20, 25]      0.047169      0.001030   0.048199  \n",
      "664     (20, 25]      0.037184      0.022807   0.059991  \n",
      "677     (20, 25]     -0.015376     -0.062666   0.078042  \n",
      "685     (20, 25]     -0.050620     -0.062172   0.112792  \n",
      "761     (20, 25]      0.021655     -0.042882   0.064537  \n",
      "790     (20, 25]     -0.085405     -0.048830   0.134235  \n",
      "791     (20, 25]      0.069633      0.043648   0.113281  \n",
      "...          ...           ...           ...        ...  \n",
      "999119  (20, 25]      0.074100      0.039675   0.113775  \n",
      "999125  (20, 25]     -0.047200     -0.022006   0.069206  \n",
      "999129  (20, 25]      0.006869      0.109092   0.115961  \n",
      "999135  (20, 25]     -0.030330      0.113460   0.143790  \n",
      "999164  (20, 25]      0.090487     -0.020120   0.110607  \n",
      "999194  (20, 25]      0.065430     -0.051297   0.116727  \n",
      "999267  (20, 25]     -0.094747     -0.051968   0.146715  \n",
      "999275  (20, 25]     -0.076019     -0.019091   0.095110  \n",
      "999298  (20, 25]     -0.047138     -0.002296   0.049434  \n",
      "999323  (20, 25]      0.053962     -0.070070   0.124032  \n",
      "999339  (20, 25]     -0.030081     -0.031555   0.061636  \n",
      "999419  (20, 25]      0.021040      0.035220   0.056260  \n",
      "999452  (20, 25]     -0.084913     -0.042655   0.127568  \n",
      "999508  (20, 25]     -0.025926     -0.105732   0.131658  \n",
      "999535  (20, 25]      0.002927      0.042653   0.045580  \n",
      "999543  (20, 25]     -0.000961     -0.080803   0.081764  \n",
      "999629  (20, 25]     -0.006957      0.002160   0.009117  \n",
      "999630  (20, 25]      0.075313      0.055193   0.130506  \n",
      "999672  (20, 25]     -0.034965     -0.129623   0.164588  \n",
      "999690  (20, 25]     -0.029064      0.065872   0.094936  \n",
      "999764  (20, 25]     -0.052241     -0.115620   0.167861  \n",
      "999794  (20, 25]      0.037723      0.028708   0.066431  \n",
      "999804  (20, 25]     -0.063358     -0.025967   0.089325  \n",
      "999820  (20, 25]     -0.075569     -0.013970   0.089539  \n",
      "999843  (20, 25]      0.049225      0.033882   0.083107  \n",
      "999874  (20, 25]      0.089264      0.018521   0.107785  \n",
      "999920  (20, 25]      0.012035      0.097679   0.109715  \n",
      "999945  (20, 25]     -0.055296     -0.064667   0.119963  \n",
      "999968  (20, 25]     -0.032560     -0.034850   0.067410  \n",
      "999974  (20, 25]      0.060025      0.013750   0.073775  \n",
      "\n",
      "[31194 rows x 11 columns]\n",
      "(25, 30]         fare_amount          pickup_datetime  pickup_longitude  \\\n",
      "54            25.50  2013-11-10 01:12:19 UTC        -73.974497   \n",
      "194           27.00  2013-05-02 07:41:00 UTC        -73.987285   \n",
      "198           26.90  2012-04-22 00:35:00 UTC        -73.863072   \n",
      "256           25.30  2010-05-22 23:29:57 UTC        -74.001343   \n",
      "301           26.67  2010-06-15 13:31:08 UTC        -73.958063   \n",
      "320           26.50  2012-03-10 22:53:25 UTC        -73.776747   \n",
      "333           26.50  2010-02-27 20:13:00 UTC        -73.977765   \n",
      "399           25.70  2009-09-02 05:18:10 UTC        -73.991729   \n",
      "426           29.00  2012-09-15 02:17:00 UTC        -74.003240   \n",
      "460           25.70  2010-01-16 13:58:13 UTC        -73.979952   \n",
      "475           28.00  2014-07-13 11:15:00 UTC        -73.870930   \n",
      "588           28.50  2012-09-19 09:22:56 UTC        -73.952827   \n",
      "639           26.90  2011-11-23 17:58:00 UTC        -73.874558   \n",
      "665           27.00  2015-04-05 00:54:56 UTC        -73.987556   \n",
      "765           26.50  2015-02-22 12:46:09 UTC        -74.013618   \n",
      "774           28.10  2012-04-19 19:11:35 UTC        -73.863763   \n",
      "787           27.00  2014-11-24 02:46:00 UTC        -74.008827   \n",
      "832           25.45  2009-04-25 13:08:00 UTC        -73.990550   \n",
      "997           29.30  2011-12-22 11:07:00 UTC        -73.942380   \n",
      "1185          29.50  2012-12-15 00:35:00 UTC        -74.008595   \n",
      "1244          27.10  2009-04-02 17:50:59 UTC        -74.011007   \n",
      "1312          28.10  2009-11-25 11:28:36 UTC        -74.004068   \n",
      "1387          28.27  2009-09-16 18:53:13 UTC        -73.872426   \n",
      "1425          26.50  2013-03-15 10:51:38 UTC        -73.978749   \n",
      "1477          29.50  2013-06-18 20:55:45 UTC        -73.982925   \n",
      "1493          25.70  2011-05-06 14:09:00 UTC        -73.786918   \n",
      "1557          29.70  2011-10-07 19:20:00 UTC        -73.865680   \n",
      "1583          26.50  2009-04-17 00:58:35 UTC        -73.976588   \n",
      "1612          26.50  2012-09-14 18:04:00 UTC        -73.968415   \n",
      "1623          29.60  2009-06-14 21:28:00 UTC        -73.994528   \n",
      "...             ...                      ...               ...   \n",
      "998616        26.50  2009-10-25 07:53:00 UTC        -73.985355   \n",
      "998629        27.00  2014-09-15 19:05:49 UTC        -74.009991   \n",
      "998630        29.83  2014-11-22 16:13:25 UTC        -73.980107   \n",
      "998631        26.25  2009-04-10 17:50:00 UTC        -73.870985   \n",
      "998769        28.50  2011-01-04 21:57:00 UTC        -74.000447   \n",
      "998888        29.47  2009-10-04 21:25:37 UTC        -73.870803   \n",
      "998916        27.30  2010-12-06 21:37:00 UTC        -73.788635   \n",
      "998945        27.70  2009-10-26 06:34:06 UTC        -73.974709   \n",
      "998990        29.70  2012-08-31 14:50:11 UTC        -73.973708   \n",
      "999019        30.00  2011-08-26 07:17:00 UTC        -73.976473   \n",
      "999085        28.10  2010-08-09 22:49:00 UTC        -73.870672   \n",
      "999107        26.80  2012-12-11 02:03:08 UTC        -74.003803   \n",
      "999153        30.00  2013-06-24 18:01:51 UTC        -73.990081   \n",
      "999242        25.50  2014-02-12 04:08:00 UTC        -73.974502   \n",
      "999254        29.80  2009-02-16 21:33:36 UTC        -73.982546   \n",
      "999313        27.50  2015-01-29 00:53:16 UTC        -73.776756   \n",
      "999366        25.50  2015-06-10 20:33:49 UTC        -74.005142   \n",
      "999393        26.90  2011-11-23 17:41:06 UTC        -73.983388   \n",
      "999420        27.30  2011-09-22 11:23:12 UTC        -73.874461   \n",
      "999511        27.07  2010-11-17 15:38:00 UTC        -73.874462   \n",
      "999553        26.10  2012-02-21 15:38:51 UTC        -74.010638   \n",
      "999695        25.07  2010-10-08 05:29:06 UTC        -73.966339   \n",
      "999719        27.05  2009-01-11 23:22:00 UTC        -73.862697   \n",
      "999732        27.50  2014-08-19 00:16:00 UTC        -73.873010   \n",
      "999800        25.70  2010-11-15 22:30:30 UTC        -73.967507   \n",
      "999825        26.50  2014-03-06 20:29:00 UTC        -73.994862   \n",
      "999829        27.00  2013-12-13 15:27:00 UTC        -73.954387   \n",
      "999908        26.83  2014-03-12 19:16:24 UTC        -73.978645   \n",
      "999971        29.30  2009-06-15 09:42:00 UTC        -73.776735   \n",
      "999988        25.30  2011-05-14 07:21:00 UTC        -73.937393   \n",
      "\n",
      "        pickup_latitude  dropoff_longitude  dropoff_latitude  passenger_count  \\\n",
      "54            40.751603         -73.934927         40.851567                4   \n",
      "194           40.718622         -73.959295         40.778482                1   \n",
      "198           40.768622         -73.982145         40.736167                6   \n",
      "256           40.741320         -73.928619         40.864267                1   \n",
      "301           40.760414         -73.861443         40.768181                1   \n",
      "320           40.645265         -73.813803         40.709035                1   \n",
      "333           40.766177         -73.977982         40.766937                5   \n",
      "399           40.760501         -73.861246         40.767619                1   \n",
      "426           40.733577         -73.948550         40.723342                1   \n",
      "460           40.726656         -73.951914         40.813041                1   \n",
      "475           40.773787         -73.966003         40.755425                1   \n",
      "588           40.772524         -74.000287         40.758570                1   \n",
      "639           40.774082         -73.963940         40.766010                1   \n",
      "665           40.733673         -73.950684         40.823067                1   \n",
      "765           40.716534         -73.946968         40.772076                1   \n",
      "774           40.769938         -74.000320         40.716240                1   \n",
      "787           40.710565         -73.927660         40.759892                1   \n",
      "832           40.745908         -73.885363         40.771893                1   \n",
      "997           40.837712         -73.864372         40.769985                2   \n",
      "1185          40.726095         -73.948780         40.831450                1   \n",
      "1244          40.702744         -73.977270         40.789972                3   \n",
      "1312          40.716719         -73.939667         40.844999                2   \n",
      "1387          40.773876         -73.978782         40.763754                1   \n",
      "1425          40.766575         -74.009016         40.705170                1   \n",
      "1477          40.764651         -73.846682         40.724244                1   \n",
      "1493          40.639905         -73.932597         40.654143                1   \n",
      "1557          40.770982         -74.008202         40.715732                1   \n",
      "1583          40.759132         -73.923739         40.694197                3   \n",
      "1612          40.761645         -74.013407         40.714957                1   \n",
      "1623          40.760067         -73.899122         40.896535                1   \n",
      "...                 ...                ...               ...              ...   \n",
      "998616        40.762575         -73.862337         40.768817                2   \n",
      "998629        40.705303         -73.948038         40.783076                1   \n",
      "998630        40.748601         -73.870474         40.773741                1   \n",
      "998631        40.773725         -73.961068         40.806647                2   \n",
      "998769        40.708657         -73.857232         40.734578                1   \n",
      "998888        40.773497         -74.001041         40.745611                1   \n",
      "998916        40.641442         -73.878877         40.744342                2   \n",
      "998945        40.751175         -73.864885         40.770450                1   \n",
      "998990        40.759155         -73.870915         40.774092                1   \n",
      "999019        40.755990         -73.875682         40.771433                1   \n",
      "999085        40.773598         -73.989062         40.684618                1   \n",
      "999107        40.751626         -73.895214         40.712844                1   \n",
      "999153        40.756388         -73.877052         40.738762                1   \n",
      "999242        40.742155         -73.852740         40.901562                1   \n",
      "999254        40.748868         -73.989236         40.628872                2   \n",
      "999313        40.645161         -73.780418         40.727566                1   \n",
      "999366        40.741703         -73.940331         40.824612                1   \n",
      "999393        40.740128         -73.869192         40.736716                1   \n",
      "999420        40.774040         -73.980863         40.747936                1   \n",
      "999511        40.773997         -73.973123         40.757243                1   \n",
      "999553        40.719142         -73.971997         40.764651                2   \n",
      "999695        40.804432         -73.872612         40.774312                1   \n",
      "999719        40.768818         -73.991497         40.752103                2   \n",
      "999732        40.774157         -73.985255         40.726782                1   \n",
      "999800        40.762627         -73.852195         40.806968                2   \n",
      "999825        40.750197         -73.910735         40.779567                5   \n",
      "999829        40.764902         -74.005722         40.706157                1   \n",
      "999908        40.750535         -73.880927         40.756843                1   \n",
      "999971        40.645323         -73.970758         40.682848                5   \n",
      "999988        40.757975         -73.937393         40.757975                5   \n",
      "\n",
      "        fare_bin  abs_lat_diff  abs_lon_diff  Manhattan  \n",
      "54      (25, 30]     -0.099964     -0.039570   0.139534  \n",
      "194     (25, 30]     -0.059860     -0.027990   0.087850  \n",
      "198     (25, 30]      0.032455      0.119073   0.151528  \n",
      "256     (25, 30]     -0.122947     -0.072724   0.195671  \n",
      "301     (25, 30]     -0.007767     -0.096620   0.104387  \n",
      "320     (25, 30]     -0.063770      0.037056   0.100826  \n",
      "333     (25, 30]     -0.000760      0.000217   0.000977  \n",
      "399     (25, 30]     -0.007118     -0.130483   0.137601  \n",
      "426     (25, 30]      0.010235     -0.054690   0.064925  \n",
      "460     (25, 30]     -0.086385     -0.028038   0.114423  \n",
      "475     (25, 30]      0.018362      0.095073   0.113435  \n",
      "588     (25, 30]      0.013954      0.047460   0.061414  \n",
      "639     (25, 30]      0.008072      0.089382   0.097454  \n",
      "665     (25, 30]     -0.089394     -0.036873   0.126266  \n",
      "765     (25, 30]     -0.055542     -0.066650   0.122192  \n",
      "774     (25, 30]      0.053698      0.136557   0.190255  \n",
      "787     (25, 30]     -0.049327     -0.081167   0.130494  \n",
      "832     (25, 30]     -0.025985     -0.105187   0.131172  \n",
      "997     (25, 30]      0.067727     -0.078008   0.145735  \n",
      "1185    (25, 30]     -0.105355     -0.059815   0.165170  \n",
      "1244    (25, 30]     -0.087228     -0.033737   0.120965  \n",
      "1312    (25, 30]     -0.128280     -0.064401   0.192681  \n",
      "1387    (25, 30]      0.010122      0.106356   0.116478  \n",
      "1425    (25, 30]      0.061405      0.030267   0.091672  \n",
      "1477    (25, 30]      0.040407     -0.136243   0.176650  \n",
      "1493    (25, 30]     -0.014238      0.145679   0.159917  \n",
      "1557    (25, 30]      0.055250      0.142522   0.197772  \n",
      "1583    (25, 30]      0.064935     -0.052849   0.117784  \n",
      "1612    (25, 30]      0.046688      0.044992   0.091680  \n",
      "1623    (25, 30]     -0.136468     -0.095406   0.231874  \n",
      "...          ...           ...           ...        ...  \n",
      "998616  (25, 30]     -0.006242     -0.123018   0.129260  \n",
      "998629  (25, 30]     -0.077773     -0.061953   0.139726  \n",
      "998630  (25, 30]     -0.025140     -0.109633   0.134773  \n",
      "998631  (25, 30]     -0.032922      0.090083   0.123005  \n",
      "998769  (25, 30]     -0.025921     -0.143215   0.169136  \n",
      "998888  (25, 30]      0.027886      0.130238   0.158124  \n",
      "998916  (25, 30]     -0.102900      0.090242   0.193142  \n",
      "998945  (25, 30]     -0.019275     -0.109824   0.129099  \n",
      "998990  (25, 30]     -0.014937     -0.102793   0.117730  \n",
      "999019  (25, 30]     -0.015443     -0.100791   0.116234  \n",
      "999085  (25, 30]      0.088980      0.118390   0.207370  \n",
      "999107  (25, 30]      0.038782     -0.108589   0.147371  \n",
      "999153  (25, 30]      0.017626     -0.113029   0.130655  \n",
      "999242  (25, 30]     -0.159407     -0.121762   0.281169  \n",
      "999254  (25, 30]      0.119996      0.006690   0.126686  \n",
      "999313  (25, 30]     -0.082405      0.003662   0.086067  \n",
      "999366  (25, 30]     -0.082909     -0.064812   0.147720  \n",
      "999393  (25, 30]      0.003412     -0.114196   0.117608  \n",
      "999420  (25, 30]      0.026104      0.106402   0.132506  \n",
      "999511  (25, 30]      0.016754      0.098661   0.115415  \n",
      "999553  (25, 30]     -0.045509     -0.038641   0.084150  \n",
      "999695  (25, 30]      0.030120     -0.093727   0.123847  \n",
      "999719  (25, 30]      0.016715      0.128800   0.145515  \n",
      "999732  (25, 30]      0.047375      0.112245   0.159620  \n",
      "999800  (25, 30]     -0.044341     -0.115312   0.159653  \n",
      "999825  (25, 30]     -0.029370     -0.084127   0.113497  \n",
      "999829  (25, 30]      0.058745      0.051335   0.110080  \n",
      "999908  (25, 30]     -0.006308     -0.097718   0.104026  \n",
      "999971  (25, 30]     -0.037525      0.194023   0.231548  \n",
      "999988  (25, 30]      0.000000      0.000000   0.000000  \n",
      "\n",
      "[19605 rows x 11 columns]\n",
      "(30, 35]         fare_amount          pickup_datetime  pickup_longitude  \\\n",
      "32            31.90  2009-01-09 16:10:00 UTC        -73.873027   \n",
      "56            34.67  2010-05-31 18:06:00 UTC        -73.985427   \n",
      "112           35.00  2012-12-06 18:05:00 UTC        -73.953310   \n",
      "118           32.50  2012-05-11 15:03:53 UTC        -73.872862   \n",
      "220           30.90  2012-03-16 07:58:00 UTC        -73.981942   \n",
      "314           34.00  2015-06-02 23:16:15 UTC        -73.974899   \n",
      "329           34.00  2009-08-03 08:19:45 UTC        -73.863506   \n",
      "344           33.07  2010-06-09 14:53:47 UTC        -73.862764   \n",
      "398           33.83  2015-03-11 14:48:58 UTC        -73.973305   \n",
      "429           32.90  2009-09-12 10:56:00 UTC        -73.982762   \n",
      "671           30.90  2012-08-30 18:17:13 UTC        -73.978438   \n",
      "726           31.20  2009-10-01 06:43:42 UTC        -73.975427   \n",
      "736           34.10  2012-04-20 15:36:33 UTC        -73.873254   \n",
      "812           31.83  2013-07-19 18:55:00 UTC        -73.865875   \n",
      "850           30.83  2013-12-23 13:52:00 UTC        -73.952607   \n",
      "857           31.50  2012-10-13 02:31:22 UTC        -74.007458   \n",
      "1014          30.80  2013-01-31 11:19:00 UTC        -73.951762   \n",
      "1137          30.83  2013-11-28 06:04:00 UTC        -73.976535   \n",
      "1151          30.83  2015-01-13 14:20:34 UTC        -73.873055   \n",
      "1163          31.87  2010-02-13 11:01:42 UTC        -73.870410   \n",
      "1194          33.00  2013-02-10 00:07:00 UTC        -73.974452   \n",
      "1299          32.83  2014-10-15 21:13:09 UTC        -73.862975   \n",
      "1350          30.10  2009-10-22 15:17:35 UTC        -73.788145   \n",
      "1401          31.83  2013-05-29 23:47:00 UTC        -73.866135   \n",
      "1568          31.70  2011-09-12 13:42:50 UTC        -73.885276   \n",
      "1578          30.50  2013-02-24 21:16:46 UTC        -73.976657   \n",
      "1587          30.50  2015-03-12 21:54:14 UTC        -73.974602   \n",
      "1607          33.70  2011-06-15 14:17:02 UTC        -73.782043   \n",
      "1628          33.33  2015-02-18 08:09:48 UTC        -73.960068   \n",
      "1643          30.10  2011-05-25 11:16:00 UTC        -74.012835   \n",
      "...             ...                      ...               ...   \n",
      "997761        30.10  2009-05-14 01:00:09 UTC        -73.997113   \n",
      "997799        32.10  2011-11-14 10:53:00 UTC        -73.979982   \n",
      "997941        33.33  2014-05-07 17:21:32 UTC        -73.872947   \n",
      "997945        35.00  2013-04-02 14:44:00 UTC        -74.003162   \n",
      "997982        30.10  2009-06-21 04:15:00 UTC        -73.998038   \n",
      "998205        30.50  2013-06-15 23:16:12 UTC        -73.991628   \n",
      "998458        30.80  2012-12-08 14:00:00 UTC        -73.873480   \n",
      "998459        33.83  2013-03-06 23:05:32 UTC        -73.865661   \n",
      "998480        33.30  2011-05-04 18:07:15 UTC        -73.981758   \n",
      "998495        33.30  2010-06-17 15:52:00 UTC        -73.874018   \n",
      "998542        31.00  2014-06-28 13:14:00 UTC        -73.946200   \n",
      "998576        35.00  2012-11-11 00:42:00 UTC        -73.977132   \n",
      "998642        30.10  2009-06-17 13:23:00 UTC        -73.871975   \n",
      "998654        31.80  2013-01-11 15:51:00 UTC        -73.863882   \n",
      "998720        34.83  2015-02-24 15:02:20 UTC        -73.970444   \n",
      "998799        31.90  2009-02-27 05:16:00 UTC        -73.985183   \n",
      "998862        31.70  2009-04-24 21:47:00 UTC        -73.956498   \n",
      "998950        32.50  2011-06-27 14:17:02 UTC        -73.870510   \n",
      "999160        32.33  2014-09-15 20:27:00 UTC        -73.865590   \n",
      "999213        31.70  2012-08-13 13:57:30 UTC        -73.862811   \n",
      "999310        30.27  2010-04-08 13:00:48 UTC        -73.973727   \n",
      "999333        33.45  2009-04-25 11:42:00 UTC        -73.863437   \n",
      "999512        32.10  2012-08-17 10:59:56 UTC        -73.976073   \n",
      "999760        32.00  2015-05-28 10:45:03 UTC        -73.996925   \n",
      "999797        32.10  2010-05-04 11:48:00 UTC        -73.789180   \n",
      "999809        31.05  2009-02-16 10:11:07 UTC        -73.984740   \n",
      "999848        30.50  2011-09-03 06:37:00 UTC        -74.000067   \n",
      "999879        34.00  2014-02-12 06:54:51 UTC        -74.004171   \n",
      "999911        31.70  2011-10-16 16:09:00 UTC        -73.976625   \n",
      "999975        31.83  2014-08-24 09:12:23 UTC        -73.873020   \n",
      "\n",
      "        pickup_latitude  dropoff_longitude  dropoff_latitude  passenger_count  \\\n",
      "32            40.773883         -73.984545         40.769545                3   \n",
      "56            40.758853         -73.872907         40.774497                1   \n",
      "112           40.787772         -73.944352         40.719772                2   \n",
      "118           40.774105         -73.970593         40.764393                2   \n",
      "220           40.763977         -73.870455         40.773607                5   \n",
      "314           40.751095         -73.908546         40.881878                0   \n",
      "329           40.769985         -73.975820         40.765446                1   \n",
      "344           40.769064         -73.984033         40.752842                2   \n",
      "398           40.756386         -73.872444         40.774307                1   \n",
      "429           40.769003         -73.872620         40.774533                1   \n",
      "671           40.737000         -73.864842         40.770393                2   \n",
      "726           40.757116         -73.865090         40.770561                1   \n",
      "736           40.773999         -73.983536         40.762902                1   \n",
      "812           40.770440         -73.979228         40.749225                1   \n",
      "850           40.776032         -73.861117         40.767782                1   \n",
      "857           40.726242         -73.870459         40.762649                1   \n",
      "1014          40.777862         -73.870950         40.774147                1   \n",
      "1137          40.745105         -73.865332         40.770662                2   \n",
      "1151          40.774048         -73.984680         40.741188                1   \n",
      "1163          40.773517         -73.985517         40.759665                2   \n",
      "1194          40.788422         -73.970625         40.672450                1   \n",
      "1299          40.769187         -73.983902         40.743463                1   \n",
      "1350          40.641979         -73.880388         40.748567                1   \n",
      "1401          40.771242         -73.954560         40.767247                1   \n",
      "1568          40.773068         -73.985929         40.754375                1   \n",
      "1578          40.683125         -73.982267         40.767462                2   \n",
      "1587          40.750511         -73.867393         40.835655                1   \n",
      "1607          40.644819         -73.916548         40.783537                1   \n",
      "1628          40.770470         -73.865639         40.770912                1   \n",
      "1643          40.717527         -73.885297         40.772762                1   \n",
      "...                 ...                ...               ...              ...   \n",
      "997761        40.722043         -73.995203         40.595959                1   \n",
      "997799        40.782205         -73.864890         40.770427                2   \n",
      "997941        40.774122         -73.976243         40.751411                1   \n",
      "997945        40.713882         -73.885582         40.773137                1   \n",
      "997982        40.682302         -73.919330         40.775105                1   \n",
      "998205        40.749969         -73.966515         40.711221                2   \n",
      "998458        40.773980         -73.959982         40.768637                1   \n",
      "998459        40.771074         -73.989746         40.725707                1   \n",
      "998480        40.762168         -73.861453         40.768159                2   \n",
      "998495        40.773743         -73.771500         40.676727                1   \n",
      "998542        40.780119         -73.943257         40.717710                1   \n",
      "998576        40.755435         -73.859863         40.863085                2   \n",
      "998642        40.773863         -73.989362         40.702128                2   \n",
      "998654        40.768565         -73.983082         40.744237                1   \n",
      "998720        40.765350         -73.961952         40.720360                5   \n",
      "998799        40.762628         -73.872158         40.774558                5   \n",
      "998862        40.771412         -73.842723         40.689995                1   \n",
      "998950        40.773504         -73.984160         40.763063                1   \n",
      "999160        40.770862         -73.950720         40.769762                1   \n",
      "999213        40.769091         -73.986058         40.668219                2   \n",
      "999310        40.762298         -73.862311         40.767255                1   \n",
      "999333        40.769838         -73.965705         40.762868                1   \n",
      "999512        40.763890         -73.865648         40.770938                1   \n",
      "999760        40.722160         -73.861206         40.767948                3   \n",
      "999797        40.643405         -73.974672         40.647878                1   \n",
      "999809        40.758959         -73.862356         40.768854                3   \n",
      "999848        40.743013         -73.861465         40.767502                1   \n",
      "999879        40.707303         -73.865443         40.770810                1   \n",
      "999911        40.751408         -73.872517         40.774453                1   \n",
      "999975        40.774041         -73.982572         40.759972                2   \n",
      "\n",
      "        fare_bin  abs_lat_diff  abs_lon_diff  Manhattan  \n",
      "32      (30, 35]      0.004338      0.111518   0.115856  \n",
      "56      (30, 35]     -0.015644     -0.112520   0.128164  \n",
      "112     (30, 35]      0.068000     -0.008958   0.076958  \n",
      "118     (30, 35]      0.009712      0.097731   0.107443  \n",
      "220     (30, 35]     -0.009630     -0.111487   0.121117  \n",
      "314     (30, 35]     -0.130783     -0.066353   0.197136  \n",
      "329     (30, 35]      0.004539      0.112314   0.116853  \n",
      "344     (30, 35]      0.016222      0.121269   0.137491  \n",
      "398     (30, 35]     -0.017921     -0.100861   0.118782  \n",
      "429     (30, 35]     -0.005530     -0.110142   0.115672  \n",
      "671     (30, 35]     -0.033393     -0.113596   0.146989  \n",
      "726     (30, 35]     -0.013445     -0.110337   0.123782  \n",
      "736     (30, 35]      0.011097      0.110282   0.121379  \n",
      "812     (30, 35]      0.021215      0.113353   0.134568  \n",
      "850     (30, 35]      0.008250     -0.091490   0.099740  \n",
      "857     (30, 35]     -0.036407     -0.136999   0.173406  \n",
      "1014    (30, 35]      0.003715     -0.080812   0.084527  \n",
      "1137    (30, 35]     -0.025557     -0.111203   0.136760  \n",
      "1151    (30, 35]      0.032860      0.111626   0.144485  \n",
      "1163    (30, 35]      0.013852      0.115107   0.128959  \n",
      "1194    (30, 35]      0.115972     -0.003827   0.119799  \n",
      "1299    (30, 35]      0.025724      0.120927   0.146651  \n",
      "1350    (30, 35]     -0.106588      0.092243   0.198831  \n",
      "1401    (30, 35]      0.003995      0.088425   0.092420  \n",
      "1568    (30, 35]      0.018693      0.100653   0.119346  \n",
      "1578    (30, 35]     -0.084337      0.005610   0.089947  \n",
      "1587    (30, 35]     -0.085144     -0.107208   0.192352  \n",
      "1607    (30, 35]     -0.138718      0.134505   0.273223  \n",
      "1628    (30, 35]     -0.000443     -0.094429   0.094872  \n",
      "1643    (30, 35]     -0.055235     -0.127538   0.182773  \n",
      "...          ...           ...           ...        ...  \n",
      "997761  (30, 35]      0.126084     -0.001910   0.127994  \n",
      "997799  (30, 35]      0.011778     -0.115092   0.126870  \n",
      "997941  (30, 35]      0.022711      0.103296   0.126007  \n",
      "997945  (30, 35]     -0.059255     -0.117580   0.176835  \n",
      "997982  (30, 35]     -0.092803     -0.078708   0.171511  \n",
      "998205  (30, 35]      0.038748     -0.025113   0.063861  \n",
      "998458  (30, 35]      0.005343      0.086502   0.091845  \n",
      "998459  (30, 35]      0.045367      0.124085   0.169452  \n",
      "998480  (30, 35]     -0.005991     -0.120305   0.126296  \n",
      "998495  (30, 35]      0.097016     -0.102518   0.199534  \n",
      "998542  (30, 35]      0.062409     -0.002943   0.065352  \n",
      "998576  (30, 35]     -0.107650     -0.117269   0.224919  \n",
      "998642  (30, 35]      0.071735      0.117387   0.189122  \n",
      "998654  (30, 35]      0.024328      0.119200   0.143528  \n",
      "998720  (30, 35]      0.044991     -0.008492   0.053482  \n",
      "998799  (30, 35]     -0.011930     -0.113025   0.124955  \n",
      "998862  (30, 35]      0.081417     -0.113775   0.195192  \n",
      "998950  (30, 35]      0.010441      0.113650   0.124091  \n",
      "999160  (30, 35]      0.001100      0.085130   0.086230  \n",
      "999213  (30, 35]      0.100872      0.123247   0.224119  \n",
      "999310  (30, 35]     -0.004957     -0.111416   0.116373  \n",
      "999333  (30, 35]      0.006970      0.102268   0.109238  \n",
      "999512  (30, 35]     -0.007048     -0.110425   0.117473  \n",
      "999760  (30, 35]     -0.045788     -0.135719   0.181507  \n",
      "999797  (30, 35]     -0.004473      0.185492   0.189965  \n",
      "999809  (30, 35]     -0.009895     -0.122384   0.132279  \n",
      "999848  (30, 35]     -0.024489     -0.138602   0.163091  \n",
      "999879  (30, 35]     -0.063507     -0.138728   0.202235  \n",
      "999911  (30, 35]     -0.023045     -0.104108   0.127153  \n",
      "999975  (30, 35]      0.014069      0.109552   0.123621  \n",
      "\n",
      "[14414 rows x 11 columns]\n",
      "(35, 40]         fare_amount          pickup_datetime  pickup_longitude  \\\n",
      "166           35.50  2013-03-24 18:05:42 UTC        -73.863891   \n",
      "345           36.50  2011-05-04 13:44:00 UTC        -73.873068   \n",
      "489           38.50  2012-09-02 23:09:00 UTC        -73.977473   \n",
      "499           38.80  2012-11-30 11:02:00 UTC        -73.974620   \n",
      "511           38.10  2010-11-13 04:38:00 UTC        -74.007610   \n",
      "554           38.83  2013-08-05 15:08:42 UTC        -73.978810   \n",
      "704           38.33  2014-08-21 12:40:24 UTC        -73.977151   \n",
      "709           38.50  2012-07-09 07:54:34 UTC        -73.862568   \n",
      "758           35.07  2009-10-16 22:54:39 UTC        -73.994618   \n",
      "1022          36.10  2009-01-31 19:54:00 UTC        -73.985878   \n",
      "1051          36.10  2012-05-19 02:57:43 UTC        -74.005771   \n",
      "1368          39.70  2009-12-02 19:15:22 UTC        -73.788539   \n",
      "1427          36.50  2014-05-31 15:53:02 UTC        -73.862829   \n",
      "1445          39.70  2012-03-13 16:40:38 UTC        -73.864485   \n",
      "1802          36.33  2014-05-31 07:01:00 UTC        -73.986755   \n",
      "2122          39.87  2009-12-29 12:02:00 UTC        -74.017173   \n",
      "2191          39.33  2013-04-17 14:12:00 UTC        -73.979967   \n",
      "2261          35.83  2014-06-07 14:17:33 UTC        -73.862539   \n",
      "2443          38.83  2013-10-26 12:14:34 UTC        -73.988725   \n",
      "2614          37.00  2014-02-09 23:51:51 UTC        -73.776746   \n",
      "2794          35.50  2015-02-22 13:33:34 UTC        -73.790108   \n",
      "3017          36.10  2011-07-05 12:10:03 UTC        -73.870835   \n",
      "3230          38.83  2013-05-17 19:23:00 UTC        -73.863890   \n",
      "3339          39.50  2013-04-20 00:08:55 UTC        -73.994770   \n",
      "3355          35.20  2009-08-31 12:45:00 UTC        -73.872737   \n",
      "3492          35.33  2013-08-19 13:53:01 UTC        -73.870964   \n",
      "3787          37.54  2015-04-07 06:21:08 UTC        -73.980537   \n",
      "4039          39.50  2015-06-21 20:17:10 UTC        -73.863510   \n",
      "4377          35.30  2013-01-29 05:52:54 UTC        -73.967236   \n",
      "4434          35.83  2015-02-09 09:56:31 UTC        -73.870750   \n",
      "...             ...                      ...               ...   \n",
      "996353        38.00  2015-03-27 21:36:42 UTC        -73.988068   \n",
      "996401        36.00  2012-12-21 20:39:35 UTC        -73.781757   \n",
      "996421        36.10  2012-01-05 12:11:25 UTC        -73.863018   \n",
      "996506        38.50  2014-12-31 15:34:12 UTC        -73.862619   \n",
      "996898        37.83  2014-06-27 15:40:08 UTC        -73.991737   \n",
      "996943        37.70  2011-10-29 06:27:00 UTC        -73.998707   \n",
      "997089        36.83  2014-03-12 09:58:08 UTC        -73.874454   \n",
      "997307        39.50  2014-03-05 21:24:02 UTC        -73.788191   \n",
      "997356        36.10  2009-09-16 20:31:40 UTC        -73.783467   \n",
      "997521        37.33  2015-02-25 16:38:10 UTC        -73.872574   \n",
      "997590        36.90  2011-07-13 16:32:19 UTC        -73.870675   \n",
      "997891        37.07  2010-06-01 12:21:46 UTC        -73.957055   \n",
      "997908        35.44  2013-05-07 00:48:07 UTC        -73.987358   \n",
      "997929        37.00  2014-02-05 19:06:00 UTC        -73.862850   \n",
      "998018        38.80  2012-09-06 13:09:15 UTC        -73.985045   \n",
      "998098        37.83  2013-08-13 10:03:00 UTC        -73.972370   \n",
      "998301        38.50  2014-09-10 11:58:00 UTC        -74.011540   \n",
      "998339        36.33  2014-07-10 15:11:16 UTC        -73.872911   \n",
      "998343        35.30  2009-11-12 20:38:44 UTC        -73.782057   \n",
      "998608        35.30  2012-10-17 12:16:00 UTC        -73.984745   \n",
      "998633        38.50  2014-01-04 20:09:00 UTC        -73.776675   \n",
      "998647        37.83  2014-01-17 08:27:00 UTC        -73.979230   \n",
      "998657        38.83  2014-11-23 15:47:00 UTC        -73.863442   \n",
      "999015        35.83  2013-09-01 09:26:00 UTC        -73.977955   \n",
      "999150        39.54  2015-05-16 13:48:43 UTC        -73.990837   \n",
      "999192        35.33  2014-10-16 19:15:00 UTC        -73.975310   \n",
      "999201        36.33  2014-12-16 21:24:53 UTC        -73.862904   \n",
      "999311        40.00  2012-11-10 21:48:00 UTC        -73.956103   \n",
      "999402        39.50  2012-09-18 05:49:00 UTC        -73.785982   \n",
      "999685        36.33  2015-02-16 16:21:10 UTC        -73.870987   \n",
      "\n",
      "        pickup_latitude  dropoff_longitude  dropoff_latitude  passenger_count  \\\n",
      "166           40.770005         -74.007246         40.705533                1   \n",
      "345           40.774183         -73.978847         40.762062                5   \n",
      "489           40.746538         -73.851405         40.689473                2   \n",
      "499           40.756922         -73.864002         40.767872                1   \n",
      "511           40.725875         -73.867393         40.859275                1   \n",
      "554           40.764147         -73.865350         40.770732                3   \n",
      "704           40.776857         -73.861551         40.768274                1   \n",
      "709           40.769065         -74.008287         40.705275                1   \n",
      "758           40.739409         -73.936439         40.629948                1   \n",
      "1022          40.756633         -73.798408         40.667288                2   \n",
      "1051          40.733176         -73.863328         40.821520                2   \n",
      "1368          40.641357         -73.935006         40.752088                1   \n",
      "1427          40.769014         -73.982075         40.723854                1   \n",
      "1445          40.770288         -73.994438         40.717089                1   \n",
      "1802          40.758377         -73.870880         40.774147                1   \n",
      "2122          40.705382         -73.872363         40.774457                2   \n",
      "2191          40.755757         -73.865058         40.770492                1   \n",
      "2261          40.769039         -73.972053         40.756959                2   \n",
      "2443          40.735148         -73.865556         40.770915                1   \n",
      "2614          40.645130         -73.921759         40.617181                2   \n",
      "2794          40.643593         -73.939629         40.683739                3   \n",
      "3017          40.773785         -73.882160         40.640656                1   \n",
      "3230          40.770052         -73.988597         40.742772                1   \n",
      "3339          40.755246         -73.958424         40.637203                1   \n",
      "3355          40.773930         -73.974822         40.757550                1   \n",
      "3492          40.773783         -73.975116         40.758236                1   \n",
      "3787          40.781277         -73.865631         40.770893                1   \n",
      "4039          40.768875         -73.981506         40.662907                1   \n",
      "4377          40.766534         -73.864372         40.769963                1   \n",
      "4434          40.773636         -73.975235         40.755474                2   \n",
      "...                 ...                ...               ...              ...   \n",
      "996353        40.745220         -74.032959         40.619453                1   \n",
      "996401        40.644862         -73.666088         40.648967                1   \n",
      "996421        40.769469         -73.978673         40.762566                1   \n",
      "996506        40.769015         -73.973015         40.670385                1   \n",
      "996898        40.750149         -73.865392         40.770771                1   \n",
      "996943        40.763472         -73.799350         40.780882                1   \n",
      "997089        40.773997         -73.972837         40.755792                1   \n",
      "997307        40.646942         -73.940490         40.724713                1   \n",
      "997356        40.648649         -73.961348         40.709667                1   \n",
      "997521        40.774433         -74.001183         40.731541                1   \n",
      "997590        40.773989         -73.925115         40.868078                3   \n",
      "997891        40.768667         -73.991447         40.635699                1   \n",
      "997908        40.753577         -73.910593         40.890838                3   \n",
      "997929        40.769640         -73.982608         40.669692                1   \n",
      "998018        40.761062         -73.872912         40.774499                2   \n",
      "998098        40.756432         -73.864212         40.769875                5   \n",
      "998301        40.708050         -73.864880         40.770440                1   \n",
      "998339        40.773862         -73.971857         40.756756                2   \n",
      "998343        40.644795         -73.957993         40.744280                2   \n",
      "998608        40.747607         -73.862720         40.766617                1   \n",
      "998633        40.645265         -73.907490         40.617652                2   \n",
      "998647        40.764385         -73.871010         40.774132                3   \n",
      "998657        40.769525         -74.001507         40.746332                1   \n",
      "999015        40.764837         -73.864960         40.770430                1   \n",
      "999150        40.731350         -73.872467         40.774231                1   \n",
      "999192        40.759180         -73.865470         40.770830                1   \n",
      "999201        40.769173         -74.002105         40.744998                1   \n",
      "999311        40.776697         -73.963772         40.677832                3   \n",
      "999402        40.641850         -73.980722         40.663852                2   \n",
      "999685        40.773762         -73.962593         40.760017                2   \n",
      "\n",
      "        fare_bin  abs_lat_diff  abs_lon_diff  Manhattan  \n",
      "166     (35, 40]      0.064472      0.143355   0.207827  \n",
      "345     (35, 40]      0.012121      0.105779   0.117900  \n",
      "489     (35, 40]      0.057065     -0.126068   0.183133  \n",
      "499     (35, 40]     -0.010950     -0.110618   0.121568  \n",
      "511     (35, 40]     -0.133400     -0.140217   0.273617  \n",
      "554     (35, 40]     -0.006585     -0.113460   0.120045  \n",
      "704     (35, 40]      0.008583     -0.115600   0.124183  \n",
      "709     (35, 40]      0.063790      0.145719   0.209509  \n",
      "758     (35, 40]      0.109461     -0.058179   0.167640  \n",
      "1022    (35, 40]      0.089345     -0.187470   0.276815  \n",
      "1051    (35, 40]     -0.088344     -0.142443   0.230787  \n",
      "1368    (35, 40]     -0.110731      0.146467   0.257198  \n",
      "1427    (35, 40]      0.045160      0.119246   0.164406  \n",
      "1445    (35, 40]      0.053199      0.129953   0.183152  \n",
      "1802    (35, 40]     -0.015770     -0.115875   0.131645  \n",
      "2122    (35, 40]     -0.069075     -0.144810   0.213885  \n",
      "2191    (35, 40]     -0.014735     -0.114909   0.129644  \n",
      "2261    (35, 40]      0.012080      0.109514   0.121594  \n",
      "2443    (35, 40]     -0.035767     -0.123169   0.158936  \n",
      "2614    (35, 40]      0.027949      0.145013   0.172962  \n",
      "2794    (35, 40]     -0.040146      0.149521   0.189667  \n",
      "3017    (35, 40]      0.133129      0.011325   0.144454  \n",
      "3230    (35, 40]      0.027280      0.124707   0.151987  \n",
      "3339    (35, 40]      0.118043     -0.036346   0.154389  \n",
      "3355    (35, 40]      0.016380      0.102085   0.118465  \n",
      "3492    (35, 40]      0.015547      0.104152   0.119699  \n",
      "3787    (35, 40]      0.010384     -0.114906   0.125290  \n",
      "4039    (35, 40]      0.105968      0.117996   0.223965  \n",
      "4377    (35, 40]     -0.003429     -0.102864   0.106293  \n",
      "4434    (35, 40]      0.018162      0.104485   0.122646  \n",
      "...          ...           ...           ...        ...  \n",
      "996353  (35, 40]      0.125767      0.044891   0.170658  \n",
      "996401  (35, 40]     -0.004105     -0.115669   0.119774  \n",
      "996421  (35, 40]      0.006903      0.115655   0.122558  \n",
      "996506  (35, 40]      0.098630      0.110396   0.209026  \n",
      "996898  (35, 40]     -0.020622     -0.126345   0.146967  \n",
      "996943  (35, 40]     -0.017410     -0.199357   0.216767  \n",
      "997089  (35, 40]      0.018205      0.098383   0.116588  \n",
      "997307  (35, 40]     -0.077771      0.152299   0.230070  \n",
      "997356  (35, 40]     -0.061018      0.177881   0.238899  \n",
      "997521  (35, 40]      0.042892      0.128609   0.171501  \n",
      "997590  (35, 40]     -0.094089      0.054440   0.148529  \n",
      "997891  (35, 40]      0.132968      0.034392   0.167360  \n",
      "997908  (35, 40]     -0.137261     -0.076765   0.214026  \n",
      "997929  (35, 40]      0.099948      0.119758   0.219706  \n",
      "998018  (35, 40]     -0.013437     -0.112133   0.125570  \n",
      "998098  (35, 40]     -0.013443     -0.108158   0.121601  \n",
      "998301  (35, 40]     -0.062390     -0.146660   0.209050  \n",
      "998339  (35, 40]      0.017106      0.098946   0.116052  \n",
      "998343  (35, 40]     -0.099485      0.175936   0.275421  \n",
      "998608  (35, 40]     -0.019010     -0.122025   0.141035  \n",
      "998633  (35, 40]      0.027613      0.130815   0.158428  \n",
      "998647  (35, 40]     -0.009747     -0.108220   0.117967  \n",
      "998657  (35, 40]      0.023193      0.138065   0.161258  \n",
      "999015  (35, 40]     -0.005593     -0.112995   0.118588  \n",
      "999150  (35, 40]     -0.042881     -0.118370   0.161251  \n",
      "999192  (35, 40]     -0.011650     -0.109840   0.121490  \n",
      "999201  (35, 40]      0.024175      0.139201   0.163376  \n",
      "999311  (35, 40]      0.098865      0.007669   0.106534  \n",
      "999402  (35, 40]     -0.022002      0.194740   0.216742  \n",
      "999685  (35, 40]      0.013744      0.091606   0.105350  \n",
      "\n",
      "[8395 rows x 11 columns]\n",
      "(40, 45]         fare_amount          pickup_datetime  pickup_longitude  \\\n",
      "204           42.50  2011-01-10 16:07:00 UTC        -73.795677   \n",
      "309           43.50  2015-05-10 22:41:10 UTC        -73.980209   \n",
      "717           45.00  2013-01-17 23:42:16 UTC        -73.999081   \n",
      "798           45.00  2012-02-12 15:18:00 UTC        -73.969852   \n",
      "1176          40.33  2013-06-24 08:14:00 UTC        -73.871662   \n",
      "1348          43.00  2013-08-28 17:19:00 UTC        -73.873372   \n",
      "1388          40.83  2014-10-24 08:56:06 UTC        -73.975067   \n",
      "1487          43.54  2015-06-23 09:47:44 UTC        -73.863815   \n",
      "1619          40.10  2009-11-01 06:36:00 UTC        -74.001750   \n",
      "1762          45.00  2011-04-18 05:39:00 UTC        -74.003002   \n",
      "1796          45.00  2012-07-19 16:28:00 UTC        -73.789755   \n",
      "1868          45.00  2012-08-06 15:41:10 UTC        -74.011287   \n",
      "2243          43.50  2013-12-23 21:51:01 UTC        -73.789774   \n",
      "2283          45.00  2013-03-05 23:35:49 UTC        -73.786815   \n",
      "2392          45.00  2011-12-09 07:41:50 UTC        -73.788794   \n",
      "2853          42.33  2013-05-18 14:33:00 UTC        -73.979938   \n",
      "3187          42.00  2013-06-28 00:44:00 UTC        -73.783832   \n",
      "3300          40.27  2010-06-01 00:54:00 UTC        -73.874875   \n",
      "3325          45.00  2009-01-15 18:04:22 UTC        -73.783715   \n",
      "3379          41.33  2013-12-12 06:44:25 UTC        -73.988954   \n",
      "3475          41.30  2012-12-24 19:17:00 UTC        -73.872837   \n",
      "3619          45.00  2010-12-22 16:07:00 UTC        -73.781602   \n",
      "3763          45.00  2010-04-15 15:11:00 UTC        -73.991995   \n",
      "4086          45.00  2009-06-29 12:31:54 UTC        -73.776293   \n",
      "4291          45.00  2012-05-07 15:49:00 UTC        -74.031268   \n",
      "4329          45.00  2009-01-21 21:53:11 UTC        -73.781128   \n",
      "4471          45.00  2010-03-02 19:02:04 UTC        -73.981900   \n",
      "4900          45.00  2012-05-30 14:24:00 UTC        -73.789812   \n",
      "4974          42.33  2013-06-26 15:06:41 UTC        -74.004398   \n",
      "5417          45.00  2009-02-28 20:48:10 UTC        -73.786723   \n",
      "...             ...                      ...               ...   \n",
      "994866        45.00  2009-02-12 15:31:00 UTC        -73.997095   \n",
      "994880        41.70  2010-11-20 23:28:01 UTC        -73.776714   \n",
      "994883        42.00  2012-11-26 16:26:51 UTC        -74.017830   \n",
      "995041        43.50  2014-04-06 18:15:17 UTC        -73.999879   \n",
      "995374        43.00  2014-06-05 13:46:00 UTC        -73.781970   \n",
      "995837        45.00  2009-09-11 07:48:38 UTC        -73.988788   \n",
      "995946        40.10  2009-04-14 23:37:08 UTC        -73.987800   \n",
      "996060        45.00  2010-03-12 16:58:00 UTC        -73.788868   \n",
      "996079        45.00  2010-11-15 23:33:00 UTC        -73.977822   \n",
      "996102        42.10  2012-03-03 20:17:00 UTC        -73.781807   \n",
      "996441        45.00  2012-05-12 18:19:00 UTC        -73.986753   \n",
      "996610        40.27  2010-05-19 08:03:00 UTC        -73.987890   \n",
      "996675        41.07  2010-03-24 16:18:00 UTC        -73.785865   \n",
      "996766        40.27  2009-09-02 07:01:09 UTC        -73.933597   \n",
      "997022        44.00  2015-06-09 13:53:08 UTC        -73.955116   \n",
      "997571        40.33  2013-04-26 07:15:00 UTC        -73.994737   \n",
      "997706        41.00  2014-11-05 23:35:22 UTC        -73.959138   \n",
      "997778        45.00  2011-03-24 12:26:00 UTC        -73.980358   \n",
      "997888        41.83  2014-02-27 14:35:51 UTC        -73.978234   \n",
      "998177        41.00  2012-10-21 06:12:11 UTC        -74.006546   \n",
      "998565        41.33  2015-02-08 21:18:59 UTC        -73.863640   \n",
      "998684        45.00  2010-09-14 14:19:41 UTC        -73.993152   \n",
      "998894        41.50  2013-04-26 23:21:44 UTC        -73.982196   \n",
      "998906        40.67  2009-08-16 00:53:00 UTC        -73.993842   \n",
      "998947        40.33  2014-10-11 20:06:00 UTC        -73.874705   \n",
      "999006        45.00  2011-12-29 06:51:35 UTC        -73.776304   \n",
      "999266        41.33  2014-12-27 15:31:00 UTC        -73.993530   \n",
      "999304        43.33  2014-08-21 09:14:48 UTC        -73.885282   \n",
      "999861        45.00  2011-05-21 17:44:00 UTC        -73.790487   \n",
      "999984        44.33  2014-11-02 14:09:53 UTC        -73.872276   \n",
      "\n",
      "        pickup_latitude  dropoff_longitude  dropoff_latitude  passenger_count  \\\n",
      "204           40.807722         -73.978683         40.724365                2   \n",
      "309           40.783733         -74.011345         40.644157                1   \n",
      "717           40.754489         -73.863401         40.667613                1   \n",
      "798           40.750962         -73.781802         40.648527                1   \n",
      "1176          40.771867         -73.979177         40.762997                1   \n",
      "1348          40.773890         -73.984377         40.691685                5   \n",
      "1388          40.759048         -73.885221         40.772407                1   \n",
      "1487          40.769775         -73.977760         40.759659                1   \n",
      "1619          40.729453         -73.790315         40.646767                3   \n",
      "1762          40.733282         -73.776453         40.645183                1   \n",
      "1796          40.646727         -73.963507         40.765752                1   \n",
      "1868          40.708955         -73.786483         40.644463                2   \n",
      "2243          40.643895         -73.928265         40.763598                4   \n",
      "2283          40.641398         -73.968542         40.577815                2   \n",
      "2392          40.641368         -74.012271         40.716938                1   \n",
      "2853          40.726970         -74.030845         40.623780                5   \n",
      "3187          40.648660         -73.959465         40.711370                2   \n",
      "3300          40.774017         -74.004700         40.707272                1   \n",
      "3325          40.648688         -73.962138         40.767671                2   \n",
      "3379          40.736811         -73.861514         40.768164                1   \n",
      "3475          40.774172         -73.936232         40.847995                1   \n",
      "3619          40.644750         -73.974228         40.762360                5   \n",
      "3763          40.730932         -73.790158         40.646912                2   \n",
      "4086          40.645693         -73.776293         40.645693                2   \n",
      "4291          40.703843         -73.969337         40.551710                1   \n",
      "4329          40.647679         -74.002948         40.736248                1   \n",
      "4471          40.683557         -73.789082         40.641747                1   \n",
      "4900          40.642777         -73.804415         40.662160                2   \n",
      "4974          40.719194         -73.866267         40.771051                1   \n",
      "5417          40.640526         -73.963702         40.775295                1   \n",
      "...                 ...                ...               ...              ...   \n",
      "994866        40.722167         -73.996535         40.723570                1   \n",
      "994880        40.645344         -73.993677         40.702603                1   \n",
      "994883        40.709348         -73.879635         40.821923                1   \n",
      "995041        40.726829         -73.870837         40.774024                1   \n",
      "995374        40.644710         -73.927680         40.762960                1   \n",
      "995837        40.748621         -73.988812         40.748352                1   \n",
      "995946        40.754798         -74.039639         40.618618                2   \n",
      "996060        40.647200         -73.789440         40.647132                3   \n",
      "996079        40.715515         -73.980252         40.716195                5   \n",
      "996102        40.644857         -73.994470         40.700237                1   \n",
      "996441        40.761440         -73.791470         40.644520                1   \n",
      "996610        40.759543         -73.993633         40.664838                1   \n",
      "996675        40.639807         -73.829433         40.842243                1   \n",
      "996766        40.758341         -74.010672         40.709467                2   \n",
      "997022        40.765411         -73.783859         40.761242                2   \n",
      "997571        40.748662         -73.872625         40.774320                1   \n",
      "997706        40.783292         -73.980088         40.664552                2   \n",
      "997778        40.748463         -73.790307         40.643788                2   \n",
      "997888        40.752335         -73.861784         40.768349                1   \n",
      "998177        40.739268         -73.801994         40.706195                1   \n",
      "998565        40.769836         -73.989967         40.747665                1   \n",
      "998684        40.742107         -73.995047         40.749580                1   \n",
      "998894        40.748766         -73.867716         40.900148                2   \n",
      "998906        40.752485         -73.994533         40.597698                1   \n",
      "998947        40.773957         -73.985633         40.752130                5   \n",
      "999006        40.645666         -73.776304         40.645666                2   \n",
      "999266        40.746915         -73.828027         40.702310                1   \n",
      "999304        40.773018         -73.986455         40.768135                1   \n",
      "999861        40.646233         -73.985035         40.768468                5   \n",
      "999984        40.774264         -73.969262         40.756591                2   \n",
      "\n",
      "        fare_bin  abs_lat_diff  abs_lon_diff  Manhattan  \n",
      "204     (40, 45]      0.083357      0.183006   0.266363  \n",
      "309     (40, 45]      0.139576      0.031136   0.170712  \n",
      "717     (40, 45]      0.086876     -0.135680   0.222556  \n",
      "798     (40, 45]      0.102435     -0.188050   0.290485  \n",
      "1176    (40, 45]      0.008870      0.107515   0.116385  \n",
      "1348    (40, 45]      0.082205      0.111005   0.193210  \n",
      "1388    (40, 45]     -0.013359     -0.089846   0.103205  \n",
      "1487    (40, 45]      0.010117      0.113945   0.124062  \n",
      "1619    (40, 45]      0.082686     -0.211435   0.294121  \n",
      "1762    (40, 45]      0.088099     -0.226549   0.314648  \n",
      "1796    (40, 45]     -0.119025      0.173752   0.292777  \n",
      "1868    (40, 45]      0.064492     -0.224804   0.289296  \n",
      "2243    (40, 45]     -0.119703      0.138491   0.258194  \n",
      "2283    (40, 45]      0.063583      0.181727   0.245310  \n",
      "2392    (40, 45]     -0.075570      0.223477   0.299047  \n",
      "2853    (40, 45]      0.103190      0.050907   0.154097  \n",
      "3187    (40, 45]     -0.062710      0.175633   0.238343  \n",
      "3300    (40, 45]      0.066745      0.129825   0.196570  \n",
      "3325    (40, 45]     -0.118983      0.178423   0.297406  \n",
      "3379    (40, 45]     -0.031353     -0.127440   0.158793  \n",
      "3475    (40, 45]     -0.073823      0.063395   0.137218  \n",
      "3619    (40, 45]     -0.117610      0.192626   0.310236  \n",
      "3763    (40, 45]      0.084020     -0.201837   0.285857  \n",
      "4086    (40, 45]      0.000000      0.000000   0.000000  \n",
      "4291    (40, 45]      0.152133     -0.061931   0.214064  \n",
      "4329    (40, 45]     -0.088569      0.221820   0.310389  \n",
      "4471    (40, 45]      0.041810     -0.192818   0.234628  \n",
      "4900    (40, 45]     -0.019383      0.014603   0.033986  \n",
      "4974    (40, 45]     -0.051857     -0.138131   0.189988  \n",
      "5417    (40, 45]     -0.134769      0.176979   0.311748  \n",
      "...          ...           ...           ...        ...  \n",
      "994866  (40, 45]     -0.001403     -0.000560   0.001963  \n",
      "994880  (40, 45]     -0.057259      0.216963   0.274222  \n",
      "994883  (40, 45]     -0.112575     -0.138195   0.250770  \n",
      "995041  (40, 45]     -0.047195     -0.129042   0.176237  \n",
      "995374  (40, 45]     -0.118250      0.145710   0.263960  \n",
      "995837  (40, 45]      0.000269      0.000024   0.000293  \n",
      "995946  (40, 45]      0.136180      0.051839   0.188019  \n",
      "996060  (40, 45]      0.000068      0.000572   0.000640  \n",
      "996079  (40, 45]     -0.000680      0.002430   0.003110  \n",
      "996102  (40, 45]     -0.055380      0.212663   0.268043  \n",
      "996441  (40, 45]      0.116920     -0.195283   0.312203  \n",
      "996610  (40, 45]      0.094705      0.005743   0.100448  \n",
      "996675  (40, 45]     -0.202436      0.043568   0.246004  \n",
      "996766  (40, 45]      0.048874      0.077075   0.125949  \n",
      "997022  (40, 45]      0.004169     -0.171257   0.175426  \n",
      "997571  (40, 45]     -0.025658     -0.122112   0.147770  \n",
      "997706  (40, 45]      0.118740      0.020950   0.139690  \n",
      "997778  (40, 45]      0.104675     -0.190051   0.294726  \n",
      "997888  (40, 45]     -0.016014     -0.116450   0.132464  \n",
      "998177  (40, 45]      0.033073     -0.204552   0.237625  \n",
      "998565  (40, 45]      0.022171      0.126328   0.148499  \n",
      "998684  (40, 45]     -0.007473      0.001895   0.009368  \n",
      "998894  (40, 45]     -0.151382     -0.114480   0.265862  \n",
      "998906  (40, 45]      0.154787      0.000691   0.155478  \n",
      "998947  (40, 45]      0.021827      0.110928   0.132755  \n",
      "999006  (40, 45]      0.000000      0.000000   0.000000  \n",
      "999266  (40, 45]      0.044605     -0.165503   0.210108  \n",
      "999304  (40, 45]      0.004883      0.101173   0.106056  \n",
      "999861  (40, 45]     -0.122235      0.194548   0.316783  \n",
      "999984  (40, 45]      0.017673      0.096986   0.114659  \n",
      "\n",
      "[6780 rows x 11 columns]\n",
      "[45+]         fare_amount          pickup_datetime  pickup_longitude  \\\n",
      "35            58.00  2015-01-11 03:15:38 UTC        -73.983330   \n",
      "105           52.00  2009-03-25 00:08:52 UTC        -74.035839   \n",
      "132           49.57  2009-09-22 21:14:00 UTC        -73.977023   \n",
      "147           52.50  2014-05-13 22:19:00 UTC        -73.982265   \n",
      "232           49.57  2010-05-24 14:24:00 UTC        -73.982483   \n",
      "286           57.33  2013-06-14 17:37:00 UTC        -73.781127   \n",
      "315           52.83  2015-03-19 12:38:17 UTC        -73.873055   \n",
      "437           57.33  2014-05-12 23:31:00 UTC        -73.790250   \n",
      "443           49.80  2011-11-15 13:07:50 UTC        -73.983851   \n",
      "449           56.80  2012-12-21 13:10:00 UTC        -73.978817   \n",
      "510           49.57  2010-10-23 18:39:00 UTC        -73.782215   \n",
      "537           52.00  2014-09-10 12:09:01 UTC        -73.985722   \n",
      "538           49.80  2011-04-18 11:58:00 UTC        -73.972822   \n",
      "539           49.80  2012-04-22 17:10:00 UTC        -73.954030   \n",
      "552           52.00  2012-10-17 05:35:00 UTC        -73.789985   \n",
      "582           49.80  2012-02-17 08:14:00 UTC        -73.788127   \n",
      "622           57.33  2014-11-18 09:19:00 UTC        -73.776720   \n",
      "649           66.30  2009-09-19 10:34:41 UTC        -74.438233   \n",
      "690           57.33  2014-09-30 16:13:00 UTC        -74.007750   \n",
      "737           57.33  2014-08-11 19:37:00 UTC        -73.776477   \n",
      "809           49.80  2011-05-07 15:12:32 UTC        -73.782235   \n",
      "846           53.00  2009-03-15 02:15:39 UTC        -73.993309   \n",
      "927           57.33  2014-10-19 09:51:53 UTC        -73.776721   \n",
      "928           49.80  2011-11-03 23:07:00 UTC        -73.785550   \n",
      "1011          49.15  2009-04-10 16:05:00 UTC        -73.789652   \n",
      "1075          49.57  2009-12-08 06:24:00 UTC        -73.776713   \n",
      "1121          54.00  2013-10-11 06:04:57 UTC        -74.004845   \n",
      "1220          49.80  2012-01-30 05:04:19 UTC        -73.987223   \n",
      "1232          49.57  2010-12-17 09:52:19 UTC        -73.992385   \n",
      "1282          49.80  2011-08-10 07:36:00 UTC        -73.783545   \n",
      "...             ...                      ...               ...   \n",
      "998024        75.50  2009-04-09 15:31:00 UTC        -73.984360   \n",
      "998041        51.33  2014-07-19 09:09:00 UTC        -73.991517   \n",
      "998111        52.00  2014-07-12 18:01:35 UTC        -73.973172   \n",
      "998116        56.80  2012-12-27 14:42:13 UTC        -73.787430   \n",
      "998212        49.57  2009-12-14 14:52:46 UTC        -73.995839   \n",
      "998261        57.50  2009-10-15 05:25:56 UTC        -74.005917   \n",
      "998284        50.00  2009-07-12 16:46:00 UTC        -73.905663   \n",
      "998374        49.15  2009-05-13 12:01:43 UTC        -73.983979   \n",
      "998440        77.00  2015-01-19 08:35:54 UTC        -73.975540   \n",
      "998498        57.33  2013-12-11 16:36:00 UTC        -73.788585   \n",
      "998695        46.58  2015-05-01 19:36:42 UTC        -73.870918   \n",
      "998728        57.33  2013-07-10 06:38:16 UTC        -73.983766   \n",
      "998765        45.33  2014-12-09 16:31:00 UTC        -73.872957   \n",
      "998892        45.33  2013-10-07 11:16:00 UTC        -73.862892   \n",
      "998928        57.33  2014-09-11 18:34:08 UTC        -73.929542   \n",
      "999077        49.80  2011-02-26 13:54:41 UTC        -75.335632   \n",
      "999144        49.80  2011-03-09 11:56:00 UTC        -73.989538   \n",
      "999165        57.54  2015-05-08 17:47:00 UTC        -73.993935   \n",
      "999196        49.15  2009-02-10 15:54:36 UTC        -73.985371   \n",
      "999228        50.04  2015-03-31 14:58:25 UTC        -73.870934   \n",
      "999302        57.33  2013-10-21 15:34:41 UTC        -73.783170   \n",
      "999415        69.00  2013-02-09 23:12:00 UTC        -74.006312   \n",
      "999454        49.80  2012-04-27 13:05:15 UTC        -73.992696   \n",
      "999643        46.50  2014-01-14 07:15:20 UTC        -73.983819   \n",
      "999709        52.00  2015-06-04 20:43:29 UTC        -73.803223   \n",
      "999728        49.80  2012-05-22 15:08:42 UTC        -73.972176   \n",
      "999759        57.33  2014-12-18 11:41:00 UTC        -74.002137   \n",
      "999769        53.50  2012-11-25 13:42:00 UTC        -73.782140   \n",
      "999889        49.80  2012-01-07 14:11:00 UTC        -73.793920   \n",
      "999916        50.00  2011-03-09 12:14:19 UTC        -73.974728   \n",
      "\n",
      "        pickup_latitude  dropoff_longitude  dropoff_latitude  passenger_count  \\\n",
      "35            40.738720         -73.933197         40.847225                1   \n",
      "105           40.747320         -74.035839         40.747320                1   \n",
      "132           40.752600         -73.790310         40.643783                2   \n",
      "147           40.762062         -73.768550         40.675135                1   \n",
      "232           40.756740         -73.789985         40.646910                1   \n",
      "286           40.645007         -73.981802         40.762515                1   \n",
      "315           40.774086         -73.982727         40.771496                1   \n",
      "437           40.643705         -74.002270         40.734542                1   \n",
      "443           40.761851         -73.783129         40.643785                3   \n",
      "449           40.761517         -73.789255         40.642677                1   \n",
      "510           40.644272         -73.782217         40.644270                2   \n",
      "537           40.749696         -73.973577         40.749010                1   \n",
      "538           40.793295         -73.782862         40.643950                2   \n",
      "539           40.741580         -73.995527         40.742962                1   \n",
      "552           40.646382         -74.034970         40.611455                1   \n",
      "582           40.647295         -73.978957         40.756305                5   \n",
      "622           40.645412         -73.978832         40.774932                1   \n",
      "649           40.993260         -74.185996         40.693874                2   \n",
      "690           40.741277         -73.790292         40.646760                2   \n",
      "737           40.646290         -73.776477         40.646290                2   \n",
      "809           40.644691         -73.973344         40.738062                2   \n",
      "846           40.719976         -74.040465         40.725234                1   \n",
      "927           40.645324         -73.983183         40.748877                2   \n",
      "928           40.642050         -73.980793         40.749187                1   \n",
      "1011          40.643633         -73.987165         40.768555                1   \n",
      "1075          40.645447         -73.980527         40.770763                1   \n",
      "1121          40.719130         -73.980996         40.693537                1   \n",
      "1220          40.765566         -73.776534         40.645010                1   \n",
      "1232          40.743538         -73.776321         40.645286                1   \n",
      "1282          40.648577         -73.971500         40.761100                1   \n",
      "...                 ...                ...               ...              ...   \n",
      "998024        40.754767         -74.177807         40.690177                1   \n",
      "998041        40.746057         -73.865710         40.770962                1   \n",
      "998111        40.759980         -73.789160         40.646911                1   \n",
      "998116        40.642022         -73.994632         40.734845                1   \n",
      "998212        40.764529         -73.786869         40.640525                2   \n",
      "998261        40.735921         -74.177624         40.695250                1   \n",
      "998284        40.735607         -73.776813         40.644770                5   \n",
      "998374        40.749105         -73.984477         40.748477                1   \n",
      "998440        40.757881         -74.181435         40.687733                4   \n",
      "998498        40.642095         -73.976110         40.756087                5   \n",
      "998695        40.773758         -73.908516         40.899464                1   \n",
      "998728        40.780744         -73.783969         40.646072                1   \n",
      "998765        40.774067         -73.983790         40.755262                5   \n",
      "998892        40.768785         -73.980535         40.757172                6   \n",
      "998928        40.799794         -73.790778         40.644330                2   \n",
      "999077        40.646301         -73.948920         40.775761                1   \n",
      "999144        40.756013         -73.782850         40.643948                1   \n",
      "999165        40.724747         -73.781487         40.648003                1   \n",
      "999196        40.718497         -73.782417         40.648819                1   \n",
      "999228        40.773861         -73.991203         40.774868                1   \n",
      "999302        40.644143         -73.980042         40.764223                3   \n",
      "999415        40.730457         -73.805170         40.908662                4   \n",
      "999454        40.718714         -73.992703         40.718714                1   \n",
      "999643        40.680572         -73.751239         40.747686                1   \n",
      "999709        40.648445         -73.957001         40.774727                1   \n",
      "999728        40.794901         -73.963467         40.793269                1   \n",
      "999759        40.741352         -73.781247         40.646837                5   \n",
      "999769        40.644682         -73.985805         40.627573                2   \n",
      "999889        40.656947         -73.979180         40.762940                1   \n",
      "999916        40.760433         -73.974716         40.760424                1   \n",
      "\n",
      "       fare_bin  abs_lat_diff  abs_lon_diff  Manhattan  \n",
      "35        [45+]     -0.108505     -0.050133   0.158638  \n",
      "105       [45+]      0.000000      0.000000   0.000000  \n",
      "132       [45+]      0.108817     -0.186713   0.295530  \n",
      "147       [45+]      0.086927     -0.213715   0.300642  \n",
      "232       [45+]      0.109830     -0.192498   0.302328  \n",
      "286       [45+]     -0.117508      0.200675   0.318183  \n",
      "315       [45+]      0.002590      0.109673   0.112263  \n",
      "437       [45+]     -0.090837      0.212020   0.302857  \n",
      "443       [45+]      0.118066     -0.200722   0.318788  \n",
      "449       [45+]      0.118840     -0.189562   0.308402  \n",
      "510       [45+]      0.000002      0.000002   0.000004  \n",
      "537       [45+]      0.000686     -0.012145   0.012831  \n",
      "538       [45+]      0.149345     -0.189960   0.339305  \n",
      "539       [45+]     -0.001382      0.041497   0.042879  \n",
      "552       [45+]      0.034927      0.244985   0.279912  \n",
      "582       [45+]     -0.109010      0.190830   0.299840  \n",
      "622       [45+]     -0.129520      0.202112   0.331632  \n",
      "649       [45+]      0.299386     -0.252237   0.551623  \n",
      "690       [45+]      0.094517     -0.217458   0.311975  \n",
      "737       [45+]      0.000000      0.000000   0.000000  \n",
      "809       [45+]     -0.093371      0.191109   0.284480  \n",
      "846       [45+]     -0.005258      0.047156   0.052414  \n",
      "927       [45+]     -0.103553      0.206462   0.310015  \n",
      "928       [45+]     -0.107137      0.195243   0.302380  \n",
      "1011      [45+]     -0.124922      0.197513   0.322435  \n",
      "1075      [45+]     -0.125316      0.203814   0.329130  \n",
      "1121      [45+]      0.025593     -0.023849   0.049442  \n",
      "1220      [45+]      0.120556     -0.210689   0.331245  \n",
      "1232      [45+]      0.098252     -0.216064   0.314316  \n",
      "1282      [45+]     -0.112523      0.187955   0.300478  \n",
      "...         ...           ...           ...        ...  \n",
      "998024    [45+]      0.064590      0.193447   0.258037  \n",
      "998041    [45+]     -0.024905     -0.125807   0.150712  \n",
      "998111    [45+]      0.113069     -0.184012   0.297081  \n",
      "998116    [45+]     -0.092823      0.207202   0.300025  \n",
      "998212    [45+]      0.124004     -0.208970   0.332974  \n",
      "998261    [45+]      0.040671      0.171707   0.212378  \n",
      "998284    [45+]      0.090837     -0.128850   0.219687  \n",
      "998374    [45+]      0.000628      0.000498   0.001126  \n",
      "998440    [45+]      0.070148      0.205894   0.276043  \n",
      "998498    [45+]     -0.113992      0.187525   0.301517  \n",
      "998695    [45+]     -0.125706      0.037598   0.163303  \n",
      "998728    [45+]      0.134672     -0.199797   0.334469  \n",
      "998765    [45+]      0.018805      0.110833   0.129638  \n",
      "998892    [45+]      0.011613      0.117643   0.129256  \n",
      "998928    [45+]      0.155464     -0.138764   0.294228  \n",
      "999077    [45+]     -0.129460     -1.386712   1.516172  \n",
      "999144    [45+]      0.112065     -0.206688   0.318753  \n",
      "999165    [45+]      0.076744     -0.212448   0.289192  \n",
      "999196    [45+]      0.069678     -0.202954   0.272632  \n",
      "999228    [45+]     -0.001007      0.120270   0.121277  \n",
      "999302    [45+]     -0.120080      0.196872   0.316952  \n",
      "999415    [45+]     -0.178205     -0.201142   0.379347  \n",
      "999454    [45+]      0.000000      0.000007   0.000007  \n",
      "999643    [45+]     -0.067114     -0.232580   0.299694  \n",
      "999709    [45+]     -0.126282      0.153778   0.280060  \n",
      "999728    [45+]      0.001632     -0.008709   0.010341  \n",
      "999759    [45+]      0.094515     -0.220890   0.315405  \n",
      "999769    [45+]      0.017109      0.203665   0.220774  \n",
      "999889    [45+]     -0.105993      0.185260   0.291253  \n",
      "999916    [45+]      0.000009     -0.000012   0.000021  \n",
      "\n"
     ]
    },
    {
     "name": "stdout",
     "output_type": "stream",
     "text": [
      "[19707 rows x 11 columns]\n"
     ]
    }
   ],
   "source": [
    "for f, grouped in df1.groupby('fare_bin'):\n",
    "    print(f, grouped)\n"
   ]
  },
  {
   "cell_type": "code",
   "execution_count": null,
   "metadata": {},
   "outputs": [],
   "source": [
    "for f,grouped in df1.groupby('fare_bin'):\n",
    "    sns.kdeplot(grouped)"
   ]
  },
  {
   "cell_type": "code",
   "execution_count": 77,
   "metadata": {},
   "outputs": [
    {
     "data": {
      "text/html": [
       "<div>\n",
       "<style scoped>\n",
       "    .dataframe tbody tr th:only-of-type {\n",
       "        vertical-align: middle;\n",
       "    }\n",
       "\n",
       "    .dataframe tbody tr th {\n",
       "        vertical-align: top;\n",
       "    }\n",
       "\n",
       "    .dataframe thead th {\n",
       "        text-align: right;\n",
       "    }\n",
       "</style>\n",
       "<table border=\"1\" class=\"dataframe\">\n",
       "  <thead>\n",
       "    <tr style=\"text-align: right;\">\n",
       "      <th></th>\n",
       "      <th>fare_amount</th>\n",
       "      <th>pickup_datetime</th>\n",
       "      <th>pickup_longitude</th>\n",
       "      <th>pickup_latitude</th>\n",
       "      <th>dropoff_longitude</th>\n",
       "      <th>dropoff_latitude</th>\n",
       "      <th>passenger_count</th>\n",
       "      <th>fare_bin</th>\n",
       "      <th>abs_lat_diff</th>\n",
       "      <th>abs_lon_diff</th>\n",
       "      <th>Manhattan</th>\n",
       "    </tr>\n",
       "  </thead>\n",
       "  <tbody>\n",
       "    <tr>\n",
       "      <th>0</th>\n",
       "      <td>4.5</td>\n",
       "      <td>2009-06-15 17:26:21 UTC</td>\n",
       "      <td>-73.844311</td>\n",
       "      <td>40.721319</td>\n",
       "      <td>-73.841610</td>\n",
       "      <td>40.712278</td>\n",
       "      <td>1</td>\n",
       "      <td>(0, 5]</td>\n",
       "      <td>0.009041</td>\n",
       "      <td>-0.002701</td>\n",
       "      <td>0.011742</td>\n",
       "    </tr>\n",
       "    <tr>\n",
       "      <th>1</th>\n",
       "      <td>16.9</td>\n",
       "      <td>2010-01-05 16:52:16 UTC</td>\n",
       "      <td>-74.016048</td>\n",
       "      <td>40.711303</td>\n",
       "      <td>-73.979268</td>\n",
       "      <td>40.782004</td>\n",
       "      <td>1</td>\n",
       "      <td>(15, 20]</td>\n",
       "      <td>-0.070701</td>\n",
       "      <td>-0.036780</td>\n",
       "      <td>0.107481</td>\n",
       "    </tr>\n",
       "  </tbody>\n",
       "</table>\n",
       "</div>"
      ],
      "text/plain": [
       "   fare_amount          pickup_datetime  pickup_longitude  pickup_latitude  \\\n",
       "0          4.5  2009-06-15 17:26:21 UTC        -73.844311        40.721319   \n",
       "1         16.9  2010-01-05 16:52:16 UTC        -74.016048        40.711303   \n",
       "\n",
       "   dropoff_longitude  dropoff_latitude  passenger_count  fare_bin  \\\n",
       "0         -73.841610         40.712278                1    (0, 5]   \n",
       "1         -73.979268         40.782004                1  (15, 20]   \n",
       "\n",
       "   abs_lat_diff  abs_lon_diff  Manhattan  \n",
       "0      0.009041     -0.002701   0.011742  \n",
       "1     -0.070701     -0.036780   0.107481  "
      ]
     },
     "execution_count": 77,
     "metadata": {},
     "output_type": "execute_result"
    }
   ],
   "source": [
    "df1.head(2)"
   ]
  },
  {
   "cell_type": "code",
   "execution_count": 78,
   "metadata": {},
   "outputs": [
    {
     "data": {
      "text/plain": [
       "0.046573131198396345"
      ]
     },
     "execution_count": 78,
     "metadata": {},
     "output_type": "execute_result"
    }
   ],
   "source": [
    "df1.Manhattan.mean()"
   ]
  },
  {
   "cell_type": "code",
   "execution_count": 79,
   "metadata": {},
   "outputs": [
    {
     "data": {
      "text/plain": [
       "fare_bin\n",
       "(0, 5]      0.014657\n",
       "(05, 10]    0.028185\n",
       "(10, 15]    0.050832\n",
       "(15, 20]    0.072484\n",
       "(20, 25]    0.099038\n",
       "(25, 30]    0.125682\n",
       "(30, 35]    0.142255\n",
       "(35, 40]    0.154357\n",
       "(40, 45]    0.194621\n",
       "[45+]       0.256362\n",
       "Name: Manhattan, dtype: float64"
      ]
     },
     "execution_count": 79,
     "metadata": {},
     "output_type": "execute_result"
    }
   ],
   "source": [
    "df1.groupby('fare_bin').Manhattan.mean()"
   ]
  },
  {
   "cell_type": "code",
   "execution_count": 83,
   "metadata": {},
   "outputs": [
    {
     "ename": "TypeError",
     "evalue": "cannot unpack non-iterable float object",
     "output_type": "error",
     "traceback": [
      "\u001b[1;31m---------------------------------------------------------------------------\u001b[0m",
      "\u001b[1;31mTypeError\u001b[0m                                 Traceback (most recent call last)",
      "\u001b[1;32m<ipython-input-83-4c54b5a3efff>\u001b[0m in \u001b[0;36m<module>\u001b[1;34m\u001b[0m\n\u001b[1;32m----> 1\u001b[1;33m \u001b[1;32mfor\u001b[0m \u001b[0mj\u001b[0m\u001b[1;33m,\u001b[0m\u001b[0mi\u001b[0m \u001b[1;32min\u001b[0m \u001b[0mdf1\u001b[0m\u001b[1;33m.\u001b[0m\u001b[0mgroupby\u001b[0m\u001b[1;33m(\u001b[0m\u001b[1;34m'fare_bin'\u001b[0m\u001b[1;33m)\u001b[0m\u001b[1;33m.\u001b[0m\u001b[0mManhattan\u001b[0m\u001b[1;33m.\u001b[0m\u001b[0mmean\u001b[0m\u001b[1;33m(\u001b[0m\u001b[1;33m)\u001b[0m\u001b[1;33m:\u001b[0m\u001b[1;33m\u001b[0m\u001b[1;33m\u001b[0m\u001b[0m\n\u001b[0m\u001b[0;32m      2\u001b[0m     \u001b[0mprint\u001b[0m\u001b[1;33m(\u001b[0m\u001b[0mi\u001b[0m\u001b[1;33m)\u001b[0m\u001b[1;33m\u001b[0m\u001b[1;33m\u001b[0m\u001b[0m\n",
      "\u001b[1;31mTypeError\u001b[0m: cannot unpack non-iterable float object"
     ]
    }
   ],
   "source": [
    "for j,i in df1.groupby('fare_bin').Manhattan.mean():\n",
    "    print(i)"
   ]
  },
  {
   "cell_type": "code",
   "execution_count": 85,
   "metadata": {},
   "outputs": [
    {
     "name": "stdout",
     "output_type": "stream",
     "text": [
      "(0, 5]\n",
      "(05, 10]\n",
      "(10, 15]\n",
      "(15, 20]\n",
      "(20, 25]\n",
      "(25, 30]\n",
      "(30, 35]\n",
      "(35, 40]\n",
      "(40, 45]\n",
      "[45+]\n"
     ]
    }
   ],
   "source": [
    "for j,i in df1.groupby('fare_bin'):\n",
    "    print(j)"
   ]
  },
  {
   "cell_type": "code",
   "execution_count": 93,
   "metadata": {},
   "outputs": [
    {
     "data": {
      "image/png": "[encoded data removed]",
      "text/plain": [
       "<Figure size 432x288 with 1 Axes>"
      ]
     },
     "metadata": {},
     "output_type": "display_data"
    }
   ],
   "source": [
    "for j,i in df1.groupby('fare_bin'):\n",
    "    sns.kdeplot(i['Manhattan'], label = f'{j}')\n",
    "    plt.xlim((0,0.5))"
   ]
  },
  {
   "cell_type": "code",
   "execution_count": 44,
   "metadata": {},
   "outputs": [],
   "source": [
    "df1['euclidean'] = minkowski_distance(df1['pickup_longitude'], df1['dropoff_longitude'],\n",
    "                                       df1['pickup_latitude'], df1['dropoff_latitude'], 2)\n"
   ]
  },
  {
   "cell_type": "code",
   "execution_count": 45,
   "metadata": {},
   "outputs": [
    {
     "data": {
      "text/html": [
       "<div>\n",
       "<style scoped>\n",
       "    .dataframe tbody tr th:only-of-type {\n",
       "        vertical-align: middle;\n",
       "    }\n",
       "\n",
       "    .dataframe tbody tr th {\n",
       "        vertical-align: top;\n",
       "    }\n",
       "\n",
       "    .dataframe thead th {\n",
       "        text-align: right;\n",
       "    }\n",
       "</style>\n",
       "<table border=\"1\" class=\"dataframe\">\n",
       "  <thead>\n",
       "    <tr style=\"text-align: right;\">\n",
       "      <th></th>\n",
       "      <th>fare_amount</th>\n",
       "      <th>pickup_datetime</th>\n",
       "      <th>pickup_longitude</th>\n",
       "      <th>pickup_latitude</th>\n",
       "      <th>dropoff_longitude</th>\n",
       "      <th>dropoff_latitude</th>\n",
       "      <th>passenger_count</th>\n",
       "      <th>fare_bin</th>\n",
       "      <th>abs_lat_diff</th>\n",
       "      <th>abs_lon_diff</th>\n",
       "      <th>Manhattan</th>\n",
       "      <th>euclidean</th>\n",
       "    </tr>\n",
       "  </thead>\n",
       "  <tbody>\n",
       "    <tr>\n",
       "      <th>0</th>\n",
       "      <td>4.5</td>\n",
       "      <td>2009-06-15 17:26:21 UTC</td>\n",
       "      <td>-73.844311</td>\n",
       "      <td>40.721319</td>\n",
       "      <td>-73.841610</td>\n",
       "      <td>40.712278</td>\n",
       "      <td>1</td>\n",
       "      <td>(0, 5]</td>\n",
       "      <td>0.009041</td>\n",
       "      <td>-0.002701</td>\n",
       "      <td>0.011742</td>\n",
       "      <td>0.009436</td>\n",
       "    </tr>\n",
       "    <tr>\n",
       "      <th>1</th>\n",
       "      <td>16.9</td>\n",
       "      <td>2010-01-05 16:52:16 UTC</td>\n",
       "      <td>-74.016048</td>\n",
       "      <td>40.711303</td>\n",
       "      <td>-73.979268</td>\n",
       "      <td>40.782004</td>\n",
       "      <td>1</td>\n",
       "      <td>(15, 20]</td>\n",
       "      <td>-0.070701</td>\n",
       "      <td>-0.036780</td>\n",
       "      <td>0.107481</td>\n",
       "      <td>0.079696</td>\n",
       "    </tr>\n",
       "  </tbody>\n",
       "</table>\n",
       "</div>"
      ],
      "text/plain": [
       "   fare_amount          pickup_datetime  pickup_longitude  pickup_latitude  \\\n",
       "0          4.5  2009-06-15 17:26:21 UTC        -73.844311        40.721319   \n",
       "1         16.9  2010-01-05 16:52:16 UTC        -74.016048        40.711303   \n",
       "\n",
       "   dropoff_longitude  dropoff_latitude  passenger_count  fare_bin  \\\n",
       "0         -73.841610         40.712278                1    (0, 5]   \n",
       "1         -73.979268         40.782004                1  (15, 20]   \n",
       "\n",
       "   abs_lat_diff  abs_lon_diff  Manhattan  euclidean  \n",
       "0      0.009041     -0.002701   0.011742   0.009436  \n",
       "1     -0.070701     -0.036780   0.107481   0.079696  "
      ]
     },
     "execution_count": 45,
     "metadata": {},
     "output_type": "execute_result"
    }
   ],
   "source": [
    "df1.head(2)"
   ]
  },
  {
   "cell_type": "code",
   "execution_count": 46,
   "metadata": {},
   "outputs": [
    {
     "data": {
      "text/html": [
       "<div>\n",
       "<style scoped>\n",
       "    .dataframe tbody tr th:only-of-type {\n",
       "        vertical-align: middle;\n",
       "    }\n",
       "\n",
       "    .dataframe tbody tr th {\n",
       "        vertical-align: top;\n",
       "    }\n",
       "\n",
       "    .dataframe thead th {\n",
       "        text-align: right;\n",
       "    }\n",
       "</style>\n",
       "<table border=\"1\" class=\"dataframe\">\n",
       "  <thead>\n",
       "    <tr style=\"text-align: right;\">\n",
       "      <th></th>\n",
       "      <th>mean</th>\n",
       "      <th>count</th>\n",
       "    </tr>\n",
       "    <tr>\n",
       "      <th>fare_bin</th>\n",
       "      <th></th>\n",
       "      <th></th>\n",
       "    </tr>\n",
       "  </thead>\n",
       "  <tbody>\n",
       "    <tr>\n",
       "      <th>(0, 5]</th>\n",
       "      <td>0.011796</td>\n",
       "      <td>151933</td>\n",
       "    </tr>\n",
       "    <tr>\n",
       "      <th>(05, 10]</th>\n",
       "      <td>0.022262</td>\n",
       "      <td>459926</td>\n",
       "    </tr>\n",
       "    <tr>\n",
       "      <th>(10, 15]</th>\n",
       "      <td>0.039542</td>\n",
       "      <td>195222</td>\n",
       "    </tr>\n",
       "    <tr>\n",
       "      <th>(15, 20]</th>\n",
       "      <td>0.055438</td>\n",
       "      <td>71981</td>\n",
       "    </tr>\n",
       "    <tr>\n",
       "      <th>(20, 25]</th>\n",
       "      <td>0.077197</td>\n",
       "      <td>31194</td>\n",
       "    </tr>\n",
       "    <tr>\n",
       "      <th>(25, 30]</th>\n",
       "      <td>0.101258</td>\n",
       "      <td>19605</td>\n",
       "    </tr>\n",
       "    <tr>\n",
       "      <th>(30, 35]</th>\n",
       "      <td>0.117318</td>\n",
       "      <td>14414</td>\n",
       "    </tr>\n",
       "    <tr>\n",
       "      <th>(35, 40]</th>\n",
       "      <td>0.127885</td>\n",
       "      <td>8395</td>\n",
       "    </tr>\n",
       "    <tr>\n",
       "      <th>(40, 45]</th>\n",
       "      <td>0.154382</td>\n",
       "      <td>6780</td>\n",
       "    </tr>\n",
       "    <tr>\n",
       "      <th>[45+]</th>\n",
       "      <td>0.195052</td>\n",
       "      <td>19707</td>\n",
       "    </tr>\n",
       "  </tbody>\n",
       "</table>\n",
       "</div>"
      ],
      "text/plain": [
       "              mean   count\n",
       "fare_bin                  \n",
       "(0, 5]    0.011796  151933\n",
       "(05, 10]  0.022262  459926\n",
       "(10, 15]  0.039542  195222\n",
       "(15, 20]  0.055438   71981\n",
       "(20, 25]  0.077197   31194\n",
       "(25, 30]  0.101258   19605\n",
       "(30, 35]  0.117318   14414\n",
       "(35, 40]  0.127885    8395\n",
       "(40, 45]  0.154382    6780\n",
       "[45+]     0.195052   19707"
      ]
     },
     "execution_count": 46,
     "metadata": {},
     "output_type": "execute_result"
    }
   ],
   "source": [
    "df1.groupby('fare_bin')['euclidean'].agg(['mean', 'count'])"
   ]
  },
  {
   "cell_type": "code",
   "execution_count": 51,
   "metadata": {},
   "outputs": [
    {
     "data": {
      "text/plain": [
       "<matplotlib.axes._subplots.AxesSubplot at 0x25ee4e94198>"
      ]
     },
     "execution_count": 51,
     "metadata": {},
     "output_type": "execute_result"
    },
    {
     "data": {
      "image/png": "[encoded data removed]",
      "text/plain": [
       "<Figure size 432x288 with 1 Axes>"
      ]
     },
     "metadata": {},
     "output_type": "display_data"
    }
   ],
   "source": [
    "df1.groupby('fare_bin')['euclidean'].mean().plot(kind = 'bar', color= 'b')"
   ]
  },
  {
   "cell_type": "markdown",
   "metadata": {},
   "source": [
    "We clearly see, as the fare rises the distance travelled also rises, this feature will be usefull."
   ]
  },
  {
   "cell_type": "code",
   "execution_count": 53,
   "metadata": {},
   "outputs": [
    {
     "data": {
      "text/plain": [
       "<matplotlib.axes._subplots.AxesSubplot at 0x25ee4e72da0>"
      ]
     },
     "execution_count": 53,
     "metadata": {},
     "output_type": "execute_result"
    },
    {
     "data": {
      "image/png": "[encoded data removed]",
      "text/plain": [
       "<Figure size 432x288 with 1 Axes>"
      ]
     },
     "metadata": {},
     "output_type": "display_data"
    }
   ],
   "source": [
    "df1.groupby('fare_bin')['Manhattan'].mean().plot.bar(color='b')"
   ]
  },
  {
   "cell_type": "markdown",
   "metadata": {},
   "source": [
    "Manhattan also gives the same result as above"
   ]
  },
  {
   "cell_type": "markdown",
   "metadata": {},
   "source": [
    "Now, passanger count can give us insight about the fare_bin"
   ]
  },
  {
   "cell_type": "code",
   "execution_count": 58,
   "metadata": {},
   "outputs": [
    {
     "data": {
      "text/html": [
       "<div>\n",
       "<style scoped>\n",
       "    .dataframe tbody tr th:only-of-type {\n",
       "        vertical-align: middle;\n",
       "    }\n",
       "\n",
       "    .dataframe tbody tr th {\n",
       "        vertical-align: top;\n",
       "    }\n",
       "\n",
       "    .dataframe thead th {\n",
       "        text-align: right;\n",
       "    }\n",
       "</style>\n",
       "<table border=\"1\" class=\"dataframe\">\n",
       "  <thead>\n",
       "    <tr style=\"text-align: right;\">\n",
       "      <th></th>\n",
       "      <th>max</th>\n",
       "      <th>min</th>\n",
       "      <th>mean</th>\n",
       "    </tr>\n",
       "    <tr>\n",
       "      <th>passenger_count</th>\n",
       "      <th></th>\n",
       "      <th></th>\n",
       "      <th></th>\n",
       "    </tr>\n",
       "  </thead>\n",
       "  <tbody>\n",
       "    <tr>\n",
       "      <th>0</th>\n",
       "      <td>90.00</td>\n",
       "      <td>2.5</td>\n",
       "      <td>8.716729</td>\n",
       "    </tr>\n",
       "    <tr>\n",
       "      <th>1</th>\n",
       "      <td>100.00</td>\n",
       "      <td>2.5</td>\n",
       "      <td>11.155839</td>\n",
       "    </tr>\n",
       "    <tr>\n",
       "      <th>2</th>\n",
       "      <td>99.30</td>\n",
       "      <td>2.5</td>\n",
       "      <td>11.752523</td>\n",
       "    </tr>\n",
       "    <tr>\n",
       "      <th>3</th>\n",
       "      <td>100.00</td>\n",
       "      <td>2.5</td>\n",
       "      <td>11.467057</td>\n",
       "    </tr>\n",
       "    <tr>\n",
       "      <th>4</th>\n",
       "      <td>93.50</td>\n",
       "      <td>2.5</td>\n",
       "      <td>11.659320</td>\n",
       "    </tr>\n",
       "    <tr>\n",
       "      <th>5</th>\n",
       "      <td>93.81</td>\n",
       "      <td>2.5</td>\n",
       "      <td>11.189260</td>\n",
       "    </tr>\n",
       "    <tr>\n",
       "      <th>6</th>\n",
       "      <td>99.75</td>\n",
       "      <td>2.5</td>\n",
       "      <td>12.255897</td>\n",
       "    </tr>\n",
       "  </tbody>\n",
       "</table>\n",
       "</div>"
      ],
      "text/plain": [
       "                    max  min       mean\n",
       "passenger_count                        \n",
       "0                 90.00  2.5   8.716729\n",
       "1                100.00  2.5  11.155839\n",
       "2                 99.30  2.5  11.752523\n",
       "3                100.00  2.5  11.467057\n",
       "4                 93.50  2.5  11.659320\n",
       "5                 93.81  2.5  11.189260\n",
       "6                 99.75  2.5  12.255897"
      ]
     },
     "execution_count": 58,
     "metadata": {},
     "output_type": "execute_result"
    }
   ],
   "source": [
    "df1.groupby('passenger_count')['fare_amount'].agg(['max', 'min', 'mean'])"
   ]
  },
  {
   "cell_type": "code",
   "execution_count": 59,
   "metadata": {},
   "outputs": [
    {
     "data": {
      "text/html": [
       "<div>\n",
       "<style scoped>\n",
       "    .dataframe tbody tr th:only-of-type {\n",
       "        vertical-align: middle;\n",
       "    }\n",
       "\n",
       "    .dataframe tbody tr th {\n",
       "        vertical-align: top;\n",
       "    }\n",
       "\n",
       "    .dataframe thead th {\n",
       "        text-align: right;\n",
       "    }\n",
       "</style>\n",
       "<table border=\"1\" class=\"dataframe\">\n",
       "  <thead>\n",
       "    <tr style=\"text-align: right;\">\n",
       "      <th></th>\n",
       "      <th>max</th>\n",
       "      <th>min</th>\n",
       "      <th>mean</th>\n",
       "    </tr>\n",
       "    <tr>\n",
       "      <th>fare_bin</th>\n",
       "      <th></th>\n",
       "      <th></th>\n",
       "      <th></th>\n",
       "    </tr>\n",
       "  </thead>\n",
       "  <tbody>\n",
       "    <tr>\n",
       "      <th>(0, 5]</th>\n",
       "      <td>6</td>\n",
       "      <td>0</td>\n",
       "      <td>1.641375</td>\n",
       "    </tr>\n",
       "    <tr>\n",
       "      <th>(05, 10]</th>\n",
       "      <td>6</td>\n",
       "      <td>0</td>\n",
       "      <td>1.680925</td>\n",
       "    </tr>\n",
       "    <tr>\n",
       "      <th>(10, 15]</th>\n",
       "      <td>6</td>\n",
       "      <td>0</td>\n",
       "      <td>1.699506</td>\n",
       "    </tr>\n",
       "    <tr>\n",
       "      <th>(15, 20]</th>\n",
       "      <td>6</td>\n",
       "      <td>0</td>\n",
       "      <td>1.710299</td>\n",
       "    </tr>\n",
       "    <tr>\n",
       "      <th>(20, 25]</th>\n",
       "      <td>6</td>\n",
       "      <td>0</td>\n",
       "      <td>1.706931</td>\n",
       "    </tr>\n",
       "    <tr>\n",
       "      <th>(25, 30]</th>\n",
       "      <td>6</td>\n",
       "      <td>0</td>\n",
       "      <td>1.689416</td>\n",
       "    </tr>\n",
       "    <tr>\n",
       "      <th>(30, 35]</th>\n",
       "      <td>6</td>\n",
       "      <td>0</td>\n",
       "      <td>1.740391</td>\n",
       "    </tr>\n",
       "    <tr>\n",
       "      <th>(35, 40]</th>\n",
       "      <td>6</td>\n",
       "      <td>0</td>\n",
       "      <td>1.749136</td>\n",
       "    </tr>\n",
       "    <tr>\n",
       "      <th>(40, 45]</th>\n",
       "      <td>6</td>\n",
       "      <td>0</td>\n",
       "      <td>1.752360</td>\n",
       "    </tr>\n",
       "    <tr>\n",
       "      <th>[45+]</th>\n",
       "      <td>6</td>\n",
       "      <td>0</td>\n",
       "      <td>1.756888</td>\n",
       "    </tr>\n",
       "  </tbody>\n",
       "</table>\n",
       "</div>"
      ],
      "text/plain": [
       "          max  min      mean\n",
       "fare_bin                    \n",
       "(0, 5]      6    0  1.641375\n",
       "(05, 10]    6    0  1.680925\n",
       "(10, 15]    6    0  1.699506\n",
       "(15, 20]    6    0  1.710299\n",
       "(20, 25]    6    0  1.706931\n",
       "(25, 30]    6    0  1.689416\n",
       "(30, 35]    6    0  1.740391\n",
       "(35, 40]    6    0  1.749136\n",
       "(40, 45]    6    0  1.752360\n",
       "[45+]       6    0  1.756888"
      ]
     },
     "execution_count": 59,
     "metadata": {},
     "output_type": "execute_result"
    }
   ],
   "source": [
    "df1.groupby('fare_bin')['passenger_count'].agg(['max', 'min', 'mean'])"
   ]
  },
  {
   "cell_type": "code",
   "execution_count": 68,
   "metadata": {},
   "outputs": [
    {
     "data": {
      "text/plain": [
       "<matplotlib.axes._subplots.AxesSubplot at 0x25ee40cc0f0>"
      ]
     },
     "execution_count": 68,
     "metadata": {},
     "output_type": "execute_result"
    },
    {
     "data": {
      "image/png": "[encoded data removed]",
      "text/plain": [
       "<Figure size 432x288 with 1 Axes>"
      ]
     },
     "metadata": {},
     "output_type": "display_data"
    }
   ],
   "source": [
    "df1.groupby('fare_bin')['passenger_count'].mean().plot(kind='bar', color = 'b')"
   ]
  },
  {
   "cell_type": "markdown",
   "metadata": {},
   "source": [
    "Passenger count is lower at lower fare_bin, and pasenger count is high at higher fare_bin"
   ]
  },
  {
   "cell_type": "code",
   "execution_count": 69,
   "metadata": {},
   "outputs": [
    {
     "data": {
      "text/plain": [
       "<matplotlib.axes._subplots.AxesSubplot at 0x25ee3fd6048>"
      ]
     },
     "execution_count": 69,
     "metadata": {},
     "output_type": "execute_result"
    },
    {
     "data": {
      "image/png": "[encoded data removed]",
      "text/plain": [
       "<Figure size 432x288 with 1 Axes>"
      ]
     },
     "metadata": {},
     "output_type": "display_data"
    }
   ],
   "source": [
    "df1.groupby('passenger_count')['fare_amount'].mean().plot(kind='bar', color= 'b')"
   ]
  },
  {
   "cell_type": "code",
   "execution_count": 70,
   "metadata": {},
   "outputs": [],
   "source": [
    "## Pickle df1 file"
   ]
  },
  {
   "cell_type": "code",
   "execution_count": 71,
   "metadata": {},
   "outputs": [
    {
     "data": {
      "text/html": [
       "<div>\n",
       "<style scoped>\n",
       "    .dataframe tbody tr th:only-of-type {\n",
       "        vertical-align: middle;\n",
       "    }\n",
       "\n",
       "    .dataframe tbody tr th {\n",
       "        vertical-align: top;\n",
       "    }\n",
       "\n",
       "    .dataframe thead th {\n",
       "        text-align: right;\n",
       "    }\n",
       "</style>\n",
       "<table border=\"1\" class=\"dataframe\">\n",
       "  <thead>\n",
       "    <tr style=\"text-align: right;\">\n",
       "      <th></th>\n",
       "      <th>fare_amount</th>\n",
       "      <th>pickup_datetime</th>\n",
       "      <th>pickup_longitude</th>\n",
       "      <th>pickup_latitude</th>\n",
       "      <th>dropoff_longitude</th>\n",
       "      <th>dropoff_latitude</th>\n",
       "      <th>passenger_count</th>\n",
       "      <th>fare_bin</th>\n",
       "      <th>abs_lat_diff</th>\n",
       "      <th>abs_lon_diff</th>\n",
       "      <th>Manhattan</th>\n",
       "      <th>euclidean</th>\n",
       "    </tr>\n",
       "  </thead>\n",
       "  <tbody>\n",
       "    <tr>\n",
       "      <th>0</th>\n",
       "      <td>4.5</td>\n",
       "      <td>2009-06-15 17:26:21 UTC</td>\n",
       "      <td>-73.844311</td>\n",
       "      <td>40.721319</td>\n",
       "      <td>-73.841610</td>\n",
       "      <td>40.712278</td>\n",
       "      <td>1</td>\n",
       "      <td>(0, 5]</td>\n",
       "      <td>0.009041</td>\n",
       "      <td>-0.002701</td>\n",
       "      <td>0.011742</td>\n",
       "      <td>0.009436</td>\n",
       "    </tr>\n",
       "    <tr>\n",
       "      <th>1</th>\n",
       "      <td>16.9</td>\n",
       "      <td>2010-01-05 16:52:16 UTC</td>\n",
       "      <td>-74.016048</td>\n",
       "      <td>40.711303</td>\n",
       "      <td>-73.979268</td>\n",
       "      <td>40.782004</td>\n",
       "      <td>1</td>\n",
       "      <td>(15, 20]</td>\n",
       "      <td>-0.070701</td>\n",
       "      <td>-0.036780</td>\n",
       "      <td>0.107481</td>\n",
       "      <td>0.079696</td>\n",
       "    </tr>\n",
       "    <tr>\n",
       "      <th>2</th>\n",
       "      <td>5.7</td>\n",
       "      <td>2011-08-18 00:35:00 UTC</td>\n",
       "      <td>-73.982738</td>\n",
       "      <td>40.761270</td>\n",
       "      <td>-73.991242</td>\n",
       "      <td>40.750562</td>\n",
       "      <td>2</td>\n",
       "      <td>(05, 10]</td>\n",
       "      <td>0.010708</td>\n",
       "      <td>0.008504</td>\n",
       "      <td>0.019212</td>\n",
       "      <td>0.013674</td>\n",
       "    </tr>\n",
       "  </tbody>\n",
       "</table>\n",
       "</div>"
      ],
      "text/plain": [
       "   fare_amount          pickup_datetime  pickup_longitude  pickup_latitude  \\\n",
       "0          4.5  2009-06-15 17:26:21 UTC        -73.844311        40.721319   \n",
       "1         16.9  2010-01-05 16:52:16 UTC        -74.016048        40.711303   \n",
       "2          5.7  2011-08-18 00:35:00 UTC        -73.982738        40.761270   \n",
       "\n",
       "   dropoff_longitude  dropoff_latitude  passenger_count  fare_bin  \\\n",
       "0         -73.841610         40.712278                1    (0, 5]   \n",
       "1         -73.979268         40.782004                1  (15, 20]   \n",
       "2         -73.991242         40.750562                2  (05, 10]   \n",
       "\n",
       "   abs_lat_diff  abs_lon_diff  Manhattan  euclidean  \n",
       "0      0.009041     -0.002701   0.011742   0.009436  \n",
       "1     -0.070701     -0.036780   0.107481   0.079696  \n",
       "2      0.010708      0.008504   0.019212   0.013674  "
      ]
     },
     "execution_count": 71,
     "metadata": {},
     "output_type": "execute_result"
    }
   ],
   "source": [
    "df1.head(3)"
   ]
  },
  {
   "cell_type": "code",
   "execution_count": 72,
   "metadata": {},
   "outputs": [
    {
     "data": {
      "text/plain": [
       "Index(['fare_amount', 'pickup_datetime', 'pickup_longitude', 'pickup_latitude',\n",
       "       'dropoff_longitude', 'dropoff_latitude', 'passenger_count', 'fare_bin',\n",
       "       'abs_lat_diff', 'abs_lon_diff', 'Manhattan', 'euclidean'],\n",
       "      dtype='object')"
      ]
     },
     "execution_count": 72,
     "metadata": {},
     "output_type": "execute_result"
    }
   ],
   "source": [
    "df1.columns"
   ]
  },
  {
   "cell_type": "code",
   "execution_count": 75,
   "metadata": {},
   "outputs": [],
   "source": [
    "pickle_out = open('train_taxi.pickle', 'wb')\n",
    "pickle.dump(df1, pickle_out)\n",
    "pickle_out.close()"
   ]
  },
  {
   "cell_type": "code",
   "execution_count": 73,
   "metadata": {},
   "outputs": [],
   "source": [
    "import pickle"
   ]
  },
  {
   "cell_type": "code",
   "execution_count": null,
   "metadata": {},
   "outputs": [],
   "source": []
  }
 ],
 "metadata": {
  "kernelspec": {
   "display_name": "Python 3",
   "language": "python",
   "name": "python3"
  },
  "language_info": {
   "codemirror_mode": {
    "name": "ipython",
    "version": 3
   },
   "file_extension": ".py",
   "mimetype": "text/x-python",
   "name": "python",
   "nbconvert_exporter": "python",
   "pygments_lexer": "ipython3",
   "version": "3.7.1"
  }
 },
 "nbformat": 4,
 "nbformat_minor": 2
}
