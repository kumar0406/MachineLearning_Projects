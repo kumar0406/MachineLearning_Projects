{
  "nbformat": 4,
  "nbformat_minor": 0,
  "metadata": {
    "colab": {
      "name": "XgB&CatB_base.ipynb",
      "provenance": [],
      "collapsed_sections": [],
      "mount_file_id": "1W8eKrPrkQQgf0DxkTCioHxEIKEzZypLy",
      "authorship_tag": "ABX9TyPO/SCAbMcNGVrWou2j3/6n",
      "include_colab_link": true
    },
    "kernelspec": {
      "name": "python3",
      "display_name": "Python 3"
    }
  },
  "cells": [
    {
      "cell_type": "markdown",
      "metadata": {
        "id": "view-in-github",
        "colab_type": "text"
      },
      "source": [
        "<a href=\"https://colab.research.google.com/github/kumar0406/MachineLearning_Projects/blob/master/XgB%26CatB_base.ipynb\" target=\"_parent\"><img src=\"https://colab.research.google.com/assets/colab-badge.svg\" alt=\"Open In Colab\"/></a>"
      ]
    },
    {
      "cell_type": "code",
      "metadata": {
        "id": "mCxRFx0C0t0s"
      },
      "source": [
        "## Label encoding with missing value with new category"
      ],
      "execution_count": 1,
      "outputs": []
    },
    {
      "cell_type": "code",
      "metadata": {
        "id": "W4Q9Ks4Mp4mw"
      },
      "source": [
        "import pandas as pd\r\n",
        "import numpy as np\r\n",
        "import matplotlib.pyplot as plt\r\n",
        "import seaborn as sns\r\n",
        "from sklearn.preprocessing import StandardScaler\r\n",
        "from sklearn.model_selection import train_test_split\r\n",
        "\r\n",
        "import warnings\r\n",
        "warnings.filterwarnings('ignore')\r\n"
      ],
      "execution_count": 2,
      "outputs": []
    },
    {
      "cell_type": "code",
      "metadata": {
        "id": "PS1ip31Uq7AV"
      },
      "source": [
        "train = pd.read_csv(\"/content/drive/MyDrive/AV_insurance_job-a-thon/train_Df64byy.csv\")\r\n",
        "test = pd.read_csv(\"/content/drive/MyDrive/AV_insurance_job-a-thon/test_YCcRUnU.csv\")"
      ],
      "execution_count": 3,
      "outputs": []
    },
    {
      "cell_type": "code",
      "metadata": {
        "colab": {
          "base_uri": "https://localhost:8080/",
          "height": 174
        },
        "id": "LnNWpx_0rtG4",
        "outputId": "5b50d74f-ad57-49df-9475-db15513d4ad5"
      },
      "source": [
        "train.head(3)"
      ],
      "execution_count": 4,
      "outputs": [
        {
          "output_type": "execute_result",
          "data": {
            "text/html": [
              "<div>\n",
              "<style scoped>\n",
              "    .dataframe tbody tr th:only-of-type {\n",
              "        vertical-align: middle;\n",
              "    }\n",
              "\n",
              "    .dataframe tbody tr th {\n",
              "        vertical-align: top;\n",
              "    }\n",
              "\n",
              "    .dataframe thead th {\n",
              "        text-align: right;\n",
              "    }\n",
              "</style>\n",
              "<table border=\"1\" class=\"dataframe\">\n",
              "  <thead>\n",
              "    <tr style=\"text-align: right;\">\n",
              "      <th></th>\n",
              "      <th>ID</th>\n",
              "      <th>City_Code</th>\n",
              "      <th>Region_Code</th>\n",
              "      <th>Accomodation_Type</th>\n",
              "      <th>Reco_Insurance_Type</th>\n",
              "      <th>Upper_Age</th>\n",
              "      <th>Lower_Age</th>\n",
              "      <th>Is_Spouse</th>\n",
              "      <th>Health Indicator</th>\n",
              "      <th>Holding_Policy_Duration</th>\n",
              "      <th>Holding_Policy_Type</th>\n",
              "      <th>Reco_Policy_Cat</th>\n",
              "      <th>Reco_Policy_Premium</th>\n",
              "      <th>Response</th>\n",
              "    </tr>\n",
              "  </thead>\n",
              "  <tbody>\n",
              "    <tr>\n",
              "      <th>0</th>\n",
              "      <td>1</td>\n",
              "      <td>C3</td>\n",
              "      <td>3213</td>\n",
              "      <td>Rented</td>\n",
              "      <td>Individual</td>\n",
              "      <td>36</td>\n",
              "      <td>36</td>\n",
              "      <td>No</td>\n",
              "      <td>X1</td>\n",
              "      <td>14+</td>\n",
              "      <td>3.0</td>\n",
              "      <td>22</td>\n",
              "      <td>11628.0</td>\n",
              "      <td>0</td>\n",
              "    </tr>\n",
              "    <tr>\n",
              "      <th>1</th>\n",
              "      <td>2</td>\n",
              "      <td>C5</td>\n",
              "      <td>1117</td>\n",
              "      <td>Owned</td>\n",
              "      <td>Joint</td>\n",
              "      <td>75</td>\n",
              "      <td>22</td>\n",
              "      <td>No</td>\n",
              "      <td>X2</td>\n",
              "      <td>NaN</td>\n",
              "      <td>NaN</td>\n",
              "      <td>22</td>\n",
              "      <td>30510.0</td>\n",
              "      <td>0</td>\n",
              "    </tr>\n",
              "    <tr>\n",
              "      <th>2</th>\n",
              "      <td>3</td>\n",
              "      <td>C5</td>\n",
              "      <td>3732</td>\n",
              "      <td>Owned</td>\n",
              "      <td>Individual</td>\n",
              "      <td>32</td>\n",
              "      <td>32</td>\n",
              "      <td>No</td>\n",
              "      <td>NaN</td>\n",
              "      <td>1.0</td>\n",
              "      <td>1.0</td>\n",
              "      <td>19</td>\n",
              "      <td>7450.0</td>\n",
              "      <td>1</td>\n",
              "    </tr>\n",
              "  </tbody>\n",
              "</table>\n",
              "</div>"
            ],
            "text/plain": [
              "   ID City_Code  Region_Code  ... Reco_Policy_Cat Reco_Policy_Premium  Response\n",
              "0   1        C3         3213  ...              22             11628.0         0\n",
              "1   2        C5         1117  ...              22             30510.0         0\n",
              "2   3        C5         3732  ...              19              7450.0         1\n",
              "\n",
              "[3 rows x 14 columns]"
            ]
          },
          "metadata": {
            "tags": []
          },
          "execution_count": 4
        }
      ]
    },
    {
      "cell_type": "code",
      "metadata": {
        "id": "LOmAzVMNt1NQ"
      },
      "source": [
        "## Convert everything to intiger before feeding to classifier, go for label encoding"
      ],
      "execution_count": 5,
      "outputs": []
    },
    {
      "cell_type": "code",
      "metadata": {
        "id": "FPnq2PFlv2Km"
      },
      "source": [
        "## Fill up missing values\r\n",
        "train['Health Indicator'] = train['Health Indicator'].fillna('X10')\r\n",
        "train['Holding_Policy_Duration'] = train['Holding_Policy_Duration'].fillna('15.0')\r\n",
        "train['Holding_Policy_Type'] = train['Holding_Policy_Type'].fillna('6.0')"
      ],
      "execution_count": 6,
      "outputs": []
    },
    {
      "cell_type": "code",
      "metadata": {
        "id": "-ng67cSHwXBN"
      },
      "source": [
        "train['Holding_Policy_Type'] = train['Holding_Policy_Type'].astype('str')"
      ],
      "execution_count": 7,
      "outputs": []
    },
    {
      "cell_type": "code",
      "metadata": {
        "colab": {
          "base_uri": "https://localhost:8080/"
        },
        "id": "c--UAk3Fwid2",
        "outputId": "acf33e13-80b7-42f1-f25b-738ff570eeb1"
      },
      "source": [
        "train['Holding_Policy_Type'].value_counts().index"
      ],
      "execution_count": 8,
      "outputs": [
        {
          "output_type": "execute_result",
          "data": {
            "text/plain": [
              "Index(['6.0', '3.0', '1.0', '2.0', '4.0'], dtype='object')"
            ]
          },
          "metadata": {
            "tags": []
          },
          "execution_count": 8
        }
      ]
    },
    {
      "cell_type": "code",
      "metadata": {
        "id": "Ebi203wXxFyM"
      },
      "source": [
        "train['Reco_Policy_Cat'] = train['Reco_Policy_Cat'].astype('str')"
      ],
      "execution_count": 9,
      "outputs": []
    },
    {
      "cell_type": "code",
      "metadata": {
        "id": "91hzi_DEuER-"
      },
      "source": [
        "from sklearn import preprocessing"
      ],
      "execution_count": 10,
      "outputs": []
    },
    {
      "cell_type": "code",
      "metadata": {
        "id": "fHoQM_77ukZ-"
      },
      "source": [
        "col_for_LE = ['City_Code', 'Accomodation_Type', 'Reco_Insurance_Type', 'Is_Spouse', 'Health Indicator', 'Holding_Policy_Duration', 'Holding_Policy_Type', 'Reco_Policy_Cat']"
      ],
      "execution_count": 11,
      "outputs": []
    },
    {
      "cell_type": "code",
      "metadata": {
        "id": "ZOipkBRgvIiO"
      },
      "source": [
        "le = preprocessing.LabelEncoder()"
      ],
      "execution_count": 12,
      "outputs": []
    },
    {
      "cell_type": "code",
      "metadata": {
        "id": "zy8Xy4qwukTu"
      },
      "source": [
        "## try to fit label encoder with missing value\r\n",
        "#train['Health Indicator_le'] = le.fit_transform(train['Health Indicator'])"
      ],
      "execution_count": 13,
      "outputs": []
    },
    {
      "cell_type": "code",
      "metadata": {
        "id": "vXUy195-ukBi"
      },
      "source": [
        "train_le = train.copy()\r\n",
        "\r\n",
        "for i in col_for_LE:\r\n",
        "  le.fit(train_le[[i]])\r\n",
        "\r\n",
        "  train_le[i] = le.transform(train_le[[i]])\r\n",
        "\r\n"
      ],
      "execution_count": 14,
      "outputs": []
    },
    {
      "cell_type": "code",
      "metadata": {
        "colab": {
          "base_uri": "https://localhost:8080/",
          "height": 234
        },
        "id": "jLVwjgZ5zS1W",
        "outputId": "01e9c236-45a7-4c66-b6ba-9883e2f7bffa"
      },
      "source": [
        "train_le.head()"
      ],
      "execution_count": 15,
      "outputs": [
        {
          "output_type": "execute_result",
          "data": {
            "text/html": [
              "<div>\n",
              "<style scoped>\n",
              "    .dataframe tbody tr th:only-of-type {\n",
              "        vertical-align: middle;\n",
              "    }\n",
              "\n",
              "    .dataframe tbody tr th {\n",
              "        vertical-align: top;\n",
              "    }\n",
              "\n",
              "    .dataframe thead th {\n",
              "        text-align: right;\n",
              "    }\n",
              "</style>\n",
              "<table border=\"1\" class=\"dataframe\">\n",
              "  <thead>\n",
              "    <tr style=\"text-align: right;\">\n",
              "      <th></th>\n",
              "      <th>ID</th>\n",
              "      <th>City_Code</th>\n",
              "      <th>Region_Code</th>\n",
              "      <th>Accomodation_Type</th>\n",
              "      <th>Reco_Insurance_Type</th>\n",
              "      <th>Upper_Age</th>\n",
              "      <th>Lower_Age</th>\n",
              "      <th>Is_Spouse</th>\n",
              "      <th>Health Indicator</th>\n",
              "      <th>Holding_Policy_Duration</th>\n",
              "      <th>Holding_Policy_Type</th>\n",
              "      <th>Reco_Policy_Cat</th>\n",
              "      <th>Reco_Policy_Premium</th>\n",
              "      <th>Response</th>\n",
              "    </tr>\n",
              "  </thead>\n",
              "  <tbody>\n",
              "    <tr>\n",
              "      <th>0</th>\n",
              "      <td>1</td>\n",
              "      <td>22</td>\n",
              "      <td>3213</td>\n",
              "      <td>1</td>\n",
              "      <td>0</td>\n",
              "      <td>36</td>\n",
              "      <td>36</td>\n",
              "      <td>0</td>\n",
              "      <td>0</td>\n",
              "      <td>5</td>\n",
              "      <td>2</td>\n",
              "      <td>14</td>\n",
              "      <td>11628.0</td>\n",
              "      <td>0</td>\n",
              "    </tr>\n",
              "    <tr>\n",
              "      <th>1</th>\n",
              "      <td>2</td>\n",
              "      <td>31</td>\n",
              "      <td>1117</td>\n",
              "      <td>0</td>\n",
              "      <td>1</td>\n",
              "      <td>75</td>\n",
              "      <td>22</td>\n",
              "      <td>0</td>\n",
              "      <td>2</td>\n",
              "      <td>7</td>\n",
              "      <td>4</td>\n",
              "      <td>14</td>\n",
              "      <td>30510.0</td>\n",
              "      <td>0</td>\n",
              "    </tr>\n",
              "    <tr>\n",
              "      <th>2</th>\n",
              "      <td>3</td>\n",
              "      <td>31</td>\n",
              "      <td>3732</td>\n",
              "      <td>0</td>\n",
              "      <td>0</td>\n",
              "      <td>32</td>\n",
              "      <td>32</td>\n",
              "      <td>0</td>\n",
              "      <td>1</td>\n",
              "      <td>0</td>\n",
              "      <td>0</td>\n",
              "      <td>10</td>\n",
              "      <td>7450.0</td>\n",
              "      <td>1</td>\n",
              "    </tr>\n",
              "    <tr>\n",
              "      <th>3</th>\n",
              "      <td>4</td>\n",
              "      <td>16</td>\n",
              "      <td>4378</td>\n",
              "      <td>0</td>\n",
              "      <td>1</td>\n",
              "      <td>52</td>\n",
              "      <td>48</td>\n",
              "      <td>0</td>\n",
              "      <td>0</td>\n",
              "      <td>5</td>\n",
              "      <td>2</td>\n",
              "      <td>10</td>\n",
              "      <td>17780.0</td>\n",
              "      <td>0</td>\n",
              "    </tr>\n",
              "    <tr>\n",
              "      <th>4</th>\n",
              "      <td>5</td>\n",
              "      <td>34</td>\n",
              "      <td>2190</td>\n",
              "      <td>1</td>\n",
              "      <td>0</td>\n",
              "      <td>44</td>\n",
              "      <td>44</td>\n",
              "      <td>0</td>\n",
              "      <td>2</td>\n",
              "      <td>9</td>\n",
              "      <td>0</td>\n",
              "      <td>7</td>\n",
              "      <td>10404.0</td>\n",
              "      <td>0</td>\n",
              "    </tr>\n",
              "  </tbody>\n",
              "</table>\n",
              "</div>"
            ],
            "text/plain": [
              "   ID  City_Code  Region_Code  ...  Reco_Policy_Cat  Reco_Policy_Premium  Response\n",
              "0   1         22         3213  ...               14              11628.0         0\n",
              "1   2         31         1117  ...               14              30510.0         0\n",
              "2   3         31         3732  ...               10               7450.0         1\n",
              "3   4         16         4378  ...               10              17780.0         0\n",
              "4   5         34         2190  ...                7              10404.0         0\n",
              "\n",
              "[5 rows x 14 columns]"
            ]
          },
          "metadata": {
            "tags": []
          },
          "execution_count": 15
        }
      ]
    },
    {
      "cell_type": "code",
      "metadata": {
        "id": "TFWEh203sINo"
      },
      "source": [
        "from xgboost import XGBClassifier"
      ],
      "execution_count": 16,
      "outputs": []
    },
    {
      "cell_type": "code",
      "metadata": {
        "id": "oOl95Fn2seIY"
      },
      "source": [
        "## Split train test\r\n",
        "\r\n",
        "X = train_le.drop(['ID', 'Response'], axis=1)\r\n",
        "y = train_le['Response']"
      ],
      "execution_count": 17,
      "outputs": []
    },
    {
      "cell_type": "code",
      "metadata": {
        "id": "kHHEcPw8s3eI"
      },
      "source": [
        "X_train, X_test, y_train, y_test = train_test_split(X, y, test_size=0.3, random_state=0)"
      ],
      "execution_count": 18,
      "outputs": []
    },
    {
      "cell_type": "code",
      "metadata": {
        "id": "HTb0MqnStSHo"
      },
      "source": [
        "model = XGBClassifier()"
      ],
      "execution_count": 19,
      "outputs": []
    },
    {
      "cell_type": "code",
      "metadata": {
        "colab": {
          "base_uri": "https://localhost:8080/"
        },
        "id": "WHSShiFhtnVG",
        "outputId": "7c4ba271-63bf-4587-da5d-a42c0f7af408"
      },
      "source": [
        "model.fit(X_train, y_train)"
      ],
      "execution_count": 20,
      "outputs": [
        {
          "output_type": "execute_result",
          "data": {
            "text/plain": [
              "XGBClassifier(base_score=0.5, booster='gbtree', colsample_bylevel=1,\n",
              "              colsample_bynode=1, colsample_bytree=1, gamma=0,\n",
              "              learning_rate=0.1, max_delta_step=0, max_depth=3,\n",
              "              min_child_weight=1, missing=None, n_estimators=100, n_jobs=1,\n",
              "              nthread=None, objective='binary:logistic', random_state=0,\n",
              "              reg_alpha=0, reg_lambda=1, scale_pos_weight=1, seed=None,\n",
              "              silent=None, subsample=1, verbosity=1)"
            ]
          },
          "metadata": {
            "tags": []
          },
          "execution_count": 20
        }
      ]
    },
    {
      "cell_type": "code",
      "metadata": {
        "id": "sAgQ1cZ-tt74"
      },
      "source": [
        "predictions = model.predict(X_test)"
      ],
      "execution_count": 21,
      "outputs": []
    },
    {
      "cell_type": "code",
      "metadata": {
        "colab": {
          "base_uri": "https://localhost:8080/"
        },
        "id": "zidmUx_Pzngs",
        "outputId": "d7aa9b39-440a-4051-d75d-7cbf51635bcd"
      },
      "source": [
        "predictions"
      ],
      "execution_count": 22,
      "outputs": [
        {
          "output_type": "execute_result",
          "data": {
            "text/plain": [
              "array([0, 0, 0, ..., 0, 0, 0])"
            ]
          },
          "metadata": {
            "tags": []
          },
          "execution_count": 22
        }
      ]
    },
    {
      "cell_type": "code",
      "metadata": {
        "id": "58KJIJYVz-RT"
      },
      "source": [
        "from sklearn.metrics import accuracy_score\r\n"
      ],
      "execution_count": 23,
      "outputs": []
    },
    {
      "cell_type": "code",
      "metadata": {
        "colab": {
          "base_uri": "https://localhost:8080/"
        },
        "id": "OtVVI0fNzvZs",
        "outputId": "2e5d0b41-2afd-4788-9289-bd3fa01b8cd4"
      },
      "source": [
        "accuracy_score(predictions, y_test)"
      ],
      "execution_count": 24,
      "outputs": [
        {
          "output_type": "execute_result",
          "data": {
            "text/plain": [
              "0.754208974778906"
            ]
          },
          "metadata": {
            "tags": []
          },
          "execution_count": 24
        }
      ]
    },
    {
      "cell_type": "code",
      "metadata": {
        "colab": {
          "base_uri": "https://localhost:8080/"
        },
        "id": "hyN0o-3Hz3FM",
        "outputId": "d1d09ae7-f95a-4d1e-80a3-87c40f29bba0"
      },
      "source": [
        "!pip install catboost"
      ],
      "execution_count": 25,
      "outputs": [
        {
          "output_type": "stream",
          "text": [
            "Collecting catboost\n",
            "\u001b[?25l  Downloading https://files.pythonhosted.org/packages/96/3b/bb419654adcf7efff42ed8a3f84e50c8f236424b7ed1cc8ccd290852e003/catboost-0.24.4-cp37-none-manylinux1_x86_64.whl (65.7MB)\n",
            "\u001b[K     |████████████████████████████████| 65.7MB 62kB/s \n",
            "\u001b[?25hRequirement already satisfied: matplotlib in /usr/local/lib/python3.7/dist-packages (from catboost) (3.2.2)\n",
            "Requirement already satisfied: six in /usr/local/lib/python3.7/dist-packages (from catboost) (1.15.0)\n",
            "Requirement already satisfied: plotly in /usr/local/lib/python3.7/dist-packages (from catboost) (4.4.1)\n",
            "Requirement already satisfied: pandas>=0.24.0 in /usr/local/lib/python3.7/dist-packages (from catboost) (1.1.5)\n",
            "Requirement already satisfied: numpy>=1.16.0 in /usr/local/lib/python3.7/dist-packages (from catboost) (1.19.5)\n",
            "Requirement already satisfied: scipy in /usr/local/lib/python3.7/dist-packages (from catboost) (1.4.1)\n",
            "Requirement already satisfied: graphviz in /usr/local/lib/python3.7/dist-packages (from catboost) (0.10.1)\n",
            "Requirement already satisfied: kiwisolver>=1.0.1 in /usr/local/lib/python3.7/dist-packages (from matplotlib->catboost) (1.3.1)\n",
            "Requirement already satisfied: python-dateutil>=2.1 in /usr/local/lib/python3.7/dist-packages (from matplotlib->catboost) (2.8.1)\n",
            "Requirement already satisfied: pyparsing!=2.0.4,!=2.1.2,!=2.1.6,>=2.0.1 in /usr/local/lib/python3.7/dist-packages (from matplotlib->catboost) (2.4.7)\n",
            "Requirement already satisfied: cycler>=0.10 in /usr/local/lib/python3.7/dist-packages (from matplotlib->catboost) (0.10.0)\n",
            "Requirement already satisfied: retrying>=1.3.3 in /usr/local/lib/python3.7/dist-packages (from plotly->catboost) (1.3.3)\n",
            "Requirement already satisfied: pytz>=2017.2 in /usr/local/lib/python3.7/dist-packages (from pandas>=0.24.0->catboost) (2018.9)\n",
            "Installing collected packages: catboost\n",
            "Successfully installed catboost-0.24.4\n"
          ],
          "name": "stdout"
        }
      ]
    },
    {
      "cell_type": "code",
      "metadata": {
        "id": "H1NAnzPo6Af4"
      },
      "source": [
        "from catboost import CatBoostClassifier"
      ],
      "execution_count": 26,
      "outputs": []
    },
    {
      "cell_type": "code",
      "metadata": {
        "id": "RTdqBeiK5lgt"
      },
      "source": [
        "cat_model = CatBoostClassifier()"
      ],
      "execution_count": 27,
      "outputs": []
    },
    {
      "cell_type": "code",
      "metadata": {
        "colab": {
          "base_uri": "https://localhost:8080/"
        },
        "id": "fSMTrZax5wTR",
        "outputId": "4239ab32-75ab-41d4-a1bf-266ddc0b84b2"
      },
      "source": [
        "cat_model.fit(X_train, y_train)"
      ],
      "execution_count": 28,
      "outputs": [
        {
          "output_type": "stream",
          "text": [
            "Learning rate set to 0.047369\n",
            "0:\tlearn: 0.6776522\ttotal: 66.8ms\tremaining: 1m 6s\n",
            "1:\tlearn: 0.6638910\ttotal: 83.4ms\tremaining: 41.6s\n",
            "2:\tlearn: 0.6524007\ttotal: 99ms\tremaining: 32.9s\n",
            "3:\tlearn: 0.6420347\ttotal: 116ms\tremaining: 28.9s\n",
            "4:\tlearn: 0.6316008\ttotal: 133ms\tremaining: 26.5s\n",
            "5:\tlearn: 0.6225135\ttotal: 150ms\tremaining: 24.8s\n",
            "6:\tlearn: 0.6130095\ttotal: 166ms\tremaining: 23.6s\n",
            "7:\tlearn: 0.6057532\ttotal: 184ms\tremaining: 22.9s\n",
            "8:\tlearn: 0.5982470\ttotal: 205ms\tremaining: 22.6s\n",
            "9:\tlearn: 0.5928126\ttotal: 220ms\tremaining: 21.8s\n",
            "10:\tlearn: 0.5879029\ttotal: 237ms\tremaining: 21.3s\n",
            "11:\tlearn: 0.5833914\ttotal: 255ms\tremaining: 21s\n",
            "12:\tlearn: 0.5789047\ttotal: 272ms\tremaining: 20.6s\n",
            "13:\tlearn: 0.5752667\ttotal: 289ms\tremaining: 20.3s\n",
            "14:\tlearn: 0.5719367\ttotal: 306ms\tremaining: 20.1s\n",
            "15:\tlearn: 0.5689882\ttotal: 323ms\tremaining: 19.8s\n",
            "16:\tlearn: 0.5660860\ttotal: 340ms\tremaining: 19.6s\n",
            "17:\tlearn: 0.5632666\ttotal: 355ms\tremaining: 19.4s\n",
            "18:\tlearn: 0.5611052\ttotal: 372ms\tremaining: 19.2s\n",
            "19:\tlearn: 0.5591513\ttotal: 388ms\tremaining: 19s\n",
            "20:\tlearn: 0.5572062\ttotal: 402ms\tremaining: 18.8s\n",
            "21:\tlearn: 0.5545863\ttotal: 424ms\tremaining: 18.9s\n",
            "22:\tlearn: 0.5522668\ttotal: 442ms\tremaining: 18.8s\n",
            "23:\tlearn: 0.5504998\ttotal: 457ms\tremaining: 18.6s\n",
            "24:\tlearn: 0.5489096\ttotal: 472ms\tremaining: 18.4s\n",
            "25:\tlearn: 0.5471647\ttotal: 489ms\tremaining: 18.3s\n",
            "26:\tlearn: 0.5459844\ttotal: 506ms\tremaining: 18.2s\n",
            "27:\tlearn: 0.5449006\ttotal: 523ms\tremaining: 18.2s\n",
            "28:\tlearn: 0.5437873\ttotal: 540ms\tremaining: 18.1s\n",
            "29:\tlearn: 0.5424694\ttotal: 558ms\tremaining: 18s\n",
            "30:\tlearn: 0.5414520\ttotal: 575ms\tremaining: 18s\n",
            "31:\tlearn: 0.5406047\ttotal: 592ms\tremaining: 17.9s\n",
            "32:\tlearn: 0.5393334\ttotal: 609ms\tremaining: 17.8s\n",
            "33:\tlearn: 0.5386659\ttotal: 623ms\tremaining: 17.7s\n",
            "34:\tlearn: 0.5381970\ttotal: 643ms\tremaining: 17.7s\n",
            "35:\tlearn: 0.5377495\ttotal: 660ms\tremaining: 17.7s\n",
            "36:\tlearn: 0.5369940\ttotal: 677ms\tremaining: 17.6s\n",
            "37:\tlearn: 0.5365422\ttotal: 695ms\tremaining: 17.6s\n",
            "38:\tlearn: 0.5356348\ttotal: 712ms\tremaining: 17.5s\n",
            "39:\tlearn: 0.5351346\ttotal: 729ms\tremaining: 17.5s\n",
            "40:\tlearn: 0.5346560\ttotal: 745ms\tremaining: 17.4s\n",
            "41:\tlearn: 0.5342647\ttotal: 763ms\tremaining: 17.4s\n",
            "42:\tlearn: 0.5338844\ttotal: 780ms\tremaining: 17.4s\n",
            "43:\tlearn: 0.5336246\ttotal: 797ms\tremaining: 17.3s\n",
            "44:\tlearn: 0.5329533\ttotal: 814ms\tremaining: 17.3s\n",
            "45:\tlearn: 0.5327456\ttotal: 831ms\tremaining: 17.2s\n",
            "46:\tlearn: 0.5325571\ttotal: 852ms\tremaining: 17.3s\n",
            "47:\tlearn: 0.5321866\ttotal: 869ms\tremaining: 17.2s\n",
            "48:\tlearn: 0.5319447\ttotal: 886ms\tremaining: 17.2s\n",
            "49:\tlearn: 0.5316810\ttotal: 913ms\tremaining: 17.3s\n",
            "50:\tlearn: 0.5313563\ttotal: 928ms\tremaining: 17.3s\n",
            "51:\tlearn: 0.5308719\ttotal: 945ms\tremaining: 17.2s\n",
            "52:\tlearn: 0.5306101\ttotal: 962ms\tremaining: 17.2s\n",
            "53:\tlearn: 0.5303339\ttotal: 985ms\tremaining: 17.3s\n",
            "54:\tlearn: 0.5300486\ttotal: 1s\tremaining: 17.2s\n",
            "55:\tlearn: 0.5297653\ttotal: 1.02s\tremaining: 17.2s\n",
            "56:\tlearn: 0.5291402\ttotal: 1.03s\tremaining: 17.1s\n",
            "57:\tlearn: 0.5287754\ttotal: 1.06s\tremaining: 17.2s\n",
            "58:\tlearn: 0.5282648\ttotal: 1.07s\tremaining: 17.1s\n",
            "59:\tlearn: 0.5280355\ttotal: 1.09s\tremaining: 17.1s\n",
            "60:\tlearn: 0.5278561\ttotal: 1.11s\tremaining: 17.1s\n",
            "61:\tlearn: 0.5276165\ttotal: 1.13s\tremaining: 17s\n",
            "62:\tlearn: 0.5273784\ttotal: 1.14s\tremaining: 17s\n",
            "63:\tlearn: 0.5271616\ttotal: 1.16s\tremaining: 16.9s\n",
            "64:\tlearn: 0.5269511\ttotal: 1.18s\tremaining: 16.9s\n",
            "65:\tlearn: 0.5266571\ttotal: 1.19s\tremaining: 16.9s\n",
            "66:\tlearn: 0.5264408\ttotal: 1.21s\tremaining: 16.9s\n",
            "67:\tlearn: 0.5262686\ttotal: 1.23s\tremaining: 16.8s\n",
            "68:\tlearn: 0.5260744\ttotal: 1.25s\tremaining: 16.8s\n",
            "69:\tlearn: 0.5257488\ttotal: 1.27s\tremaining: 16.8s\n",
            "70:\tlearn: 0.5255914\ttotal: 1.28s\tremaining: 16.8s\n",
            "71:\tlearn: 0.5254047\ttotal: 1.3s\tremaining: 16.8s\n",
            "72:\tlearn: 0.5251978\ttotal: 1.32s\tremaining: 16.7s\n",
            "73:\tlearn: 0.5249958\ttotal: 1.33s\tremaining: 16.7s\n",
            "74:\tlearn: 0.5248793\ttotal: 1.35s\tremaining: 16.7s\n",
            "75:\tlearn: 0.5247784\ttotal: 1.37s\tremaining: 16.6s\n",
            "76:\tlearn: 0.5246419\ttotal: 1.39s\tremaining: 16.6s\n",
            "77:\tlearn: 0.5245112\ttotal: 1.4s\tremaining: 16.6s\n",
            "78:\tlearn: 0.5242390\ttotal: 1.42s\tremaining: 16.6s\n",
            "79:\tlearn: 0.5238990\ttotal: 1.44s\tremaining: 16.5s\n",
            "80:\tlearn: 0.5237611\ttotal: 1.45s\tremaining: 16.5s\n",
            "81:\tlearn: 0.5236594\ttotal: 1.47s\tremaining: 16.5s\n",
            "82:\tlearn: 0.5233930\ttotal: 1.49s\tremaining: 16.5s\n",
            "83:\tlearn: 0.5230833\ttotal: 1.51s\tremaining: 16.5s\n",
            "84:\tlearn: 0.5229203\ttotal: 1.54s\tremaining: 16.6s\n",
            "85:\tlearn: 0.5227903\ttotal: 1.55s\tremaining: 16.5s\n",
            "86:\tlearn: 0.5226798\ttotal: 1.57s\tremaining: 16.5s\n",
            "87:\tlearn: 0.5225688\ttotal: 1.59s\tremaining: 16.5s\n",
            "88:\tlearn: 0.5224275\ttotal: 1.61s\tremaining: 16.4s\n",
            "89:\tlearn: 0.5222052\ttotal: 1.62s\tremaining: 16.4s\n",
            "90:\tlearn: 0.5220689\ttotal: 1.64s\tremaining: 16.4s\n",
            "91:\tlearn: 0.5219265\ttotal: 1.65s\tremaining: 16.3s\n",
            "92:\tlearn: 0.5218197\ttotal: 1.67s\tremaining: 16.3s\n",
            "93:\tlearn: 0.5217298\ttotal: 1.69s\tremaining: 16.3s\n",
            "94:\tlearn: 0.5216096\ttotal: 1.71s\tremaining: 16.3s\n",
            "95:\tlearn: 0.5213759\ttotal: 1.73s\tremaining: 16.3s\n",
            "96:\tlearn: 0.5212250\ttotal: 1.75s\tremaining: 16.2s\n",
            "97:\tlearn: 0.5211054\ttotal: 1.76s\tremaining: 16.2s\n",
            "98:\tlearn: 0.5209903\ttotal: 1.78s\tremaining: 16.2s\n",
            "99:\tlearn: 0.5208453\ttotal: 1.8s\tremaining: 16.2s\n",
            "100:\tlearn: 0.5206751\ttotal: 1.81s\tremaining: 16.2s\n",
            "101:\tlearn: 0.5204099\ttotal: 1.83s\tremaining: 16.1s\n",
            "102:\tlearn: 0.5202702\ttotal: 1.85s\tremaining: 16.1s\n",
            "103:\tlearn: 0.5201618\ttotal: 1.86s\tremaining: 16.1s\n",
            "104:\tlearn: 0.5200162\ttotal: 1.88s\tremaining: 16s\n",
            "105:\tlearn: 0.5199104\ttotal: 1.92s\tremaining: 16.2s\n",
            "106:\tlearn: 0.5196257\ttotal: 1.93s\tremaining: 16.1s\n",
            "107:\tlearn: 0.5195359\ttotal: 1.95s\tremaining: 16.1s\n",
            "108:\tlearn: 0.5194312\ttotal: 1.96s\tremaining: 16.1s\n",
            "109:\tlearn: 0.5193786\ttotal: 1.98s\tremaining: 16s\n",
            "110:\tlearn: 0.5192215\ttotal: 2s\tremaining: 16s\n",
            "111:\tlearn: 0.5191476\ttotal: 2.02s\tremaining: 16s\n",
            "112:\tlearn: 0.5190449\ttotal: 2.03s\tremaining: 16s\n",
            "113:\tlearn: 0.5188624\ttotal: 2.05s\tremaining: 15.9s\n",
            "114:\tlearn: 0.5187732\ttotal: 2.07s\tremaining: 15.9s\n",
            "115:\tlearn: 0.5184624\ttotal: 2.08s\tremaining: 15.9s\n",
            "116:\tlearn: 0.5183796\ttotal: 2.1s\tremaining: 15.9s\n",
            "117:\tlearn: 0.5182476\ttotal: 2.12s\tremaining: 15.9s\n",
            "118:\tlearn: 0.5181641\ttotal: 2.14s\tremaining: 15.8s\n",
            "119:\tlearn: 0.5180488\ttotal: 2.16s\tremaining: 15.8s\n",
            "120:\tlearn: 0.5179409\ttotal: 2.17s\tremaining: 15.8s\n",
            "121:\tlearn: 0.5177677\ttotal: 2.19s\tremaining: 15.8s\n",
            "122:\tlearn: 0.5175833\ttotal: 2.21s\tremaining: 15.8s\n",
            "123:\tlearn: 0.5174956\ttotal: 2.23s\tremaining: 15.7s\n",
            "124:\tlearn: 0.5173911\ttotal: 2.25s\tremaining: 15.7s\n",
            "125:\tlearn: 0.5173231\ttotal: 2.26s\tremaining: 15.7s\n",
            "126:\tlearn: 0.5172477\ttotal: 2.28s\tremaining: 15.7s\n",
            "127:\tlearn: 0.5171664\ttotal: 2.3s\tremaining: 15.7s\n",
            "128:\tlearn: 0.5170482\ttotal: 2.32s\tremaining: 15.7s\n",
            "129:\tlearn: 0.5169522\ttotal: 2.34s\tremaining: 15.7s\n",
            "130:\tlearn: 0.5168924\ttotal: 2.36s\tremaining: 15.6s\n",
            "131:\tlearn: 0.5168072\ttotal: 2.37s\tremaining: 15.6s\n",
            "132:\tlearn: 0.5167445\ttotal: 2.39s\tremaining: 15.6s\n",
            "133:\tlearn: 0.5166769\ttotal: 2.41s\tremaining: 15.6s\n",
            "134:\tlearn: 0.5166016\ttotal: 2.42s\tremaining: 15.5s\n",
            "135:\tlearn: 0.5165271\ttotal: 2.44s\tremaining: 15.5s\n",
            "136:\tlearn: 0.5164388\ttotal: 2.46s\tremaining: 15.5s\n",
            "137:\tlearn: 0.5162471\ttotal: 2.48s\tremaining: 15.5s\n",
            "138:\tlearn: 0.5161700\ttotal: 2.49s\tremaining: 15.4s\n",
            "139:\tlearn: 0.5160225\ttotal: 2.51s\tremaining: 15.4s\n",
            "140:\tlearn: 0.5159651\ttotal: 2.52s\tremaining: 15.4s\n",
            "141:\tlearn: 0.5158955\ttotal: 2.54s\tremaining: 15.4s\n",
            "142:\tlearn: 0.5157809\ttotal: 2.56s\tremaining: 15.3s\n",
            "143:\tlearn: 0.5156227\ttotal: 2.58s\tremaining: 15.3s\n",
            "144:\tlearn: 0.5155366\ttotal: 2.6s\tremaining: 15.3s\n",
            "145:\tlearn: 0.5154140\ttotal: 2.62s\tremaining: 15.3s\n",
            "146:\tlearn: 0.5153215\ttotal: 2.63s\tremaining: 15.3s\n",
            "147:\tlearn: 0.5152058\ttotal: 2.65s\tremaining: 15.3s\n",
            "148:\tlearn: 0.5151371\ttotal: 2.67s\tremaining: 15.3s\n",
            "149:\tlearn: 0.5150028\ttotal: 2.69s\tremaining: 15.2s\n",
            "150:\tlearn: 0.5149065\ttotal: 2.7s\tremaining: 15.2s\n",
            "151:\tlearn: 0.5147830\ttotal: 2.72s\tremaining: 15.2s\n",
            "152:\tlearn: 0.5147377\ttotal: 2.74s\tremaining: 15.2s\n",
            "153:\tlearn: 0.5146470\ttotal: 2.76s\tremaining: 15.2s\n",
            "154:\tlearn: 0.5143455\ttotal: 2.77s\tremaining: 15.1s\n",
            "155:\tlearn: 0.5142194\ttotal: 2.79s\tremaining: 15.1s\n",
            "156:\tlearn: 0.5140447\ttotal: 2.81s\tremaining: 15.1s\n",
            "157:\tlearn: 0.5139879\ttotal: 2.83s\tremaining: 15.1s\n",
            "158:\tlearn: 0.5139086\ttotal: 2.85s\tremaining: 15.1s\n",
            "159:\tlearn: 0.5138424\ttotal: 2.86s\tremaining: 15s\n",
            "160:\tlearn: 0.5137489\ttotal: 2.88s\tremaining: 15s\n",
            "161:\tlearn: 0.5136540\ttotal: 2.9s\tremaining: 15s\n",
            "162:\tlearn: 0.5135861\ttotal: 2.92s\tremaining: 15s\n",
            "163:\tlearn: 0.5135529\ttotal: 2.94s\tremaining: 15s\n",
            "164:\tlearn: 0.5133502\ttotal: 2.96s\tremaining: 15s\n",
            "165:\tlearn: 0.5132893\ttotal: 2.98s\tremaining: 15s\n",
            "166:\tlearn: 0.5131811\ttotal: 2.99s\tremaining: 14.9s\n",
            "167:\tlearn: 0.5130839\ttotal: 3.01s\tremaining: 14.9s\n",
            "168:\tlearn: 0.5129344\ttotal: 3.03s\tremaining: 14.9s\n",
            "169:\tlearn: 0.5127846\ttotal: 3.05s\tremaining: 14.9s\n",
            "170:\tlearn: 0.5127270\ttotal: 3.06s\tremaining: 14.9s\n",
            "171:\tlearn: 0.5126133\ttotal: 3.08s\tremaining: 14.8s\n",
            "172:\tlearn: 0.5125181\ttotal: 3.1s\tremaining: 14.8s\n",
            "173:\tlearn: 0.5123943\ttotal: 3.12s\tremaining: 14.8s\n",
            "174:\tlearn: 0.5122674\ttotal: 3.14s\tremaining: 14.8s\n",
            "175:\tlearn: 0.5122148\ttotal: 3.16s\tremaining: 14.8s\n",
            "176:\tlearn: 0.5121611\ttotal: 3.17s\tremaining: 14.8s\n",
            "177:\tlearn: 0.5120233\ttotal: 3.19s\tremaining: 14.8s\n",
            "178:\tlearn: 0.5119348\ttotal: 3.21s\tremaining: 14.7s\n",
            "179:\tlearn: 0.5118176\ttotal: 3.23s\tremaining: 14.7s\n",
            "180:\tlearn: 0.5117603\ttotal: 3.25s\tremaining: 14.7s\n",
            "181:\tlearn: 0.5116914\ttotal: 3.27s\tremaining: 14.7s\n",
            "182:\tlearn: 0.5116123\ttotal: 3.28s\tremaining: 14.7s\n",
            "183:\tlearn: 0.5115104\ttotal: 3.3s\tremaining: 14.6s\n",
            "184:\tlearn: 0.5114059\ttotal: 3.32s\tremaining: 14.6s\n",
            "185:\tlearn: 0.5113065\ttotal: 3.34s\tremaining: 14.6s\n",
            "186:\tlearn: 0.5111441\ttotal: 3.35s\tremaining: 14.6s\n",
            "187:\tlearn: 0.5110271\ttotal: 3.37s\tremaining: 14.6s\n",
            "188:\tlearn: 0.5109506\ttotal: 3.39s\tremaining: 14.5s\n",
            "189:\tlearn: 0.5108834\ttotal: 3.41s\tremaining: 14.5s\n",
            "190:\tlearn: 0.5108169\ttotal: 3.43s\tremaining: 14.5s\n",
            "191:\tlearn: 0.5107393\ttotal: 3.44s\tremaining: 14.5s\n",
            "192:\tlearn: 0.5106963\ttotal: 3.46s\tremaining: 14.5s\n",
            "193:\tlearn: 0.5106257\ttotal: 3.48s\tremaining: 14.4s\n",
            "194:\tlearn: 0.5105744\ttotal: 3.49s\tremaining: 14.4s\n",
            "195:\tlearn: 0.5105226\ttotal: 3.51s\tremaining: 14.4s\n",
            "196:\tlearn: 0.5103979\ttotal: 3.53s\tremaining: 14.4s\n",
            "197:\tlearn: 0.5103159\ttotal: 3.55s\tremaining: 14.4s\n",
            "198:\tlearn: 0.5102244\ttotal: 3.56s\tremaining: 14.3s\n",
            "199:\tlearn: 0.5101443\ttotal: 3.58s\tremaining: 14.3s\n",
            "200:\tlearn: 0.5100741\ttotal: 3.6s\tremaining: 14.3s\n",
            "201:\tlearn: 0.5099404\ttotal: 3.62s\tremaining: 14.3s\n",
            "202:\tlearn: 0.5098214\ttotal: 3.64s\tremaining: 14.3s\n",
            "203:\tlearn: 0.5097309\ttotal: 3.65s\tremaining: 14.3s\n",
            "204:\tlearn: 0.5096510\ttotal: 3.67s\tremaining: 14.2s\n",
            "205:\tlearn: 0.5095894\ttotal: 3.69s\tremaining: 14.2s\n",
            "206:\tlearn: 0.5094996\ttotal: 3.71s\tremaining: 14.2s\n",
            "207:\tlearn: 0.5094453\ttotal: 3.72s\tremaining: 14.2s\n",
            "208:\tlearn: 0.5093486\ttotal: 3.74s\tremaining: 14.2s\n",
            "209:\tlearn: 0.5092116\ttotal: 3.76s\tremaining: 14.1s\n",
            "210:\tlearn: 0.5090912\ttotal: 3.77s\tremaining: 14.1s\n",
            "211:\tlearn: 0.5089889\ttotal: 3.79s\tremaining: 14.1s\n",
            "212:\tlearn: 0.5089104\ttotal: 3.81s\tremaining: 14.1s\n",
            "213:\tlearn: 0.5088311\ttotal: 3.83s\tremaining: 14.1s\n",
            "214:\tlearn: 0.5086890\ttotal: 3.85s\tremaining: 14.1s\n",
            "215:\tlearn: 0.5085406\ttotal: 3.87s\tremaining: 14s\n",
            "216:\tlearn: 0.5084747\ttotal: 3.88s\tremaining: 14s\n",
            "217:\tlearn: 0.5084039\ttotal: 3.91s\tremaining: 14s\n",
            "218:\tlearn: 0.5083095\ttotal: 3.92s\tremaining: 14s\n",
            "219:\tlearn: 0.5082696\ttotal: 3.94s\tremaining: 14s\n",
            "220:\tlearn: 0.5082116\ttotal: 3.96s\tremaining: 13.9s\n",
            "221:\tlearn: 0.5081075\ttotal: 3.98s\tremaining: 13.9s\n",
            "222:\tlearn: 0.5080292\ttotal: 3.99s\tremaining: 13.9s\n",
            "223:\tlearn: 0.5078683\ttotal: 4.01s\tremaining: 13.9s\n",
            "224:\tlearn: 0.5077963\ttotal: 4.03s\tremaining: 13.9s\n",
            "225:\tlearn: 0.5076701\ttotal: 4.05s\tremaining: 13.9s\n",
            "226:\tlearn: 0.5075602\ttotal: 4.07s\tremaining: 13.9s\n",
            "227:\tlearn: 0.5074601\ttotal: 4.09s\tremaining: 13.8s\n",
            "228:\tlearn: 0.5073149\ttotal: 4.11s\tremaining: 13.8s\n",
            "229:\tlearn: 0.5071685\ttotal: 4.12s\tremaining: 13.8s\n",
            "230:\tlearn: 0.5071051\ttotal: 4.14s\tremaining: 13.8s\n",
            "231:\tlearn: 0.5069823\ttotal: 4.16s\tremaining: 13.8s\n",
            "232:\tlearn: 0.5068593\ttotal: 4.17s\tremaining: 13.7s\n",
            "233:\tlearn: 0.5067572\ttotal: 4.19s\tremaining: 13.7s\n",
            "234:\tlearn: 0.5066859\ttotal: 4.21s\tremaining: 13.7s\n",
            "235:\tlearn: 0.5066310\ttotal: 4.23s\tremaining: 13.7s\n",
            "236:\tlearn: 0.5065749\ttotal: 4.25s\tremaining: 13.7s\n",
            "237:\tlearn: 0.5064705\ttotal: 4.27s\tremaining: 13.7s\n",
            "238:\tlearn: 0.5063780\ttotal: 4.29s\tremaining: 13.7s\n",
            "239:\tlearn: 0.5062787\ttotal: 4.31s\tremaining: 13.6s\n",
            "240:\tlearn: 0.5061209\ttotal: 4.32s\tremaining: 13.6s\n",
            "241:\tlearn: 0.5060225\ttotal: 4.34s\tremaining: 13.6s\n",
            "242:\tlearn: 0.5059361\ttotal: 4.36s\tremaining: 13.6s\n",
            "243:\tlearn: 0.5057899\ttotal: 4.37s\tremaining: 13.6s\n",
            "244:\tlearn: 0.5056591\ttotal: 4.39s\tremaining: 13.5s\n",
            "245:\tlearn: 0.5055489\ttotal: 4.41s\tremaining: 13.5s\n",
            "246:\tlearn: 0.5054476\ttotal: 4.42s\tremaining: 13.5s\n",
            "247:\tlearn: 0.5053686\ttotal: 4.44s\tremaining: 13.5s\n",
            "248:\tlearn: 0.5052885\ttotal: 4.46s\tremaining: 13.5s\n",
            "249:\tlearn: 0.5052311\ttotal: 4.48s\tremaining: 13.4s\n",
            "250:\tlearn: 0.5051013\ttotal: 4.5s\tremaining: 13.4s\n",
            "251:\tlearn: 0.5050093\ttotal: 4.51s\tremaining: 13.4s\n",
            "252:\tlearn: 0.5049130\ttotal: 4.53s\tremaining: 13.4s\n",
            "253:\tlearn: 0.5048418\ttotal: 4.55s\tremaining: 13.4s\n",
            "254:\tlearn: 0.5047199\ttotal: 4.56s\tremaining: 13.3s\n",
            "255:\tlearn: 0.5045885\ttotal: 4.58s\tremaining: 13.3s\n",
            "256:\tlearn: 0.5045029\ttotal: 4.6s\tremaining: 13.3s\n",
            "257:\tlearn: 0.5044283\ttotal: 4.62s\tremaining: 13.3s\n",
            "258:\tlearn: 0.5043173\ttotal: 4.63s\tremaining: 13.3s\n",
            "259:\tlearn: 0.5041988\ttotal: 4.65s\tremaining: 13.2s\n",
            "260:\tlearn: 0.5040812\ttotal: 4.67s\tremaining: 13.2s\n",
            "261:\tlearn: 0.5039948\ttotal: 4.69s\tremaining: 13.2s\n",
            "262:\tlearn: 0.5038815\ttotal: 4.71s\tremaining: 13.2s\n",
            "263:\tlearn: 0.5037608\ttotal: 4.72s\tremaining: 13.2s\n",
            "264:\tlearn: 0.5036313\ttotal: 4.74s\tremaining: 13.1s\n",
            "265:\tlearn: 0.5035406\ttotal: 4.76s\tremaining: 13.1s\n",
            "266:\tlearn: 0.5034058\ttotal: 4.78s\tremaining: 13.1s\n",
            "267:\tlearn: 0.5032866\ttotal: 4.79s\tremaining: 13.1s\n",
            "268:\tlearn: 0.5031371\ttotal: 4.82s\tremaining: 13.1s\n",
            "269:\tlearn: 0.5030620\ttotal: 4.83s\tremaining: 13.1s\n",
            "270:\tlearn: 0.5029747\ttotal: 4.85s\tremaining: 13s\n",
            "271:\tlearn: 0.5028979\ttotal: 4.87s\tremaining: 13s\n",
            "272:\tlearn: 0.5027945\ttotal: 4.89s\tremaining: 13s\n",
            "273:\tlearn: 0.5027154\ttotal: 4.91s\tremaining: 13s\n",
            "274:\tlearn: 0.5026258\ttotal: 4.93s\tremaining: 13s\n",
            "275:\tlearn: 0.5025010\ttotal: 4.95s\tremaining: 13s\n",
            "276:\tlearn: 0.5024284\ttotal: 4.96s\tremaining: 13s\n",
            "277:\tlearn: 0.5023320\ttotal: 4.98s\tremaining: 12.9s\n",
            "278:\tlearn: 0.5022322\ttotal: 5s\tremaining: 12.9s\n",
            "279:\tlearn: 0.5021278\ttotal: 5.01s\tremaining: 12.9s\n",
            "280:\tlearn: 0.5020307\ttotal: 5.03s\tremaining: 12.9s\n",
            "281:\tlearn: 0.5019699\ttotal: 5.05s\tremaining: 12.9s\n",
            "282:\tlearn: 0.5018216\ttotal: 5.07s\tremaining: 12.8s\n",
            "283:\tlearn: 0.5016830\ttotal: 5.08s\tremaining: 12.8s\n",
            "284:\tlearn: 0.5015838\ttotal: 5.11s\tremaining: 12.8s\n",
            "285:\tlearn: 0.5015067\ttotal: 5.12s\tremaining: 12.8s\n",
            "286:\tlearn: 0.5014204\ttotal: 5.14s\tremaining: 12.8s\n",
            "287:\tlearn: 0.5013681\ttotal: 5.16s\tremaining: 12.8s\n",
            "288:\tlearn: 0.5012795\ttotal: 5.18s\tremaining: 12.7s\n",
            "289:\tlearn: 0.5011986\ttotal: 5.19s\tremaining: 12.7s\n",
            "290:\tlearn: 0.5011224\ttotal: 5.21s\tremaining: 12.7s\n",
            "291:\tlearn: 0.5010314\ttotal: 5.23s\tremaining: 12.7s\n",
            "292:\tlearn: 0.5009513\ttotal: 5.24s\tremaining: 12.7s\n",
            "293:\tlearn: 0.5007734\ttotal: 5.26s\tremaining: 12.6s\n",
            "294:\tlearn: 0.5006631\ttotal: 5.28s\tremaining: 12.6s\n",
            "295:\tlearn: 0.5005891\ttotal: 5.3s\tremaining: 12.6s\n",
            "296:\tlearn: 0.5004774\ttotal: 5.32s\tremaining: 12.6s\n",
            "297:\tlearn: 0.5003770\ttotal: 5.34s\tremaining: 12.6s\n",
            "298:\tlearn: 0.5002986\ttotal: 5.35s\tremaining: 12.6s\n",
            "299:\tlearn: 0.5002427\ttotal: 5.37s\tremaining: 12.5s\n",
            "300:\tlearn: 0.5001511\ttotal: 5.39s\tremaining: 12.5s\n",
            "301:\tlearn: 0.5000737\ttotal: 5.4s\tremaining: 12.5s\n",
            "302:\tlearn: 0.5000142\ttotal: 5.42s\tremaining: 12.5s\n",
            "303:\tlearn: 0.4999287\ttotal: 5.44s\tremaining: 12.4s\n",
            "304:\tlearn: 0.4998513\ttotal: 5.46s\tremaining: 12.4s\n",
            "305:\tlearn: 0.4997265\ttotal: 5.47s\tremaining: 12.4s\n",
            "306:\tlearn: 0.4996153\ttotal: 5.49s\tremaining: 12.4s\n",
            "307:\tlearn: 0.4995297\ttotal: 5.51s\tremaining: 12.4s\n",
            "308:\tlearn: 0.4994367\ttotal: 5.53s\tremaining: 12.4s\n",
            "309:\tlearn: 0.4993461\ttotal: 5.54s\tremaining: 12.3s\n",
            "310:\tlearn: 0.4992518\ttotal: 5.56s\tremaining: 12.3s\n",
            "311:\tlearn: 0.4991642\ttotal: 5.58s\tremaining: 12.3s\n",
            "312:\tlearn: 0.4991221\ttotal: 5.59s\tremaining: 12.3s\n",
            "313:\tlearn: 0.4990065\ttotal: 5.61s\tremaining: 12.3s\n",
            "314:\tlearn: 0.4989001\ttotal: 5.63s\tremaining: 12.2s\n",
            "315:\tlearn: 0.4988062\ttotal: 5.64s\tremaining: 12.2s\n",
            "316:\tlearn: 0.4987380\ttotal: 5.66s\tremaining: 12.2s\n",
            "317:\tlearn: 0.4985708\ttotal: 5.68s\tremaining: 12.2s\n",
            "318:\tlearn: 0.4984810\ttotal: 5.7s\tremaining: 12.2s\n",
            "319:\tlearn: 0.4983843\ttotal: 5.71s\tremaining: 12.1s\n",
            "320:\tlearn: 0.4982971\ttotal: 5.74s\tremaining: 12.1s\n",
            "321:\tlearn: 0.4982283\ttotal: 5.75s\tremaining: 12.1s\n",
            "322:\tlearn: 0.4981394\ttotal: 5.77s\tremaining: 12.1s\n",
            "323:\tlearn: 0.4980809\ttotal: 5.79s\tremaining: 12.1s\n",
            "324:\tlearn: 0.4979467\ttotal: 5.8s\tremaining: 12.1s\n",
            "325:\tlearn: 0.4978886\ttotal: 5.82s\tremaining: 12s\n",
            "326:\tlearn: 0.4978028\ttotal: 5.84s\tremaining: 12s\n",
            "327:\tlearn: 0.4977270\ttotal: 5.86s\tremaining: 12s\n",
            "328:\tlearn: 0.4976475\ttotal: 5.88s\tremaining: 12s\n",
            "329:\tlearn: 0.4975210\ttotal: 5.9s\tremaining: 12s\n",
            "330:\tlearn: 0.4974013\ttotal: 5.92s\tremaining: 12s\n",
            "331:\tlearn: 0.4972458\ttotal: 5.94s\tremaining: 12s\n",
            "332:\tlearn: 0.4971614\ttotal: 5.96s\tremaining: 11.9s\n",
            "333:\tlearn: 0.4970690\ttotal: 5.98s\tremaining: 11.9s\n",
            "334:\tlearn: 0.4969445\ttotal: 6s\tremaining: 11.9s\n",
            "335:\tlearn: 0.4968346\ttotal: 6.01s\tremaining: 11.9s\n",
            "336:\tlearn: 0.4967502\ttotal: 6.03s\tremaining: 11.9s\n",
            "337:\tlearn: 0.4966623\ttotal: 6.05s\tremaining: 11.8s\n",
            "338:\tlearn: 0.4965633\ttotal: 6.07s\tremaining: 11.8s\n",
            "339:\tlearn: 0.4964544\ttotal: 6.08s\tremaining: 11.8s\n",
            "340:\tlearn: 0.4963714\ttotal: 6.1s\tremaining: 11.8s\n",
            "341:\tlearn: 0.4963009\ttotal: 6.12s\tremaining: 11.8s\n",
            "342:\tlearn: 0.4962249\ttotal: 6.13s\tremaining: 11.7s\n",
            "343:\tlearn: 0.4960855\ttotal: 6.16s\tremaining: 11.7s\n",
            "344:\tlearn: 0.4960050\ttotal: 6.17s\tremaining: 11.7s\n",
            "345:\tlearn: 0.4959055\ttotal: 6.19s\tremaining: 11.7s\n",
            "346:\tlearn: 0.4958479\ttotal: 6.21s\tremaining: 11.7s\n",
            "347:\tlearn: 0.4957215\ttotal: 6.22s\tremaining: 11.7s\n",
            "348:\tlearn: 0.4956480\ttotal: 6.24s\tremaining: 11.6s\n",
            "349:\tlearn: 0.4954859\ttotal: 6.26s\tremaining: 11.6s\n",
            "350:\tlearn: 0.4954059\ttotal: 6.27s\tremaining: 11.6s\n",
            "351:\tlearn: 0.4952992\ttotal: 6.29s\tremaining: 11.6s\n",
            "352:\tlearn: 0.4952162\ttotal: 6.31s\tremaining: 11.6s\n",
            "353:\tlearn: 0.4951189\ttotal: 6.33s\tremaining: 11.5s\n",
            "354:\tlearn: 0.4950217\ttotal: 6.34s\tremaining: 11.5s\n",
            "355:\tlearn: 0.4949495\ttotal: 6.36s\tremaining: 11.5s\n",
            "356:\tlearn: 0.4948614\ttotal: 6.38s\tremaining: 11.5s\n",
            "357:\tlearn: 0.4947528\ttotal: 6.4s\tremaining: 11.5s\n",
            "358:\tlearn: 0.4946785\ttotal: 6.42s\tremaining: 11.5s\n",
            "359:\tlearn: 0.4946099\ttotal: 6.43s\tremaining: 11.4s\n",
            "360:\tlearn: 0.4945337\ttotal: 6.46s\tremaining: 11.4s\n",
            "361:\tlearn: 0.4944368\ttotal: 6.47s\tremaining: 11.4s\n",
            "362:\tlearn: 0.4943429\ttotal: 6.49s\tremaining: 11.4s\n",
            "363:\tlearn: 0.4942542\ttotal: 6.51s\tremaining: 11.4s\n",
            "364:\tlearn: 0.4941892\ttotal: 6.52s\tremaining: 11.4s\n",
            "365:\tlearn: 0.4941115\ttotal: 6.54s\tremaining: 11.3s\n",
            "366:\tlearn: 0.4940299\ttotal: 6.56s\tremaining: 11.3s\n",
            "367:\tlearn: 0.4939508\ttotal: 6.58s\tremaining: 11.3s\n",
            "368:\tlearn: 0.4938667\ttotal: 6.6s\tremaining: 11.3s\n",
            "369:\tlearn: 0.4937464\ttotal: 6.62s\tremaining: 11.3s\n",
            "370:\tlearn: 0.4936304\ttotal: 6.63s\tremaining: 11.2s\n",
            "371:\tlearn: 0.4935339\ttotal: 6.65s\tremaining: 11.2s\n",
            "372:\tlearn: 0.4934410\ttotal: 6.67s\tremaining: 11.2s\n",
            "373:\tlearn: 0.4933428\ttotal: 6.68s\tremaining: 11.2s\n",
            "374:\tlearn: 0.4932713\ttotal: 6.7s\tremaining: 11.2s\n",
            "375:\tlearn: 0.4932037\ttotal: 6.72s\tremaining: 11.1s\n",
            "376:\tlearn: 0.4931398\ttotal: 6.73s\tremaining: 11.1s\n",
            "377:\tlearn: 0.4930676\ttotal: 6.75s\tremaining: 11.1s\n",
            "378:\tlearn: 0.4930054\ttotal: 6.77s\tremaining: 11.1s\n",
            "379:\tlearn: 0.4929085\ttotal: 6.79s\tremaining: 11.1s\n",
            "380:\tlearn: 0.4928546\ttotal: 6.81s\tremaining: 11.1s\n",
            "381:\tlearn: 0.4927720\ttotal: 6.82s\tremaining: 11s\n",
            "382:\tlearn: 0.4926718\ttotal: 6.84s\tremaining: 11s\n",
            "383:\tlearn: 0.4925951\ttotal: 6.86s\tremaining: 11s\n",
            "384:\tlearn: 0.4925108\ttotal: 6.88s\tremaining: 11s\n",
            "385:\tlearn: 0.4924148\ttotal: 6.9s\tremaining: 11s\n",
            "386:\tlearn: 0.4923260\ttotal: 6.92s\tremaining: 11s\n",
            "387:\tlearn: 0.4921578\ttotal: 6.93s\tremaining: 10.9s\n",
            "388:\tlearn: 0.4920977\ttotal: 6.95s\tremaining: 10.9s\n",
            "389:\tlearn: 0.4919628\ttotal: 6.96s\tremaining: 10.9s\n",
            "390:\tlearn: 0.4918776\ttotal: 6.98s\tremaining: 10.9s\n",
            "391:\tlearn: 0.4918060\ttotal: 7s\tremaining: 10.9s\n",
            "392:\tlearn: 0.4917253\ttotal: 7.02s\tremaining: 10.8s\n",
            "393:\tlearn: 0.4916589\ttotal: 7.04s\tremaining: 10.8s\n",
            "394:\tlearn: 0.4915853\ttotal: 7.06s\tremaining: 10.8s\n",
            "395:\tlearn: 0.4914873\ttotal: 7.07s\tremaining: 10.8s\n",
            "396:\tlearn: 0.4914101\ttotal: 7.09s\tremaining: 10.8s\n",
            "397:\tlearn: 0.4913144\ttotal: 7.11s\tremaining: 10.8s\n",
            "398:\tlearn: 0.4912347\ttotal: 7.13s\tremaining: 10.7s\n",
            "399:\tlearn: 0.4911461\ttotal: 7.14s\tremaining: 10.7s\n",
            "400:\tlearn: 0.4910727\ttotal: 7.16s\tremaining: 10.7s\n",
            "401:\tlearn: 0.4909930\ttotal: 7.18s\tremaining: 10.7s\n",
            "402:\tlearn: 0.4908742\ttotal: 7.19s\tremaining: 10.7s\n",
            "403:\tlearn: 0.4907999\ttotal: 7.22s\tremaining: 10.6s\n",
            "404:\tlearn: 0.4907069\ttotal: 7.23s\tremaining: 10.6s\n",
            "405:\tlearn: 0.4906495\ttotal: 7.25s\tremaining: 10.6s\n",
            "406:\tlearn: 0.4905651\ttotal: 7.27s\tremaining: 10.6s\n",
            "407:\tlearn: 0.4904981\ttotal: 7.29s\tremaining: 10.6s\n",
            "408:\tlearn: 0.4904352\ttotal: 7.3s\tremaining: 10.6s\n",
            "409:\tlearn: 0.4903926\ttotal: 7.32s\tremaining: 10.5s\n",
            "410:\tlearn: 0.4903159\ttotal: 7.34s\tremaining: 10.5s\n",
            "411:\tlearn: 0.4902387\ttotal: 7.35s\tremaining: 10.5s\n",
            "412:\tlearn: 0.4902003\ttotal: 7.37s\tremaining: 10.5s\n",
            "413:\tlearn: 0.4901380\ttotal: 7.39s\tremaining: 10.5s\n",
            "414:\tlearn: 0.4900520\ttotal: 7.4s\tremaining: 10.4s\n",
            "415:\tlearn: 0.4899304\ttotal: 7.43s\tremaining: 10.4s\n",
            "416:\tlearn: 0.4898381\ttotal: 7.45s\tremaining: 10.4s\n",
            "417:\tlearn: 0.4897309\ttotal: 7.46s\tremaining: 10.4s\n",
            "418:\tlearn: 0.4896645\ttotal: 7.48s\tremaining: 10.4s\n",
            "419:\tlearn: 0.4896031\ttotal: 7.5s\tremaining: 10.4s\n",
            "420:\tlearn: 0.4895458\ttotal: 7.52s\tremaining: 10.3s\n",
            "421:\tlearn: 0.4894194\ttotal: 7.54s\tremaining: 10.3s\n",
            "422:\tlearn: 0.4893462\ttotal: 7.55s\tremaining: 10.3s\n",
            "423:\tlearn: 0.4892774\ttotal: 7.57s\tremaining: 10.3s\n",
            "424:\tlearn: 0.4892051\ttotal: 7.58s\tremaining: 10.3s\n",
            "425:\tlearn: 0.4890986\ttotal: 7.6s\tremaining: 10.2s\n",
            "426:\tlearn: 0.4890368\ttotal: 7.62s\tremaining: 10.2s\n",
            "427:\tlearn: 0.4889471\ttotal: 7.64s\tremaining: 10.2s\n",
            "428:\tlearn: 0.4888683\ttotal: 7.66s\tremaining: 10.2s\n",
            "429:\tlearn: 0.4888111\ttotal: 7.68s\tremaining: 10.2s\n",
            "430:\tlearn: 0.4887339\ttotal: 7.69s\tremaining: 10.2s\n",
            "431:\tlearn: 0.4886454\ttotal: 7.71s\tremaining: 10.1s\n",
            "432:\tlearn: 0.4885819\ttotal: 7.73s\tremaining: 10.1s\n",
            "433:\tlearn: 0.4885011\ttotal: 7.74s\tremaining: 10.1s\n",
            "434:\tlearn: 0.4884494\ttotal: 7.76s\tremaining: 10.1s\n",
            "435:\tlearn: 0.4883903\ttotal: 7.78s\tremaining: 10.1s\n",
            "436:\tlearn: 0.4883183\ttotal: 7.79s\tremaining: 10s\n",
            "437:\tlearn: 0.4882518\ttotal: 7.81s\tremaining: 10s\n",
            "438:\tlearn: 0.4881678\ttotal: 7.83s\tremaining: 10s\n",
            "439:\tlearn: 0.4880592\ttotal: 7.85s\tremaining: 9.99s\n",
            "440:\tlearn: 0.4879988\ttotal: 7.87s\tremaining: 9.97s\n",
            "441:\tlearn: 0.4878917\ttotal: 7.88s\tremaining: 9.95s\n",
            "442:\tlearn: 0.4878340\ttotal: 7.91s\tremaining: 9.94s\n",
            "443:\tlearn: 0.4877681\ttotal: 7.92s\tremaining: 9.92s\n",
            "444:\tlearn: 0.4876702\ttotal: 7.94s\tremaining: 9.9s\n",
            "445:\tlearn: 0.4876147\ttotal: 7.96s\tremaining: 9.88s\n",
            "446:\tlearn: 0.4875276\ttotal: 7.97s\tremaining: 9.87s\n",
            "447:\tlearn: 0.4874648\ttotal: 7.99s\tremaining: 9.85s\n",
            "448:\tlearn: 0.4873746\ttotal: 8.01s\tremaining: 9.83s\n",
            "449:\tlearn: 0.4872845\ttotal: 8.03s\tremaining: 9.81s\n",
            "450:\tlearn: 0.4872214\ttotal: 8.04s\tremaining: 9.79s\n",
            "451:\tlearn: 0.4871080\ttotal: 8.07s\tremaining: 9.78s\n",
            "452:\tlearn: 0.4870408\ttotal: 8.08s\tremaining: 9.76s\n",
            "453:\tlearn: 0.4869859\ttotal: 8.11s\tremaining: 9.75s\n",
            "454:\tlearn: 0.4869007\ttotal: 8.13s\tremaining: 9.74s\n",
            "455:\tlearn: 0.4868256\ttotal: 8.15s\tremaining: 9.72s\n",
            "456:\tlearn: 0.4867595\ttotal: 8.16s\tremaining: 9.7s\n",
            "457:\tlearn: 0.4866263\ttotal: 8.18s\tremaining: 9.68s\n",
            "458:\tlearn: 0.4865231\ttotal: 8.2s\tremaining: 9.66s\n",
            "459:\tlearn: 0.4864786\ttotal: 8.22s\tremaining: 9.65s\n",
            "460:\tlearn: 0.4863504\ttotal: 8.24s\tremaining: 9.63s\n",
            "461:\tlearn: 0.4862103\ttotal: 8.25s\tremaining: 9.61s\n",
            "462:\tlearn: 0.4861379\ttotal: 8.27s\tremaining: 9.6s\n",
            "463:\tlearn: 0.4860821\ttotal: 8.29s\tremaining: 9.58s\n",
            "464:\tlearn: 0.4860238\ttotal: 8.31s\tremaining: 9.56s\n",
            "465:\tlearn: 0.4859476\ttotal: 8.32s\tremaining: 9.54s\n",
            "466:\tlearn: 0.4858601\ttotal: 8.34s\tremaining: 9.52s\n",
            "467:\tlearn: 0.4857773\ttotal: 8.36s\tremaining: 9.5s\n",
            "468:\tlearn: 0.4856880\ttotal: 8.38s\tremaining: 9.48s\n",
            "469:\tlearn: 0.4856133\ttotal: 8.39s\tremaining: 9.46s\n",
            "470:\tlearn: 0.4855491\ttotal: 8.41s\tremaining: 9.45s\n",
            "471:\tlearn: 0.4854883\ttotal: 8.43s\tremaining: 9.43s\n",
            "472:\tlearn: 0.4854068\ttotal: 8.45s\tremaining: 9.41s\n",
            "473:\tlearn: 0.4853270\ttotal: 8.46s\tremaining: 9.39s\n",
            "474:\tlearn: 0.4852629\ttotal: 8.48s\tremaining: 9.38s\n",
            "475:\tlearn: 0.4851769\ttotal: 8.5s\tremaining: 9.36s\n",
            "476:\tlearn: 0.4851063\ttotal: 8.52s\tremaining: 9.34s\n",
            "477:\tlearn: 0.4850091\ttotal: 8.54s\tremaining: 9.32s\n",
            "478:\tlearn: 0.4849406\ttotal: 8.55s\tremaining: 9.3s\n",
            "479:\tlearn: 0.4848721\ttotal: 8.57s\tremaining: 9.28s\n",
            "480:\tlearn: 0.4848125\ttotal: 8.59s\tremaining: 9.27s\n",
            "481:\tlearn: 0.4847348\ttotal: 8.6s\tremaining: 9.25s\n",
            "482:\tlearn: 0.4846729\ttotal: 8.62s\tremaining: 9.23s\n",
            "483:\tlearn: 0.4845890\ttotal: 8.64s\tremaining: 9.21s\n",
            "484:\tlearn: 0.4845195\ttotal: 8.65s\tremaining: 9.19s\n",
            "485:\tlearn: 0.4844339\ttotal: 8.67s\tremaining: 9.17s\n",
            "486:\tlearn: 0.4843514\ttotal: 8.69s\tremaining: 9.16s\n",
            "487:\tlearn: 0.4842497\ttotal: 8.71s\tremaining: 9.14s\n",
            "488:\tlearn: 0.4841797\ttotal: 8.73s\tremaining: 9.12s\n",
            "489:\tlearn: 0.4840829\ttotal: 8.75s\tremaining: 9.1s\n",
            "490:\tlearn: 0.4840225\ttotal: 8.76s\tremaining: 9.08s\n",
            "491:\tlearn: 0.4839293\ttotal: 8.78s\tremaining: 9.07s\n",
            "492:\tlearn: 0.4838835\ttotal: 8.8s\tremaining: 9.05s\n",
            "493:\tlearn: 0.4837985\ttotal: 8.82s\tremaining: 9.03s\n",
            "494:\tlearn: 0.4837073\ttotal: 8.83s\tremaining: 9.01s\n",
            "495:\tlearn: 0.4836380\ttotal: 8.85s\tremaining: 8.99s\n",
            "496:\tlearn: 0.4835674\ttotal: 8.87s\tremaining: 8.98s\n",
            "497:\tlearn: 0.4835253\ttotal: 8.89s\tremaining: 8.96s\n",
            "498:\tlearn: 0.4834559\ttotal: 8.91s\tremaining: 8.95s\n",
            "499:\tlearn: 0.4833867\ttotal: 8.93s\tremaining: 8.93s\n",
            "500:\tlearn: 0.4833237\ttotal: 8.95s\tremaining: 8.91s\n",
            "501:\tlearn: 0.4832813\ttotal: 8.96s\tremaining: 8.89s\n",
            "502:\tlearn: 0.4831901\ttotal: 8.98s\tremaining: 8.88s\n",
            "503:\tlearn: 0.4831200\ttotal: 9s\tremaining: 8.86s\n",
            "504:\tlearn: 0.4830755\ttotal: 9.02s\tremaining: 8.84s\n",
            "505:\tlearn: 0.4829977\ttotal: 9.03s\tremaining: 8.82s\n",
            "506:\tlearn: 0.4829302\ttotal: 9.05s\tremaining: 8.8s\n",
            "507:\tlearn: 0.4828664\ttotal: 9.07s\tremaining: 8.78s\n",
            "508:\tlearn: 0.4827900\ttotal: 9.09s\tremaining: 8.76s\n",
            "509:\tlearn: 0.4827191\ttotal: 9.1s\tremaining: 8.75s\n",
            "510:\tlearn: 0.4826485\ttotal: 9.13s\tremaining: 8.74s\n",
            "511:\tlearn: 0.4825617\ttotal: 9.15s\tremaining: 8.72s\n",
            "512:\tlearn: 0.4824997\ttotal: 9.16s\tremaining: 8.7s\n",
            "513:\tlearn: 0.4824236\ttotal: 9.18s\tremaining: 8.68s\n",
            "514:\tlearn: 0.4823393\ttotal: 9.2s\tremaining: 8.66s\n",
            "515:\tlearn: 0.4822560\ttotal: 9.22s\tremaining: 8.64s\n",
            "516:\tlearn: 0.4821532\ttotal: 9.23s\tremaining: 8.63s\n",
            "517:\tlearn: 0.4821007\ttotal: 9.25s\tremaining: 8.61s\n",
            "518:\tlearn: 0.4820378\ttotal: 9.27s\tremaining: 8.59s\n",
            "519:\tlearn: 0.4819763\ttotal: 9.29s\tremaining: 8.57s\n",
            "520:\tlearn: 0.4818977\ttotal: 9.3s\tremaining: 8.55s\n",
            "521:\tlearn: 0.4818070\ttotal: 9.32s\tremaining: 8.54s\n",
            "522:\tlearn: 0.4817660\ttotal: 9.34s\tremaining: 8.52s\n",
            "523:\tlearn: 0.4816946\ttotal: 9.36s\tremaining: 8.5s\n",
            "524:\tlearn: 0.4816353\ttotal: 9.38s\tremaining: 8.48s\n",
            "525:\tlearn: 0.4815823\ttotal: 9.39s\tremaining: 8.47s\n",
            "526:\tlearn: 0.4814750\ttotal: 9.41s\tremaining: 8.45s\n",
            "527:\tlearn: 0.4814211\ttotal: 9.43s\tremaining: 8.43s\n",
            "528:\tlearn: 0.4813755\ttotal: 9.45s\tremaining: 8.41s\n",
            "529:\tlearn: 0.4813135\ttotal: 9.46s\tremaining: 8.39s\n",
            "530:\tlearn: 0.4812524\ttotal: 9.48s\tremaining: 8.38s\n",
            "531:\tlearn: 0.4811898\ttotal: 9.5s\tremaining: 8.36s\n",
            "532:\tlearn: 0.4810907\ttotal: 9.52s\tremaining: 8.34s\n",
            "533:\tlearn: 0.4810351\ttotal: 9.53s\tremaining: 8.32s\n",
            "534:\tlearn: 0.4809510\ttotal: 9.56s\tremaining: 8.31s\n",
            "535:\tlearn: 0.4808911\ttotal: 9.58s\tremaining: 8.29s\n",
            "536:\tlearn: 0.4808112\ttotal: 9.59s\tremaining: 8.27s\n",
            "537:\tlearn: 0.4807290\ttotal: 9.61s\tremaining: 8.25s\n",
            "538:\tlearn: 0.4806653\ttotal: 9.63s\tremaining: 8.23s\n",
            "539:\tlearn: 0.4806128\ttotal: 9.65s\tremaining: 8.22s\n",
            "540:\tlearn: 0.4805576\ttotal: 9.66s\tremaining: 8.2s\n",
            "541:\tlearn: 0.4804815\ttotal: 9.68s\tremaining: 8.18s\n",
            "542:\tlearn: 0.4804173\ttotal: 9.7s\tremaining: 8.16s\n",
            "543:\tlearn: 0.4803441\ttotal: 9.72s\tremaining: 8.15s\n",
            "544:\tlearn: 0.4802751\ttotal: 9.74s\tremaining: 8.13s\n",
            "545:\tlearn: 0.4802035\ttotal: 9.75s\tremaining: 8.11s\n",
            "546:\tlearn: 0.4801090\ttotal: 9.78s\tremaining: 8.1s\n",
            "547:\tlearn: 0.4800486\ttotal: 9.79s\tremaining: 8.08s\n",
            "548:\tlearn: 0.4799793\ttotal: 9.81s\tremaining: 8.06s\n",
            "549:\tlearn: 0.4799092\ttotal: 9.83s\tremaining: 8.04s\n",
            "550:\tlearn: 0.4798521\ttotal: 9.85s\tremaining: 8.02s\n",
            "551:\tlearn: 0.4797674\ttotal: 9.86s\tremaining: 8.01s\n",
            "552:\tlearn: 0.4796967\ttotal: 9.88s\tremaining: 7.99s\n",
            "553:\tlearn: 0.4796505\ttotal: 9.91s\tremaining: 7.98s\n",
            "554:\tlearn: 0.4795270\ttotal: 9.93s\tremaining: 7.96s\n",
            "555:\tlearn: 0.4794898\ttotal: 9.94s\tremaining: 7.94s\n",
            "556:\tlearn: 0.4794050\ttotal: 9.96s\tremaining: 7.92s\n",
            "557:\tlearn: 0.4793093\ttotal: 9.98s\tremaining: 7.91s\n",
            "558:\tlearn: 0.4792574\ttotal: 10s\tremaining: 7.89s\n",
            "559:\tlearn: 0.4791969\ttotal: 10s\tremaining: 7.87s\n",
            "560:\tlearn: 0.4791328\ttotal: 10s\tremaining: 7.85s\n",
            "561:\tlearn: 0.4790727\ttotal: 10.1s\tremaining: 7.84s\n",
            "562:\tlearn: 0.4790077\ttotal: 10.1s\tremaining: 7.82s\n",
            "563:\tlearn: 0.4789387\ttotal: 10.1s\tremaining: 7.8s\n",
            "564:\tlearn: 0.4788612\ttotal: 10.1s\tremaining: 7.78s\n",
            "565:\tlearn: 0.4787543\ttotal: 10.1s\tremaining: 7.76s\n",
            "566:\tlearn: 0.4787003\ttotal: 10.1s\tremaining: 7.74s\n",
            "567:\tlearn: 0.4786278\ttotal: 10.2s\tremaining: 7.73s\n",
            "568:\tlearn: 0.4785726\ttotal: 10.2s\tremaining: 7.71s\n",
            "569:\tlearn: 0.4785190\ttotal: 10.2s\tremaining: 7.69s\n",
            "570:\tlearn: 0.4784760\ttotal: 10.2s\tremaining: 7.68s\n",
            "571:\tlearn: 0.4784099\ttotal: 10.2s\tremaining: 7.66s\n",
            "572:\tlearn: 0.4783431\ttotal: 10.3s\tremaining: 7.64s\n",
            "573:\tlearn: 0.4782620\ttotal: 10.3s\tremaining: 7.62s\n",
            "574:\tlearn: 0.4781970\ttotal: 10.3s\tremaining: 7.6s\n",
            "575:\tlearn: 0.4781204\ttotal: 10.3s\tremaining: 7.58s\n",
            "576:\tlearn: 0.4780529\ttotal: 10.3s\tremaining: 7.57s\n",
            "577:\tlearn: 0.4779888\ttotal: 10.3s\tremaining: 7.55s\n",
            "578:\tlearn: 0.4779019\ttotal: 10.4s\tremaining: 7.53s\n",
            "579:\tlearn: 0.4778209\ttotal: 10.4s\tremaining: 7.51s\n",
            "580:\tlearn: 0.4777510\ttotal: 10.4s\tremaining: 7.49s\n",
            "581:\tlearn: 0.4776767\ttotal: 10.4s\tremaining: 7.48s\n",
            "582:\tlearn: 0.4776049\ttotal: 10.4s\tremaining: 7.46s\n",
            "583:\tlearn: 0.4775150\ttotal: 10.4s\tremaining: 7.44s\n",
            "584:\tlearn: 0.4774531\ttotal: 10.5s\tremaining: 7.42s\n",
            "585:\tlearn: 0.4773874\ttotal: 10.5s\tremaining: 7.41s\n",
            "586:\tlearn: 0.4773119\ttotal: 10.5s\tremaining: 7.39s\n",
            "587:\tlearn: 0.4772739\ttotal: 10.5s\tremaining: 7.37s\n",
            "588:\tlearn: 0.4771945\ttotal: 10.5s\tremaining: 7.35s\n",
            "589:\tlearn: 0.4771351\ttotal: 10.6s\tremaining: 7.33s\n",
            "590:\tlearn: 0.4770776\ttotal: 10.6s\tremaining: 7.31s\n",
            "591:\tlearn: 0.4770100\ttotal: 10.6s\tremaining: 7.29s\n",
            "592:\tlearn: 0.4769453\ttotal: 10.6s\tremaining: 7.28s\n",
            "593:\tlearn: 0.4769006\ttotal: 10.6s\tremaining: 7.26s\n",
            "594:\tlearn: 0.4768350\ttotal: 10.6s\tremaining: 7.24s\n",
            "595:\tlearn: 0.4767608\ttotal: 10.7s\tremaining: 7.23s\n",
            "596:\tlearn: 0.4766913\ttotal: 10.7s\tremaining: 7.21s\n",
            "597:\tlearn: 0.4766173\ttotal: 10.7s\tremaining: 7.19s\n",
            "598:\tlearn: 0.4765574\ttotal: 10.7s\tremaining: 7.17s\n",
            "599:\tlearn: 0.4764681\ttotal: 10.7s\tremaining: 7.15s\n",
            "600:\tlearn: 0.4764056\ttotal: 10.7s\tremaining: 7.14s\n",
            "601:\tlearn: 0.4763540\ttotal: 10.8s\tremaining: 7.12s\n",
            "602:\tlearn: 0.4763140\ttotal: 10.8s\tremaining: 7.1s\n",
            "603:\tlearn: 0.4762551\ttotal: 10.8s\tremaining: 7.08s\n",
            "604:\tlearn: 0.4761799\ttotal: 10.8s\tremaining: 7.06s\n",
            "605:\tlearn: 0.4761222\ttotal: 10.8s\tremaining: 7.05s\n",
            "606:\tlearn: 0.4760532\ttotal: 10.9s\tremaining: 7.03s\n",
            "607:\tlearn: 0.4759573\ttotal: 10.9s\tremaining: 7.01s\n",
            "608:\tlearn: 0.4759086\ttotal: 10.9s\tremaining: 7s\n",
            "609:\tlearn: 0.4758236\ttotal: 10.9s\tremaining: 6.98s\n",
            "610:\tlearn: 0.4757192\ttotal: 10.9s\tremaining: 6.97s\n",
            "611:\tlearn: 0.4756872\ttotal: 11s\tremaining: 6.95s\n",
            "612:\tlearn: 0.4756139\ttotal: 11s\tremaining: 6.93s\n",
            "613:\tlearn: 0.4755467\ttotal: 11s\tremaining: 6.91s\n",
            "614:\tlearn: 0.4754768\ttotal: 11s\tremaining: 6.89s\n",
            "615:\tlearn: 0.4753957\ttotal: 11s\tremaining: 6.88s\n",
            "616:\tlearn: 0.4753293\ttotal: 11.1s\tremaining: 6.86s\n",
            "617:\tlearn: 0.4752735\ttotal: 11.1s\tremaining: 6.84s\n",
            "618:\tlearn: 0.4751988\ttotal: 11.1s\tremaining: 6.82s\n",
            "619:\tlearn: 0.4751350\ttotal: 11.1s\tremaining: 6.81s\n",
            "620:\tlearn: 0.4750689\ttotal: 11.1s\tremaining: 6.79s\n",
            "621:\tlearn: 0.4749605\ttotal: 11.1s\tremaining: 6.77s\n",
            "622:\tlearn: 0.4748849\ttotal: 11.2s\tremaining: 6.75s\n",
            "623:\tlearn: 0.4748130\ttotal: 11.2s\tremaining: 6.73s\n",
            "624:\tlearn: 0.4747481\ttotal: 11.2s\tremaining: 6.71s\n",
            "625:\tlearn: 0.4746581\ttotal: 11.2s\tremaining: 6.7s\n",
            "626:\tlearn: 0.4745863\ttotal: 11.2s\tremaining: 6.68s\n",
            "627:\tlearn: 0.4745203\ttotal: 11.2s\tremaining: 6.66s\n",
            "628:\tlearn: 0.4744688\ttotal: 11.3s\tremaining: 6.64s\n",
            "629:\tlearn: 0.4743784\ttotal: 11.3s\tremaining: 6.62s\n",
            "630:\tlearn: 0.4743321\ttotal: 11.3s\tremaining: 6.61s\n",
            "631:\tlearn: 0.4742516\ttotal: 11.3s\tremaining: 6.59s\n",
            "632:\tlearn: 0.4741724\ttotal: 11.3s\tremaining: 6.57s\n",
            "633:\tlearn: 0.4741056\ttotal: 11.4s\tremaining: 6.55s\n",
            "634:\tlearn: 0.4740450\ttotal: 11.4s\tremaining: 6.54s\n",
            "635:\tlearn: 0.4739880\ttotal: 11.4s\tremaining: 6.52s\n",
            "636:\tlearn: 0.4739423\ttotal: 11.4s\tremaining: 6.5s\n",
            "637:\tlearn: 0.4738871\ttotal: 11.4s\tremaining: 6.48s\n",
            "638:\tlearn: 0.4738140\ttotal: 11.4s\tremaining: 6.46s\n",
            "639:\tlearn: 0.4737528\ttotal: 11.5s\tremaining: 6.44s\n",
            "640:\tlearn: 0.4737105\ttotal: 11.5s\tremaining: 6.43s\n",
            "641:\tlearn: 0.4736545\ttotal: 11.5s\tremaining: 6.41s\n",
            "642:\tlearn: 0.4735824\ttotal: 11.5s\tremaining: 6.39s\n",
            "643:\tlearn: 0.4735479\ttotal: 11.5s\tremaining: 6.38s\n",
            "644:\tlearn: 0.4734904\ttotal: 11.6s\tremaining: 6.36s\n",
            "645:\tlearn: 0.4734153\ttotal: 11.6s\tremaining: 6.34s\n",
            "646:\tlearn: 0.4733334\ttotal: 11.6s\tremaining: 6.32s\n",
            "647:\tlearn: 0.4732700\ttotal: 11.6s\tremaining: 6.3s\n",
            "648:\tlearn: 0.4731921\ttotal: 11.6s\tremaining: 6.28s\n",
            "649:\tlearn: 0.4731051\ttotal: 11.6s\tremaining: 6.27s\n",
            "650:\tlearn: 0.4730419\ttotal: 11.7s\tremaining: 6.25s\n",
            "651:\tlearn: 0.4729806\ttotal: 11.7s\tremaining: 6.23s\n",
            "652:\tlearn: 0.4729234\ttotal: 11.7s\tremaining: 6.21s\n",
            "653:\tlearn: 0.4728307\ttotal: 11.7s\tremaining: 6.2s\n",
            "654:\tlearn: 0.4727734\ttotal: 11.7s\tremaining: 6.18s\n",
            "655:\tlearn: 0.4727041\ttotal: 11.7s\tremaining: 6.16s\n",
            "656:\tlearn: 0.4726325\ttotal: 11.8s\tremaining: 6.14s\n",
            "657:\tlearn: 0.4725404\ttotal: 11.8s\tremaining: 6.12s\n",
            "658:\tlearn: 0.4724858\ttotal: 11.8s\tremaining: 6.1s\n",
            "659:\tlearn: 0.4724413\ttotal: 11.8s\tremaining: 6.09s\n",
            "660:\tlearn: 0.4723873\ttotal: 11.8s\tremaining: 6.07s\n",
            "661:\tlearn: 0.4722942\ttotal: 11.8s\tremaining: 6.05s\n",
            "662:\tlearn: 0.4722097\ttotal: 11.9s\tremaining: 6.03s\n",
            "663:\tlearn: 0.4721518\ttotal: 11.9s\tremaining: 6.01s\n",
            "664:\tlearn: 0.4720960\ttotal: 11.9s\tremaining: 6s\n",
            "665:\tlearn: 0.4720243\ttotal: 11.9s\tremaining: 5.98s\n",
            "666:\tlearn: 0.4719548\ttotal: 11.9s\tremaining: 5.96s\n",
            "667:\tlearn: 0.4718980\ttotal: 12s\tremaining: 5.95s\n",
            "668:\tlearn: 0.4718291\ttotal: 12s\tremaining: 5.93s\n",
            "669:\tlearn: 0.4718060\ttotal: 12s\tremaining: 5.91s\n",
            "670:\tlearn: 0.4717284\ttotal: 12s\tremaining: 5.89s\n",
            "671:\tlearn: 0.4716671\ttotal: 12s\tremaining: 5.87s\n",
            "672:\tlearn: 0.4715888\ttotal: 12.1s\tremaining: 5.86s\n",
            "673:\tlearn: 0.4715233\ttotal: 12.1s\tremaining: 5.84s\n",
            "674:\tlearn: 0.4714315\ttotal: 12.1s\tremaining: 5.82s\n",
            "675:\tlearn: 0.4713323\ttotal: 12.1s\tremaining: 5.8s\n",
            "676:\tlearn: 0.4712693\ttotal: 12.1s\tremaining: 5.79s\n",
            "677:\tlearn: 0.4711938\ttotal: 12.1s\tremaining: 5.77s\n",
            "678:\tlearn: 0.4711513\ttotal: 12.2s\tremaining: 5.75s\n",
            "679:\tlearn: 0.4710970\ttotal: 12.2s\tremaining: 5.73s\n",
            "680:\tlearn: 0.4710370\ttotal: 12.2s\tremaining: 5.71s\n",
            "681:\tlearn: 0.4709585\ttotal: 12.2s\tremaining: 5.7s\n",
            "682:\tlearn: 0.4709132\ttotal: 12.2s\tremaining: 5.68s\n",
            "683:\tlearn: 0.4708564\ttotal: 12.3s\tremaining: 5.66s\n",
            "684:\tlearn: 0.4708133\ttotal: 12.3s\tremaining: 5.64s\n",
            "685:\tlearn: 0.4707428\ttotal: 12.3s\tremaining: 5.62s\n",
            "686:\tlearn: 0.4706957\ttotal: 12.3s\tremaining: 5.61s\n",
            "687:\tlearn: 0.4706412\ttotal: 12.3s\tremaining: 5.59s\n",
            "688:\tlearn: 0.4705898\ttotal: 12.3s\tremaining: 5.57s\n",
            "689:\tlearn: 0.4705421\ttotal: 12.4s\tremaining: 5.55s\n",
            "690:\tlearn: 0.4704903\ttotal: 12.4s\tremaining: 5.54s\n",
            "691:\tlearn: 0.4704432\ttotal: 12.4s\tremaining: 5.52s\n",
            "692:\tlearn: 0.4704130\ttotal: 12.4s\tremaining: 5.5s\n",
            "693:\tlearn: 0.4703265\ttotal: 12.4s\tremaining: 5.48s\n",
            "694:\tlearn: 0.4702355\ttotal: 12.4s\tremaining: 5.46s\n",
            "695:\tlearn: 0.4701759\ttotal: 12.5s\tremaining: 5.45s\n",
            "696:\tlearn: 0.4701196\ttotal: 12.5s\tremaining: 5.43s\n",
            "697:\tlearn: 0.4700518\ttotal: 12.5s\tremaining: 5.41s\n",
            "698:\tlearn: 0.4699932\ttotal: 12.5s\tremaining: 5.39s\n",
            "699:\tlearn: 0.4699307\ttotal: 12.5s\tremaining: 5.37s\n",
            "700:\tlearn: 0.4698703\ttotal: 12.6s\tremaining: 5.36s\n",
            "701:\tlearn: 0.4698130\ttotal: 12.6s\tremaining: 5.34s\n",
            "702:\tlearn: 0.4697620\ttotal: 12.6s\tremaining: 5.32s\n",
            "703:\tlearn: 0.4696992\ttotal: 12.6s\tremaining: 5.3s\n",
            "704:\tlearn: 0.4696390\ttotal: 12.6s\tremaining: 5.29s\n",
            "705:\tlearn: 0.4695673\ttotal: 12.6s\tremaining: 5.27s\n",
            "706:\tlearn: 0.4694815\ttotal: 12.7s\tremaining: 5.25s\n",
            "707:\tlearn: 0.4693924\ttotal: 12.7s\tremaining: 5.23s\n",
            "708:\tlearn: 0.4693375\ttotal: 12.7s\tremaining: 5.21s\n",
            "709:\tlearn: 0.4692668\ttotal: 12.7s\tremaining: 5.2s\n",
            "710:\tlearn: 0.4692316\ttotal: 12.7s\tremaining: 5.18s\n",
            "711:\tlearn: 0.4691801\ttotal: 12.8s\tremaining: 5.16s\n",
            "712:\tlearn: 0.4691371\ttotal: 12.8s\tremaining: 5.14s\n",
            "713:\tlearn: 0.4690629\ttotal: 12.8s\tremaining: 5.13s\n",
            "714:\tlearn: 0.4689878\ttotal: 12.8s\tremaining: 5.11s\n",
            "715:\tlearn: 0.4689051\ttotal: 12.8s\tremaining: 5.09s\n",
            "716:\tlearn: 0.4688519\ttotal: 12.8s\tremaining: 5.07s\n",
            "717:\tlearn: 0.4687826\ttotal: 12.9s\tremaining: 5.05s\n",
            "718:\tlearn: 0.4687184\ttotal: 12.9s\tremaining: 5.04s\n",
            "719:\tlearn: 0.4686715\ttotal: 12.9s\tremaining: 5.02s\n",
            "720:\tlearn: 0.4686064\ttotal: 12.9s\tremaining: 5s\n",
            "721:\tlearn: 0.4685420\ttotal: 12.9s\tremaining: 4.98s\n",
            "722:\tlearn: 0.4685040\ttotal: 13s\tremaining: 4.96s\n",
            "723:\tlearn: 0.4684000\ttotal: 13s\tremaining: 4.95s\n",
            "724:\tlearn: 0.4683140\ttotal: 13s\tremaining: 4.93s\n",
            "725:\tlearn: 0.4682652\ttotal: 13s\tremaining: 4.91s\n",
            "726:\tlearn: 0.4682173\ttotal: 13s\tremaining: 4.89s\n",
            "727:\tlearn: 0.4681538\ttotal: 13.1s\tremaining: 4.88s\n",
            "728:\tlearn: 0.4681005\ttotal: 13.1s\tremaining: 4.86s\n",
            "729:\tlearn: 0.4680128\ttotal: 13.1s\tremaining: 4.84s\n",
            "730:\tlearn: 0.4679603\ttotal: 13.1s\tremaining: 4.83s\n",
            "731:\tlearn: 0.4679131\ttotal: 13.1s\tremaining: 4.81s\n",
            "732:\tlearn: 0.4678215\ttotal: 13.1s\tremaining: 4.79s\n",
            "733:\tlearn: 0.4677666\ttotal: 13.2s\tremaining: 4.77s\n",
            "734:\tlearn: 0.4677189\ttotal: 13.2s\tremaining: 4.75s\n",
            "735:\tlearn: 0.4676577\ttotal: 13.2s\tremaining: 4.74s\n",
            "736:\tlearn: 0.4675918\ttotal: 13.2s\tremaining: 4.72s\n",
            "737:\tlearn: 0.4675200\ttotal: 13.2s\tremaining: 4.7s\n",
            "738:\tlearn: 0.4674344\ttotal: 13.3s\tremaining: 4.68s\n",
            "739:\tlearn: 0.4673840\ttotal: 13.3s\tremaining: 4.67s\n",
            "740:\tlearn: 0.4673123\ttotal: 13.3s\tremaining: 4.65s\n",
            "741:\tlearn: 0.4672515\ttotal: 13.3s\tremaining: 4.63s\n",
            "742:\tlearn: 0.4671793\ttotal: 13.3s\tremaining: 4.61s\n",
            "743:\tlearn: 0.4671305\ttotal: 13.3s\tremaining: 4.59s\n",
            "744:\tlearn: 0.4670859\ttotal: 13.4s\tremaining: 4.58s\n",
            "745:\tlearn: 0.4670328\ttotal: 13.4s\tremaining: 4.56s\n",
            "746:\tlearn: 0.4669472\ttotal: 13.4s\tremaining: 4.54s\n",
            "747:\tlearn: 0.4668906\ttotal: 13.4s\tremaining: 4.52s\n",
            "748:\tlearn: 0.4668480\ttotal: 13.4s\tremaining: 4.5s\n",
            "749:\tlearn: 0.4667913\ttotal: 13.5s\tremaining: 4.49s\n",
            "750:\tlearn: 0.4667516\ttotal: 13.5s\tremaining: 4.47s\n",
            "751:\tlearn: 0.4666967\ttotal: 13.5s\tremaining: 4.45s\n",
            "752:\tlearn: 0.4666420\ttotal: 13.5s\tremaining: 4.43s\n",
            "753:\tlearn: 0.4665707\ttotal: 13.5s\tremaining: 4.41s\n",
            "754:\tlearn: 0.4664908\ttotal: 13.5s\tremaining: 4.39s\n",
            "755:\tlearn: 0.4664524\ttotal: 13.6s\tremaining: 4.38s\n",
            "756:\tlearn: 0.4663810\ttotal: 13.6s\tremaining: 4.36s\n",
            "757:\tlearn: 0.4663210\ttotal: 13.6s\tremaining: 4.34s\n",
            "758:\tlearn: 0.4662525\ttotal: 13.6s\tremaining: 4.32s\n",
            "759:\tlearn: 0.4662069\ttotal: 13.6s\tremaining: 4.3s\n",
            "760:\tlearn: 0.4661633\ttotal: 13.6s\tremaining: 4.29s\n",
            "761:\tlearn: 0.4661228\ttotal: 13.7s\tremaining: 4.27s\n",
            "762:\tlearn: 0.4660677\ttotal: 13.7s\tremaining: 4.25s\n",
            "763:\tlearn: 0.4659973\ttotal: 13.7s\tremaining: 4.23s\n",
            "764:\tlearn: 0.4659207\ttotal: 13.7s\tremaining: 4.21s\n",
            "765:\tlearn: 0.4658486\ttotal: 13.7s\tremaining: 4.2s\n",
            "766:\tlearn: 0.4657918\ttotal: 13.8s\tremaining: 4.18s\n",
            "767:\tlearn: 0.4657294\ttotal: 13.8s\tremaining: 4.16s\n",
            "768:\tlearn: 0.4656712\ttotal: 13.8s\tremaining: 4.14s\n",
            "769:\tlearn: 0.4656085\ttotal: 13.8s\tremaining: 4.13s\n",
            "770:\tlearn: 0.4655378\ttotal: 13.8s\tremaining: 4.11s\n",
            "771:\tlearn: 0.4654603\ttotal: 13.9s\tremaining: 4.09s\n",
            "772:\tlearn: 0.4653990\ttotal: 13.9s\tremaining: 4.07s\n",
            "773:\tlearn: 0.4653433\ttotal: 13.9s\tremaining: 4.05s\n",
            "774:\tlearn: 0.4653045\ttotal: 13.9s\tremaining: 4.04s\n",
            "775:\tlearn: 0.4652659\ttotal: 13.9s\tremaining: 4.02s\n",
            "776:\tlearn: 0.4651555\ttotal: 13.9s\tremaining: 4s\n",
            "777:\tlearn: 0.4650698\ttotal: 14s\tremaining: 3.98s\n",
            "778:\tlearn: 0.4650174\ttotal: 14s\tremaining: 3.97s\n",
            "779:\tlearn: 0.4649583\ttotal: 14s\tremaining: 3.95s\n",
            "780:\tlearn: 0.4649025\ttotal: 14s\tremaining: 3.93s\n",
            "781:\tlearn: 0.4648618\ttotal: 14s\tremaining: 3.91s\n",
            "782:\tlearn: 0.4648079\ttotal: 14.1s\tremaining: 3.9s\n",
            "783:\tlearn: 0.4647303\ttotal: 14.1s\tremaining: 3.88s\n",
            "784:\tlearn: 0.4646367\ttotal: 14.1s\tremaining: 3.86s\n",
            "785:\tlearn: 0.4645998\ttotal: 14.1s\tremaining: 3.84s\n",
            "786:\tlearn: 0.4645535\ttotal: 14.1s\tremaining: 3.82s\n",
            "787:\tlearn: 0.4644829\ttotal: 14.1s\tremaining: 3.81s\n",
            "788:\tlearn: 0.4644457\ttotal: 14.2s\tremaining: 3.79s\n",
            "789:\tlearn: 0.4643803\ttotal: 14.2s\tremaining: 3.77s\n",
            "790:\tlearn: 0.4643273\ttotal: 14.2s\tremaining: 3.75s\n",
            "791:\tlearn: 0.4642707\ttotal: 14.2s\tremaining: 3.73s\n",
            "792:\tlearn: 0.4642059\ttotal: 14.2s\tremaining: 3.71s\n",
            "793:\tlearn: 0.4641552\ttotal: 14.3s\tremaining: 3.7s\n",
            "794:\tlearn: 0.4640679\ttotal: 14.3s\tremaining: 3.68s\n",
            "795:\tlearn: 0.4640137\ttotal: 14.3s\tremaining: 3.66s\n",
            "796:\tlearn: 0.4639316\ttotal: 14.3s\tremaining: 3.64s\n",
            "797:\tlearn: 0.4638783\ttotal: 14.3s\tremaining: 3.63s\n",
            "798:\tlearn: 0.4638069\ttotal: 14.3s\tremaining: 3.61s\n",
            "799:\tlearn: 0.4637514\ttotal: 14.4s\tremaining: 3.59s\n",
            "800:\tlearn: 0.4637027\ttotal: 14.4s\tremaining: 3.57s\n",
            "801:\tlearn: 0.4636373\ttotal: 14.4s\tremaining: 3.55s\n",
            "802:\tlearn: 0.4635835\ttotal: 14.4s\tremaining: 3.54s\n",
            "803:\tlearn: 0.4635272\ttotal: 14.4s\tremaining: 3.52s\n",
            "804:\tlearn: 0.4634609\ttotal: 14.4s\tremaining: 3.5s\n",
            "805:\tlearn: 0.4633968\ttotal: 14.5s\tremaining: 3.48s\n",
            "806:\tlearn: 0.4633287\ttotal: 14.5s\tremaining: 3.46s\n",
            "807:\tlearn: 0.4632814\ttotal: 14.5s\tremaining: 3.45s\n",
            "808:\tlearn: 0.4632252\ttotal: 14.5s\tremaining: 3.43s\n",
            "809:\tlearn: 0.4631993\ttotal: 14.5s\tremaining: 3.41s\n",
            "810:\tlearn: 0.4631380\ttotal: 14.6s\tremaining: 3.39s\n",
            "811:\tlearn: 0.4630928\ttotal: 14.6s\tremaining: 3.37s\n",
            "812:\tlearn: 0.4630426\ttotal: 14.6s\tremaining: 3.36s\n",
            "813:\tlearn: 0.4629839\ttotal: 14.6s\tremaining: 3.34s\n",
            "814:\tlearn: 0.4628976\ttotal: 14.6s\tremaining: 3.32s\n",
            "815:\tlearn: 0.4628327\ttotal: 14.6s\tremaining: 3.3s\n",
            "816:\tlearn: 0.4627628\ttotal: 14.7s\tremaining: 3.28s\n",
            "817:\tlearn: 0.4626970\ttotal: 14.7s\tremaining: 3.27s\n",
            "818:\tlearn: 0.4626562\ttotal: 14.7s\tremaining: 3.25s\n",
            "819:\tlearn: 0.4625994\ttotal: 14.7s\tremaining: 3.23s\n",
            "820:\tlearn: 0.4625463\ttotal: 14.7s\tremaining: 3.21s\n",
            "821:\tlearn: 0.4624763\ttotal: 14.8s\tremaining: 3.2s\n",
            "822:\tlearn: 0.4624070\ttotal: 14.8s\tremaining: 3.18s\n",
            "823:\tlearn: 0.4623323\ttotal: 14.8s\tremaining: 3.16s\n",
            "824:\tlearn: 0.4622540\ttotal: 14.8s\tremaining: 3.14s\n",
            "825:\tlearn: 0.4621747\ttotal: 14.8s\tremaining: 3.12s\n",
            "826:\tlearn: 0.4621151\ttotal: 14.8s\tremaining: 3.11s\n",
            "827:\tlearn: 0.4620609\ttotal: 14.9s\tremaining: 3.09s\n",
            "828:\tlearn: 0.4619952\ttotal: 14.9s\tremaining: 3.07s\n",
            "829:\tlearn: 0.4619291\ttotal: 14.9s\tremaining: 3.06s\n",
            "830:\tlearn: 0.4618548\ttotal: 14.9s\tremaining: 3.04s\n",
            "831:\tlearn: 0.4617760\ttotal: 15s\tremaining: 3.02s\n",
            "832:\tlearn: 0.4617323\ttotal: 15s\tremaining: 3s\n",
            "833:\tlearn: 0.4616994\ttotal: 15s\tremaining: 2.99s\n",
            "834:\tlearn: 0.4616271\ttotal: 15s\tremaining: 2.97s\n",
            "835:\tlearn: 0.4615360\ttotal: 15s\tremaining: 2.95s\n",
            "836:\tlearn: 0.4614781\ttotal: 15.1s\tremaining: 2.93s\n",
            "837:\tlearn: 0.4614218\ttotal: 15.1s\tremaining: 2.91s\n",
            "838:\tlearn: 0.4613406\ttotal: 15.1s\tremaining: 2.9s\n",
            "839:\tlearn: 0.4612778\ttotal: 15.1s\tremaining: 2.88s\n",
            "840:\tlearn: 0.4612321\ttotal: 15.1s\tremaining: 2.86s\n",
            "841:\tlearn: 0.4611631\ttotal: 15.2s\tremaining: 2.84s\n",
            "842:\tlearn: 0.4610749\ttotal: 15.2s\tremaining: 2.83s\n",
            "843:\tlearn: 0.4610185\ttotal: 15.2s\tremaining: 2.81s\n",
            "844:\tlearn: 0.4609517\ttotal: 15.2s\tremaining: 2.79s\n",
            "845:\tlearn: 0.4609068\ttotal: 15.2s\tremaining: 2.77s\n",
            "846:\tlearn: 0.4608752\ttotal: 15.2s\tremaining: 2.75s\n",
            "847:\tlearn: 0.4608077\ttotal: 15.3s\tremaining: 2.73s\n",
            "848:\tlearn: 0.4607511\ttotal: 15.3s\tremaining: 2.72s\n",
            "849:\tlearn: 0.4607051\ttotal: 15.3s\tremaining: 2.7s\n",
            "850:\tlearn: 0.4606375\ttotal: 15.3s\tremaining: 2.68s\n",
            "851:\tlearn: 0.4605554\ttotal: 15.3s\tremaining: 2.66s\n",
            "852:\tlearn: 0.4605076\ttotal: 15.3s\tremaining: 2.64s\n",
            "853:\tlearn: 0.4604515\ttotal: 15.4s\tremaining: 2.63s\n",
            "854:\tlearn: 0.4603931\ttotal: 15.4s\tremaining: 2.61s\n",
            "855:\tlearn: 0.4603509\ttotal: 15.4s\tremaining: 2.59s\n",
            "856:\tlearn: 0.4603037\ttotal: 15.4s\tremaining: 2.57s\n",
            "857:\tlearn: 0.4602425\ttotal: 15.4s\tremaining: 2.55s\n",
            "858:\tlearn: 0.4601836\ttotal: 15.4s\tremaining: 2.54s\n",
            "859:\tlearn: 0.4600999\ttotal: 15.5s\tremaining: 2.52s\n",
            "860:\tlearn: 0.4600348\ttotal: 15.5s\tremaining: 2.5s\n",
            "861:\tlearn: 0.4599568\ttotal: 15.5s\tremaining: 2.48s\n",
            "862:\tlearn: 0.4599107\ttotal: 15.5s\tremaining: 2.46s\n",
            "863:\tlearn: 0.4598569\ttotal: 15.5s\tremaining: 2.45s\n",
            "864:\tlearn: 0.4598032\ttotal: 15.6s\tremaining: 2.43s\n",
            "865:\tlearn: 0.4597301\ttotal: 15.6s\tremaining: 2.41s\n",
            "866:\tlearn: 0.4596601\ttotal: 15.6s\tremaining: 2.39s\n",
            "867:\tlearn: 0.4596088\ttotal: 15.6s\tremaining: 2.37s\n",
            "868:\tlearn: 0.4595382\ttotal: 15.6s\tremaining: 2.35s\n",
            "869:\tlearn: 0.4594813\ttotal: 15.6s\tremaining: 2.34s\n",
            "870:\tlearn: 0.4594223\ttotal: 15.7s\tremaining: 2.32s\n",
            "871:\tlearn: 0.4593842\ttotal: 15.7s\tremaining: 2.3s\n",
            "872:\tlearn: 0.4593027\ttotal: 15.7s\tremaining: 2.28s\n",
            "873:\tlearn: 0.4592684\ttotal: 15.7s\tremaining: 2.27s\n",
            "874:\tlearn: 0.4592002\ttotal: 15.7s\tremaining: 2.25s\n",
            "875:\tlearn: 0.4591491\ttotal: 15.8s\tremaining: 2.23s\n",
            "876:\tlearn: 0.4591000\ttotal: 15.8s\tremaining: 2.21s\n",
            "877:\tlearn: 0.4590526\ttotal: 15.8s\tremaining: 2.19s\n",
            "878:\tlearn: 0.4589975\ttotal: 15.8s\tremaining: 2.18s\n",
            "879:\tlearn: 0.4589054\ttotal: 15.8s\tremaining: 2.16s\n",
            "880:\tlearn: 0.4588214\ttotal: 15.8s\tremaining: 2.14s\n",
            "881:\tlearn: 0.4587606\ttotal: 15.9s\tremaining: 2.12s\n",
            "882:\tlearn: 0.4587118\ttotal: 15.9s\tremaining: 2.1s\n",
            "883:\tlearn: 0.4586488\ttotal: 15.9s\tremaining: 2.09s\n",
            "884:\tlearn: 0.4585875\ttotal: 15.9s\tremaining: 2.07s\n",
            "885:\tlearn: 0.4585442\ttotal: 15.9s\tremaining: 2.05s\n",
            "886:\tlearn: 0.4584769\ttotal: 16s\tremaining: 2.03s\n",
            "887:\tlearn: 0.4584380\ttotal: 16s\tremaining: 2.02s\n",
            "888:\tlearn: 0.4583429\ttotal: 16s\tremaining: 2s\n",
            "889:\tlearn: 0.4583091\ttotal: 16s\tremaining: 1.98s\n",
            "890:\tlearn: 0.4582387\ttotal: 16s\tremaining: 1.96s\n",
            "891:\tlearn: 0.4581725\ttotal: 16.1s\tremaining: 1.94s\n",
            "892:\tlearn: 0.4581153\ttotal: 16.1s\tremaining: 1.93s\n",
            "893:\tlearn: 0.4580718\ttotal: 16.1s\tremaining: 1.91s\n",
            "894:\tlearn: 0.4580238\ttotal: 16.1s\tremaining: 1.89s\n",
            "895:\tlearn: 0.4579710\ttotal: 16.1s\tremaining: 1.87s\n",
            "896:\tlearn: 0.4579013\ttotal: 16.1s\tremaining: 1.85s\n",
            "897:\tlearn: 0.4578453\ttotal: 16.2s\tremaining: 1.83s\n",
            "898:\tlearn: 0.4577903\ttotal: 16.2s\tremaining: 1.82s\n",
            "899:\tlearn: 0.4577530\ttotal: 16.2s\tremaining: 1.8s\n",
            "900:\tlearn: 0.4577165\ttotal: 16.2s\tremaining: 1.78s\n",
            "901:\tlearn: 0.4576578\ttotal: 16.2s\tremaining: 1.76s\n",
            "902:\tlearn: 0.4576323\ttotal: 16.3s\tremaining: 1.75s\n",
            "903:\tlearn: 0.4575739\ttotal: 16.3s\tremaining: 1.73s\n",
            "904:\tlearn: 0.4575223\ttotal: 16.3s\tremaining: 1.71s\n",
            "905:\tlearn: 0.4574599\ttotal: 16.3s\tremaining: 1.69s\n",
            "906:\tlearn: 0.4574239\ttotal: 16.3s\tremaining: 1.67s\n",
            "907:\tlearn: 0.4573885\ttotal: 16.3s\tremaining: 1.66s\n",
            "908:\tlearn: 0.4573318\ttotal: 16.4s\tremaining: 1.64s\n",
            "909:\tlearn: 0.4572625\ttotal: 16.4s\tremaining: 1.62s\n",
            "910:\tlearn: 0.4572144\ttotal: 16.4s\tremaining: 1.6s\n",
            "911:\tlearn: 0.4571737\ttotal: 16.4s\tremaining: 1.58s\n",
            "912:\tlearn: 0.4571226\ttotal: 16.4s\tremaining: 1.56s\n",
            "913:\tlearn: 0.4570904\ttotal: 16.4s\tremaining: 1.55s\n",
            "914:\tlearn: 0.4570140\ttotal: 16.5s\tremaining: 1.53s\n",
            "915:\tlearn: 0.4569724\ttotal: 16.5s\tremaining: 1.51s\n",
            "916:\tlearn: 0.4569104\ttotal: 16.5s\tremaining: 1.49s\n",
            "917:\tlearn: 0.4568285\ttotal: 16.5s\tremaining: 1.48s\n",
            "918:\tlearn: 0.4567600\ttotal: 16.5s\tremaining: 1.46s\n",
            "919:\tlearn: 0.4566876\ttotal: 16.6s\tremaining: 1.44s\n",
            "920:\tlearn: 0.4566474\ttotal: 16.6s\tremaining: 1.42s\n",
            "921:\tlearn: 0.4566193\ttotal: 16.6s\tremaining: 1.4s\n",
            "922:\tlearn: 0.4565599\ttotal: 16.6s\tremaining: 1.39s\n",
            "923:\tlearn: 0.4565070\ttotal: 16.6s\tremaining: 1.37s\n",
            "924:\tlearn: 0.4564312\ttotal: 16.6s\tremaining: 1.35s\n",
            "925:\tlearn: 0.4563538\ttotal: 16.7s\tremaining: 1.33s\n",
            "926:\tlearn: 0.4563108\ttotal: 16.7s\tremaining: 1.31s\n",
            "927:\tlearn: 0.4562556\ttotal: 16.7s\tremaining: 1.29s\n",
            "928:\tlearn: 0.4562008\ttotal: 16.7s\tremaining: 1.28s\n",
            "929:\tlearn: 0.4561194\ttotal: 16.7s\tremaining: 1.26s\n",
            "930:\tlearn: 0.4560738\ttotal: 16.7s\tremaining: 1.24s\n",
            "931:\tlearn: 0.4560247\ttotal: 16.8s\tremaining: 1.22s\n",
            "932:\tlearn: 0.4559761\ttotal: 16.8s\tremaining: 1.21s\n",
            "933:\tlearn: 0.4559251\ttotal: 16.8s\tremaining: 1.19s\n",
            "934:\tlearn: 0.4558804\ttotal: 16.8s\tremaining: 1.17s\n",
            "935:\tlearn: 0.4557936\ttotal: 16.8s\tremaining: 1.15s\n",
            "936:\tlearn: 0.4557555\ttotal: 16.9s\tremaining: 1.13s\n",
            "937:\tlearn: 0.4557129\ttotal: 16.9s\tremaining: 1.11s\n",
            "938:\tlearn: 0.4556532\ttotal: 16.9s\tremaining: 1.1s\n",
            "939:\tlearn: 0.4556037\ttotal: 16.9s\tremaining: 1.08s\n",
            "940:\tlearn: 0.4555479\ttotal: 16.9s\tremaining: 1.06s\n",
            "941:\tlearn: 0.4554844\ttotal: 17s\tremaining: 1.04s\n",
            "942:\tlearn: 0.4554314\ttotal: 17s\tremaining: 1.02s\n",
            "943:\tlearn: 0.4553826\ttotal: 17s\tremaining: 1.01s\n",
            "944:\tlearn: 0.4552953\ttotal: 17s\tremaining: 990ms\n",
            "945:\tlearn: 0.4552535\ttotal: 17s\tremaining: 972ms\n",
            "946:\tlearn: 0.4551877\ttotal: 17s\tremaining: 954ms\n",
            "947:\tlearn: 0.4551108\ttotal: 17.1s\tremaining: 936ms\n",
            "948:\tlearn: 0.4550443\ttotal: 17.1s\tremaining: 918ms\n",
            "949:\tlearn: 0.4549967\ttotal: 17.1s\tremaining: 900ms\n",
            "950:\tlearn: 0.4549261\ttotal: 17.1s\tremaining: 882ms\n",
            "951:\tlearn: 0.4548712\ttotal: 17.1s\tremaining: 864ms\n",
            "952:\tlearn: 0.4548207\ttotal: 17.2s\tremaining: 846ms\n",
            "953:\tlearn: 0.4547750\ttotal: 17.2s\tremaining: 828ms\n",
            "954:\tlearn: 0.4547033\ttotal: 17.2s\tremaining: 810ms\n",
            "955:\tlearn: 0.4546362\ttotal: 17.2s\tremaining: 792ms\n",
            "956:\tlearn: 0.4545914\ttotal: 17.2s\tremaining: 774ms\n",
            "957:\tlearn: 0.4545436\ttotal: 17.3s\tremaining: 756ms\n",
            "958:\tlearn: 0.4544912\ttotal: 17.3s\tremaining: 738ms\n",
            "959:\tlearn: 0.4544085\ttotal: 17.3s\tremaining: 720ms\n",
            "960:\tlearn: 0.4543473\ttotal: 17.3s\tremaining: 702ms\n",
            "961:\tlearn: 0.4543019\ttotal: 17.3s\tremaining: 684ms\n",
            "962:\tlearn: 0.4542730\ttotal: 17.3s\tremaining: 666ms\n",
            "963:\tlearn: 0.4542304\ttotal: 17.4s\tremaining: 648ms\n",
            "964:\tlearn: 0.4541997\ttotal: 17.4s\tremaining: 630ms\n",
            "965:\tlearn: 0.4541289\ttotal: 17.4s\tremaining: 612ms\n",
            "966:\tlearn: 0.4540921\ttotal: 17.4s\tremaining: 594ms\n",
            "967:\tlearn: 0.4540437\ttotal: 17.4s\tremaining: 576ms\n",
            "968:\tlearn: 0.4540134\ttotal: 17.5s\tremaining: 558ms\n",
            "969:\tlearn: 0.4539493\ttotal: 17.5s\tremaining: 540ms\n",
            "970:\tlearn: 0.4538969\ttotal: 17.5s\tremaining: 522ms\n",
            "971:\tlearn: 0.4538251\ttotal: 17.5s\tremaining: 504ms\n",
            "972:\tlearn: 0.4537656\ttotal: 17.5s\tremaining: 486ms\n",
            "973:\tlearn: 0.4537245\ttotal: 17.5s\tremaining: 468ms\n",
            "974:\tlearn: 0.4536574\ttotal: 17.6s\tremaining: 450ms\n",
            "975:\tlearn: 0.4536030\ttotal: 17.6s\tremaining: 432ms\n",
            "976:\tlearn: 0.4535457\ttotal: 17.6s\tremaining: 414ms\n",
            "977:\tlearn: 0.4534737\ttotal: 17.6s\tremaining: 396ms\n",
            "978:\tlearn: 0.4534051\ttotal: 17.6s\tremaining: 378ms\n",
            "979:\tlearn: 0.4533305\ttotal: 17.6s\tremaining: 360ms\n",
            "980:\tlearn: 0.4532816\ttotal: 17.7s\tremaining: 342ms\n",
            "981:\tlearn: 0.4532032\ttotal: 17.7s\tremaining: 324ms\n",
            "982:\tlearn: 0.4531607\ttotal: 17.7s\tremaining: 306ms\n",
            "983:\tlearn: 0.4531050\ttotal: 17.7s\tremaining: 288ms\n",
            "984:\tlearn: 0.4530308\ttotal: 17.7s\tremaining: 270ms\n",
            "985:\tlearn: 0.4529747\ttotal: 17.8s\tremaining: 252ms\n",
            "986:\tlearn: 0.4529180\ttotal: 17.8s\tremaining: 234ms\n",
            "987:\tlearn: 0.4528776\ttotal: 17.8s\tremaining: 216ms\n",
            "988:\tlearn: 0.4528484\ttotal: 17.8s\tremaining: 198ms\n",
            "989:\tlearn: 0.4528118\ttotal: 17.8s\tremaining: 180ms\n",
            "990:\tlearn: 0.4527556\ttotal: 17.9s\tremaining: 162ms\n",
            "991:\tlearn: 0.4527048\ttotal: 17.9s\tremaining: 144ms\n",
            "992:\tlearn: 0.4526499\ttotal: 17.9s\tremaining: 126ms\n",
            "993:\tlearn: 0.4526000\ttotal: 17.9s\tremaining: 108ms\n",
            "994:\tlearn: 0.4525680\ttotal: 17.9s\tremaining: 90.2ms\n",
            "995:\tlearn: 0.4525022\ttotal: 18s\tremaining: 72.1ms\n",
            "996:\tlearn: 0.4524372\ttotal: 18s\tremaining: 54.1ms\n",
            "997:\tlearn: 0.4523994\ttotal: 18s\tremaining: 36.1ms\n",
            "998:\tlearn: 0.4523435\ttotal: 18s\tremaining: 18ms\n",
            "999:\tlearn: 0.4523003\ttotal: 18s\tremaining: 0us\n"
          ],
          "name": "stdout"
        },
        {
          "output_type": "execute_result",
          "data": {
            "text/plain": [
              "<catboost.core.CatBoostClassifier at 0x7f631b4a91d0>"
            ]
          },
          "metadata": {
            "tags": []
          },
          "execution_count": 28
        }
      ]
    },
    {
      "cell_type": "code",
      "metadata": {
        "id": "QzGZMxEk6-84"
      },
      "source": [
        ""
      ],
      "execution_count": 28,
      "outputs": []
    },
    {
      "cell_type": "code",
      "metadata": {
        "colab": {
          "base_uri": "https://localhost:8080/"
        },
        "id": "mPFVthzH6Wa4",
        "outputId": "a72f9177-0ada-418f-8488-2f5881da6f42"
      },
      "source": [
        "cat_model.predict(X_test)"
      ],
      "execution_count": 29,
      "outputs": [
        {
          "output_type": "execute_result",
          "data": {
            "text/plain": [
              "array([0, 0, 0, ..., 0, 0, 0])"
            ]
          },
          "metadata": {
            "tags": []
          },
          "execution_count": 29
        }
      ]
    },
    {
      "cell_type": "code",
      "metadata": {
        "colab": {
          "base_uri": "https://localhost:8080/"
        },
        "id": "CSdmilLU6_cH",
        "outputId": "7b18b8fd-bf4f-4e14-946e-b6f35fb33462"
      },
      "source": [
        "accuracy_score(cat_model.predict(X_test), y_test)"
      ],
      "execution_count": 30,
      "outputs": [
        {
          "output_type": "execute_result",
          "data": {
            "text/plain": [
              "0.7545365214543073"
            ]
          },
          "metadata": {
            "tags": []
          },
          "execution_count": 30
        }
      ]
    },
    {
      "cell_type": "code",
      "metadata": {
        "id": "cuRXE8n97CuV"
      },
      "source": [
        "## XGBOOST - other parameters\r\n",
        "# 1. k-fold cross validations"
      ],
      "execution_count": 32,
      "outputs": []
    },
    {
      "cell_type": "code",
      "metadata": {
        "colab": {
          "base_uri": "https://localhost:8080/"
        },
        "id": "i9Q6kQ_YbDiK",
        "outputId": "d1fbe5f3-706b-4368-f848-05f3748b168f"
      },
      "source": [
        "X_train.shape"
      ],
      "execution_count": 33,
      "outputs": [
        {
          "output_type": "execute_result",
          "data": {
            "text/plain": [
              "(35617, 12)"
            ]
          },
          "metadata": {
            "tags": []
          },
          "execution_count": 33
        }
      ]
    },
    {
      "cell_type": "code",
      "metadata": {
        "id": "-TVo1lvAfKwH"
      },
      "source": [
        "from sklearn.model_selection import KFold, cross_val_score"
      ],
      "execution_count": 36,
      "outputs": []
    },
    {
      "cell_type": "code",
      "metadata": {
        "id": "PtqDDrQBe_H2"
      },
      "source": [
        "kfold = KFold(n_splits=12, shuffle=True, random_state=0)"
      ],
      "execution_count": 43,
      "outputs": []
    },
    {
      "cell_type": "code",
      "metadata": {
        "id": "llqbm9rLfvid"
      },
      "source": [
        "model_3 = XGBClassifier()"
      ],
      "execution_count": 44,
      "outputs": []
    },
    {
      "cell_type": "code",
      "metadata": {
        "id": "LF9ic9erfdTN"
      },
      "source": [
        "results = cross_val_score(model_3, X_train, y_train, cv=kfold)"
      ],
      "execution_count": 45,
      "outputs": []
    },
    {
      "cell_type": "code",
      "metadata": {
        "colab": {
          "base_uri": "https://localhost:8080/"
        },
        "id": "4V_-BbVvkCfY",
        "outputId": "f8ff0a58-ce36-4a16-ab48-90b596021ffa"
      },
      "source": [
        "results"
      ],
      "execution_count": 46,
      "outputs": [
        {
          "output_type": "execute_result",
          "data": {
            "text/plain": [
              "array([0.76187268, 0.768531  , 0.75640162, 0.77190027, 0.76516173,\n",
              "       0.75909704, 0.74595687, 0.75269542, 0.77122642, 0.76549865,\n",
              "       0.7722372 , 0.75876011])"
            ]
          },
          "metadata": {
            "tags": []
          },
          "execution_count": 46
        }
      ]
    },
    {
      "cell_type": "code",
      "metadata": {
        "colab": {
          "base_uri": "https://localhost:8080/"
        },
        "id": "r0FEr6yLkHkq",
        "outputId": "9b7fb653-4c4b-4326-86e0-7a37c1873250"
      },
      "source": [
        "results.mean()*100"
      ],
      "execution_count": 47,
      "outputs": [
        {
          "output_type": "execute_result",
          "data": {
            "text/plain": [
              "76.2444915973596"
            ]
          },
          "metadata": {
            "tags": []
          },
          "execution_count": 47
        }
      ]
    },
    {
      "cell_type": "code",
      "metadata": {
        "colab": {
          "base_uri": "https://localhost:8080/"
        },
        "id": "1102Hfc5kPGa",
        "outputId": "9001b881-534d-4f1e-803e-a88bdc9cd74e"
      },
      "source": [
        "results.std()*100"
      ],
      "execution_count": 48,
      "outputs": [
        {
          "output_type": "execute_result",
          "data": {
            "text/plain": [
              "0.7877696554116141"
            ]
          },
          "metadata": {
            "tags": []
          },
          "execution_count": 48
        }
      ]
    },
    {
      "cell_type": "code",
      "metadata": {
        "id": "B0ISYWaakT3K"
      },
      "source": [
        "## Lets check with stratified cross_val"
      ],
      "execution_count": 49,
      "outputs": []
    },
    {
      "cell_type": "code",
      "metadata": {
        "id": "VsS3PA3Yk-Bm"
      },
      "source": [
        "from sklearn.model_selection import StratifiedKFold"
      ],
      "execution_count": 50,
      "outputs": []
    },
    {
      "cell_type": "code",
      "metadata": {
        "id": "yCrqWvOxkyah"
      },
      "source": [
        "Sk_fold = StratifiedKFold(n_splits=10, shuffle=True, random_state=0)"
      ],
      "execution_count": 51,
      "outputs": []
    },
    {
      "cell_type": "code",
      "metadata": {
        "id": "MTexAyGTm3Sq"
      },
      "source": [
        "results_stratified = cross_val_score(model_3, X_train, y_train, cv=Sk_fold )"
      ],
      "execution_count": 52,
      "outputs": []
    },
    {
      "cell_type": "code",
      "metadata": {
        "colab": {
          "base_uri": "https://localhost:8080/"
        },
        "id": "8SJUY_S4nPX5",
        "outputId": "6ba6100b-4e99-4b5f-dff9-ee761c02cdea"
      },
      "source": [
        "results_stratified.mean()"
      ],
      "execution_count": 53,
      "outputs": [
        {
          "output_type": "execute_result",
          "data": {
            "text/plain": [
              "0.7624449298746276"
            ]
          },
          "metadata": {
            "tags": []
          },
          "execution_count": 53
        }
      ]
    },
    {
      "cell_type": "code",
      "metadata": {
        "colab": {
          "base_uri": "https://localhost:8080/"
        },
        "id": "4hGsqSH3nySi",
        "outputId": "0c3c3f47-9cfc-476d-c64f-50fe477a0fda"
      },
      "source": [
        "results_stratified.std(), results.std()"
      ],
      "execution_count": 56,
      "outputs": [
        {
          "output_type": "execute_result",
          "data": {
            "text/plain": [
              "(0.00034359109439796267, 0.007877696554116142)"
            ]
          },
          "metadata": {
            "tags": []
          },
          "execution_count": 56
        }
      ]
    },
    {
      "cell_type": "code",
      "metadata": {
        "id": "a_fGXtd9nclR"
      },
      "source": [
        "## Slightly better than k-fold"
      ],
      "execution_count": 54,
      "outputs": []
    },
    {
      "cell_type": "code",
      "metadata": {
        "id": "dT1NiBErnpOB"
      },
      "source": [
        "## Plot a tree of xgboost"
      ],
      "execution_count": 57,
      "outputs": []
    },
    {
      "cell_type": "code",
      "metadata": {
        "id": "5QoE9S_WowEw"
      },
      "source": [
        "from xgboost import plot_tree, plot_importance"
      ],
      "execution_count": 58,
      "outputs": []
    },
    {
      "cell_type": "code",
      "metadata": {
        "id": "wOS9BpcrrBc6"
      },
      "source": [
        "from matplotlib.pylab import rcParams\r\n",
        "\r\n",
        "##set up the parameters\r\n",
        "rcParams['figure.figsize'] = 8,5"
      ],
      "execution_count": 73,
      "outputs": []
    },
    {
      "cell_type": "code",
      "metadata": {
        "colab": {
          "base_uri": "https://localhost:8080/",
          "height": 603
        },
        "id": "s0RGWELYp0a1",
        "outputId": "0b4c1a18-fd26-4b2c-9688-f86eed52a7d6"
      },
      "source": [
        "model_3.fit(X_train, y_train)\r\n",
        "plt.figure(figsize=(8,8))\r\n",
        "plot_tree(model_3, num_trees=4)\r\n",
        "plt.show()"
      ],
      "execution_count": 67,
      "outputs": [
        {
          "output_type": "display_data",
          "data": {
            "text/plain": [
              "<Figure size 576x576 with 0 Axes>"
            ]
          },
          "metadata": {
            "tags": []
          }
        },
        {
          "output_type": "display_data",
          "data": {
            "image/png": "[encoded data removed]",
            "text/plain": [
              "<Figure size 5760x3600 with 1 Axes>"
            ]
          },
          "metadata": {
            "tags": [],
            "needs_background": "light"
          }
        }
      ]
    },
    {
      "cell_type": "code",
      "metadata": {
        "id": "VbTk-3kqqBJo"
      },
      "source": [
        "## Feature importance and feature selection"
      ],
      "execution_count": 68,
      "outputs": []
    },
    {
      "cell_type": "code",
      "metadata": {
        "id": "qIpQEPeowpHO"
      },
      "source": [
        "from xgboost import featu"
      ],
      "execution_count": null,
      "outputs": []
    },
    {
      "cell_type": "code",
      "metadata": {
        "colab": {
          "base_uri": "https://localhost:8080/"
        },
        "id": "SXl6E7STrgkv",
        "outputId": "e627ba1c-7292-48a1-ddab-64612eb9fa75"
      },
      "source": [
        "model_3.feature_importances_"
      ],
      "execution_count": 69,
      "outputs": [
        {
          "output_type": "execute_result",
          "data": {
            "text/plain": [
              "array([0.10500317, 0.07491218, 0.14580756, 0.        , 0.04453938,\n",
              "       0.03167551, 0.        , 0.0139372 , 0.05290623, 0.19765475,\n",
              "       0.28445646, 0.04910757], dtype=float32)"
            ]
          },
          "metadata": {
            "tags": []
          },
          "execution_count": 69
        }
      ]
    },
    {
      "cell_type": "code",
      "metadata": {
        "colab": {
          "base_uri": "https://localhost:8080/",
          "height": 337
        },
        "id": "3vXPAp-nx2Xl",
        "outputId": "5a444a6e-e50c-461f-a3a7-347660e34e9b"
      },
      "source": [
        "plt.bar(range(len(model_3.feature_importances_)),  model_3.feature_importances_)"
      ],
      "execution_count": 74,
      "outputs": [
        {
          "output_type": "execute_result",
          "data": {
            "text/plain": [
              "<BarContainer object of 12 artists>"
            ]
          },
          "metadata": {
            "tags": []
          },
          "execution_count": 74
        },
        {
          "output_type": "display_data",
          "data": {
            "image/png": "[encoded data removed]",
            "text/plain": [
              "<Figure size 576x360 with 1 Axes>"
            ]
          },
          "metadata": {
            "tags": [],
            "needs_background": "light"
          }
        }
      ]
    },
    {
      "cell_type": "code",
      "metadata": {
        "colab": {
          "base_uri": "https://localhost:8080/",
          "height": 367
        },
        "id": "AaJ6Dx9lz0RC",
        "outputId": "391d4e55-4dc0-4fc5-ea20-c2f20cd464b8"
      },
      "source": [
        "plot_importance(model_3)"
      ],
      "execution_count": 75,
      "outputs": [
        {
          "output_type": "execute_result",
          "data": {
            "text/plain": [
              "<matplotlib.axes._subplots.AxesSubplot at 0x7f62d46715d0>"
            ]
          },
          "metadata": {
            "tags": []
          },
          "execution_count": 75
        },
        {
          "output_type": "display_data",
          "data": {
            "image/png": "[encoded data removed]",
            "text/plain": [
              "<Figure size 576x360 with 1 Axes>"
            ]
          },
          "metadata": {
            "tags": [],
            "needs_background": "light"
          }
        }
      ]
    },
    {
      "cell_type": "code",
      "metadata": {
        "id": "uE1GswF_8n6J"
      },
      "source": [
        "## feature selection"
      ],
      "execution_count": 76,
      "outputs": []
    },
    {
      "cell_type": "code",
      "metadata": {
        "id": "wwiFJRNAEns5"
      },
      "source": [
        "from sklearn.feature_selection import SelectFromModel"
      ],
      "execution_count": 77,
      "outputs": []
    },
    {
      "cell_type": "code",
      "metadata": {
        "id": "s-0SHGYwFJSA"
      },
      "source": [
        "threshold = np.sort(model_3.feature_importances_)"
      ],
      "execution_count": 83,
      "outputs": []
    },
    {
      "cell_type": "code",
      "metadata": {
        "colab": {
          "base_uri": "https://localhost:8080/"
        },
        "id": "VShJIIoMFs4Q",
        "outputId": "40eb60f0-5513-464c-eb2a-f8f3d7912ebb"
      },
      "source": [
        "for thresh in threshold:\r\n",
        "  selection = SelectFromModel(model_3, threshold=thresh, prefit=True)\r\n",
        "  select_X_train = selection.transform(X_train)\r\n",
        "  #print(select_X_train)\r\n",
        "  selection_model = XGBClassifier()\r\n",
        "  selection_model.fit(select_X_train, y_train)\r\n",
        "\r\n",
        "  select_X_test = selection.transform(X_test)\r\n",
        "  predictions = selection_model.predict(select_X_test)\r\n",
        "  accuracy = accuracy_score(y_test, predictions)\r\n",
        "\r\n",
        "  print(thresh, select_X_train.shape, accuracy*100)\r\n"
      ],
      "execution_count": 100,
      "outputs": [
        {
          "output_type": "stream",
          "text": [
            "0.0 (35617, 12) 75.4208974778906\n",
            "0.0 (35617, 12) 75.4208974778906\n",
            "0.013937202 (35617, 10) 75.4208974778906\n",
            "0.031675506 (35617, 9) 75.40779561087454\n",
            "0.044539385 (35617, 8) 75.40779561087454\n",
            "0.049107566 (35617, 7) 75.41434654438257\n",
            "0.052906234 (35617, 6) 75.40124467736653\n",
            "0.07491218 (35617, 5) 75.40124467736653\n",
            "0.10500317 (35617, 4) 75.4208974778906\n",
            "0.14580756 (35617, 3) 75.4208974778906\n",
            "0.19765475 (35617, 2) 75.4208974778906\n",
            "0.28445646 (35617, 1) 75.4208974778906\n"
          ],
          "name": "stdout"
        }
      ]
    },
    {
      "cell_type": "code",
      "metadata": {
        "colab": {
          "base_uri": "https://localhost:8080/"
        },
        "id": "hTTG-1-2GdzV",
        "outputId": "bd3812bc-b9c5-4e96-f5e5-cbd4d0283721"
      },
      "source": [
        "threshold"
      ],
      "execution_count": 101,
      "outputs": [
        {
          "output_type": "execute_result",
          "data": {
            "text/plain": [
              "array([0.        , 0.        , 0.0139372 , 0.03167551, 0.04453938,\n",
              "       0.04910757, 0.05290623, 0.07491218, 0.10500317, 0.14580756,\n",
              "       0.19765475, 0.28445646], dtype=float32)"
            ]
          },
          "metadata": {
            "tags": []
          },
          "execution_count": 101
        }
      ]
    },
    {
      "cell_type": "code",
      "metadata": {
        "id": "Y3PIZfTGPCPn"
      },
      "source": [
        "model_s = XGBClassifier()"
      ],
      "execution_count": 102,
      "outputs": []
    },
    {
      "cell_type": "code",
      "metadata": {
        "colab": {
          "base_uri": "https://localhost:8080/"
        },
        "id": "KEVKGHv5QGOz",
        "outputId": "63b17459-6167-449f-bc06-5bec7ec395ad"
      },
      "source": [
        "model_s.fit(X_train.drop(['Reco_Policy_Cat'], axis=1), y_train)"
      ],
      "execution_count": 108,
      "outputs": [
        {
          "output_type": "execute_result",
          "data": {
            "text/plain": [
              "XGBClassifier(base_score=0.5, booster='gbtree', colsample_bylevel=1,\n",
              "              colsample_bynode=1, colsample_bytree=1, gamma=0,\n",
              "              learning_rate=0.1, max_delta_step=0, max_depth=3,\n",
              "              min_child_weight=1, missing=None, n_estimators=100, n_jobs=1,\n",
              "              nthread=None, objective='binary:logistic', random_state=0,\n",
              "              reg_alpha=0, reg_lambda=1, scale_pos_weight=1, seed=None,\n",
              "              silent=None, subsample=1, verbosity=1)"
            ]
          },
          "metadata": {
            "tags": []
          },
          "execution_count": 108
        }
      ]
    },
    {
      "cell_type": "code",
      "metadata": {
        "id": "i-UzfbTTQfRi"
      },
      "source": [
        "pred_s = model_s.predict(X_test.drop(['Reco_Policy_Cat'], axis=1))"
      ],
      "execution_count": 110,
      "outputs": []
    },
    {
      "cell_type": "code",
      "metadata": {
        "id": "O_ePXpuZRIvL"
      },
      "source": [
        "acc_s = accuracy_score(y_test, pred_s)"
      ],
      "execution_count": 111,
      "outputs": []
    },
    {
      "cell_type": "code",
      "metadata": {
        "colab": {
          "base_uri": "https://localhost:8080/"
        },
        "id": "XnEk2xfMRR_7",
        "outputId": "e02c0dfa-9264-422c-e5ad-b822787380e5"
      },
      "source": [
        "acc_s"
      ],
      "execution_count": 112,
      "outputs": [
        {
          "output_type": "execute_result",
          "data": {
            "text/plain": [
              "0.7540124467736653"
            ]
          },
          "metadata": {
            "tags": []
          },
          "execution_count": 112
        }
      ]
    },
    {
      "cell_type": "code",
      "metadata": {
        "colab": {
          "base_uri": "https://localhost:8080/",
          "height": 367
        },
        "id": "Ua3CFbkTRTlj",
        "outputId": "4c4e4750-7a6c-4c96-8759-6ac79c3fcc65"
      },
      "source": [
        "plot_importance(model_s)"
      ],
      "execution_count": 113,
      "outputs": [
        {
          "output_type": "execute_result",
          "data": {
            "text/plain": [
              "<matplotlib.axes._subplots.AxesSubplot at 0x7f62d469fc90>"
            ]
          },
          "metadata": {
            "tags": []
          },
          "execution_count": 113
        },
        {
          "output_type": "display_data",
          "data": {
            "image/png": "[encoded data removed]",
            "text/plain": [
              "<Figure size 576x360 with 1 Axes>"
            ]
          },
          "metadata": {
            "tags": [],
            "needs_background": "light"
          }
        }
      ]
    },
    {
      "cell_type": "code",
      "metadata": {
        "colab": {
          "base_uri": "https://localhost:8080/"
        },
        "id": "WDBoVHkKRqu2",
        "outputId": "b7071326-8761-45fa-8a24-6a947f83b2f9"
      },
      "source": [
        "model_3.feature_importances_"
      ],
      "execution_count": 114,
      "outputs": [
        {
          "output_type": "execute_result",
          "data": {
            "text/plain": [
              "array([0.10500317, 0.07491218, 0.14580756, 0.        , 0.04453938,\n",
              "       0.03167551, 0.        , 0.0139372 , 0.05290623, 0.19765475,\n",
              "       0.28445646, 0.04910757], dtype=float32)"
            ]
          },
          "metadata": {
            "tags": []
          },
          "execution_count": 114
        }
      ]
    },
    {
      "cell_type": "code",
      "metadata": {
        "id": "6qls_KQUbXNn"
      },
      "source": [
        "## Early stopping"
      ],
      "execution_count": 115,
      "outputs": []
    },
    {
      "cell_type": "code",
      "metadata": {
        "id": "burL1nt0c2MD"
      },
      "source": [
        "## Use of eval set"
      ],
      "execution_count": 116,
      "outputs": []
    },
    {
      "cell_type": "code",
      "metadata": {
        "id": "UFnYa5i7eTgL"
      },
      "source": [
        "eval_set= [(X_test, y_test)]"
      ],
      "execution_count": 117,
      "outputs": []
    },
    {
      "cell_type": "code",
      "metadata": {
        "colab": {
          "base_uri": "https://localhost:8080/"
        },
        "id": "rlHXrHU9sQKu",
        "outputId": "54482bb6-ec95-4c5e-caa4-04796e3fa511"
      },
      "source": [
        "model_3.fit(X_train, y_train, eval_set=eval_set, verbose=True, eval_metric='error')"
      ],
      "execution_count": 119,
      "outputs": [
        {
          "output_type": "stream",
          "text": [
            "[0]\tvalidation_0-error:0.245791\n",
            "[1]\tvalidation_0-error:0.245791\n",
            "[2]\tvalidation_0-error:0.245791\n",
            "[3]\tvalidation_0-error:0.245791\n",
            "[4]\tvalidation_0-error:0.245791\n",
            "[5]\tvalidation_0-error:0.245791\n",
            "[6]\tvalidation_0-error:0.245791\n",
            "[7]\tvalidation_0-error:0.245791\n",
            "[8]\tvalidation_0-error:0.245791\n",
            "[9]\tvalidation_0-error:0.245791\n",
            "[10]\tvalidation_0-error:0.245791\n",
            "[11]\tvalidation_0-error:0.245791\n",
            "[12]\tvalidation_0-error:0.245791\n",
            "[13]\tvalidation_0-error:0.245791\n",
            "[14]\tvalidation_0-error:0.245791\n",
            "[15]\tvalidation_0-error:0.245791\n",
            "[16]\tvalidation_0-error:0.245791\n",
            "[17]\tvalidation_0-error:0.245791\n",
            "[18]\tvalidation_0-error:0.245791\n",
            "[19]\tvalidation_0-error:0.245791\n",
            "[20]\tvalidation_0-error:0.245791\n",
            "[21]\tvalidation_0-error:0.245791\n",
            "[22]\tvalidation_0-error:0.245791\n",
            "[23]\tvalidation_0-error:0.245791\n",
            "[24]\tvalidation_0-error:0.245791\n",
            "[25]\tvalidation_0-error:0.245791\n",
            "[26]\tvalidation_0-error:0.245791\n",
            "[27]\tvalidation_0-error:0.245791\n",
            "[28]\tvalidation_0-error:0.245791\n",
            "[29]\tvalidation_0-error:0.245791\n",
            "[30]\tvalidation_0-error:0.245791\n",
            "[31]\tvalidation_0-error:0.245791\n",
            "[32]\tvalidation_0-error:0.245791\n",
            "[33]\tvalidation_0-error:0.245791\n",
            "[34]\tvalidation_0-error:0.245791\n",
            "[35]\tvalidation_0-error:0.245791\n",
            "[36]\tvalidation_0-error:0.245791\n",
            "[37]\tvalidation_0-error:0.245791\n",
            "[38]\tvalidation_0-error:0.245791\n",
            "[39]\tvalidation_0-error:0.245791\n",
            "[40]\tvalidation_0-error:0.245791\n",
            "[41]\tvalidation_0-error:0.245791\n",
            "[42]\tvalidation_0-error:0.245791\n",
            "[43]\tvalidation_0-error:0.245791\n",
            "[44]\tvalidation_0-error:0.245791\n",
            "[45]\tvalidation_0-error:0.245791\n",
            "[46]\tvalidation_0-error:0.245791\n",
            "[47]\tvalidation_0-error:0.245791\n",
            "[48]\tvalidation_0-error:0.245791\n",
            "[49]\tvalidation_0-error:0.245791\n",
            "[50]\tvalidation_0-error:0.245791\n",
            "[51]\tvalidation_0-error:0.245791\n",
            "[52]\tvalidation_0-error:0.245791\n",
            "[53]\tvalidation_0-error:0.245791\n",
            "[54]\tvalidation_0-error:0.245791\n",
            "[55]\tvalidation_0-error:0.245791\n",
            "[56]\tvalidation_0-error:0.245791\n",
            "[57]\tvalidation_0-error:0.245791\n",
            "[58]\tvalidation_0-error:0.245791\n",
            "[59]\tvalidation_0-error:0.245791\n",
            "[60]\tvalidation_0-error:0.245791\n",
            "[61]\tvalidation_0-error:0.245791\n",
            "[62]\tvalidation_0-error:0.245791\n",
            "[63]\tvalidation_0-error:0.245791\n",
            "[64]\tvalidation_0-error:0.245791\n",
            "[65]\tvalidation_0-error:0.245791\n",
            "[66]\tvalidation_0-error:0.245791\n",
            "[67]\tvalidation_0-error:0.245791\n",
            "[68]\tvalidation_0-error:0.245791\n",
            "[69]\tvalidation_0-error:0.245791\n",
            "[70]\tvalidation_0-error:0.245791\n",
            "[71]\tvalidation_0-error:0.245791\n",
            "[72]\tvalidation_0-error:0.245791\n",
            "[73]\tvalidation_0-error:0.245791\n",
            "[74]\tvalidation_0-error:0.245791\n",
            "[75]\tvalidation_0-error:0.245791\n",
            "[76]\tvalidation_0-error:0.245791\n",
            "[77]\tvalidation_0-error:0.245791\n",
            "[78]\tvalidation_0-error:0.245791\n",
            "[79]\tvalidation_0-error:0.245791\n",
            "[80]\tvalidation_0-error:0.245791\n",
            "[81]\tvalidation_0-error:0.245791\n",
            "[82]\tvalidation_0-error:0.245791\n",
            "[83]\tvalidation_0-error:0.245791\n",
            "[84]\tvalidation_0-error:0.245791\n",
            "[85]\tvalidation_0-error:0.245791\n",
            "[86]\tvalidation_0-error:0.245791\n",
            "[87]\tvalidation_0-error:0.245791\n",
            "[88]\tvalidation_0-error:0.245791\n",
            "[89]\tvalidation_0-error:0.245791\n",
            "[90]\tvalidation_0-error:0.245791\n",
            "[91]\tvalidation_0-error:0.245791\n",
            "[92]\tvalidation_0-error:0.245791\n",
            "[93]\tvalidation_0-error:0.245791\n",
            "[94]\tvalidation_0-error:0.245791\n",
            "[95]\tvalidation_0-error:0.245791\n",
            "[96]\tvalidation_0-error:0.245791\n",
            "[97]\tvalidation_0-error:0.245791\n",
            "[98]\tvalidation_0-error:0.245791\n",
            "[99]\tvalidation_0-error:0.245791\n"
          ],
          "name": "stdout"
        },
        {
          "output_type": "execute_result",
          "data": {
            "text/plain": [
              "XGBClassifier(base_score=0.5, booster='gbtree', colsample_bylevel=1,\n",
              "              colsample_bynode=1, colsample_bytree=1, gamma=0,\n",
              "              learning_rate=0.1, max_delta_step=0, max_depth=3,\n",
              "              min_child_weight=1, missing=None, n_estimators=100, n_jobs=1,\n",
              "              nthread=None, objective='binary:logistic', random_state=0,\n",
              "              reg_alpha=0, reg_lambda=1, scale_pos_weight=1, seed=None,\n",
              "              silent=None, subsample=1, verbosity=1)"
            ]
          },
          "metadata": {
            "tags": []
          },
          "execution_count": 119
        }
      ]
    },
    {
      "cell_type": "code",
      "metadata": {
        "id": "YVnrN2Ddsi0L"
      },
      "source": [
        "prediction = model_3.predict(X_test)"
      ],
      "execution_count": 120,
      "outputs": []
    },
    {
      "cell_type": "code",
      "metadata": {
        "colab": {
          "base_uri": "https://localhost:8080/"
        },
        "id": "8G9ruvJRto2y",
        "outputId": "35d55551-e203-4f70-cdea-b8757139bb9c"
      },
      "source": [
        "accuracy_score(y_test, prediction)"
      ],
      "execution_count": 121,
      "outputs": [
        {
          "output_type": "execute_result",
          "data": {
            "text/plain": [
              "0.754208974778906"
            ]
          },
          "metadata": {
            "tags": []
          },
          "execution_count": 121
        }
      ]
    },
    {
      "cell_type": "code",
      "metadata": {
        "id": "EkF-UrL6tvHy"
      },
      "source": [
        "## Evaluete XG Boost with learning curve"
      ],
      "execution_count": 122,
      "outputs": []
    },
    {
      "cell_type": "code",
      "metadata": {
        "id": "pEbNEP8dt4yK"
      },
      "source": [
        "## Evaluate on both traning and test set"
      ],
      "execution_count": 123,
      "outputs": []
    },
    {
      "cell_type": "code",
      "metadata": {
        "colab": {
          "base_uri": "https://localhost:8080/"
        },
        "id": "-Ea-tyrCuucS",
        "outputId": "cb691d8b-4314-43fa-c412-4c748f969400"
      },
      "source": [
        "eval_set_both = [(X_train, y_train), (X_test, y_test)]\r\n",
        "model_3.fit(X_train, y_train, eval_set=eval_set_both, eval_metric=['error', 'logloss'], verbose=True)"
      ],
      "execution_count": 139,
      "outputs": [
        {
          "output_type": "stream",
          "text": [
            "[0]\tvalidation_0-error:0.237443\tvalidation_0-logloss:0.665407\tvalidation_1-error:0.245791\tvalidation_1-logloss:0.666408\n",
            "[1]\tvalidation_0-error:0.237443\tvalidation_0-logloss:0.642996\tvalidation_1-error:0.245791\tvalidation_1-logloss:0.644683\n",
            "[2]\tvalidation_0-error:0.237443\tvalidation_0-logloss:0.62439\tvalidation_1-error:0.245791\tvalidation_1-logloss:0.626699\n",
            "[3]\tvalidation_0-error:0.237443\tvalidation_0-logloss:0.609141\tvalidation_1-error:0.245791\tvalidation_1-logloss:0.611964\n",
            "[4]\tvalidation_0-error:0.237443\tvalidation_0-logloss:0.596492\tvalidation_1-error:0.245791\tvalidation_1-logloss:0.599933\n",
            "[5]\tvalidation_0-error:0.237443\tvalidation_0-logloss:0.585964\tvalidation_1-error:0.245791\tvalidation_1-logloss:0.589819\n",
            "[6]\tvalidation_0-error:0.237443\tvalidation_0-logloss:0.57723\tvalidation_1-error:0.245791\tvalidation_1-logloss:0.581614\n",
            "[7]\tvalidation_0-error:0.237443\tvalidation_0-logloss:0.569907\tvalidation_1-error:0.245791\tvalidation_1-logloss:0.574654\n",
            "[8]\tvalidation_0-error:0.237443\tvalidation_0-logloss:0.563733\tvalidation_1-error:0.245791\tvalidation_1-logloss:0.568871\n",
            "[9]\tvalidation_0-error:0.237443\tvalidation_0-logloss:0.558642\tvalidation_1-error:0.245791\tvalidation_1-logloss:0.564027\n",
            "[10]\tvalidation_0-error:0.237443\tvalidation_0-logloss:0.554269\tvalidation_1-error:0.245791\tvalidation_1-logloss:0.560072\n",
            "[11]\tvalidation_0-error:0.237443\tvalidation_0-logloss:0.550648\tvalidation_1-error:0.245791\tvalidation_1-logloss:0.556691\n",
            "[12]\tvalidation_0-error:0.237443\tvalidation_0-logloss:0.547442\tvalidation_1-error:0.245791\tvalidation_1-logloss:0.55391\n",
            "[13]\tvalidation_0-error:0.237443\tvalidation_0-logloss:0.544859\tvalidation_1-error:0.245791\tvalidation_1-logloss:0.551466\n",
            "[14]\tvalidation_0-error:0.237443\tvalidation_0-logloss:0.542577\tvalidation_1-error:0.245791\tvalidation_1-logloss:0.549458\n",
            "[15]\tvalidation_0-error:0.237443\tvalidation_0-logloss:0.540679\tvalidation_1-error:0.245791\tvalidation_1-logloss:0.547791\n",
            "[16]\tvalidation_0-error:0.237443\tvalidation_0-logloss:0.538961\tvalidation_1-error:0.245791\tvalidation_1-logloss:0.546283\n",
            "[17]\tvalidation_0-error:0.237443\tvalidation_0-logloss:0.537571\tvalidation_1-error:0.245791\tvalidation_1-logloss:0.54503\n",
            "[18]\tvalidation_0-error:0.237443\tvalidation_0-logloss:0.536312\tvalidation_1-error:0.245791\tvalidation_1-logloss:0.544042\n",
            "[19]\tvalidation_0-error:0.237443\tvalidation_0-logloss:0.535227\tvalidation_1-error:0.245791\tvalidation_1-logloss:0.543051\n",
            "[20]\tvalidation_0-error:0.237443\tvalidation_0-logloss:0.5344\tvalidation_1-error:0.245791\tvalidation_1-logloss:0.542342\n",
            "[21]\tvalidation_0-error:0.237443\tvalidation_0-logloss:0.533555\tvalidation_1-error:0.245791\tvalidation_1-logloss:0.541635\n",
            "[22]\tvalidation_0-error:0.237443\tvalidation_0-logloss:0.53286\tvalidation_1-error:0.245791\tvalidation_1-logloss:0.541101\n",
            "[23]\tvalidation_0-error:0.237443\tvalidation_0-logloss:0.532246\tvalidation_1-error:0.245791\tvalidation_1-logloss:0.540668\n",
            "[24]\tvalidation_0-error:0.237443\tvalidation_0-logloss:0.531683\tvalidation_1-error:0.245791\tvalidation_1-logloss:0.5402\n",
            "[25]\tvalidation_0-error:0.237443\tvalidation_0-logloss:0.531153\tvalidation_1-error:0.245791\tvalidation_1-logloss:0.539868\n",
            "[26]\tvalidation_0-error:0.237443\tvalidation_0-logloss:0.530768\tvalidation_1-error:0.245791\tvalidation_1-logloss:0.539556\n",
            "[27]\tvalidation_0-error:0.237443\tvalidation_0-logloss:0.530412\tvalidation_1-error:0.245791\tvalidation_1-logloss:0.539313\n",
            "[28]\tvalidation_0-error:0.237443\tvalidation_0-logloss:0.529969\tvalidation_1-error:0.245791\tvalidation_1-logloss:0.538991\n",
            "[29]\tvalidation_0-error:0.237443\tvalidation_0-logloss:0.529696\tvalidation_1-error:0.245791\tvalidation_1-logloss:0.538792\n",
            "[30]\tvalidation_0-error:0.237443\tvalidation_0-logloss:0.529466\tvalidation_1-error:0.245791\tvalidation_1-logloss:0.538654\n",
            "[31]\tvalidation_0-error:0.237443\tvalidation_0-logloss:0.529215\tvalidation_1-error:0.245791\tvalidation_1-logloss:0.538588\n",
            "[32]\tvalidation_0-error:0.237443\tvalidation_0-logloss:0.528883\tvalidation_1-error:0.245791\tvalidation_1-logloss:0.538358\n",
            "[33]\tvalidation_0-error:0.237443\tvalidation_0-logloss:0.52864\tvalidation_1-error:0.245791\tvalidation_1-logloss:0.538111\n",
            "[34]\tvalidation_0-error:0.237443\tvalidation_0-logloss:0.528405\tvalidation_1-error:0.245791\tvalidation_1-logloss:0.538046\n",
            "[35]\tvalidation_0-error:0.237443\tvalidation_0-logloss:0.528189\tvalidation_1-error:0.245791\tvalidation_1-logloss:0.537864\n",
            "[36]\tvalidation_0-error:0.237443\tvalidation_0-logloss:0.528014\tvalidation_1-error:0.245791\tvalidation_1-logloss:0.537841\n",
            "[37]\tvalidation_0-error:0.237443\tvalidation_0-logloss:0.527891\tvalidation_1-error:0.245791\tvalidation_1-logloss:0.537749\n",
            "[38]\tvalidation_0-error:0.237443\tvalidation_0-logloss:0.527613\tvalidation_1-error:0.245791\tvalidation_1-logloss:0.53764\n",
            "[39]\tvalidation_0-error:0.237443\tvalidation_0-logloss:0.52754\tvalidation_1-error:0.245791\tvalidation_1-logloss:0.537619\n",
            "[40]\tvalidation_0-error:0.237443\tvalidation_0-logloss:0.527382\tvalidation_1-error:0.245791\tvalidation_1-logloss:0.537564\n",
            "[41]\tvalidation_0-error:0.237443\tvalidation_0-logloss:0.527152\tvalidation_1-error:0.245791\tvalidation_1-logloss:0.537493\n",
            "[42]\tvalidation_0-error:0.237443\tvalidation_0-logloss:0.527037\tvalidation_1-error:0.245791\tvalidation_1-logloss:0.537465\n",
            "[43]\tvalidation_0-error:0.237443\tvalidation_0-logloss:0.526816\tvalidation_1-error:0.245791\tvalidation_1-logloss:0.537334\n",
            "[44]\tvalidation_0-error:0.237443\tvalidation_0-logloss:0.52653\tvalidation_1-error:0.245791\tvalidation_1-logloss:0.537154\n",
            "[45]\tvalidation_0-error:0.237443\tvalidation_0-logloss:0.526412\tvalidation_1-error:0.245791\tvalidation_1-logloss:0.537065\n",
            "[46]\tvalidation_0-error:0.237443\tvalidation_0-logloss:0.52622\tvalidation_1-error:0.245791\tvalidation_1-logloss:0.536902\n",
            "[47]\tvalidation_0-error:0.237443\tvalidation_0-logloss:0.526059\tvalidation_1-error:0.245791\tvalidation_1-logloss:0.536782\n",
            "[48]\tvalidation_0-error:0.237443\tvalidation_0-logloss:0.525918\tvalidation_1-error:0.245791\tvalidation_1-logloss:0.536625\n",
            "[49]\tvalidation_0-error:0.237443\tvalidation_0-logloss:0.525733\tvalidation_1-error:0.245791\tvalidation_1-logloss:0.53649\n",
            "[50]\tvalidation_0-error:0.237443\tvalidation_0-logloss:0.525574\tvalidation_1-error:0.245791\tvalidation_1-logloss:0.536435\n",
            "[51]\tvalidation_0-error:0.237443\tvalidation_0-logloss:0.525432\tvalidation_1-error:0.245791\tvalidation_1-logloss:0.536354\n",
            "[52]\tvalidation_0-error:0.237443\tvalidation_0-logloss:0.525265\tvalidation_1-error:0.245791\tvalidation_1-logloss:0.53631\n",
            "[53]\tvalidation_0-error:0.237443\tvalidation_0-logloss:0.525116\tvalidation_1-error:0.245791\tvalidation_1-logloss:0.53624\n",
            "[54]\tvalidation_0-error:0.237443\tvalidation_0-logloss:0.525033\tvalidation_1-error:0.245791\tvalidation_1-logloss:0.536195\n",
            "[55]\tvalidation_0-error:0.237443\tvalidation_0-logloss:0.524779\tvalidation_1-error:0.245791\tvalidation_1-logloss:0.536114\n",
            "[56]\tvalidation_0-error:0.237443\tvalidation_0-logloss:0.524612\tvalidation_1-error:0.245791\tvalidation_1-logloss:0.53604\n",
            "[57]\tvalidation_0-error:0.237443\tvalidation_0-logloss:0.524291\tvalidation_1-error:0.245791\tvalidation_1-logloss:0.535817\n",
            "[58]\tvalidation_0-error:0.237443\tvalidation_0-logloss:0.524106\tvalidation_1-error:0.245791\tvalidation_1-logloss:0.53576\n",
            "[59]\tvalidation_0-error:0.237443\tvalidation_0-logloss:0.52372\tvalidation_1-error:0.245791\tvalidation_1-logloss:0.535511\n",
            "[60]\tvalidation_0-error:0.237443\tvalidation_0-logloss:0.523582\tvalidation_1-error:0.245791\tvalidation_1-logloss:0.535418\n",
            "[61]\tvalidation_0-error:0.237443\tvalidation_0-logloss:0.523344\tvalidation_1-error:0.245791\tvalidation_1-logloss:0.535187\n",
            "[62]\tvalidation_0-error:0.237443\tvalidation_0-logloss:0.523247\tvalidation_1-error:0.245791\tvalidation_1-logloss:0.535212\n",
            "[63]\tvalidation_0-error:0.237443\tvalidation_0-logloss:0.523178\tvalidation_1-error:0.245791\tvalidation_1-logloss:0.535227\n",
            "[64]\tvalidation_0-error:0.237359\tvalidation_0-logloss:0.523081\tvalidation_1-error:0.245791\tvalidation_1-logloss:0.535205\n",
            "[65]\tvalidation_0-error:0.237359\tvalidation_0-logloss:0.52299\tvalidation_1-error:0.245791\tvalidation_1-logloss:0.535142\n",
            "[66]\tvalidation_0-error:0.237359\tvalidation_0-logloss:0.522856\tvalidation_1-error:0.245791\tvalidation_1-logloss:0.535087\n",
            "[67]\tvalidation_0-error:0.237359\tvalidation_0-logloss:0.522658\tvalidation_1-error:0.245791\tvalidation_1-logloss:0.534984\n",
            "[68]\tvalidation_0-error:0.237359\tvalidation_0-logloss:0.522589\tvalidation_1-error:0.245791\tvalidation_1-logloss:0.53501\n",
            "[69]\tvalidation_0-error:0.237359\tvalidation_0-logloss:0.522331\tvalidation_1-error:0.245791\tvalidation_1-logloss:0.534763\n",
            "[70]\tvalidation_0-error:0.237359\tvalidation_0-logloss:0.521964\tvalidation_1-error:0.245791\tvalidation_1-logloss:0.534429\n",
            "[71]\tvalidation_0-error:0.237359\tvalidation_0-logloss:0.521653\tvalidation_1-error:0.245791\tvalidation_1-logloss:0.534083\n",
            "[72]\tvalidation_0-error:0.237359\tvalidation_0-logloss:0.521546\tvalidation_1-error:0.245791\tvalidation_1-logloss:0.533974\n",
            "[73]\tvalidation_0-error:0.237359\tvalidation_0-logloss:0.521344\tvalidation_1-error:0.245791\tvalidation_1-logloss:0.533781\n",
            "[74]\tvalidation_0-error:0.237359\tvalidation_0-logloss:0.52117\tvalidation_1-error:0.245791\tvalidation_1-logloss:0.533706\n",
            "[75]\tvalidation_0-error:0.237359\tvalidation_0-logloss:0.520906\tvalidation_1-error:0.245791\tvalidation_1-logloss:0.533444\n",
            "[76]\tvalidation_0-error:0.237359\tvalidation_0-logloss:0.520841\tvalidation_1-error:0.245791\tvalidation_1-logloss:0.53337\n",
            "[77]\tvalidation_0-error:0.237359\tvalidation_0-logloss:0.52073\tvalidation_1-error:0.245791\tvalidation_1-logloss:0.533353\n",
            "[78]\tvalidation_0-error:0.237359\tvalidation_0-logloss:0.520653\tvalidation_1-error:0.245791\tvalidation_1-logloss:0.53334\n",
            "[79]\tvalidation_0-error:0.23733\tvalidation_0-logloss:0.520632\tvalidation_1-error:0.245791\tvalidation_1-logloss:0.533344\n",
            "[80]\tvalidation_0-error:0.23733\tvalidation_0-logloss:0.520299\tvalidation_1-error:0.245791\tvalidation_1-logloss:0.53313\n",
            "[81]\tvalidation_0-error:0.23733\tvalidation_0-logloss:0.520217\tvalidation_1-error:0.245791\tvalidation_1-logloss:0.533064\n",
            "[82]\tvalidation_0-error:0.23733\tvalidation_0-logloss:0.520057\tvalidation_1-error:0.245791\tvalidation_1-logloss:0.533003\n",
            "[83]\tvalidation_0-error:0.23733\tvalidation_0-logloss:0.519916\tvalidation_1-error:0.245791\tvalidation_1-logloss:0.532843\n",
            "[84]\tvalidation_0-error:0.23733\tvalidation_0-logloss:0.519667\tvalidation_1-error:0.245791\tvalidation_1-logloss:0.53266\n",
            "[85]\tvalidation_0-error:0.23733\tvalidation_0-logloss:0.51956\tvalidation_1-error:0.245791\tvalidation_1-logloss:0.532602\n",
            "[86]\tvalidation_0-error:0.237274\tvalidation_0-logloss:0.519421\tvalidation_1-error:0.245791\tvalidation_1-logloss:0.532487\n",
            "[87]\tvalidation_0-error:0.237274\tvalidation_0-logloss:0.51939\tvalidation_1-error:0.245791\tvalidation_1-logloss:0.532521\n",
            "[88]\tvalidation_0-error:0.237274\tvalidation_0-logloss:0.519317\tvalidation_1-error:0.245791\tvalidation_1-logloss:0.532515\n",
            "[89]\tvalidation_0-error:0.237302\tvalidation_0-logloss:0.519091\tvalidation_1-error:0.245791\tvalidation_1-logloss:0.532335\n",
            "[90]\tvalidation_0-error:0.237302\tvalidation_0-logloss:0.518984\tvalidation_1-error:0.245791\tvalidation_1-logloss:0.532289\n",
            "[91]\tvalidation_0-error:0.237274\tvalidation_0-logloss:0.518941\tvalidation_1-error:0.245791\tvalidation_1-logloss:0.532299\n",
            "[92]\tvalidation_0-error:0.237302\tvalidation_0-logloss:0.518845\tvalidation_1-error:0.245791\tvalidation_1-logloss:0.532313\n",
            "[93]\tvalidation_0-error:0.237302\tvalidation_0-logloss:0.518763\tvalidation_1-error:0.245791\tvalidation_1-logloss:0.532344\n",
            "[94]\tvalidation_0-error:0.237302\tvalidation_0-logloss:0.518502\tvalidation_1-error:0.245791\tvalidation_1-logloss:0.532139\n",
            "[95]\tvalidation_0-error:0.237359\tvalidation_0-logloss:0.518312\tvalidation_1-error:0.245791\tvalidation_1-logloss:0.531989\n",
            "[96]\tvalidation_0-error:0.237359\tvalidation_0-logloss:0.518291\tvalidation_1-error:0.245791\tvalidation_1-logloss:0.532002\n",
            "[97]\tvalidation_0-error:0.23733\tvalidation_0-logloss:0.518246\tvalidation_1-error:0.245791\tvalidation_1-logloss:0.531975\n",
            "[98]\tvalidation_0-error:0.237302\tvalidation_0-logloss:0.518216\tvalidation_1-error:0.245791\tvalidation_1-logloss:0.531983\n",
            "[99]\tvalidation_0-error:0.23733\tvalidation_0-logloss:0.518181\tvalidation_1-error:0.245791\tvalidation_1-logloss:0.531979\n"
          ],
          "name": "stdout"
        },
        {
          "output_type": "execute_result",
          "data": {
            "text/plain": [
              "XGBClassifier(base_score=0.5, booster='gbtree', colsample_bylevel=1,\n",
              "              colsample_bynode=1, colsample_bytree=1, gamma=0,\n",
              "              learning_rate=0.1, max_delta_step=0, max_depth=3,\n",
              "              min_child_weight=1, missing=None, n_estimators=100, n_jobs=1,\n",
              "              nthread=None, objective='binary:logistic', random_state=0,\n",
              "              reg_alpha=0, reg_lambda=1, scale_pos_weight=1, seed=None,\n",
              "              silent=None, subsample=1, verbosity=1)"
            ]
          },
          "metadata": {
            "tags": []
          },
          "execution_count": 139
        }
      ]
    },
    {
      "cell_type": "code",
      "metadata": {
        "colab": {
          "base_uri": "https://localhost:8080/"
        },
        "id": "16FodLIZv40C",
        "outputId": "0845a55f-a84f-45ce-8e2b-07a6e4d3344b"
      },
      "source": [
        "model_3.evals_result()"
      ],
      "execution_count": 141,
      "outputs": [
        {
          "output_type": "execute_result",
          "data": {
            "text/plain": [
              "{'validation_0': {'error': [0.237443,\n",
              "   0.237443,\n",
              "   0.237443,\n",
              "   0.237443,\n",
              "   0.237443,\n",
              "   0.237443,\n",
              "   0.237443,\n",
              "   0.237443,\n",
              "   0.237443,\n",
              "   0.237443,\n",
              "   0.237443,\n",
              "   0.237443,\n",
              "   0.237443,\n",
              "   0.237443,\n",
              "   0.237443,\n",
              "   0.237443,\n",
              "   0.237443,\n",
              "   0.237443,\n",
              "   0.237443,\n",
              "   0.237443,\n",
              "   0.237443,\n",
              "   0.237443,\n",
              "   0.237443,\n",
              "   0.237443,\n",
              "   0.237443,\n",
              "   0.237443,\n",
              "   0.237443,\n",
              "   0.237443,\n",
              "   0.237443,\n",
              "   0.237443,\n",
              "   0.237443,\n",
              "   0.237443,\n",
              "   0.237443,\n",
              "   0.237443,\n",
              "   0.237443,\n",
              "   0.237443,\n",
              "   0.237443,\n",
              "   0.237443,\n",
              "   0.237443,\n",
              "   0.237443,\n",
              "   0.237443,\n",
              "   0.237443,\n",
              "   0.237443,\n",
              "   0.237443,\n",
              "   0.237443,\n",
              "   0.237443,\n",
              "   0.237443,\n",
              "   0.237443,\n",
              "   0.237443,\n",
              "   0.237443,\n",
              "   0.237443,\n",
              "   0.237443,\n",
              "   0.237443,\n",
              "   0.237443,\n",
              "   0.237443,\n",
              "   0.237443,\n",
              "   0.237443,\n",
              "   0.237443,\n",
              "   0.237443,\n",
              "   0.237443,\n",
              "   0.237443,\n",
              "   0.237443,\n",
              "   0.237443,\n",
              "   0.237443,\n",
              "   0.237359,\n",
              "   0.237359,\n",
              "   0.237359,\n",
              "   0.237359,\n",
              "   0.237359,\n",
              "   0.237359,\n",
              "   0.237359,\n",
              "   0.237359,\n",
              "   0.237359,\n",
              "   0.237359,\n",
              "   0.237359,\n",
              "   0.237359,\n",
              "   0.237359,\n",
              "   0.237359,\n",
              "   0.237359,\n",
              "   0.23733,\n",
              "   0.23733,\n",
              "   0.23733,\n",
              "   0.23733,\n",
              "   0.23733,\n",
              "   0.23733,\n",
              "   0.23733,\n",
              "   0.237274,\n",
              "   0.237274,\n",
              "   0.237274,\n",
              "   0.237302,\n",
              "   0.237302,\n",
              "   0.237274,\n",
              "   0.237302,\n",
              "   0.237302,\n",
              "   0.237302,\n",
              "   0.237359,\n",
              "   0.237359,\n",
              "   0.23733,\n",
              "   0.237302,\n",
              "   0.23733],\n",
              "  'logloss': [0.665407,\n",
              "   0.642996,\n",
              "   0.62439,\n",
              "   0.609141,\n",
              "   0.596492,\n",
              "   0.585964,\n",
              "   0.57723,\n",
              "   0.569907,\n",
              "   0.563733,\n",
              "   0.558642,\n",
              "   0.554269,\n",
              "   0.550648,\n",
              "   0.547442,\n",
              "   0.544859,\n",
              "   0.542577,\n",
              "   0.540679,\n",
              "   0.538961,\n",
              "   0.537571,\n",
              "   0.536312,\n",
              "   0.535227,\n",
              "   0.5344,\n",
              "   0.533555,\n",
              "   0.53286,\n",
              "   0.532246,\n",
              "   0.531683,\n",
              "   0.531153,\n",
              "   0.530768,\n",
              "   0.530412,\n",
              "   0.529969,\n",
              "   0.529696,\n",
              "   0.529466,\n",
              "   0.529215,\n",
              "   0.528883,\n",
              "   0.52864,\n",
              "   0.528405,\n",
              "   0.528189,\n",
              "   0.528014,\n",
              "   0.527891,\n",
              "   0.527613,\n",
              "   0.52754,\n",
              "   0.527382,\n",
              "   0.527152,\n",
              "   0.527037,\n",
              "   0.526816,\n",
              "   0.52653,\n",
              "   0.526412,\n",
              "   0.52622,\n",
              "   0.526059,\n",
              "   0.525918,\n",
              "   0.525733,\n",
              "   0.525574,\n",
              "   0.525432,\n",
              "   0.525265,\n",
              "   0.525116,\n",
              "   0.525033,\n",
              "   0.524779,\n",
              "   0.524612,\n",
              "   0.524291,\n",
              "   0.524106,\n",
              "   0.52372,\n",
              "   0.523582,\n",
              "   0.523344,\n",
              "   0.523247,\n",
              "   0.523178,\n",
              "   0.523081,\n",
              "   0.52299,\n",
              "   0.522856,\n",
              "   0.522658,\n",
              "   0.522589,\n",
              "   0.522331,\n",
              "   0.521964,\n",
              "   0.521653,\n",
              "   0.521546,\n",
              "   0.521344,\n",
              "   0.52117,\n",
              "   0.520906,\n",
              "   0.520841,\n",
              "   0.52073,\n",
              "   0.520653,\n",
              "   0.520632,\n",
              "   0.520299,\n",
              "   0.520217,\n",
              "   0.520057,\n",
              "   0.519916,\n",
              "   0.519667,\n",
              "   0.51956,\n",
              "   0.519421,\n",
              "   0.51939,\n",
              "   0.519317,\n",
              "   0.519091,\n",
              "   0.518984,\n",
              "   0.518941,\n",
              "   0.518845,\n",
              "   0.518763,\n",
              "   0.518502,\n",
              "   0.518312,\n",
              "   0.518291,\n",
              "   0.518246,\n",
              "   0.518216,\n",
              "   0.518181]},\n",
              " 'validation_1': {'error': [0.245791,\n",
              "   0.245791,\n",
              "   0.245791,\n",
              "   0.245791,\n",
              "   0.245791,\n",
              "   0.245791,\n",
              "   0.245791,\n",
              "   0.245791,\n",
              "   0.245791,\n",
              "   0.245791,\n",
              "   0.245791,\n",
              "   0.245791,\n",
              "   0.245791,\n",
              "   0.245791,\n",
              "   0.245791,\n",
              "   0.245791,\n",
              "   0.245791,\n",
              "   0.245791,\n",
              "   0.245791,\n",
              "   0.245791,\n",
              "   0.245791,\n",
              "   0.245791,\n",
              "   0.245791,\n",
              "   0.245791,\n",
              "   0.245791,\n",
              "   0.245791,\n",
              "   0.245791,\n",
              "   0.245791,\n",
              "   0.245791,\n",
              "   0.245791,\n",
              "   0.245791,\n",
              "   0.245791,\n",
              "   0.245791,\n",
              "   0.245791,\n",
              "   0.245791,\n",
              "   0.245791,\n",
              "   0.245791,\n",
              "   0.245791,\n",
              "   0.245791,\n",
              "   0.245791,\n",
              "   0.245791,\n",
              "   0.245791,\n",
              "   0.245791,\n",
              "   0.245791,\n",
              "   0.245791,\n",
              "   0.245791,\n",
              "   0.245791,\n",
              "   0.245791,\n",
              "   0.245791,\n",
              "   0.245791,\n",
              "   0.245791,\n",
              "   0.245791,\n",
              "   0.245791,\n",
              "   0.245791,\n",
              "   0.245791,\n",
              "   0.245791,\n",
              "   0.245791,\n",
              "   0.245791,\n",
              "   0.245791,\n",
              "   0.245791,\n",
              "   0.245791,\n",
              "   0.245791,\n",
              "   0.245791,\n",
              "   0.245791,\n",
              "   0.245791,\n",
              "   0.245791,\n",
              "   0.245791,\n",
              "   0.245791,\n",
              "   0.245791,\n",
              "   0.245791,\n",
              "   0.245791,\n",
              "   0.245791,\n",
              "   0.245791,\n",
              "   0.245791,\n",
              "   0.245791,\n",
              "   0.245791,\n",
              "   0.245791,\n",
              "   0.245791,\n",
              "   0.245791,\n",
              "   0.245791,\n",
              "   0.245791,\n",
              "   0.245791,\n",
              "   0.245791,\n",
              "   0.245791,\n",
              "   0.245791,\n",
              "   0.245791,\n",
              "   0.245791,\n",
              "   0.245791,\n",
              "   0.245791,\n",
              "   0.245791,\n",
              "   0.245791,\n",
              "   0.245791,\n",
              "   0.245791,\n",
              "   0.245791,\n",
              "   0.245791,\n",
              "   0.245791,\n",
              "   0.245791,\n",
              "   0.245791,\n",
              "   0.245791,\n",
              "   0.245791],\n",
              "  'logloss': [0.666408,\n",
              "   0.644683,\n",
              "   0.626699,\n",
              "   0.611964,\n",
              "   0.599933,\n",
              "   0.589819,\n",
              "   0.581614,\n",
              "   0.574654,\n",
              "   0.568871,\n",
              "   0.564027,\n",
              "   0.560072,\n",
              "   0.556691,\n",
              "   0.55391,\n",
              "   0.551466,\n",
              "   0.549458,\n",
              "   0.547791,\n",
              "   0.546283,\n",
              "   0.54503,\n",
              "   0.544042,\n",
              "   0.543051,\n",
              "   0.542342,\n",
              "   0.541635,\n",
              "   0.541101,\n",
              "   0.540668,\n",
              "   0.5402,\n",
              "   0.539868,\n",
              "   0.539556,\n",
              "   0.539313,\n",
              "   0.538991,\n",
              "   0.538792,\n",
              "   0.538654,\n",
              "   0.538588,\n",
              "   0.538358,\n",
              "   0.538111,\n",
              "   0.538046,\n",
              "   0.537864,\n",
              "   0.537841,\n",
              "   0.537749,\n",
              "   0.53764,\n",
              "   0.537619,\n",
              "   0.537564,\n",
              "   0.537493,\n",
              "   0.537465,\n",
              "   0.537334,\n",
              "   0.537154,\n",
              "   0.537065,\n",
              "   0.536902,\n",
              "   0.536782,\n",
              "   0.536625,\n",
              "   0.53649,\n",
              "   0.536435,\n",
              "   0.536354,\n",
              "   0.53631,\n",
              "   0.53624,\n",
              "   0.536195,\n",
              "   0.536114,\n",
              "   0.53604,\n",
              "   0.535817,\n",
              "   0.53576,\n",
              "   0.535511,\n",
              "   0.535418,\n",
              "   0.535187,\n",
              "   0.535212,\n",
              "   0.535227,\n",
              "   0.535205,\n",
              "   0.535142,\n",
              "   0.535087,\n",
              "   0.534984,\n",
              "   0.53501,\n",
              "   0.534763,\n",
              "   0.534429,\n",
              "   0.534083,\n",
              "   0.533974,\n",
              "   0.533781,\n",
              "   0.533706,\n",
              "   0.533444,\n",
              "   0.53337,\n",
              "   0.533353,\n",
              "   0.53334,\n",
              "   0.533344,\n",
              "   0.53313,\n",
              "   0.533064,\n",
              "   0.533003,\n",
              "   0.532843,\n",
              "   0.53266,\n",
              "   0.532602,\n",
              "   0.532487,\n",
              "   0.532521,\n",
              "   0.532515,\n",
              "   0.532335,\n",
              "   0.532289,\n",
              "   0.532299,\n",
              "   0.532313,\n",
              "   0.532344,\n",
              "   0.532139,\n",
              "   0.531989,\n",
              "   0.532002,\n",
              "   0.531975,\n",
              "   0.531983,\n",
              "   0.531979]}}"
            ]
          },
          "metadata": {
            "tags": []
          },
          "execution_count": 141
        }
      ]
    },
    {
      "cell_type": "code",
      "metadata": {
        "id": "o5DfG4X5wJvp"
      },
      "source": [
        "results = model_3.evals_result()"
      ],
      "execution_count": 142,
      "outputs": []
    },
    {
      "cell_type": "code",
      "metadata": {
        "id": "EKp_m4XowhdP"
      },
      "source": [
        "epochs = len(results['validation_0']['error'])"
      ],
      "execution_count": 143,
      "outputs": []
    },
    {
      "cell_type": "code",
      "metadata": {
        "colab": {
          "base_uri": "https://localhost:8080/"
        },
        "id": "dPp3HLiuzfiR",
        "outputId": "37fdefcc-8ff1-4697-9f6e-b0b5a40dfc2e"
      },
      "source": [
        "epochs"
      ],
      "execution_count": 144,
      "outputs": [
        {
          "output_type": "execute_result",
          "data": {
            "text/plain": [
              "100"
            ]
          },
          "metadata": {
            "tags": []
          },
          "execution_count": 144
        }
      ]
    },
    {
      "cell_type": "code",
      "metadata": {
        "colab": {
          "base_uri": "https://localhost:8080/",
          "height": 335
        },
        "id": "BFNqSChVzyRf",
        "outputId": "1d556c5b-738e-415d-b9b8-5e88acd99000"
      },
      "source": [
        "x_axis = range(0, epochs)\r\n",
        "fig, ax = plt.subplots()\r\n",
        "ax.plot(x_axis, results['validation_0']['error'], label='Train')\r\n",
        "ax.plot(x_axis, results['validation_1']['error'], label='Test')\r\n",
        "ax.legend()\r\n",
        "plt.ylabel('Log Loss')\r\n",
        "plt.title('XGBoost Log Loss')\r\n",
        "plt.show()\r\n"
      ],
      "execution_count": 145,
      "outputs": [
        {
          "output_type": "display_data",
          "data": {
            "image/png": "[encoded data removed]",
            "text/plain": [
              "<Figure size 576x360 with 1 Axes>"
            ]
          },
          "metadata": {
            "tags": [],
            "needs_background": "light"
          }
        }
      ]
    },
    {
      "cell_type": "code",
      "metadata": {
        "id": "Dv496ZoEz7PP"
      },
      "source": [
        ""
      ],
      "execution_count": null,
      "outputs": []
    }
  ]
}